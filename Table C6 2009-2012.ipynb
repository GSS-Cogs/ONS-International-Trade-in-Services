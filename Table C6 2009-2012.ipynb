{
 "cells": [
  {
   "cell_type": "code",
   "execution_count": 1,
   "metadata": {
    "collapsed": true
   },
   "outputs": [],
   "source": [
    "from gssutils import *\n",
    "\n",
    "if is_interactive():\n",
    "    import requests\n",
    "    from cachecontrol import CacheControl\n",
    "    from cachecontrol.caches.file_cache import FileCache\n",
    "    from cachecontrol.heuristics import LastModified\n",
    "    from pathlib import Path\n",
    "\n",
    "    session = CacheControl(requests.Session(),\n",
    "                           cache=FileCache('.cache'),\n",
    "                           heuristic=LastModified())\n",
    "\n",
    "    sourceFolder = Path('in')\n",
    "    sourceFolder.mkdir(exist_ok=True)\n",
    "\n",
    "    inputURL = 'https://www.ons.gov.uk/file?uri=/businessindustryandtrade/internationaltrade/datasets/internationaltradeinservicesreferencetables/alltables2016/internationaltradeinservices2016.xls'\n",
    "    inputFile = sourceFolder / 'internationaltradeinservices2016.xlsb'\n",
    "    response = session.get(inputURL)\n",
    "    with open(inputFile, 'wb') as f:\n",
    "      f.write(response.content)    "
   ]
  },
  {
   "cell_type": "code",
   "execution_count": 2,
   "metadata": {},
   "outputs": [
    {
     "name": "stdout",
     "output_type": "stream",
     "text": [
      "Loading in\\internationaltradeinservices2016.xlsb which has size 750080 bytes\n",
      "Table names: ['Table C6 2009-2012']\n"
     ]
    }
   ],
   "source": [
    "tab = loadxlstabs(inputFile, sheetids='Table C6 2009-2012')[0]"
   ]
  },
  {
   "cell_type": "code",
   "execution_count": 3,
   "metadata": {
    "collapsed": true
   },
   "outputs": [],
   "source": [
    "observations = tab.excel_ref('E6').expand(DOWN).expand(RIGHT).is_not_blank()"
   ]
  },
  {
   "cell_type": "code",
   "execution_count": 4,
   "metadata": {
    "collapsed": true
   },
   "outputs": [],
   "source": [
    "Year = tab.excel_ref('E4').expand(RIGHT).is_not_whitespace()"
   ]
  },
  {
   "cell_type": "code",
   "execution_count": 5,
   "metadata": {
    "collapsed": true
   },
   "outputs": [],
   "source": [
    "Flow = tab.excel_ref('E3').expand(RIGHT).is_not_blank()"
   ]
  },
  {
   "cell_type": "code",
   "execution_count": 6,
   "metadata": {},
   "outputs": [
    {
     "data": {
      "text/plain": [
       "{<A70 'Royalties and Licenses'>, <A41 'Construction Services'>, <A85 'Other Trade  in Services'>, <A93 '..  Denotes disclosive data'>, <A5 'Agricultural, Mining and On-site Processing Services '>, <A78 'Technical services'>, <A31 'Communication, computer and Information Services'>, <A92 '-   Denotes nil or less than £500,000'>, <A51 'Insurance Services'>, <A47 'Financial Services'>, <A13 'Business and Professional Services'>, <A56 'Merchanting and Other Trade related Services'>, <A62 'Personal, Cultural and Recreational  Services'>, <A89 'Total International Trade in Services'>}"
      ]
     },
     "execution_count": 6,
     "metadata": {},
     "output_type": "execute_result"
    }
   ],
   "source": [
    "geo1 = tab.excel_ref('A5').expand(DOWN).is_not_blank() - tab.excel_ref('A94').expand(DOWN)\n",
    "geo1"
   ]
  },
  {
   "cell_type": "code",
   "execution_count": 7,
   "metadata": {},
   "outputs": [
    {
     "data": {
      "text/plain": [
       "{<C79 'Architectural'>, <C58 'Other trade - related services'>, <C7 'Mining'>, <C19 'Other business management'>, <C36 'Publishing services'>, <C64 'Health Services'>, <C63 'Audio- Visual and related services '>, <C16 'Management consulting'>, <C27 'Other business and professional services'>, <C81 'Surveying'>, <C48 'Financial'>, <C73 'Purchases and sales of franchises and similar rights'>, <C32 'Postal and courier'>, <C17 'Public relations services'>, <C34 'Computers'>, <C43 'Construction outside the UK'>, <C72 'Other royalties and license fees'>, <C22 'Operational leasing services'>, <C21 'Market research and public opinion polling'>, <C25 'Research and development'>, <C9 'Other on-site processing services'>, <C57 'Merchanting'>, <C8 'Waste treatment and depollution'>, <C42 'Construction in the UK'>, <C26 'Services between related enterprises'>, <C71 'Use of franchise and similar rights fees'>, <C52 'Insurance Claims'>, <C53 'Insurance Premiums'>, <C20 'Legal services'>, <C6 'Agricultural'>, <C24 'Property management'>, <C74 'Purchases and sales of other royalties and licenses'>, <C66 'Other personal, cultural and recreational services'>, <C86 'Other trade in services'>, <C65 'Training and educational services'>, <C18 'Recruitment '>, <C37 'Other information provision services'>, <C80 'Engineering'>, <C33 'Telecommunications'>, <C14 'Accountancy, auditing, bookkeeping and tax consulting services'>, <C23 'Procurement'>, <C15 'Advertising'>, <C82 'Other techincal services'>, <C35 'News agency services'>}"
      ]
     },
     "execution_count": 7,
     "metadata": {},
     "output_type": "execute_result"
    }
   ],
   "source": [
    "geo3 = tab.excel_ref('C5').expand(DOWN).is_not_blank() - tab.excel_ref('A94').expand(DOWN)\n",
    "geo3"
   ]
  },
  {
   "cell_type": "code",
   "execution_count": 8,
   "metadata": {
    "collapsed": true
   },
   "outputs": [],
   "source": [
    "Dimensions = [\n",
    "            HDim(Year,'Year',DIRECTLY,ABOVE),\n",
    "            HDim(geo1,'geo1',CLOSEST,ABOVE),\n",
    "#             HDim(geo2,'geo2',DIRECTLY,LEFT),\n",
    "            HDim(geo3,'geo3',DIRECTLY,LEFT),\n",
    "            HDim(Flow, 'Flow',CLOSEST,LEFT),\n",
    "            HDimConst('Measure Type', 'GBP Total'),\n",
    "            HDimConst('Unit','gbp-million')\n",
    "            ]"
   ]
  },
  {
   "cell_type": "code",
   "execution_count": 9,
   "metadata": {},
   "outputs": [
    {
     "data": {
      "text/html": [
       "<div id=\"injblock1001\">\n",
       "<style>\n",
       "table.ex, table.exkey { border: thin black solid }\n",
       "table.ex td, table.ex tr { border: none }\n",
       "td.xb { font-weight: bold }\n",
       "td.xn { color: green }\n",
       "td.xd { color: purple }\n",
       "span.xo { text-decoration: line-through; }\n",
       "span.xn { }\n",
       "table { border-collapse: collapse }\n",
       "td.xc0 { background-color: Aqua }\n",
       "td.xc1 { background-color: LightGreen }\n",
       "td.xc2 { background-color: MistyRose }\n",
       "td.xc3 { background-color: LightGray }\n",
       "td.xc4 { background-color: BurlyWood }\n",
       "td.xc5 { background-color: Coral }\n",
       "td.xc6 { background-color: Gold }\n",
       "td.xc7 { background-color: Lime }\n",
       "td.xc8 { background-color: LightBlue }\n",
       "td.xc9 { background-color: Plum }\n",
       "td.xc10 { background-color: CornflowerBlue }\n",
       "td.xc11 { background-color: LightYellow }\n",
       "td.xc12 { background-color: Lavender }\n",
       "td.xc13 { background-color: Violet }\n",
       "td.xc14 { background-color: SeaGreen }\n",
       "td.xc15 { background-color: DeepSkyBlue }\n",
       "td.xc16 { background-color: Blue }\n",
       "td.xc17 { background-color: LightGray }\n",
       "td.xc18 { background-color: PaleTurquoise }\n",
       "td.xc19 { background-color: Tan }\n",
       "td.xc20 { background-color: SkyBlue }\n",
       "table.ex td:hover { border: thin blue solid }\n",
       "table.ex td.excOBS:hover { border: thin red solid }\n",
       "table.ex td.selected { background-color: red; border: thin blue dotted }\n",
       "</style>\n",
       "\n",
       "\n",
       "<table class=\"exkey\">\n",
       "<tr><td class=\"xc0\">OBS</td><td class=\"xc1\">Year</td><td class=\"xc2\">geo1</td><td class=\"xc3\">geo3</td><td class=\"xc4\">Flow</td></tr></table>\n",
       "\n",
       "<table class=\"ex\">\n",
       "<caption style=\"text-align:center; padding:0px; caption-side:bottom\">Table C6 2009-2012</caption>\n",
       "<tr><td class=\"xb\" title=\"0 0\">C6 </td><td class=\"xb\" title=\"1 0\"></td><td class=\"xb\" title=\"2 0\">Administrative and Support Service Activities industry analysed by products 2009 - 2012</td><td class=\"\" title=\"3 0\"></td><td class=\"\" title=\"4 0\"></td><td class=\"\" title=\"5 0\"></td><td class=\"\" title=\"6 0\"></td><td class=\"\" title=\"7 0\"></td><td class=\"\" title=\"8 0\"></td><td class=\"\" title=\"9 0\"></td><td class=\"\" title=\"10 0\"></td><td class=\"\" title=\"11 0\"></td><td class=\"\" title=\"12 0\"></td><td class=\"\" title=\"13 0\"></td><td class=\"\" title=\"14 0\"></td><td class=\"\" title=\"15 0\"></td><td class=\"\" title=\"16 0\"></td><td class=\"\" title=\"17 0\"></td></tr>\n",
       "<tr><td class=\"xb\" title=\"0 1\"></td><td class=\"xb\" title=\"1 1\"></td><td class=\"xb\" title=\"2 1\"></td><td class=\"\" title=\"3 1\"></td><td class=\"\" title=\"4 1\"></td><td class=\"\" title=\"5 1\"></td><td class=\"\" title=\"6 1\"></td><td class=\"\" title=\"7 1\"></td><td class=\"\" title=\"8 1\"></td><td class=\"\" title=\"9 1\"></td><td class=\"\" title=\"10 1\"></td><td class=\"\" title=\"11 1\"></td><td class=\"\" title=\"12 1\"></td><td class=\"\" title=\"13 1\"></td><td class=\"\" title=\"14 1\"></td><td class=\"\" title=\"15 1\"></td><td class=\"\" title=\"16 1\"></td><td class=\"\" title=\"17 1\">£ million</td></tr>\n",
       "<tr><td class=\"\" title=\"0 2\"></td><td class=\"\" title=\"1 2\"></td><td class=\"\" title=\"2 2\"></td><td class=\"\" title=\"3 2\"></td><td class=\"xc4 xb\" title=\"4 2\">Exports</td><td class=\"\" title=\"5 2\"></td><td class=\"\" title=\"6 2\"></td><td class=\"\" title=\"7 2\"></td><td class=\"\" title=\"8 2\"></td><td class=\"xc4 xb\" title=\"9 2\">Imports</td><td class=\"\" title=\"10 2\"></td><td class=\"\" title=\"11 2\"></td><td class=\"\" title=\"12 2\"></td><td class=\"\" title=\"13 2\"></td><td class=\"xc4 xb\" title=\"14 2\">Balances</td><td class=\"\" title=\"15 2\"></td><td class=\"\" title=\"16 2\"></td><td class=\"\" title=\"17 2\"></td></tr>\n",
       "<tr><td class=\"xb\" title=\"0 3\"></td><td class=\"xb\" title=\"1 3\"></td><td class=\"xb\" title=\"2 3\"></td><td class=\"xb\" title=\"3 3\"></td><td class=\"xc1 xb xn\" title=\"4 3\">2009.0</td><td class=\"xc1 xb xn\" title=\"5 3\">2010.0</td><td class=\"xc1 xb xn\" title=\"6 3\">2011.0</td><td class=\"xc1 xb xn\" title=\"7 3\">2012.0</td><td class=\"xb\" title=\"8 3\"></td><td class=\"xc1 xb xn\" title=\"9 3\">2009.0</td><td class=\"xc1 xb xn\" title=\"10 3\">2010.0</td><td class=\"xc1 xb xn\" title=\"11 3\">2011.0</td><td class=\"xc1 xb xn\" title=\"12 3\">2012.0</td><td class=\"xb\" title=\"13 3\"></td><td class=\"xc1 xb xn\" title=\"14 3\">2009.0</td><td class=\"xc1 xb xn\" title=\"15 3\">2010.0</td><td class=\"xc1 xb xn\" title=\"16 3\">2011.0</td><td class=\"xc1 xb xn\" title=\"17 3\">2012.0</td></tr>\n",
       "<tr><td class=\"xc2 xb\" title=\"0 4\">Agricultural, Mining and On-site Processing Services </td><td class=\"xb\" title=\"1 4\"></td><td class=\"xb\" title=\"2 4\"></td><td class=\"xb\" title=\"3 4\"></td><td class=\"xb\" title=\"4 4\"></td><td class=\"xb\" title=\"5 4\"></td><td class=\"xb\" title=\"6 4\"></td><td class=\"xb\" title=\"7 4\"></td><td class=\"xb\" title=\"8 4\"></td><td class=\"xb\" title=\"9 4\"></td><td class=\"xb\" title=\"10 4\"></td><td class=\"xb\" title=\"11 4\"></td><td class=\"xb\" title=\"12 4\"></td><td class=\"xb\" title=\"13 4\"></td><td class=\"xb\" title=\"14 4\"></td><td class=\"xb\" title=\"15 4\"></td><td class=\"xb\" title=\"16 4\"></td><td class=\"\" title=\"17 4\"></td></tr>\n",
       "<tr><td class=\"\" title=\"0 5\"></td><td class=\"\" title=\"1 5\"></td><td class=\"xc3\" title=\"2 5\">Agricultural</td><td class=\"\" title=\"3 5\"></td><td class=\"xc0 xn\" title=\"4 5\">10.033</td><td class=\"xc0\" title=\"5 5\">..</td><td class=\"xc0\" title=\"6 5\">..</td><td class=\"xc0\" title=\"7 5\">..</td><td class=\"xb\" title=\"8 5\"></td><td class=\"xc0\" title=\"9 5\">-</td><td class=\"xc0\" title=\"10 5\">..</td><td class=\"xc0\" title=\"11 5\">..</td><td class=\"xc0\" title=\"12 5\">..</td><td class=\"\" title=\"13 5\"></td><td class=\"xc0 xn\" title=\"14 5\">9.693</td><td class=\"xc0\" title=\"15 5\">..</td><td class=\"xc0\" title=\"16 5\">..</td><td class=\"xc0\" title=\"17 5\">..</td></tr>\n",
       "<tr><td class=\"\" title=\"0 6\"></td><td class=\"\" title=\"1 6\"></td><td class=\"xc3\" title=\"2 6\">Mining</td><td class=\"\" title=\"3 6\"></td><td class=\"xc0 xn\" title=\"4 6\">2.456</td><td class=\"xc0\" title=\"5 6\">..</td><td class=\"xc0\" title=\"6 6\">-</td><td class=\"xc0\" title=\"7 6\">-</td><td class=\"\" title=\"8 6\"></td><td class=\"xc0 xn\" title=\"9 6\">6.461</td><td class=\"xc0\" title=\"10 6\">..</td><td class=\"xc0 xn\" title=\"11 6\">1.73</td><td class=\"xc0 xn\" title=\"12 6\">9.812</td><td class=\"\" title=\"13 6\"></td><td class=\"xc0 xn\" title=\"14 6\">-4.005</td><td class=\"xc0 xn\" title=\"15 6\">80.905</td><td class=\"xc0 xn\" title=\"16 6\">-1.73</td><td class=\"xc0 xn\" title=\"17 6\">-9.812</td></tr>\n",
       "<tr><td class=\"\" title=\"0 7\"></td><td class=\"\" title=\"1 7\"></td><td class=\"xc3\" title=\"2 7\">Waste treatment and depollution</td><td class=\"\" title=\"3 7\"></td><td class=\"xc0\" title=\"4 7\">..</td><td class=\"xc0\" title=\"5 7\">..</td><td class=\"xc0\" title=\"6 7\">-</td><td class=\"xc0\" title=\"7 7\">-</td><td class=\"\" title=\"8 7\"></td><td class=\"xc0\" title=\"9 7\">..</td><td class=\"xc0\" title=\"10 7\">..</td><td class=\"xc0\" title=\"11 7\">-</td><td class=\"xc0\" title=\"12 7\">-</td><td class=\"\" title=\"13 7\"></td><td class=\"xc0 xn\" title=\"14 7\">2.662</td><td class=\"xc0\" title=\"15 7\">..</td><td class=\"xc0\" title=\"16 7\">-</td><td class=\"xc0\" title=\"17 7\">-</td></tr>\n",
       "<tr><td class=\"\" title=\"0 8\"></td><td class=\"\" title=\"1 8\"></td><td class=\"xc3\" title=\"2 8\">Other on-site processing services</td><td class=\"\" title=\"3 8\"></td><td class=\"xc0\" title=\"4 8\">..</td><td class=\"xc0 xn\" title=\"5 8\">114.219</td><td class=\"xc0\" title=\"6 8\">..</td><td class=\"xc0\" title=\"7 8\">..</td><td class=\"\" title=\"8 8\"></td><td class=\"xc0\" title=\"9 8\">..</td><td class=\"xc0 xn\" title=\"10 8\">28.162</td><td class=\"xc0\" title=\"11 8\">..</td><td class=\"xc0\" title=\"12 8\">..</td><td class=\"\" title=\"13 8\"></td><td class=\"xc0 xn\" title=\"14 8\">127.35900000000001</td><td class=\"xc0 xn\" title=\"15 8\">86.05699999999999</td><td class=\"xc0\" title=\"16 8\">..</td><td class=\"xc0\" title=\"17 8\">..</td></tr>\n",
       "<tr><td class=\"\" title=\"0 9\"></td><td class=\"xb\" title=\"1 9\">Total Agricultural, Mining and On-site Processing Services</td><td class=\"\" title=\"2 9\"></td><td class=\"\" title=\"3 9\"></td><td class=\"xc0 xb xn\" title=\"4 9\">173.3</td><td class=\"xc0 xb xn\" title=\"5 9\">254.33399999999997</td><td class=\"xc0 xb xn\" title=\"6 9\">46.137</td><td class=\"xc0 xb xn\" title=\"7 9\">42.215</td><td class=\"\" title=\"8 9\"></td><td class=\"xc0 xb xn\" title=\"9 9\">37.591</td><td class=\"xc0 xb xn\" title=\"10 9\">66.928</td><td class=\"xc0 xb xn\" title=\"11 9\">18.31</td><td class=\"xc0 xb xn\" title=\"12 9\">24.684</td><td class=\"xb\" title=\"13 9\"></td><td class=\"xc0 xb xn\" title=\"14 9\">135.709</td><td class=\"xc0 xb xn\" title=\"15 9\">187.406</td><td class=\"xc0 xb xn\" title=\"16 9\">27.826999999999998</td><td class=\"xc0 xb xn\" title=\"17 9\">17.531</td></tr>\n",
       "<tr><td class=\"\" title=\"0 10\"></td><td class=\"\" title=\"1 10\"></td><td class=\"\" title=\"2 10\"></td><td class=\"\" title=\"3 10\"></td><td class=\"\" title=\"4 10\"></td><td class=\"\" title=\"5 10\"></td><td class=\"\" title=\"6 10\"></td><td class=\"\" title=\"7 10\"></td><td class=\"\" title=\"8 10\"></td><td class=\"\" title=\"9 10\"></td><td class=\"\" title=\"10 10\"></td><td class=\"\" title=\"11 10\"></td><td class=\"\" title=\"12 10\"></td><td class=\"\" title=\"13 10\"></td><td class=\"\" title=\"14 10\"></td><td class=\"\" title=\"15 10\"></td><td class=\"\" title=\"16 10\"></td><td class=\"\" title=\"17 10\"></td></tr>\n",
       "<tr><td class=\"\" title=\"0 11\"></td><td class=\"\" title=\"1 11\"></td><td class=\"\" title=\"2 11\"></td><td class=\"\" title=\"3 11\"></td><td class=\"\" title=\"4 11\"></td><td class=\"\" title=\"5 11\"></td><td class=\"\" title=\"6 11\"></td><td class=\"xb\" title=\"7 11\"></td><td class=\"\" title=\"8 11\"></td><td class=\"\" title=\"9 11\"></td><td class=\"\" title=\"10 11\"></td><td class=\"\" title=\"11 11\"></td><td class=\"xb\" title=\"12 11\"></td><td class=\"\" title=\"13 11\"></td><td class=\"\" title=\"14 11\"></td><td class=\"\" title=\"15 11\"></td><td class=\"\" title=\"16 11\"></td><td class=\"xb\" title=\"17 11\"></td></tr>\n",
       "<tr><td class=\"xc2 xb\" title=\"0 12\">Business and Professional Services</td><td class=\"\" title=\"1 12\"></td><td class=\"\" title=\"2 12\"></td><td class=\"\" title=\"3 12\"></td><td class=\"\" title=\"4 12\"></td><td class=\"\" title=\"5 12\"></td><td class=\"\" title=\"6 12\"></td><td class=\"\" title=\"7 12\"></td><td class=\"\" title=\"8 12\"></td><td class=\"\" title=\"9 12\"></td><td class=\"\" title=\"10 12\"></td><td class=\"\" title=\"11 12\"></td><td class=\"\" title=\"12 12\"></td><td class=\"\" title=\"13 12\"></td><td class=\"\" title=\"14 12\"></td><td class=\"\" title=\"15 12\"></td><td class=\"\" title=\"16 12\"></td><td class=\"\" title=\"17 12\"></td></tr>\n",
       "<tr><td class=\"\" title=\"0 13\"></td><td class=\"\" title=\"1 13\"></td><td class=\"xc3\" title=\"2 13\">Accountancy, auditing, bookkeeping and tax consulting services</td><td class=\"\" title=\"3 13\"></td><td class=\"xc0 xn\" title=\"4 13\">38.504</td><td class=\"xc0 xn\" title=\"5 13\">12.309</td><td class=\"xc0 xn\" title=\"6 13\">40.326</td><td class=\"xc0 xn\" title=\"7 13\">17.815</td><td class=\"\" title=\"8 13\"></td><td class=\"xc0 xn\" title=\"9 13\">3.798</td><td class=\"xc0 xn\" title=\"10 13\">2.201</td><td class=\"xc0 xn\" title=\"11 13\">3.81</td><td class=\"xc0 xn\" title=\"12 13\">11.322</td><td class=\"\" title=\"13 13\"></td><td class=\"xc0 xn\" title=\"14 13\">34.705999999999996</td><td class=\"xc0 xn\" title=\"15 13\">10.107999999999999</td><td class=\"xc0 xn\" title=\"16 13\">36.516</td><td class=\"xc0 xn\" title=\"17 13\">6.493000000000002</td></tr>\n",
       "<tr><td class=\"\" title=\"0 14\"></td><td class=\"\" title=\"1 14\"></td><td class=\"xc3\" title=\"2 14\">Advertising</td><td class=\"\" title=\"3 14\"></td><td class=\"xc0 xn\" title=\"4 14\">97.747</td><td class=\"xc0 xn\" title=\"5 14\">131.693</td><td class=\"xc0 xn\" title=\"6 14\">144.488</td><td class=\"xc0 xn\" title=\"7 14\">134.185</td><td class=\"\" title=\"8 14\"></td><td class=\"xc0 xn\" title=\"9 14\">17.974</td><td class=\"xc0 xn\" title=\"10 14\">38.481</td><td class=\"xc0 xn\" title=\"11 14\">27.03</td><td class=\"xc0 xn\" title=\"12 14\">57.038</td><td class=\"\" title=\"13 14\"></td><td class=\"xc0 xn\" title=\"14 14\">79.773</td><td class=\"xc0 xn\" title=\"15 14\">93.21200000000002</td><td class=\"xc0 xn\" title=\"16 14\">117.458</td><td class=\"xc0 xn\" title=\"17 14\">77.147</td></tr>\n",
       "<tr><td class=\"\" title=\"0 15\"></td><td class=\"\" title=\"1 15\"></td><td class=\"xc3\" title=\"2 15\">Management consulting</td><td class=\"\" title=\"3 15\"></td><td class=\"xc0 xn\" title=\"4 15\">45.538</td><td class=\"xc0 xn\" title=\"5 15\">53.179</td><td class=\"xc0 xn\" title=\"6 15\">58.115</td><td class=\"xc0 xn\" title=\"7 15\">69.882</td><td class=\"\" title=\"8 15\"></td><td class=\"xc0 xn\" title=\"9 15\">28.763</td><td class=\"xc0 xn\" title=\"10 15\">35.064</td><td class=\"xc0 xn\" title=\"11 15\">18.63</td><td class=\"xc0 xn\" title=\"12 15\">15.241</td><td class=\"\" title=\"13 15\"></td><td class=\"xc0 xn\" title=\"14 15\">16.775</td><td class=\"xc0 xn\" title=\"15 15\">18.115</td><td class=\"xc0 xn\" title=\"16 15\">39.485</td><td class=\"xc0 xn\" title=\"17 15\">54.641000000000005</td></tr>\n",
       "<tr><td class=\"\" title=\"0 16\"></td><td class=\"\" title=\"1 16\"></td><td class=\"xc3\" title=\"2 16\">Public relations services</td><td class=\"\" title=\"3 16\"></td><td class=\"xc0 xn\" title=\"4 16\">5.827</td><td class=\"xc0\" title=\"5 16\">..</td><td class=\"xc0\" title=\"6 16\">..</td><td class=\"xc0 xn\" title=\"7 16\">62.203</td><td class=\"\" title=\"8 16\"></td><td class=\"xc0 xn\" title=\"9 16\">0.702</td><td class=\"xc0\" title=\"10 16\">..</td><td class=\"xc0\" title=\"11 16\">..</td><td class=\"xc0 xn\" title=\"12 16\">18.546</td><td class=\"\" title=\"13 16\"></td><td class=\"xc0 xn\" title=\"14 16\">5.125</td><td class=\"xc0 xn\" title=\"15 16\">17.381999999999998</td><td class=\"xc0 xn\" title=\"16 16\">34.161</td><td class=\"xc0 xn\" title=\"17 16\">43.657000000000004</td></tr>\n",
       "<tr><td class=\"\" title=\"0 17\"></td><td class=\"\" title=\"1 17\"></td><td class=\"xc3\" title=\"2 17\">Recruitment </td><td class=\"\" title=\"3 17\"></td><td class=\"xc0 xn\" title=\"4 17\">477.907</td><td class=\"xc0 xn\" title=\"5 17\">536.152</td><td class=\"xc0 xn\" title=\"6 17\">605.922</td><td class=\"xc0 xn\" title=\"7 17\">746.062</td><td class=\"\" title=\"8 17\"></td><td class=\"xc0 xn\" title=\"9 17\">149.16</td><td class=\"xc0 xn\" title=\"10 17\">243.062</td><td class=\"xc0 xn\" title=\"11 17\">150.453</td><td class=\"xc0 xn\" title=\"12 17\">187.795</td><td class=\"\" title=\"13 17\"></td><td class=\"xc0 xn\" title=\"14 17\">328.74699999999996</td><td class=\"xc0 xn\" title=\"15 17\">293.09</td><td class=\"xc0 xn\" title=\"16 17\">455.46900000000005</td><td class=\"xc0 xn\" title=\"17 17\">558.267</td></tr>\n",
       "<tr><td class=\"\" title=\"0 18\"></td><td class=\"\" title=\"1 18\"></td><td class=\"xc3\" title=\"2 18\">Other business management</td><td class=\"\" title=\"3 18\"></td><td class=\"xc0 xn\" title=\"4 18\">85.507</td><td class=\"xc0 xn\" title=\"5 18\">82.713</td><td class=\"xc0 xn\" title=\"6 18\">150.151</td><td class=\"xc0 xn\" title=\"7 18\">168.76</td><td class=\"\" title=\"8 18\"></td><td class=\"xc0 xn\" title=\"9 18\">6.54</td><td class=\"xc0 xn\" title=\"10 18\">14.439</td><td class=\"xc0 xn\" title=\"11 18\">109.629</td><td class=\"xc0 xn\" title=\"12 18\">62.139</td><td class=\"\" title=\"13 18\"></td><td class=\"xc0 xn\" title=\"14 18\">78.967</td><td class=\"xc0 xn\" title=\"15 18\">68.274</td><td class=\"xc0 xn\" title=\"16 18\">40.522000000000006</td><td class=\"xc0 xn\" title=\"17 18\">106.62099999999998</td></tr>\n",
       "<tr><td class=\"\" title=\"0 19\"></td><td class=\"\" title=\"1 19\"></td><td class=\"xc3\" title=\"2 19\">Legal services</td><td class=\"\" title=\"3 19\"></td><td class=\"xc0 xn\" title=\"4 19\">20.953</td><td class=\"xc0\" title=\"5 19\">..</td><td class=\"xc0 xn\" title=\"6 19\">21.877</td><td class=\"xc0 xn\" title=\"7 19\">3.904</td><td class=\"\" title=\"8 19\"></td><td class=\"xc0 xn\" title=\"9 19\">19.29</td><td class=\"xc0\" title=\"10 19\">..</td><td class=\"xc0 xn\" title=\"11 19\">17.445</td><td class=\"xc0 xn\" title=\"12 19\">14.705</td><td class=\"\" title=\"13 19\"></td><td class=\"xc0 xn\" title=\"14 19\">1.6630000000000003</td><td class=\"xc0 xn\" title=\"15 19\">72.542</td><td class=\"xc0 xn\" title=\"16 19\">4.431999999999999</td><td class=\"xc0 xn\" title=\"17 19\">-10.801</td></tr>\n",
       "<tr><td class=\"\" title=\"0 20\"></td><td class=\"\" title=\"1 20\"></td><td class=\"xc3\" title=\"2 20\">Market research and public opinion polling</td><td class=\"\" title=\"3 20\"></td><td class=\"xc0 xn\" title=\"4 20\">40.041</td><td class=\"xc0 xn\" title=\"5 20\">44.042</td><td class=\"xc0 xn\" title=\"6 20\">51.796</td><td class=\"xc0 xn\" title=\"7 20\">71.472</td><td class=\"\" title=\"8 20\"></td><td class=\"xc0 xn\" title=\"9 20\">15.538</td><td class=\"xc0 xn\" title=\"10 20\">12.905</td><td class=\"xc0 xn\" title=\"11 20\">13.985</td><td class=\"xc0 xn\" title=\"12 20\">16.01</td><td class=\"\" title=\"13 20\"></td><td class=\"xc0 xn\" title=\"14 20\">24.502999999999997</td><td class=\"xc0 xn\" title=\"15 20\">31.137</td><td class=\"xc0 xn\" title=\"16 20\">37.811</td><td class=\"xc0 xn\" title=\"17 20\">55.46199999999999</td></tr>\n",
       "<tr><td class=\"\" title=\"0 21\"></td><td class=\"\" title=\"1 21\"></td><td class=\"xc3\" title=\"2 21\">Operational leasing services</td><td class=\"\" title=\"3 21\"></td><td class=\"xc0 xn\" title=\"4 21\">246.771</td><td class=\"xc0 xn\" title=\"5 21\">53.341</td><td class=\"xc0 xn\" title=\"6 21\">10.431</td><td class=\"xc0 xn\" title=\"7 21\">6.289</td><td class=\"\" title=\"8 21\"></td><td class=\"xc0 xn\" title=\"9 21\">237.066</td><td class=\"xc0 xn\" title=\"10 21\">22.832</td><td class=\"xc0 xn\" title=\"11 21\">3.008</td><td class=\"xc0 xn\" title=\"12 21\">6.078</td><td class=\"\" title=\"13 21\"></td><td class=\"xc0 xn\" title=\"14 21\">9.704999999999984</td><td class=\"xc0 xn\" title=\"15 21\">30.509</td><td class=\"xc0 xn\" title=\"16 21\">7.422999999999999</td><td class=\"xc0\" title=\"17 21\">-</td></tr>\n",
       "<tr><td class=\"\" title=\"0 22\"></td><td class=\"\" title=\"1 22\"></td><td class=\"xc3\" title=\"2 22\">Procurement</td><td class=\"\" title=\"3 22\"></td><td class=\"xc0 xn\" title=\"4 22\">4.231</td><td class=\"xc0\" title=\"5 22\">..</td><td class=\"xc0 xn\" title=\"6 22\">20.54</td><td class=\"xc0 xn\" title=\"7 22\">21.181</td><td class=\"\" title=\"8 22\"></td><td class=\"xc0 xn\" title=\"9 22\">3.726</td><td class=\"xc0\" title=\"10 22\">..</td><td class=\"xc0 xn\" title=\"11 22\">31.271</td><td class=\"xc0 xn\" title=\"12 22\">34.917</td><td class=\"\" title=\"13 22\"></td><td class=\"xc0 xn\" title=\"14 22\">0.505</td><td class=\"xc0 xn\" title=\"15 22\">-1.645</td><td class=\"xc0 xn\" title=\"16 22\">-10.731000000000002</td><td class=\"xc0 xn\" title=\"17 22\">-13.736</td></tr>\n",
       "<tr><td class=\"\" title=\"0 23\"></td><td class=\"\" title=\"1 23\"></td><td class=\"xc3\" title=\"2 23\">Property management</td><td class=\"\" title=\"3 23\"></td><td class=\"xc0 xn\" title=\"4 23\">28.199</td><td class=\"xc0 xn\" title=\"5 23\">36.793</td><td class=\"xc0 xn\" title=\"6 23\">5.97</td><td class=\"xc0 xn\" title=\"7 23\">8.668</td><td class=\"\" title=\"8 23\"></td><td class=\"xc0 xn\" title=\"9 23\">2.019</td><td class=\"xc0 xn\" title=\"10 23\">0.915</td><td class=\"xc0 xn\" title=\"11 23\">3.163</td><td class=\"xc0 xn\" title=\"12 23\">3.201</td><td class=\"\" title=\"13 23\"></td><td class=\"xc0 xn\" title=\"14 23\">26.18</td><td class=\"xc0 xn\" title=\"15 23\">35.878</td><td class=\"xc0 xn\" title=\"16 23\">2.807</td><td class=\"xc0 xn\" title=\"17 23\">5.466999999999999</td></tr>\n",
       "<tr><td class=\"\" title=\"0 24\"></td><td class=\"\" title=\"1 24\"></td><td class=\"xc3\" title=\"2 24\">Research and development</td><td class=\"\" title=\"3 24\"></td><td class=\"xc0 xn\" title=\"4 24\">79.923</td><td class=\"xc0 xn\" title=\"5 24\">2.234</td><td class=\"xc0 xn\" title=\"6 24\">2.807</td><td class=\"xc0 xn\" title=\"7 24\">25.513</td><td class=\"\" title=\"8 24\"></td><td class=\"xc0 xn\" title=\"9 24\">68.338</td><td class=\"xc0 xn\" title=\"10 24\">37.396</td><td class=\"xc0 xn\" title=\"11 24\">48.038</td><td class=\"xc0 xn\" title=\"12 24\">25.192</td><td class=\"\" title=\"13 24\"></td><td class=\"xc0 xn\" title=\"14 24\">11.585</td><td class=\"xc0 xn\" title=\"15 24\">-35.162</td><td class=\"xc0 xn\" title=\"16 24\">-45.230999999999995</td><td class=\"xc0\" title=\"17 24\">-</td></tr>\n",
       "<tr><td class=\"\" title=\"0 25\"></td><td class=\"\" title=\"1 25\"></td><td class=\"xc3\" title=\"2 25\">Services between related enterprises</td><td class=\"\" title=\"3 25\"></td><td class=\"xc0 xn\" title=\"4 25\">519.177</td><td class=\"xc0 xn\" title=\"5 25\">535.335</td><td class=\"xc0 xn\" title=\"6 25\">717.535</td><td class=\"xc0 xn\" title=\"7 25\">1091.555</td><td class=\"\" title=\"8 25\"></td><td class=\"xc0 xn\" title=\"9 25\">232.091</td><td class=\"xc0 xn\" title=\"10 25\">138.797</td><td class=\"xc0 xn\" title=\"11 25\">241.559</td><td class=\"xc0 xn\" title=\"12 25\">351.945</td><td class=\"\" title=\"13 25\"></td><td class=\"xc0 xn\" title=\"14 25\">287.086</td><td class=\"xc0 xn\" title=\"15 25\">396.538</td><td class=\"xc0 xn\" title=\"16 25\">475.976</td><td class=\"xc0 xn\" title=\"17 25\">739.6100000000001</td></tr>\n",
       "<tr><td class=\"\" title=\"0 26\"></td><td class=\"\" title=\"1 26\"></td><td class=\"xc3\" title=\"2 26\">Other business and professional services</td><td class=\"\" title=\"3 26\"></td><td class=\"xc0 xn\" title=\"4 26\">322.033</td><td class=\"xc0 xn\" title=\"5 26\">542.17</td><td class=\"xc0\" title=\"6 26\">..</td><td class=\"xc0 xn\" title=\"7 26\">766.65</td><td class=\"\" title=\"8 26\"></td><td class=\"xc0 xn\" title=\"9 26\">191.869</td><td class=\"xc0 xn\" title=\"10 26\">324.74</td><td class=\"xc0\" title=\"11 26\">..</td><td class=\"xc0 xn\" title=\"12 26\">354.979</td><td class=\"\" title=\"13 26\"></td><td class=\"xc0 xn\" title=\"14 26\">130.16400000000002</td><td class=\"xc0 xn\" title=\"15 26\">217.43</td><td class=\"xc0 xn\" title=\"16 26\">491.275</td><td class=\"xc0 xn\" title=\"17 26\">411.671</td></tr>\n",
       "<tr><td class=\"\" title=\"0 27\"></td><td class=\"xb\" title=\"1 27\">Total Business and Professional Services</td><td class=\"\" title=\"2 27\"></td><td class=\"\" title=\"3 27\"></td><td class=\"xc0 xb xn\" title=\"4 27\">2012.3579999999997</td><td class=\"xc0 xb xn\" title=\"5 27\">2177.345</td><td class=\"xc0 xb xn\" title=\"6 27\">2625.678</td><td class=\"xc0 xb xn\" title=\"7 27\">3194.1389999999997</td><td class=\"\" title=\"8 27\"></td><td class=\"xc0 xb xn\" title=\"9 27\">976.874</td><td class=\"xc0 xb xn\" title=\"10 27\">929.937</td><td class=\"xc0 xb xn\" title=\"11 27\">938.3050000000001</td><td class=\"xc0 xb xn\" title=\"12 27\">1159.108</td><td class=\"xb\" title=\"13 27\"></td><td class=\"xc0 xb xn\" title=\"14 27\">1035.484</td><td class=\"xc0 xb xn\" title=\"15 27\">1247.408</td><td class=\"xc0 xb xn\" title=\"16 27\">1687.373</td><td class=\"xc0 xb xn\" title=\"17 27\">2035.0310000000002</td></tr>\n",
       "<tr><td class=\"\" title=\"0 28\"></td><td class=\"\" title=\"1 28\"></td><td class=\"\" title=\"2 28\"></td><td class=\"\" title=\"3 28\"></td><td class=\"\" title=\"4 28\"></td><td class=\"\" title=\"5 28\"></td><td class=\"\" title=\"6 28\"></td><td class=\"\" title=\"7 28\"></td><td class=\"\" title=\"8 28\"></td><td class=\"\" title=\"9 28\"></td><td class=\"\" title=\"10 28\"></td><td class=\"\" title=\"11 28\"></td><td class=\"\" title=\"12 28\"></td><td class=\"\" title=\"13 28\"></td><td class=\"\" title=\"14 28\"></td><td class=\"\" title=\"15 28\"></td><td class=\"\" title=\"16 28\"></td><td class=\"\" title=\"17 28\"></td></tr>\n",
       "<tr><td class=\"\" title=\"0 29\"></td><td class=\"\" title=\"1 29\"></td><td class=\"\" title=\"2 29\"></td><td class=\"\" title=\"3 29\"></td><td class=\"\" title=\"4 29\"></td><td class=\"\" title=\"5 29\"></td><td class=\"\" title=\"6 29\"></td><td class=\"\" title=\"7 29\"></td><td class=\"\" title=\"8 29\"></td><td class=\"\" title=\"9 29\"></td><td class=\"\" title=\"10 29\"></td><td class=\"\" title=\"11 29\"></td><td class=\"\" title=\"12 29\"></td><td class=\"\" title=\"13 29\"></td><td class=\"\" title=\"14 29\"></td><td class=\"\" title=\"15 29\"></td><td class=\"\" title=\"16 29\"></td><td class=\"\" title=\"17 29\"></td></tr>\n",
       "<tr><td class=\"xc2 xb\" title=\"0 30\">Communication, computer and Information Services</td><td class=\"\" title=\"1 30\"></td><td class=\"\" title=\"2 30\"></td><td class=\"\" title=\"3 30\"></td><td class=\"\" title=\"4 30\"></td><td class=\"\" title=\"5 30\"></td><td class=\"\" title=\"6 30\"></td><td class=\"\" title=\"7 30\"></td><td class=\"\" title=\"8 30\"></td><td class=\"\" title=\"9 30\"></td><td class=\"\" title=\"10 30\"></td><td class=\"\" title=\"11 30\"></td><td class=\"\" title=\"12 30\"></td><td class=\"\" title=\"13 30\"></td><td class=\"\" title=\"14 30\"></td><td class=\"\" title=\"15 30\"></td><td class=\"\" title=\"16 30\"></td><td class=\"\" title=\"17 30\"></td></tr>\n",
       "<tr><td class=\"\" title=\"0 31\"></td><td class=\"\" title=\"1 31\"></td><td class=\"xc3\" title=\"2 31\">Postal and courier</td><td class=\"\" title=\"3 31\"></td><td class=\"xc0 xn\" title=\"4 31\">0.953</td><td class=\"xc0\" title=\"5 31\">..</td><td class=\"xc0\" title=\"6 31\">..</td><td class=\"xc0\" title=\"7 31\">..</td><td class=\"\" title=\"8 31\"></td><td class=\"xc0 xn\" title=\"9 31\">2.674</td><td class=\"xc0\" title=\"10 31\">..</td><td class=\"xc0\" title=\"11 31\">..</td><td class=\"xc0\" title=\"12 31\">..</td><td class=\"\" title=\"13 31\"></td><td class=\"xc0 xn\" title=\"14 31\">-1.721</td><td class=\"xc0 xn\" title=\"15 31\">-6.734</td><td class=\"xc0\" title=\"16 31\">..</td><td class=\"xc0 xn\" title=\"17 31\">1.6609999999999998</td></tr>\n",
       "<tr><td class=\"\" title=\"0 32\"></td><td class=\"\" title=\"1 32\"></td><td class=\"xc3\" title=\"2 32\">Telecommunications</td><td class=\"\" title=\"3 32\"></td><td class=\"xc0 xn\" title=\"4 32\">39.834</td><td class=\"xc0 xn\" title=\"5 32\">103.677</td><td class=\"xc0\" title=\"6 32\">..</td><td class=\"xc0\" title=\"7 32\">..</td><td class=\"\" title=\"8 32\"></td><td class=\"xc0 xn\" title=\"9 32\">7.559</td><td class=\"xc0 xn\" title=\"10 32\">26.622</td><td class=\"xc0\" title=\"11 32\">..</td><td class=\"xc0\" title=\"12 32\">..</td><td class=\"\" title=\"13 32\"></td><td class=\"xc0 xn\" title=\"14 32\">32.275</td><td class=\"xc0 xn\" title=\"15 32\">77.055</td><td class=\"xc0\" title=\"16 32\">..</td><td class=\"xc0 xn\" title=\"17 32\">36.961999999999996</td></tr>\n",
       "<tr><td class=\"\" title=\"0 33\"></td><td class=\"\" title=\"1 33\"></td><td class=\"xc3\" title=\"2 33\">Computers</td><td class=\"\" title=\"3 33\"></td><td class=\"xc0 xn\" title=\"4 33\">57.728</td><td class=\"xc0 xn\" title=\"5 33\">150.173</td><td class=\"xc0 xn\" title=\"6 33\">69.908</td><td class=\"xc0 xn\" title=\"7 33\">73.861</td><td class=\"\" title=\"8 33\"></td><td class=\"xc0 xn\" title=\"9 33\">41.994</td><td class=\"xc0 xn\" title=\"10 33\">34.041</td><td class=\"xc0 xn\" title=\"11 33\">41.59</td><td class=\"xc0 xn\" title=\"12 33\">92.222</td><td class=\"\" title=\"13 33\"></td><td class=\"xc0 xn\" title=\"14 33\">15.734000000000002</td><td class=\"xc0 xn\" title=\"15 33\">116.132</td><td class=\"xc0 xn\" title=\"16 33\">28.317999999999998</td><td class=\"xc0 xn\" title=\"17 33\">-18.36099999999999</td></tr>\n",
       "<tr><td class=\"\" title=\"0 34\"></td><td class=\"\" title=\"1 34\"></td><td class=\"xc3\" title=\"2 34\">News agency services</td><td class=\"\" title=\"3 34\"></td><td class=\"xc0\" title=\"4 34\">-</td><td class=\"xc0\" title=\"5 34\">..</td><td class=\"xc0\" title=\"6 34\">..</td><td class=\"xc0\" title=\"7 34\">-</td><td class=\"\" title=\"8 34\"></td><td class=\"xc0 xn\" title=\"9 34\">0.596</td><td class=\"xc0\" title=\"10 34\">..</td><td class=\"xc0\" title=\"11 34\">..</td><td class=\"xc0 xn\" title=\"12 34\">0.67</td><td class=\"\" title=\"13 34\"></td><td class=\"xc0 xn\" title=\"14 34\">-0.587</td><td class=\"xc0\" title=\"15 34\">-</td><td class=\"xc0\" title=\"16 34\">..</td><td class=\"xc0 xn\" title=\"17 34\">-0.67</td></tr>\n",
       "<tr><td class=\"\" title=\"0 35\"></td><td class=\"\" title=\"1 35\"></td><td class=\"xc3\" title=\"2 35\">Publishing services</td><td class=\"\" title=\"3 35\"></td><td class=\"xc0 xn\" title=\"4 35\">10.72</td><td class=\"xc0\" title=\"5 35\">..</td><td class=\"xc0 xn\" title=\"6 35\">30.324</td><td class=\"xc0\" title=\"7 35\">..</td><td class=\"\" title=\"8 35\"></td><td class=\"xc0\" title=\"9 35\">-</td><td class=\"xc0\" title=\"10 35\">..</td><td class=\"xc0 xn\" title=\"11 35\">4.115</td><td class=\"xc0\" title=\"12 35\">..</td><td class=\"\" title=\"13 35\"></td><td class=\"xc0 xn\" title=\"14 35\">10.434000000000001</td><td class=\"xc0 xn\" title=\"15 35\">26.999</td><td class=\"xc0 xn\" title=\"16 35\">26.209000000000003</td><td class=\"xc0 xn\" title=\"17 35\">28.045</td></tr>\n",
       "<tr><td class=\"\" title=\"0 36\"></td><td class=\"\" title=\"1 36\"></td><td class=\"xc3\" title=\"2 36\">Other information provision services</td><td class=\"\" title=\"3 36\"></td><td class=\"xc0 xn\" title=\"4 36\">11.06</td><td class=\"xc0 xn\" title=\"5 36\">32.226</td><td class=\"xc0 xn\" title=\"6 36\">67.22</td><td class=\"xc0\" title=\"7 36\">..</td><td class=\"\" title=\"8 36\"></td><td class=\"xc0 xn\" title=\"9 36\">3.383</td><td class=\"xc0 xn\" title=\"10 36\">6.918</td><td class=\"xc0 xn\" title=\"11 36\">19.233</td><td class=\"xc0\" title=\"12 36\">..</td><td class=\"\" title=\"13 36\"></td><td class=\"xc0 xn\" title=\"14 36\">7.6770000000000005</td><td class=\"xc0 xn\" title=\"15 36\">25.308</td><td class=\"xc0 xn\" title=\"16 36\">47.986999999999995</td><td class=\"xc0 xn\" title=\"17 36\">65.073</td></tr>\n",
       "<tr><td class=\"\" title=\"0 37\"></td><td class=\"xb\" title=\"1 37\">Total communication, computer and Information Services</td><td class=\"\" title=\"2 37\"></td><td class=\"\" title=\"3 37\"></td><td class=\"xc0 xb xn\" title=\"4 37\">120.30400000000002</td><td class=\"xc0 xb xn\" title=\"5 37\">318.66200000000003</td><td class=\"xc0 xb xn\" title=\"6 37\">192.961</td><td class=\"xc0 xb xn\" title=\"7 37\">238.901</td><td class=\"\" title=\"8 37\"></td><td class=\"xc0 xb xn\" title=\"9 37\">56.492000000000004</td><td class=\"xc0 xb xn\" title=\"10 37\">79.857</td><td class=\"xc0 xb xn\" title=\"11 37\">66.24</td><td class=\"xc0 xb xn\" title=\"12 37\">126.191</td><td class=\"xb\" title=\"13 37\"></td><td class=\"xc0 xb xn\" title=\"14 37\">63.81200000000001</td><td class=\"xc0 xb xn\" title=\"15 37\">238.805</td><td class=\"xc0 xb xn\" title=\"16 37\">126.721</td><td class=\"xc0 xb xn\" title=\"17 37\">113.0</td></tr>\n",
       "<tr><td class=\"\" title=\"0 38\"></td><td class=\"\" title=\"1 38\"></td><td class=\"\" title=\"2 38\"></td><td class=\"\" title=\"3 38\"></td><td class=\"\" title=\"4 38\"></td><td class=\"\" title=\"5 38\"></td><td class=\"\" title=\"6 38\"></td><td class=\"\" title=\"7 38\"></td><td class=\"\" title=\"8 38\"></td><td class=\"\" title=\"9 38\"></td><td class=\"\" title=\"10 38\"></td><td class=\"\" title=\"11 38\"></td><td class=\"\" title=\"12 38\"></td><td class=\"\" title=\"13 38\"></td><td class=\"\" title=\"14 38\"></td><td class=\"\" title=\"15 38\"></td><td class=\"\" title=\"16 38\"></td><td class=\"\" title=\"17 38\"></td></tr>\n",
       "<tr><td class=\"xb\" title=\"0 39\"></td><td class=\"xb\" title=\"1 39\"></td><td class=\"\" title=\"2 39\"></td><td class=\"\" title=\"3 39\"></td><td class=\"\" title=\"4 39\"></td><td class=\"\" title=\"5 39\"></td><td class=\"\" title=\"6 39\"></td><td class=\"\" title=\"7 39\"></td><td class=\"\" title=\"8 39\"></td><td class=\"\" title=\"9 39\"></td><td class=\"\" title=\"10 39\"></td><td class=\"\" title=\"11 39\"></td><td class=\"\" title=\"12 39\"></td><td class=\"\" title=\"13 39\"></td><td class=\"\" title=\"14 39\"></td><td class=\"\" title=\"15 39\"></td><td class=\"\" title=\"16 39\"></td><td class=\"\" title=\"17 39\"></td></tr>\n",
       "<tr><td class=\"xc2 xb\" title=\"0 40\">Construction Services</td><td class=\"\" title=\"1 40\"></td><td class=\"\" title=\"2 40\"></td><td class=\"\" title=\"3 40\"></td><td class=\"\" title=\"4 40\"></td><td class=\"\" title=\"5 40\"></td><td class=\"\" title=\"6 40\"></td><td class=\"xb\" title=\"7 40\"></td><td class=\"\" title=\"8 40\"></td><td class=\"\" title=\"9 40\"></td><td class=\"\" title=\"10 40\"></td><td class=\"\" title=\"11 40\"></td><td class=\"xb\" title=\"12 40\"></td><td class=\"\" title=\"13 40\"></td><td class=\"\" title=\"14 40\"></td><td class=\"\" title=\"15 40\"></td><td class=\"\" title=\"16 40\"></td><td class=\"xb\" title=\"17 40\"></td></tr>\n",
       "<tr><td class=\"xb\" title=\"0 41\"></td><td class=\"\" title=\"1 41\"></td><td class=\"xc3\" title=\"2 41\">Construction in the UK</td><td class=\"\" title=\"3 41\"></td><td class=\"xc0 xn\" title=\"4 41\">0.829</td><td class=\"xc0\" title=\"5 41\">-</td><td class=\"xc0 xn\" title=\"6 41\">2.429</td><td class=\"xc0 xn\" title=\"7 41\">0.946</td><td class=\"\" title=\"8 41\"></td><td class=\"xc0 xn\" title=\"9 41\">23.878</td><td class=\"xc0 xn\" title=\"10 41\">11.144</td><td class=\"xc0 xn\" title=\"11 41\">15.078</td><td class=\"xc0 xn\" title=\"12 41\">33.783</td><td class=\"\" title=\"13 41\"></td><td class=\"xc0 xn\" title=\"14 41\">-23.049</td><td class=\"xc0 xn\" title=\"15 41\">-10.843</td><td class=\"xc0 xn\" title=\"16 41\">-12.649</td><td class=\"xc0 xn\" title=\"17 41\">-32.837</td></tr>\n",
       "<tr><td class=\"\" title=\"0 42\"></td><td class=\"\" title=\"1 42\"></td><td class=\"xc3\" title=\"2 42\">Construction outside the UK</td><td class=\"\" title=\"3 42\"></td><td class=\"xc0 xn\" title=\"4 42\">32.815</td><td class=\"xc0 xn\" title=\"5 42\">15.071</td><td class=\"xc0 xn\" title=\"6 42\">23.358</td><td class=\"xc0 xn\" title=\"7 42\">16.021</td><td class=\"\" title=\"8 42\"></td><td class=\"xc0 xn\" title=\"9 42\">15.567</td><td class=\"xc0 xn\" title=\"10 42\">8.184</td><td class=\"xc0 xn\" title=\"11 42\">4.197</td><td class=\"xc0 xn\" title=\"12 42\">8.474</td><td class=\"\" title=\"13 42\"></td><td class=\"xc0 xn\" title=\"14 42\">17.247999999999998</td><td class=\"xc0 xn\" title=\"15 42\">6.8870000000000005</td><td class=\"xc0 xn\" title=\"16 42\">19.161</td><td class=\"xc0 xn\" title=\"17 42\">7.547000000000001</td></tr>\n",
       "<tr><td class=\"\" title=\"0 43\"></td><td class=\"xb\" title=\"1 43\">Total Construction Services</td><td class=\"\" title=\"2 43\"></td><td class=\"\" title=\"3 43\"></td><td class=\"xc0 xb xn\" title=\"4 43\">33.644</td><td class=\"xc0 xb xn\" title=\"5 43\">15.372</td><td class=\"xc0 xb xn\" title=\"6 43\">25.787</td><td class=\"xc0 xb xn\" title=\"7 43\">16.967000000000002</td><td class=\"\" title=\"8 43\"></td><td class=\"xc0 xb xn\" title=\"9 43\">39.445</td><td class=\"xc0 xb xn\" title=\"10 43\">19.328</td><td class=\"xc0 xb xn\" title=\"11 43\">19.275</td><td class=\"xc0 xb xn\" title=\"12 43\">42.257000000000005</td><td class=\"xb\" title=\"13 43\"></td><td class=\"xc0 xb xn\" title=\"14 43\">-5.801000000000002</td><td class=\"xc0 xb xn\" title=\"15 43\">-3.9559999999999995</td><td class=\"xc0 xb xn\" title=\"16 43\">6.512000000000002</td><td class=\"xc0 xb xn\" title=\"17 43\">-25.290000000000003</td></tr>\n",
       "<tr><td class=\"\" title=\"0 44\"></td><td class=\"xb\" title=\"1 44\"></td><td class=\"\" title=\"2 44\"></td><td class=\"\" title=\"3 44\"></td><td class=\"\" title=\"4 44\"></td><td class=\"\" title=\"5 44\"></td><td class=\"\" title=\"6 44\"></td><td class=\"xb\" title=\"7 44\"></td><td class=\"\" title=\"8 44\"></td><td class=\"\" title=\"9 44\"></td><td class=\"\" title=\"10 44\"></td><td class=\"\" title=\"11 44\"></td><td class=\"xb\" title=\"12 44\"></td><td class=\"\" title=\"13 44\"></td><td class=\"\" title=\"14 44\"></td><td class=\"\" title=\"15 44\"></td><td class=\"\" title=\"16 44\"></td><td class=\"xb\" title=\"17 44\"></td></tr>\n",
       "<tr><td class=\"\" title=\"0 45\"></td><td class=\"\" title=\"1 45\"></td><td class=\"\" title=\"2 45\"></td><td class=\"\" title=\"3 45\"></td><td class=\"\" title=\"4 45\"></td><td class=\"\" title=\"5 45\"></td><td class=\"\" title=\"6 45\"></td><td class=\"xb\" title=\"7 45\"></td><td class=\"\" title=\"8 45\"></td><td class=\"\" title=\"9 45\"></td><td class=\"\" title=\"10 45\"></td><td class=\"\" title=\"11 45\"></td><td class=\"xb\" title=\"12 45\"></td><td class=\"\" title=\"13 45\"></td><td class=\"\" title=\"14 45\"></td><td class=\"\" title=\"15 45\"></td><td class=\"\" title=\"16 45\"></td><td class=\"xb\" title=\"17 45\"></td></tr>\n",
       "<tr><td class=\"xc2 xb\" title=\"0 46\">Financial Services</td><td class=\"\" title=\"1 46\"></td><td class=\"\" title=\"2 46\"></td><td class=\"\" title=\"3 46\"></td><td class=\"\" title=\"4 46\"></td><td class=\"\" title=\"5 46\"></td><td class=\"\" title=\"6 46\"></td><td class=\"\" title=\"7 46\"></td><td class=\"\" title=\"8 46\"></td><td class=\"\" title=\"9 46\"></td><td class=\"\" title=\"10 46\"></td><td class=\"\" title=\"11 46\"></td><td class=\"\" title=\"12 46\"></td><td class=\"\" title=\"13 46\"></td><td class=\"\" title=\"14 46\"></td><td class=\"\" title=\"15 46\"></td><td class=\"\" title=\"16 46\"></td><td class=\"\" title=\"17 46\"></td></tr>\n",
       "<tr><td class=\"\" title=\"0 47\"></td><td class=\"\" title=\"1 47\"></td><td class=\"xc3\" title=\"2 47\">Financial</td><td class=\"\" title=\"3 47\"></td><td class=\"xc0 xn\" title=\"4 47\">117.459</td><td class=\"xc0 xn\" title=\"5 47\">342.486</td><td class=\"xc0 xn\" title=\"6 47\">273.439</td><td class=\"xc0 xn\" title=\"7 47\">1410.398</td><td class=\"\" title=\"8 47\"></td><td class=\"xc0 xn\" title=\"9 47\">18.625</td><td class=\"xc0 xn\" title=\"10 47\">31.267</td><td class=\"xc0 xn\" title=\"11 47\">120.357</td><td class=\"xc0 xn\" title=\"12 47\">307.709</td><td class=\"\" title=\"13 47\"></td><td class=\"xc0 xn\" title=\"14 47\">98.834</td><td class=\"xc0 xn\" title=\"15 47\">311.219</td><td class=\"xc0 xn\" title=\"16 47\">153.08200000000002</td><td class=\"xc0 xn\" title=\"17 47\">1102.6889999999999</td></tr>\n",
       "<tr><td class=\"\" title=\"0 48\"></td><td class=\"\" title=\"1 48\"></td><td class=\"\" title=\"2 48\"></td><td class=\"\" title=\"3 48\"></td><td class=\"\" title=\"4 48\"></td><td class=\"\" title=\"5 48\"></td><td class=\"\" title=\"6 48\"></td><td class=\"xb\" title=\"7 48\"></td><td class=\"\" title=\"8 48\"></td><td class=\"\" title=\"9 48\"></td><td class=\"\" title=\"10 48\"></td><td class=\"\" title=\"11 48\"></td><td class=\"xb\" title=\"12 48\"></td><td class=\"\" title=\"13 48\"></td><td class=\"\" title=\"14 48\"></td><td class=\"\" title=\"15 48\"></td><td class=\"\" title=\"16 48\"></td><td class=\"xb\" title=\"17 48\"></td></tr>\n",
       "<tr><td class=\"\" title=\"0 49\"></td><td class=\"\" title=\"1 49\"></td><td class=\"\" title=\"2 49\"></td><td class=\"\" title=\"3 49\"></td><td class=\"\" title=\"4 49\"></td><td class=\"\" title=\"5 49\"></td><td class=\"\" title=\"6 49\"></td><td class=\"\" title=\"7 49\"></td><td class=\"\" title=\"8 49\"></td><td class=\"\" title=\"9 49\"></td><td class=\"\" title=\"10 49\"></td><td class=\"\" title=\"11 49\"></td><td class=\"\" title=\"12 49\"></td><td class=\"\" title=\"13 49\"></td><td class=\"\" title=\"14 49\"></td><td class=\"\" title=\"15 49\"></td><td class=\"\" title=\"16 49\"></td><td class=\"\" title=\"17 49\"></td></tr>\n",
       "<tr><td class=\"xc2 xb\" title=\"0 50\">Insurance Services</td><td class=\"xb\" title=\"1 50\"></td><td class=\"\" title=\"2 50\"></td><td class=\"\" title=\"3 50\"></td><td class=\"\" title=\"4 50\"></td><td class=\"\" title=\"5 50\"></td><td class=\"\" title=\"6 50\"></td><td class=\"\" title=\"7 50\"></td><td class=\"\" title=\"8 50\"></td><td class=\"\" title=\"9 50\"></td><td class=\"\" title=\"10 50\"></td><td class=\"\" title=\"11 50\"></td><td class=\"\" title=\"12 50\"></td><td class=\"\" title=\"13 50\"></td><td class=\"\" title=\"14 50\"></td><td class=\"\" title=\"15 50\"></td><td class=\"\" title=\"16 50\"></td><td class=\"\" title=\"17 50\"></td></tr>\n",
       "<tr><td class=\"xb\" title=\"0 51\"></td><td class=\"xb\" title=\"1 51\"></td><td class=\"xc3\" title=\"2 51\">Insurance Claims</td><td class=\"\" title=\"3 51\"></td><td class=\"xc0 xn\" title=\"4 51\">12.384</td><td class=\"xc0 xn\" title=\"5 51\">0.753</td><td class=\"xc0 xn\" title=\"6 51\">0.937</td><td class=\"xc0\" title=\"7 51\">-</td><td class=\"\" title=\"8 51\"></td><td class=\"xb\" title=\"9 51\"></td><td class=\"xb\" title=\"10 51\"></td><td class=\"xb\" title=\"11 51\"></td><td class=\"\" title=\"12 51\"></td><td class=\"xb\" title=\"13 51\"></td><td class=\"xc0 xn\" title=\"14 51\">12.384</td><td class=\"xc0 xn\" title=\"15 51\">0.753</td><td class=\"xc0 xn\" title=\"16 51\">0.937</td><td class=\"xc0\" title=\"17 51\">-</td></tr>\n",
       "<tr><td class=\"xb\" title=\"0 52\"></td><td class=\"\" title=\"1 52\"></td><td class=\"xc3\" title=\"2 52\">Insurance Premiums</td><td class=\"\" title=\"3 52\"></td><td class=\"\" title=\"4 52\"></td><td class=\"\" title=\"5 52\"></td><td class=\"\" title=\"6 52\"></td><td class=\"xb\" title=\"7 52\"></td><td class=\"\" title=\"8 52\"></td><td class=\"xc0 xn\" title=\"9 52\">3.139</td><td class=\"xc0 xn\" title=\"10 52\">1.289</td><td class=\"xc0 xn\" title=\"11 52\">1.406</td><td class=\"xc0 xn\" title=\"12 52\">2.01</td><td class=\"\" title=\"13 52\"></td><td class=\"xc0 xn\" title=\"14 52\">-3.139</td><td class=\"xc0 xn\" title=\"15 52\">-1.289</td><td class=\"xc0 xn\" title=\"16 52\">-1.406</td><td class=\"xc0 xn\" title=\"17 52\">-2.01</td></tr>\n",
       "<tr><td class=\"xb\" title=\"0 53\"></td><td class=\"xb\" title=\"1 53\"></td><td class=\"\" title=\"2 53\"></td><td class=\"\" title=\"3 53\"></td><td class=\"\" title=\"4 53\"></td><td class=\"\" title=\"5 53\"></td><td class=\"\" title=\"6 53\"></td><td class=\"\" title=\"7 53\"></td><td class=\"\" title=\"8 53\"></td><td class=\"\" title=\"9 53\"></td><td class=\"\" title=\"10 53\"></td><td class=\"\" title=\"11 53\"></td><td class=\"\" title=\"12 53\"></td><td class=\"\" title=\"13 53\"></td><td class=\"\" title=\"14 53\"></td><td class=\"\" title=\"15 53\"></td><td class=\"\" title=\"16 53\"></td><td class=\"\" title=\"17 53\"></td></tr>\n",
       "<tr><td class=\"xb\" title=\"0 54\"></td><td class=\"xb\" title=\"1 54\"></td><td class=\"\" title=\"2 54\"></td><td class=\"\" title=\"3 54\"></td><td class=\"\" title=\"4 54\"></td><td class=\"\" title=\"5 54\"></td><td class=\"\" title=\"6 54\"></td><td class=\"\" title=\"7 54\"></td><td class=\"\" title=\"8 54\"></td><td class=\"\" title=\"9 54\"></td><td class=\"\" title=\"10 54\"></td><td class=\"\" title=\"11 54\"></td><td class=\"\" title=\"12 54\"></td><td class=\"\" title=\"13 54\"></td><td class=\"\" title=\"14 54\"></td><td class=\"\" title=\"15 54\"></td><td class=\"\" title=\"16 54\"></td><td class=\"\" title=\"17 54\"></td></tr>\n",
       "<tr><td class=\"xc2 xb\" title=\"0 55\">Merchanting and Other Trade related Services</td><td class=\"\" title=\"1 55\"></td><td class=\"\" title=\"2 55\"></td><td class=\"\" title=\"3 55\"></td><td class=\"\" title=\"4 55\"></td><td class=\"\" title=\"5 55\"></td><td class=\"\" title=\"6 55\"></td><td class=\"\" title=\"7 55\"></td><td class=\"\" title=\"8 55\"></td><td class=\"\" title=\"9 55\"></td><td class=\"\" title=\"10 55\"></td><td class=\"\" title=\"11 55\"></td><td class=\"\" title=\"12 55\"></td><td class=\"\" title=\"13 55\"></td><td class=\"\" title=\"14 55\"></td><td class=\"\" title=\"15 55\"></td><td class=\"\" title=\"16 55\"></td><td class=\"\" title=\"17 55\"></td></tr>\n",
       "<tr><td class=\"\" title=\"0 56\"></td><td class=\"\" title=\"1 56\"></td><td class=\"xc3\" title=\"2 56\">Merchanting</td><td class=\"\" title=\"3 56\"></td><td class=\"xc0\" title=\"4 56\">-</td><td class=\"xc0\" title=\"5 56\">..</td><td class=\"xc0\" title=\"6 56\">-</td><td class=\"xc0 xn\" title=\"7 56\">5.391</td><td class=\"\" title=\"8 56\"></td><td class=\"xc0\" title=\"9 56\">-</td><td class=\"xc0\" title=\"10 56\">..</td><td class=\"xc0\" title=\"11 56\">-</td><td class=\"xc0\" title=\"12 56\">-</td><td class=\"\" title=\"13 56\"></td><td class=\"xc0\" title=\"14 56\">-</td><td class=\"xc0 xn\" title=\"15 56\">1.391</td><td class=\"xc0\" title=\"16 56\">-</td><td class=\"xc0 xn\" title=\"17 56\">5.317</td></tr>\n",
       "<tr><td class=\"\" title=\"0 57\"></td><td class=\"\" title=\"1 57\"></td><td class=\"xc3\" title=\"2 57\">Other trade - related services</td><td class=\"\" title=\"3 57\"></td><td class=\"xc0 xn\" title=\"4 57\">10.7</td><td class=\"xc0\" title=\"5 57\">..</td><td class=\"xc0 xn\" title=\"6 57\">2.635</td><td class=\"xc0 xn\" title=\"7 57\">2.105</td><td class=\"\" title=\"8 57\"></td><td class=\"xc0 xn\" title=\"9 57\">1.007</td><td class=\"xc0\" title=\"10 57\">..</td><td class=\"xc0 xn\" title=\"11 57\">4.336</td><td class=\"xc0 xn\" title=\"12 57\">9.416</td><td class=\"\" title=\"13 57\"></td><td class=\"xc0 xn\" title=\"14 57\">9.693</td><td class=\"xc0 xn\" title=\"15 57\">15.942</td><td class=\"xc0 xn\" title=\"16 57\">-1.7010000000000005</td><td class=\"xc0 xn\" title=\"17 57\">-7.311</td></tr>\n",
       "<tr><td class=\"\" title=\"0 58\"></td><td class=\"xb\" title=\"1 58\">Total Merchanting and Other Trade related Services</td><td class=\"\" title=\"2 58\"></td><td class=\"\" title=\"3 58\"></td><td class=\"xc0 xb xn\" title=\"4 58\">10.703999999999999</td><td class=\"xc0 xb xn\" title=\"5 58\">23.561999999999998</td><td class=\"xc0 xb xn\" title=\"6 58\">2.9819999999999998</td><td class=\"xc0 xb xn\" title=\"7 58\">7.496</td><td class=\"\" title=\"8 58\"></td><td class=\"xc0 xb xn\" title=\"9 58\">1.007</td><td class=\"xc0 xb xn\" title=\"10 58\">6.229</td><td class=\"xc0 xb xn\" title=\"11 58\">4.348</td><td class=\"xc0 xb xn\" title=\"12 58\">9.49</td><td class=\"xb\" title=\"13 58\"></td><td class=\"xc0 xb xn\" title=\"14 58\">9.697</td><td class=\"xc0 xb xn\" title=\"15 58\">17.333</td><td class=\"xc0 xb xn\" title=\"16 58\">-1.3660000000000005</td><td class=\"xc0 xb xn\" title=\"17 58\">-1.9939999999999998</td></tr>\n",
       "<tr><td class=\"\" title=\"0 59\"></td><td class=\"\" title=\"1 59\"></td><td class=\"\" title=\"2 59\"></td><td class=\"\" title=\"3 59\"></td><td class=\"\" title=\"4 59\"></td><td class=\"\" title=\"5 59\"></td><td class=\"\" title=\"6 59\"></td><td class=\"\" title=\"7 59\"></td><td class=\"\" title=\"8 59\"></td><td class=\"\" title=\"9 59\"></td><td class=\"\" title=\"10 59\"></td><td class=\"\" title=\"11 59\"></td><td class=\"\" title=\"12 59\"></td><td class=\"\" title=\"13 59\"></td><td class=\"\" title=\"14 59\"></td><td class=\"\" title=\"15 59\"></td><td class=\"\" title=\"16 59\"></td><td class=\"\" title=\"17 59\"></td></tr>\n",
       "<tr><td class=\"\" title=\"0 60\"></td><td class=\"\" title=\"1 60\"></td><td class=\"\" title=\"2 60\"></td><td class=\"\" title=\"3 60\"></td><td class=\"\" title=\"4 60\"></td><td class=\"\" title=\"5 60\"></td><td class=\"\" title=\"6 60\"></td><td class=\"\" title=\"7 60\"></td><td class=\"\" title=\"8 60\"></td><td class=\"\" title=\"9 60\"></td><td class=\"\" title=\"10 60\"></td><td class=\"\" title=\"11 60\"></td><td class=\"\" title=\"12 60\"></td><td class=\"\" title=\"13 60\"></td><td class=\"\" title=\"14 60\"></td><td class=\"\" title=\"15 60\"></td><td class=\"\" title=\"16 60\"></td><td class=\"\" title=\"17 60\"></td></tr>\n",
       "<tr><td class=\"xc2 xb\" title=\"0 61\">Personal, Cultural and Recreational  Services</td><td class=\"\" title=\"1 61\"></td><td class=\"\" title=\"2 61\"></td><td class=\"\" title=\"3 61\"></td><td class=\"\" title=\"4 61\"></td><td class=\"\" title=\"5 61\"></td><td class=\"\" title=\"6 61\"></td><td class=\"\" title=\"7 61\"></td><td class=\"\" title=\"8 61\"></td><td class=\"\" title=\"9 61\"></td><td class=\"\" title=\"10 61\"></td><td class=\"\" title=\"11 61\"></td><td class=\"\" title=\"12 61\"></td><td class=\"\" title=\"13 61\"></td><td class=\"\" title=\"14 61\"></td><td class=\"\" title=\"15 61\"></td><td class=\"\" title=\"16 61\"></td><td class=\"\" title=\"17 61\"></td></tr>\n",
       "<tr><td class=\"\" title=\"0 62\"></td><td class=\"\" title=\"1 62\"></td><td class=\"xc3\" title=\"2 62\">Audio- Visual and related services </td><td class=\"\" title=\"3 62\"></td><td class=\"xc0\" title=\"4 62\">..</td><td class=\"xc0 xn\" title=\"5 62\">2.423</td><td class=\"xc0 xn\" title=\"6 62\">4.802</td><td class=\"xc0\" title=\"7 62\">..</td><td class=\"\" title=\"8 62\"></td><td class=\"xc0\" title=\"9 62\">..</td><td class=\"xc0 xn\" title=\"10 62\">1.647</td><td class=\"xc0 xn\" title=\"11 62\">4.769</td><td class=\"xc0\" title=\"12 62\">..</td><td class=\"\" title=\"13 62\"></td><td class=\"xc0 xn\" title=\"14 62\">-10.521</td><td class=\"xc0 xn\" title=\"15 62\">0.776</td><td class=\"xc0\" title=\"16 62\">-</td><td class=\"xc0 xn\" title=\"17 62\">-3.2609999999999997</td></tr>\n",
       "<tr><td class=\"\" title=\"0 63\"></td><td class=\"\" title=\"1 63\"></td><td class=\"xc3\" title=\"2 63\">Health Services</td><td class=\"\" title=\"3 63\"></td><td class=\"xc0\" title=\"4 63\">..</td><td class=\"xc0\" title=\"5 63\">..</td><td class=\"xc0 xn\" title=\"6 63\">1.156</td><td class=\"xc0\" title=\"7 63\">-</td><td class=\"\" title=\"8 63\"></td><td class=\"xc0\" title=\"9 63\">..</td><td class=\"xc0\" title=\"10 63\">..</td><td class=\"xc0\" title=\"11 63\">-</td><td class=\"xc0\" title=\"12 63\">-</td><td class=\"\" title=\"13 63\"></td><td class=\"xc0\" title=\"14 63\">..</td><td class=\"xc0 xn\" title=\"15 63\">0.608</td><td class=\"xc0 xn\" title=\"16 63\">0.95</td><td class=\"xc0\" title=\"17 63\">-</td></tr>\n",
       "<tr><td class=\"\" title=\"0 64\"></td><td class=\"\" title=\"1 64\"></td><td class=\"xc3\" title=\"2 64\">Training and educational services</td><td class=\"\" title=\"3 64\"></td><td class=\"xc0 xn\" title=\"4 64\">43.033</td><td class=\"xc0 xn\" title=\"5 64\">12.055</td><td class=\"xc0 xn\" title=\"6 64\">46.049</td><td class=\"xc0 xn\" title=\"7 64\">124.467</td><td class=\"\" title=\"8 64\"></td><td class=\"xc0 xn\" title=\"9 64\">11.451</td><td class=\"xc0 xn\" title=\"10 64\">2.046</td><td class=\"xc0 xn\" title=\"11 64\">3.928</td><td class=\"xc0 xn\" title=\"12 64\">26.56</td><td class=\"\" title=\"13 64\"></td><td class=\"xc0 xn\" title=\"14 64\">31.582</td><td class=\"xc0 xn\" title=\"15 64\">10.009</td><td class=\"xc0 xn\" title=\"16 64\">42.121</td><td class=\"xc0 xn\" title=\"17 64\">97.907</td></tr>\n",
       "<tr><td class=\"\" title=\"0 65\"></td><td class=\"\" title=\"1 65\"></td><td class=\"xc3\" title=\"2 65\">Other personal, cultural and recreational services</td><td class=\"\" title=\"3 65\"></td><td class=\"xc0\" title=\"4 65\">..</td><td class=\"xc0\" title=\"5 65\">..</td><td class=\"xc0 xn\" title=\"6 65\">26.13</td><td class=\"xc0\" title=\"7 65\">..</td><td class=\"\" title=\"8 65\"></td><td class=\"xc0\" title=\"9 65\">..</td><td class=\"xc0\" title=\"10 65\">..</td><td class=\"xc0 xn\" title=\"11 65\">13.617</td><td class=\"xc0\" title=\"12 65\">..</td><td class=\"\" title=\"13 65\"></td><td class=\"xc0\" title=\"14 65\">..</td><td class=\"xc0 xn\" title=\"15 65\">88.988</td><td class=\"xc0 xn\" title=\"16 65\">12.512999999999998</td><td class=\"xc0 xn\" title=\"17 65\">11.168</td></tr>\n",
       "<tr><td class=\"xb\" title=\"0 66\"></td><td class=\"xb\" title=\"1 66\">Total Personal, Cultural and Recreational Services</td><td class=\"\" title=\"2 66\"></td><td class=\"\" title=\"3 66\"></td><td class=\"xc0 xb xn\" title=\"4 66\">109.757</td><td class=\"xc0 xb xn\" title=\"5 66\">168.927</td><td class=\"xc0 xb xn\" title=\"6 66\">78.137</td><td class=\"xc0 xb xn\" title=\"7 66\">143.214</td><td class=\"\" title=\"8 66\"></td><td class=\"xc0 xb xn\" title=\"9 66\">56.791000000000004</td><td class=\"xc0 xb xn\" title=\"10 66\">68.54599999999999</td><td class=\"xc0 xb xn\" title=\"11 66\">22.520000000000003</td><td class=\"xc0 xb xn\" title=\"12 66\">37.484</td><td class=\"xb\" title=\"13 66\"></td><td class=\"xc0 xb xn\" title=\"14 66\">52.965999999999994</td><td class=\"xc0 xb xn\" title=\"15 66\">100.381</td><td class=\"xc0 xb xn\" title=\"16 66\">55.617</td><td class=\"xc0 xb xn\" title=\"17 66\">105.72999999999999</td></tr>\n",
       "<tr><td class=\"\" title=\"0 67\"></td><td class=\"\" title=\"1 67\"></td><td class=\"\" title=\"2 67\"></td><td class=\"\" title=\"3 67\"></td><td class=\"\" title=\"4 67\"></td><td class=\"\" title=\"5 67\"></td><td class=\"\" title=\"6 67\"></td><td class=\"\" title=\"7 67\"></td><td class=\"\" title=\"8 67\"></td><td class=\"\" title=\"9 67\"></td><td class=\"\" title=\"10 67\"></td><td class=\"\" title=\"11 67\"></td><td class=\"\" title=\"12 67\"></td><td class=\"\" title=\"13 67\"></td><td class=\"\" title=\"14 67\"></td><td class=\"\" title=\"15 67\"></td><td class=\"\" title=\"16 67\"></td><td class=\"\" title=\"17 67\"></td></tr>\n",
       "<tr><td class=\"xb\" title=\"0 68\"></td><td class=\"\" title=\"1 68\"></td><td class=\"\" title=\"2 68\"></td><td class=\"xb\" title=\"3 68\"></td><td class=\"xb\" title=\"4 68\"></td><td class=\"xb\" title=\"5 68\"></td><td class=\"\" title=\"6 68\"></td><td class=\"\" title=\"7 68\"></td><td class=\"xb\" title=\"8 68\"></td><td class=\"\" title=\"9 68\"></td><td class=\"xb\" title=\"10 68\"></td><td class=\"\" title=\"11 68\"></td><td class=\"\" title=\"12 68\"></td><td class=\"\" title=\"13 68\"></td><td class=\"\" title=\"14 68\"></td><td class=\"\" title=\"15 68\"></td><td class=\"\" title=\"16 68\"></td><td class=\"\" title=\"17 68\"></td></tr>\n",
       "<tr><td class=\"xc2 xb\" title=\"0 69\">Royalties and Licenses</td><td class=\"\" title=\"1 69\"></td><td class=\"\" title=\"2 69\"></td><td class=\"\" title=\"3 69\"></td><td class=\"\" title=\"4 69\"></td><td class=\"\" title=\"5 69\"></td><td class=\"\" title=\"6 69\"></td><td class=\"\" title=\"7 69\"></td><td class=\"\" title=\"8 69\"></td><td class=\"\" title=\"9 69\"></td><td class=\"\" title=\"10 69\"></td><td class=\"\" title=\"11 69\"></td><td class=\"\" title=\"12 69\"></td><td class=\"\" title=\"13 69\"></td><td class=\"\" title=\"14 69\"></td><td class=\"\" title=\"15 69\"></td><td class=\"\" title=\"16 69\"></td><td class=\"\" title=\"17 69\"></td></tr>\n",
       "<tr><td class=\"xb\" title=\"0 70\"></td><td class=\"\" title=\"1 70\"></td><td class=\"xc3\" title=\"2 70\">Use of franchise and similar rights fees</td><td class=\"\" title=\"3 70\"></td><td class=\"xc0 xn\" title=\"4 70\">188.64</td><td class=\"xc0 xn\" title=\"5 70\">132.78</td><td class=\"xc0 xn\" title=\"6 70\">104.981</td><td class=\"xc0 xn\" title=\"7 70\">197.664</td><td class=\"\" title=\"8 70\"></td><td class=\"xc0 xn\" title=\"9 70\">119.096</td><td class=\"xc0 xn\" title=\"10 70\">73.776</td><td class=\"xc0 xn\" title=\"11 70\">69.791</td><td class=\"xc0 xn\" title=\"12 70\">37.878</td><td class=\"\" title=\"13 70\"></td><td class=\"xc0 xn\" title=\"14 70\">69.54399999999998</td><td class=\"xc0 xn\" title=\"15 70\">59.004000000000005</td><td class=\"xc0 xn\" title=\"16 70\">35.19</td><td class=\"xc0 xn\" title=\"17 70\">159.786</td></tr>\n",
       "<tr><td class=\"xb\" title=\"0 71\"></td><td class=\"\" title=\"1 71\"></td><td class=\"xc3\" title=\"2 71\">Other royalties and license fees</td><td class=\"\" title=\"3 71\"></td><td class=\"xc0\" title=\"4 71\">..</td><td class=\"xc0 xn\" title=\"5 71\">36.951</td><td class=\"xc0 xn\" title=\"6 71\">16.829</td><td class=\"xc0 xn\" title=\"7 71\">60.285</td><td class=\"\" title=\"8 71\"></td><td class=\"xc0\" title=\"9 71\">..</td><td class=\"xc0 xn\" title=\"10 71\">141.008</td><td class=\"xc0 xn\" title=\"11 71\">43.217</td><td class=\"xc0 xn\" title=\"12 71\">197.043</td><td class=\"\" title=\"13 71\"></td><td class=\"xc0 xn\" title=\"14 71\">-5.413999999999998</td><td class=\"xc0 xn\" title=\"15 71\">-104.05700000000002</td><td class=\"xc0 xn\" title=\"16 71\">-26.387999999999998</td><td class=\"xc0 xn\" title=\"17 71\">-136.758</td></tr>\n",
       "<tr><td class=\"xb\" title=\"0 72\"></td><td class=\"\" title=\"1 72\"></td><td class=\"xc3\" title=\"2 72\">Purchases and sales of franchises and similar rights</td><td class=\"\" title=\"3 72\"></td><td class=\"xc0\" title=\"4 72\">..</td><td class=\"xc0\" title=\"5 72\">..</td><td class=\"xc0\" title=\"6 72\">..</td><td class=\"xc0\" title=\"7 72\">..</td><td class=\"\" title=\"8 72\"></td><td class=\"xc0\" title=\"9 72\">..</td><td class=\"xc0\" title=\"10 72\">..</td><td class=\"xc0\" title=\"11 72\">..</td><td class=\"xc0\" title=\"12 72\">..</td><td class=\"\" title=\"13 72\"></td><td class=\"xc0 xn\" title=\"14 72\">18.599</td><td class=\"xc0\" title=\"15 72\">..</td><td class=\"xc0\" title=\"16 72\">..</td><td class=\"xc0\" title=\"17 72\">..</td></tr>\n",
       "<tr><td class=\"\" title=\"0 73\"></td><td class=\"\" title=\"1 73\"></td><td class=\"xc3\" title=\"2 73\">Purchases and sales of other royalties and licenses</td><td class=\"\" title=\"3 73\"></td><td class=\"xc0 xn\" title=\"4 73\">135.615</td><td class=\"xc0\" title=\"5 73\">..</td><td class=\"xc0\" title=\"6 73\">..</td><td class=\"xc0\" title=\"7 73\">..</td><td class=\"\" title=\"8 73\"></td><td class=\"xc0 xn\" title=\"9 73\">57.86</td><td class=\"xc0\" title=\"10 73\">..</td><td class=\"xc0\" title=\"11 73\">..</td><td class=\"xc0\" title=\"12 73\">..</td><td class=\"\" title=\"13 73\"></td><td class=\"xc0 xn\" title=\"14 73\">77.755</td><td class=\"xc0\" title=\"15 73\">..</td><td class=\"xc0\" title=\"16 73\">..</td><td class=\"xc0\" title=\"17 73\">..</td></tr>\n",
       "<tr><td class=\"\" title=\"0 74\"></td><td class=\"xb\" title=\"1 74\">Total Royalties and Licenses</td><td class=\"\" title=\"2 74\"></td><td class=\"\" title=\"3 74\"></td><td class=\"xc0 xb xn\" title=\"4 74\">365.68</td><td class=\"xc0 xb xn\" title=\"5 74\">251.899</td><td class=\"xc0 xb xn\" title=\"6 74\">207.92399999999998</td><td class=\"xc0 xb xn\" title=\"7 74\">435.804</td><td class=\"\" title=\"8 74\"></td><td class=\"xc0 xb xn\" title=\"9 74\">205.19600000000003</td><td class=\"xc0 xb xn\" title=\"10 74\">227.92399999999998</td><td class=\"xc0 xb xn\" title=\"11 74\">121.835</td><td class=\"xc0 xb xn\" title=\"12 74\">288.318</td><td class=\"xb\" title=\"13 74\"></td><td class=\"xc0 xb xn\" title=\"14 74\">160.48399999999998</td><td class=\"xc0 xb xn\" title=\"15 74\">23.975</td><td class=\"xc0 xb xn\" title=\"16 74\">86.089</td><td class=\"xc0 xb xn\" title=\"17 74\">147.486</td></tr>\n",
       "<tr><td class=\"\" title=\"0 75\"></td><td class=\"\" title=\"1 75\"></td><td class=\"\" title=\"2 75\"></td><td class=\"\" title=\"3 75\"></td><td class=\"\" title=\"4 75\"></td><td class=\"\" title=\"5 75\"></td><td class=\"\" title=\"6 75\"></td><td class=\"\" title=\"7 75\"></td><td class=\"\" title=\"8 75\"></td><td class=\"\" title=\"9 75\"></td><td class=\"\" title=\"10 75\"></td><td class=\"\" title=\"11 75\"></td><td class=\"\" title=\"12 75\"></td><td class=\"\" title=\"13 75\"></td><td class=\"\" title=\"14 75\"></td><td class=\"\" title=\"15 75\"></td><td class=\"\" title=\"16 75\"></td><td class=\"\" title=\"17 75\"></td></tr>\n",
       "<tr><td class=\"\" title=\"0 76\"></td><td class=\"\" title=\"1 76\"></td><td class=\"\" title=\"2 76\"></td><td class=\"\" title=\"3 76\"></td><td class=\"\" title=\"4 76\"></td><td class=\"\" title=\"5 76\"></td><td class=\"\" title=\"6 76\"></td><td class=\"\" title=\"7 76\"></td><td class=\"\" title=\"8 76\"></td><td class=\"\" title=\"9 76\"></td><td class=\"\" title=\"10 76\"></td><td class=\"\" title=\"11 76\"></td><td class=\"\" title=\"12 76\"></td><td class=\"\" title=\"13 76\"></td><td class=\"\" title=\"14 76\"></td><td class=\"\" title=\"15 76\"></td><td class=\"\" title=\"16 76\"></td><td class=\"\" title=\"17 76\"></td></tr>\n",
       "<tr><td class=\"xc2 xb\" title=\"0 77\">Technical services</td><td class=\"\" title=\"1 77\"></td><td class=\"\" title=\"2 77\"></td><td class=\"\" title=\"3 77\"></td><td class=\"\" title=\"4 77\"></td><td class=\"\" title=\"5 77\"></td><td class=\"xb\" title=\"6 77\"></td><td class=\"\" title=\"7 77\"></td><td class=\"\" title=\"8 77\"></td><td class=\"xb\" title=\"9 77\"></td><td class=\"xb\" title=\"10 77\"></td><td class=\"xb\" title=\"11 77\"></td><td class=\"\" title=\"12 77\"></td><td class=\"xb\" title=\"13 77\"></td><td class=\"xb\" title=\"14 77\"></td><td class=\"xb\" title=\"15 77\"></td><td class=\"xb\" title=\"16 77\"></td><td class=\"\" title=\"17 77\"></td></tr>\n",
       "<tr><td class=\"xb\" title=\"0 78\"></td><td class=\"\" title=\"1 78\"></td><td class=\"xc3\" title=\"2 78\">Architectural</td><td class=\"\" title=\"3 78\"></td><td class=\"xc0 xn\" title=\"4 78\">2.791</td><td class=\"xc0\" title=\"5 78\">..</td><td class=\"xc0\" title=\"6 78\">..</td><td class=\"xc0\" title=\"7 78\">..</td><td class=\"\" title=\"8 78\"></td><td class=\"xc0 xn\" title=\"9 78\">0.685</td><td class=\"xc0\" title=\"10 78\">..</td><td class=\"xc0\" title=\"11 78\">..</td><td class=\"xc0\" title=\"12 78\">..</td><td class=\"\" title=\"13 78\"></td><td class=\"xc0 xn\" title=\"14 78\">2.106</td><td class=\"xc0\" title=\"15 78\">..</td><td class=\"xc0\" title=\"16 78\">..</td><td class=\"xc0 xn\" title=\"17 78\">6.058</td></tr>\n",
       "<tr><td class=\"xb\" title=\"0 79\"></td><td class=\"\" title=\"1 79\"></td><td class=\"xc3\" title=\"2 79\">Engineering</td><td class=\"\" title=\"3 79\"></td><td class=\"xc0 xn\" title=\"4 79\">67.325</td><td class=\"xc0 xn\" title=\"5 79\">59.945</td><td class=\"xc0 xn\" title=\"6 79\">23.273</td><td class=\"xc0 xn\" title=\"7 79\">185.624</td><td class=\"\" title=\"8 79\"></td><td class=\"xc0 xn\" title=\"9 79\">8.761</td><td class=\"xc0 xn\" title=\"10 79\">3.131</td><td class=\"xc0 xn\" title=\"11 79\">2.697</td><td class=\"xc0 xn\" title=\"12 79\">78.421</td><td class=\"\" title=\"13 79\"></td><td class=\"xc0 xn\" title=\"14 79\">58.56400000000001</td><td class=\"xc0 xn\" title=\"15 79\">56.814</td><td class=\"xc0 xn\" title=\"16 79\">20.576</td><td class=\"xc0 xn\" title=\"17 79\">107.20299999999999</td></tr>\n",
       "<tr><td class=\"\" title=\"0 80\"></td><td class=\"\" title=\"1 80\"></td><td class=\"xc3\" title=\"2 80\">Surveying</td><td class=\"\" title=\"3 80\"></td><td class=\"xc0 xn\" title=\"4 80\">1.769</td><td class=\"xc0 xn\" title=\"5 80\">33.958</td><td class=\"xc0\" title=\"6 80\">..</td><td class=\"xc0\" title=\"7 80\">..</td><td class=\"\" title=\"8 80\"></td><td class=\"xc0\" title=\"9 80\">-</td><td class=\"xc0 xn\" title=\"10 80\">2.913</td><td class=\"xc0\" title=\"11 80\">..</td><td class=\"xc0\" title=\"12 80\">..</td><td class=\"\" title=\"13 80\"></td><td class=\"xc0 xn\" title=\"14 80\">1.5619999999999998</td><td class=\"xc0 xn\" title=\"15 80\">31.045</td><td class=\"xc0\" title=\"16 80\">..</td><td class=\"xc0 xn\" title=\"17 80\">2.64</td></tr>\n",
       "<tr><td class=\"\" title=\"0 81\"></td><td class=\"\" title=\"1 81\"></td><td class=\"xc3\" title=\"2 81\">Other techincal services</td><td class=\"\" title=\"3 81\"></td><td class=\"xc0 xn\" title=\"4 81\">190.311</td><td class=\"xc0\" title=\"5 81\">..</td><td class=\"xc0\" title=\"6 81\">..</td><td class=\"xc0 xn\" title=\"7 81\">133.129</td><td class=\"\" title=\"8 81\"></td><td class=\"xc0 xn\" title=\"9 81\">21.096</td><td class=\"xc0\" title=\"10 81\">..</td><td class=\"xc0\" title=\"11 81\">..</td><td class=\"xc0 xn\" title=\"12 81\">7.503</td><td class=\"\" title=\"13 81\"></td><td class=\"xc0 xn\" title=\"14 81\">169.215</td><td class=\"xc0\" title=\"15 81\">..</td><td class=\"xc0\" title=\"16 81\">..</td><td class=\"xc0 xn\" title=\"17 81\">125.62599999999999</td></tr>\n",
       "<tr><td class=\"\" title=\"0 82\"></td><td class=\"\" title=\"1 82\">Total Technical Services</td><td class=\"\" title=\"2 82\"></td><td class=\"\" title=\"3 82\"></td><td class=\"xc0 xb xn\" title=\"4 82\">262.196</td><td class=\"xc0 xb xn\" title=\"5 82\">488.624</td><td class=\"xc0 xb xn\" title=\"6 82\">192.519</td><td class=\"xc0 xb xn\" title=\"7 82\">328.97</td><td class=\"\" title=\"8 82\"></td><td class=\"xc0 xb xn\" title=\"9 82\">30.749000000000002</td><td class=\"xc0 xb xn\" title=\"10 82\">78.117</td><td class=\"xc0 xb xn\" title=\"11 82\">25.408</td><td class=\"xc0 xb xn\" title=\"12 82\">87.44300000000001</td><td class=\"xb\" title=\"13 82\"></td><td class=\"xc0 xb xn\" title=\"14 82\">231.447</td><td class=\"xc0 xb xn\" title=\"15 82\">410.507</td><td class=\"xc0 xb xn\" title=\"16 82\">167.111</td><td class=\"xc0 xb xn\" title=\"17 82\">241.527</td></tr>\n",
       "<tr><td class=\"\" title=\"0 83\"></td><td class=\"\" title=\"1 83\"></td><td class=\"\" title=\"2 83\"></td><td class=\"\" title=\"3 83\"></td><td class=\"\" title=\"4 83\"></td><td class=\"\" title=\"5 83\"></td><td class=\"\" title=\"6 83\"></td><td class=\"\" title=\"7 83\"></td><td class=\"\" title=\"8 83\"></td><td class=\"\" title=\"9 83\"></td><td class=\"xb\" title=\"10 83\"></td><td class=\"\" title=\"11 83\"></td><td class=\"\" title=\"12 83\"></td><td class=\"\" title=\"13 83\"></td><td class=\"\" title=\"14 83\"></td><td class=\"\" title=\"15 83\"></td><td class=\"\" title=\"16 83\"></td><td class=\"\" title=\"17 83\"></td></tr>\n",
       "<tr><td class=\"xc2 xb\" title=\"0 84\">Other Trade  in Services</td><td class=\"\" title=\"1 84\"></td><td class=\"\" title=\"2 84\"></td><td class=\"\" title=\"3 84\"></td><td class=\"\" title=\"4 84\"></td><td class=\"\" title=\"5 84\"></td><td class=\"\" title=\"6 84\"></td><td class=\"\" title=\"7 84\"></td><td class=\"\" title=\"8 84\"></td><td class=\"\" title=\"9 84\"></td><td class=\"\" title=\"10 84\"></td><td class=\"\" title=\"11 84\"></td><td class=\"\" title=\"12 84\"></td><td class=\"\" title=\"13 84\"></td><td class=\"\" title=\"14 84\"></td><td class=\"\" title=\"15 84\"></td><td class=\"\" title=\"16 84\"></td><td class=\"\" title=\"17 84\"></td></tr>\n",
       "<tr><td class=\"xb\" title=\"0 85\"></td><td class=\"\" title=\"1 85\"></td><td class=\"xc3\" title=\"2 85\">Other trade in services</td><td class=\"\" title=\"3 85\"></td><td class=\"xc0 xn\" title=\"4 85\">191.478</td><td class=\"xc0 xn\" title=\"5 85\">105.342</td><td class=\"xc0 xn\" title=\"6 85\">70.327</td><td class=\"xc0 xn\" title=\"7 85\">110.018</td><td class=\"\" title=\"8 85\"></td><td class=\"xc0 xn\" title=\"9 85\">121.231</td><td class=\"xc0 xn\" title=\"10 85\">44.554</td><td class=\"xc0 xn\" title=\"11 85\">20.724</td><td class=\"xc0 xn\" title=\"12 85\">35.667</td><td class=\"\" title=\"13 85\"></td><td class=\"xc0 xn\" title=\"14 85\">70.24700000000001</td><td class=\"xc0 xn\" title=\"15 85\">60.788</td><td class=\"xc0 xn\" title=\"16 85\">49.602999999999994</td><td class=\"xc0 xn\" title=\"17 85\">74.351</td></tr>\n",
       "<tr><td class=\"xb\" title=\"0 86\"></td><td class=\"\" title=\"1 86\"></td><td class=\"\" title=\"2 86\"></td><td class=\"\" title=\"3 86\"></td><td class=\"\" title=\"4 86\"></td><td class=\"\" title=\"5 86\"></td><td class=\"xb\" title=\"6 86\"></td><td class=\"xb\" title=\"7 86\"></td><td class=\"\" title=\"8 86\"></td><td class=\"xb\" title=\"9 86\"></td><td class=\"xb\" title=\"10 86\"></td><td class=\"xb\" title=\"11 86\"></td><td class=\"xb\" title=\"12 86\"></td><td class=\"xb\" title=\"13 86\"></td><td class=\"xb\" title=\"14 86\"></td><td class=\"xb\" title=\"15 86\"></td><td class=\"xb\" title=\"16 86\"></td><td class=\"xb\" title=\"17 86\"></td></tr>\n",
       "<tr><td class=\"xb\" title=\"0 87\"></td><td class=\"\" title=\"1 87\"></td><td class=\"\" title=\"2 87\"></td><td class=\"\" title=\"3 87\"></td><td class=\"\" title=\"4 87\"></td><td class=\"\" title=\"5 87\"></td><td class=\"xb\" title=\"6 87\"></td><td class=\"xb\" title=\"7 87\"></td><td class=\"\" title=\"8 87\"></td><td class=\"xb\" title=\"9 87\"></td><td class=\"\" title=\"10 87\"></td><td class=\"xb\" title=\"11 87\"></td><td class=\"xb\" title=\"12 87\"></td><td class=\"\" title=\"13 87\"></td><td class=\"xb\" title=\"14 87\"></td><td class=\"xb\" title=\"15 87\"></td><td class=\"xb\" title=\"16 87\"></td><td class=\"xb\" title=\"17 87\"></td></tr>\n",
       "<tr><td class=\"xc2 xb\" title=\"0 88\">Total International Trade in Services</td><td class=\"\" title=\"1 88\"></td><td class=\"\" title=\"2 88\"></td><td class=\"\" title=\"3 88\"></td><td class=\"xc0 xb xn\" title=\"4 88\">3409.264</td><td class=\"xc0 xb xn\" title=\"5 88\">4147.306</td><td class=\"xc0 xb xn\" title=\"6 88\">3716.828</td><td class=\"xc0 xb xn\" title=\"7 88\">5928.218</td><td class=\"\" title=\"8 88\"></td><td class=\"xc0 xb xn\" title=\"9 88\">1547.14</td><td class=\"xc0 xb xn\" title=\"10 88\">1553.9759999999997</td><td class=\"xc0 xb xn\" title=\"11 88\">1358.728</td><td class=\"xc0 xb xn\" title=\"12 88\">2120.361</td><td class=\"xb\" title=\"13 88\"></td><td class=\"xc0 xb xn\" title=\"14 88\">1862.124</td><td class=\"xc0 xb xn\" title=\"15 88\">2593.33</td><td class=\"xc0 xb xn\" title=\"16 88\">2358.1000000000004</td><td class=\"xc0 xb xn\" title=\"17 88\">3807.857</td></tr>\n",
       "<tr><td class=\"xb\" title=\"0 89\"></td><td class=\"\" title=\"1 89\"></td><td class=\"\" title=\"2 89\"></td><td class=\"\" title=\"3 89\"></td><td class=\"\" title=\"4 89\"></td><td class=\"\" title=\"5 89\"></td><td class=\"xb\" title=\"6 89\"></td><td class=\"xb\" title=\"7 89\"></td><td class=\"\" title=\"8 89\"></td><td class=\"\" title=\"9 89\"></td><td class=\"xb\" title=\"10 89\"></td><td class=\"xb\" title=\"11 89\"></td><td class=\"xb\" title=\"12 89\"></td><td class=\"xb\" title=\"13 89\"></td><td class=\"xb\" title=\"14 89\"></td><td class=\"xb\" title=\"15 89\"></td><td class=\"xb\" title=\"16 89\"></td><td class=\"\" title=\"17 89\"></td></tr>\n",
       "<tr><td class=\"\" title=\"0 90\"></td><td class=\"\" title=\"1 90\"></td><td class=\"xb\" title=\"2 90\"></td><td class=\"\" title=\"3 90\"></td><td class=\"\" title=\"4 90\"></td><td class=\"\" title=\"5 90\"></td><td class=\"\" title=\"6 90\"></td><td class=\"\" title=\"7 90\"></td><td class=\"\" title=\"8 90\"></td><td class=\"\" title=\"9 90\"></td><td class=\"\" title=\"10 90\"></td><td class=\"xb\" title=\"11 90\"></td><td class=\"xc0\" title=\"12 90\">Source: Office for National Statistics</td><td class=\"\" title=\"13 90\"></td><td class=\"\" title=\"14 90\"></td><td class=\"\" title=\"15 90\"></td><td class=\"\" title=\"16 90\"></td><td class=\"\" title=\"17 90\"></td></tr>\n",
       "<tr><td class=\"xc2\" title=\"0 91\">-   Denotes nil or less than £500,000</td><td class=\"\" title=\"1 91\"></td><td class=\"\" title=\"2 91\"></td><td class=\"\" title=\"3 91\"></td><td class=\"\" title=\"4 91\"></td><td class=\"\" title=\"5 91\"></td><td class=\"\" title=\"6 91\"></td><td class=\"\" title=\"7 91\"></td><td class=\"\" title=\"8 91\"></td><td class=\"\" title=\"9 91\"></td><td class=\"\" title=\"10 91\"></td><td class=\"\" title=\"11 91\"></td><td class=\"\" title=\"12 91\"></td><td class=\"\" title=\"13 91\"></td><td class=\"\" title=\"14 91\"></td><td class=\"\" title=\"15 91\"></td><td class=\"\" title=\"16 91\"></td><td class=\"\" title=\"17 91\"></td></tr>\n",
       "<tr><td class=\"xc2\" title=\"0 92\">..  Denotes disclosive data</td><td class=\"\" title=\"1 92\"></td><td class=\"\" title=\"2 92\"></td><td class=\"\" title=\"3 92\"></td><td class=\"\" title=\"4 92\"></td><td class=\"\" title=\"5 92\"></td><td class=\"\" title=\"6 92\"></td><td class=\"\" title=\"7 92\"></td><td class=\"\" title=\"8 92\"></td><td class=\"\" title=\"9 92\"></td><td class=\"\" title=\"10 92\"></td><td class=\"\" title=\"11 92\"></td><td class=\"\" title=\"12 92\"></td><td class=\"\" title=\"13 92\"></td><td class=\"\" title=\"14 92\"></td><td class=\"\" title=\"15 92\"></td><td class=\"\" title=\"16 92\"></td><td class=\"\" title=\"17 92\"></td></tr>\n",
       "<tr><td class=\"\" title=\"0 93\"></td><td class=\"\" title=\"1 93\"></td><td class=\"\" title=\"2 93\"></td><td class=\"\" title=\"3 93\"></td><td class=\"\" title=\"4 93\"></td><td class=\"\" title=\"5 93\"></td><td class=\"\" title=\"6 93\"></td><td class=\"\" title=\"7 93\"></td><td class=\"\" title=\"8 93\"></td><td class=\"\" title=\"9 93\"></td><td class=\"\" title=\"10 93\"></td><td class=\"\" title=\"11 93\"></td><td class=\"\" title=\"12 93\"></td><td class=\"\" title=\"13 93\"></td><td class=\"\" title=\"14 93\"></td><td class=\"\" title=\"15 93\"></td><td class=\"\" title=\"16 93\"></td><td class=\"\" title=\"17 93\"></td></tr>\n",
       "<tr><td class=\"xb\" title=\"0 94\"></td><td class=\"xb\" title=\"1 94\"></td><td class=\"\" title=\"2 94\"></td><td class=\"\" title=\"3 94\"></td><td class=\"\" title=\"4 94\"></td><td class=\"\" title=\"5 94\"></td><td class=\"\" title=\"6 94\"></td><td class=\"\" title=\"7 94\"></td><td class=\"\" title=\"8 94\"></td><td class=\"\" title=\"9 94\"></td><td class=\"\" title=\"10 94\"></td><td class=\"\" title=\"11 94\"></td><td class=\"\" title=\"12 94\"></td><td class=\"\" title=\"13 94\"></td><td class=\"\" title=\"14 94\"></td><td class=\"\" title=\"15 94\"></td><td class=\"\" title=\"16 94\"></td><td class=\"\" title=\"17 94\"></td></tr>\n",
       "<tr><td class=\"\" title=\"0 95\"></td><td class=\"\" title=\"1 95\"></td><td class=\"\" title=\"2 95\"></td><td class=\"\" title=\"3 95\"></td><td class=\"\" title=\"4 95\"></td><td class=\"\" title=\"5 95\"></td><td class=\"\" title=\"6 95\"></td><td class=\"\" title=\"7 95\"></td><td class=\"\" title=\"8 95\"></td><td class=\"\" title=\"9 95\"></td><td class=\"\" title=\"10 95\"></td><td class=\"\" title=\"11 95\"></td><td class=\"\" title=\"12 95\"></td><td class=\"\" title=\"13 95\"></td><td class=\"\" title=\"14 95\"></td><td class=\"\" title=\"15 95\"></td><td class=\"\" title=\"16 95\"></td><td class=\"\" title=\"17 95\"></td></tr>\n",
       "<tr><td class=\"xb\" title=\"0 96\"></td><td class=\"xb\" title=\"1 96\"></td><td class=\"xb\" title=\"2 96\"></td><td class=\"\" title=\"3 96\"></td><td class=\"\" title=\"4 96\"></td><td class=\"\" title=\"5 96\"></td><td class=\"\" title=\"6 96\"></td><td class=\"\" title=\"7 96\"></td><td class=\"\" title=\"8 96\"></td><td class=\"\" title=\"9 96\"></td><td class=\"xb\" title=\"10 96\"></td><td class=\"\" title=\"11 96\"></td><td class=\"\" title=\"12 96\"></td><td class=\"xb\" title=\"13 96\"></td><td class=\"xb\" title=\"14 96\"></td><td class=\"\" title=\"15 96\"></td><td class=\"\" title=\"16 96\"></td><td class=\"\" title=\"17 96\"></td></tr>\n",
       "<tr><td class=\"xb\" title=\"0 97\"></td><td class=\"xb\" title=\"1 97\"></td><td class=\"\" title=\"2 97\"></td><td class=\"\" title=\"3 97\"></td><td class=\"\" title=\"4 97\"></td><td class=\"\" title=\"5 97\"></td><td class=\"\" title=\"6 97\"></td><td class=\"\" title=\"7 97\"></td><td class=\"\" title=\"8 97\"></td><td class=\"\" title=\"9 97\"></td><td class=\"\" title=\"10 97\"></td><td class=\"\" title=\"11 97\"></td><td class=\"\" title=\"12 97\"></td><td class=\"\" title=\"13 97\"></td><td class=\"\" title=\"14 97\"></td><td class=\"\" title=\"15 97\"></td><td class=\"\" title=\"16 97\"></td><td class=\"\" title=\"17 97\"></td></tr>\n",
       "<tr><td class=\"xb\" title=\"0 98\"></td><td class=\"xb\" title=\"1 98\"></td><td class=\"\" title=\"2 98\"></td><td class=\"\" title=\"3 98\"></td><td class=\"\" title=\"4 98\"></td><td class=\"\" title=\"5 98\"></td><td class=\"\" title=\"6 98\"></td><td class=\"\" title=\"7 98\"></td><td class=\"\" title=\"8 98\"></td><td class=\"\" title=\"9 98\"></td><td class=\"\" title=\"10 98\"></td><td class=\"\" title=\"11 98\"></td><td class=\"\" title=\"12 98\"></td><td class=\"\" title=\"13 98\"></td><td class=\"\" title=\"14 98\"></td><td class=\"\" title=\"15 98\"></td><td class=\"\" title=\"16 98\"></td><td class=\"\" title=\"17 98\"></td></tr>\n",
       "<tr><td class=\"xb\" title=\"0 99\"></td><td class=\"xb\" title=\"1 99\"></td><td class=\"\" title=\"2 99\"></td><td class=\"\" title=\"3 99\"></td><td class=\"\" title=\"4 99\"></td><td class=\"\" title=\"5 99\"></td><td class=\"\" title=\"6 99\"></td><td class=\"\" title=\"7 99\"></td><td class=\"\" title=\"8 99\"></td><td class=\"\" title=\"9 99\"></td><td class=\"\" title=\"10 99\"></td><td class=\"\" title=\"11 99\"></td><td class=\"\" title=\"12 99\"></td><td class=\"\" title=\"13 99\"></td><td class=\"\" title=\"14 99\"></td><td class=\"\" title=\"15 99\"></td><td class=\"\" title=\"16 99\"></td><td class=\"\" title=\"17 99\"></td></tr>\n",
       "<tr><td class=\"xb\" title=\"0 100\"></td><td class=\"xb\" title=\"1 100\"></td><td class=\"\" title=\"2 100\"></td><td class=\"\" title=\"3 100\"></td><td class=\"\" title=\"4 100\"></td><td class=\"\" title=\"5 100\"></td><td class=\"\" title=\"6 100\"></td><td class=\"\" title=\"7 100\"></td><td class=\"\" title=\"8 100\"></td><td class=\"\" title=\"9 100\"></td><td class=\"\" title=\"10 100\"></td><td class=\"\" title=\"11 100\"></td><td class=\"\" title=\"12 100\"></td><td class=\"\" title=\"13 100\"></td><td class=\"\" title=\"14 100\"></td><td class=\"\" title=\"15 100\"></td><td class=\"\" title=\"16 100\"></td><td class=\"\" title=\"17 100\"></td></tr>\n",
       "<tr><td class=\"xb\" title=\"0 101\"></td><td class=\"xb\" title=\"1 101\"></td><td class=\"\" title=\"2 101\"></td><td class=\"\" title=\"3 101\"></td><td class=\"\" title=\"4 101\"></td><td class=\"\" title=\"5 101\"></td><td class=\"\" title=\"6 101\"></td><td class=\"\" title=\"7 101\"></td><td class=\"\" title=\"8 101\"></td><td class=\"\" title=\"9 101\"></td><td class=\"\" title=\"10 101\"></td><td class=\"\" title=\"11 101\"></td><td class=\"\" title=\"12 101\"></td><td class=\"\" title=\"13 101\"></td><td class=\"\" title=\"14 101\"></td><td class=\"\" title=\"15 101\"></td><td class=\"\" title=\"16 101\"></td><td class=\"\" title=\"17 101\"></td></tr>\n",
       "<tr><td class=\"xb\" title=\"0 102\"></td><td class=\"xb\" title=\"1 102\"></td><td class=\"\" title=\"2 102\"></td><td class=\"\" title=\"3 102\"></td><td class=\"\" title=\"4 102\"></td><td class=\"\" title=\"5 102\"></td><td class=\"\" title=\"6 102\"></td><td class=\"\" title=\"7 102\"></td><td class=\"\" title=\"8 102\"></td><td class=\"\" title=\"9 102\"></td><td class=\"\" title=\"10 102\"></td><td class=\"\" title=\"11 102\"></td><td class=\"\" title=\"12 102\"></td><td class=\"\" title=\"13 102\"></td><td class=\"\" title=\"14 102\"></td><td class=\"\" title=\"15 102\"></td><td class=\"\" title=\"16 102\"></td><td class=\"\" title=\"17 102\"></td></tr>\n",
       "<tr><td class=\"xb\" title=\"0 103\"></td><td class=\"xb\" title=\"1 103\"></td><td class=\"\" title=\"2 103\"></td><td class=\"\" title=\"3 103\"></td><td class=\"\" title=\"4 103\"></td><td class=\"\" title=\"5 103\"></td><td class=\"\" title=\"6 103\"></td><td class=\"\" title=\"7 103\"></td><td class=\"\" title=\"8 103\"></td><td class=\"\" title=\"9 103\"></td><td class=\"\" title=\"10 103\"></td><td class=\"\" title=\"11 103\"></td><td class=\"\" title=\"12 103\"></td><td class=\"\" title=\"13 103\"></td><td class=\"\" title=\"14 103\"></td><td class=\"\" title=\"15 103\"></td><td class=\"\" title=\"16 103\"></td><td class=\"\" title=\"17 103\"></td></tr>\n",
       "<tr><td class=\"\" title=\"0 104\"></td><td class=\"\" title=\"1 104\"></td><td class=\"\" title=\"2 104\"></td><td class=\"\" title=\"3 104\"></td><td class=\"\" title=\"4 104\"></td><td class=\"\" title=\"5 104\"></td><td class=\"\" title=\"6 104\"></td><td class=\"\" title=\"7 104\"></td><td class=\"\" title=\"8 104\"></td><td class=\"\" title=\"9 104\"></td><td class=\"\" title=\"10 104\"></td><td class=\"\" title=\"11 104\"></td><td class=\"\" title=\"12 104\"></td><td class=\"\" title=\"13 104\"></td><td class=\"\" title=\"14 104\"></td><td class=\"\" title=\"15 104\"></td><td class=\"\" title=\"16 104\"></td><td class=\"\" title=\"17 104\"></td></tr>\n",
       "<tr><td class=\"xb\" title=\"0 105\"></td><td class=\"xb\" title=\"1 105\"></td><td class=\"xb\" title=\"2 105\"></td><td class=\"\" title=\"3 105\"></td><td class=\"\" title=\"4 105\"></td><td class=\"\" title=\"5 105\"></td><td class=\"\" title=\"6 105\"></td><td class=\"\" title=\"7 105\"></td><td class=\"\" title=\"8 105\"></td><td class=\"\" title=\"9 105\"></td><td class=\"xb\" title=\"10 105\"></td><td class=\"\" title=\"11 105\"></td><td class=\"\" title=\"12 105\"></td><td class=\"xb\" title=\"13 105\"></td><td class=\"xb\" title=\"14 105\"></td><td class=\"\" title=\"15 105\"></td><td class=\"\" title=\"16 105\"></td><td class=\"xb\" title=\"17 105\"></td></tr>\n",
       "<tr><td class=\"xb\" title=\"0 106\"></td><td class=\"xb\" title=\"1 106\"></td><td class=\"xb\" title=\"2 106\"></td><td class=\"\" title=\"3 106\"></td><td class=\"\" title=\"4 106\"></td><td class=\"\" title=\"5 106\"></td><td class=\"\" title=\"6 106\"></td><td class=\"\" title=\"7 106\"></td><td class=\"\" title=\"8 106\"></td><td class=\"\" title=\"9 106\"></td><td class=\"xb\" title=\"10 106\"></td><td class=\"\" title=\"11 106\"></td><td class=\"\" title=\"12 106\"></td><td class=\"xb\" title=\"13 106\"></td><td class=\"xb\" title=\"14 106\"></td><td class=\"\" title=\"15 106\"></td><td class=\"\" title=\"16 106\"></td><td class=\"\" title=\"17 106\"></td></tr>\n",
       "<tr><td class=\"xb\" title=\"0 107\"></td><td class=\"xb\" title=\"1 107\"></td><td class=\"xb\" title=\"2 107\"></td><td class=\"\" title=\"3 107\"></td><td class=\"\" title=\"4 107\"></td><td class=\"\" title=\"5 107\"></td><td class=\"\" title=\"6 107\"></td><td class=\"\" title=\"7 107\"></td><td class=\"\" title=\"8 107\"></td><td class=\"\" title=\"9 107\"></td><td class=\"xb\" title=\"10 107\"></td><td class=\"\" title=\"11 107\"></td><td class=\"\" title=\"12 107\"></td><td class=\"xb\" title=\"13 107\"></td><td class=\"xb\" title=\"14 107\"></td><td class=\"\" title=\"15 107\"></td><td class=\"\" title=\"16 107\"></td><td class=\"\" title=\"17 107\"></td></tr>\n",
       "<tr><td class=\"\" title=\"0 108\"></td><td class=\"\" title=\"1 108\"></td><td class=\"\" title=\"2 108\"></td><td class=\"\" title=\"3 108\"></td><td class=\"\" title=\"4 108\"></td><td class=\"\" title=\"5 108\"></td><td class=\"\" title=\"6 108\"></td><td class=\"\" title=\"7 108\"></td><td class=\"\" title=\"8 108\"></td><td class=\"\" title=\"9 108\"></td><td class=\"xb\" title=\"10 108\"></td><td class=\"\" title=\"11 108\"></td><td class=\"\" title=\"12 108\"></td><td class=\"xb\" title=\"13 108\"></td><td class=\"xb\" title=\"14 108\"></td><td class=\"\" title=\"15 108\"></td><td class=\"\" title=\"16 108\"></td><td class=\"\" title=\"17 108\"></td></tr>\n",
       "<tr><td class=\"xb\" title=\"0 109\"></td><td class=\"xb\" title=\"1 109\"></td><td class=\"xb\" title=\"2 109\"></td><td class=\"\" title=\"3 109\"></td><td class=\"\" title=\"4 109\"></td><td class=\"\" title=\"5 109\"></td><td class=\"\" title=\"6 109\"></td><td class=\"\" title=\"7 109\"></td><td class=\"\" title=\"8 109\"></td><td class=\"\" title=\"9 109\"></td><td class=\"xb\" title=\"10 109\"></td><td class=\"\" title=\"11 109\"></td><td class=\"\" title=\"12 109\"></td><td class=\"xb\" title=\"13 109\"></td><td class=\"xb\" title=\"14 109\"></td><td class=\"\" title=\"15 109\"></td><td class=\"\" title=\"16 109\"></td><td class=\"\" title=\"17 109\"></td></tr>\n",
       "<tr><td class=\"\" title=\"0 110\"></td><td class=\"\" title=\"1 110\"></td><td class=\"\" title=\"2 110\"></td><td class=\"\" title=\"3 110\"></td><td class=\"\" title=\"4 110\"></td><td class=\"\" title=\"5 110\"></td><td class=\"\" title=\"6 110\"></td><td class=\"\" title=\"7 110\"></td><td class=\"\" title=\"8 110\"></td><td class=\"\" title=\"9 110\"></td><td class=\"\" title=\"10 110\"></td><td class=\"\" title=\"11 110\"></td><td class=\"\" title=\"12 110\"></td><td class=\"\" title=\"13 110\"></td><td class=\"\" title=\"14 110\"></td><td class=\"\" title=\"15 110\"></td><td class=\"\" title=\"16 110\"></td><td class=\"\" title=\"17 110\"></td></tr>\n",
       "<tr><td class=\"\" title=\"0 111\"></td><td class=\"\" title=\"1 111\"></td><td class=\"\" title=\"2 111\"></td><td class=\"\" title=\"3 111\"></td><td class=\"\" title=\"4 111\"></td><td class=\"\" title=\"5 111\"></td><td class=\"\" title=\"6 111\"></td><td class=\"\" title=\"7 111\"></td><td class=\"\" title=\"8 111\"></td><td class=\"\" title=\"9 111\"></td><td class=\"\" title=\"10 111\"></td><td class=\"\" title=\"11 111\"></td><td class=\"\" title=\"12 111\"></td><td class=\"\" title=\"13 111\"></td><td class=\"\" title=\"14 111\"></td><td class=\"\" title=\"15 111\"></td><td class=\"\" title=\"16 111\"></td><td class=\"\" title=\"17 111\"></td></tr>\n",
       "<tr><td class=\"\" title=\"0 112\"></td><td class=\"\" title=\"1 112\"></td><td class=\"\" title=\"2 112\"></td><td class=\"\" title=\"3 112\"></td><td class=\"\" title=\"4 112\"></td><td class=\"\" title=\"5 112\"></td><td class=\"\" title=\"6 112\"></td><td class=\"\" title=\"7 112\"></td><td class=\"\" title=\"8 112\"></td><td class=\"\" title=\"9 112\"></td><td class=\"\" title=\"10 112\"></td><td class=\"\" title=\"11 112\"></td><td class=\"\" title=\"12 112\"></td><td class=\"\" title=\"13 112\"></td><td class=\"\" title=\"14 112\"></td><td class=\"\" title=\"15 112\"></td><td class=\"\" title=\"16 112\"></td><td class=\"\" title=\"17 112\"></td></tr>\n",
       "<tr><td class=\"\" title=\"0 113\"></td><td class=\"\" title=\"1 113\"></td><td class=\"\" title=\"2 113\"></td><td class=\"\" title=\"3 113\"></td><td class=\"\" title=\"4 113\"></td><td class=\"\" title=\"5 113\"></td><td class=\"\" title=\"6 113\"></td><td class=\"\" title=\"7 113\"></td><td class=\"\" title=\"8 113\"></td><td class=\"\" title=\"9 113\"></td><td class=\"\" title=\"10 113\"></td><td class=\"\" title=\"11 113\"></td><td class=\"\" title=\"12 113\"></td><td class=\"\" title=\"13 113\"></td><td class=\"\" title=\"14 113\"></td><td class=\"\" title=\"15 113\"></td><td class=\"\" title=\"16 113\"></td><td class=\"\" title=\"17 113\"></td></tr>\n",
       "</table>\n",
       "\n",
       "</div>\n",
       "\n",
       "<script>\n",
       "var jslookup = {\"9 8\":[9,3,0,4,2,8,9,2],\"11 33\":[11,3,0,30,2,33,9,2],\"4 36\":[4,3,0,30,2,36,4,2],\"14 22\":[14,3,0,12,2,22,14,2],\"11 19\":[11,3,0,12,2,19,9,2],\"11 8\":[11,3,0,4,2,8,9,2],\"7 33\":[7,3,0,30,2,33,4,2],\"10 82\":[10,3,0,77,9,2],\"14 85\":[14,3,0,84,2,85,14,2],\"7 47\":[7,3,0,46,2,47,4,2],\"15 18\":[15,3,0,12,2,18,14,2],\"15 23\":[15,3,0,12,2,23,14,2],\"6 63\":[6,3,0,61,2,63,4,2],\"7 36\":[7,3,0,30,2,36,4,2],\"9 71\":[9,3,0,69,2,71,9,2],\"7 13\":[7,3,0,12,2,13,4,2],\"10 36\":[10,3,0,30,2,36,9,2],\"17 62\":[17,3,0,61,2,62,14,2],\"12 9\":[12,3,0,4,9,2],\"17 19\":[17,3,0,12,2,19,14,2],\"14 79\":[14,3,0,77,2,79,14,2],\"10 37\":[10,3,0,30,9,2],\"9 21\":[9,3,0,12,2,21,9,2],\"11 71\":[11,3,0,69,2,71,9,2],\"5 43\":[5,3,0,40,4,2],\"11 20\":[11,3,0,12,2,20,9,2],\"6 71\":[6,3,0,69,2,71,4,2],\"15 56\":[15,3,0,55,2,56,14,2],\"5 64\":[5,3,0,61,2,64,4,2],\"17 78\":[17,3,0,77,2,78,14,2],\"9 19\":[9,3,0,12,2,19,9,2],\"17 22\":[17,3,0,12,2,22,14,2],\"5 18\":[5,3,0,12,2,18,4,2],\"9 82\":[9,3,0,77,9,2],\"11 25\":[11,3,0,12,2,25,9,2],\"16 64\":[16,3,0,61,2,64,14,2],\"15 9\":[15,3,0,4,14,2],\"6 19\":[6,3,0,12,2,19,4,2],\"14 36\":[14,3,0,30,2,36,14,2],\"5 78\":[5,3,0,77,2,78,4,2],\"17 66\":[17,3,0,61,14,2],\"17 25\":[17,3,0,12,2,25,14,2],\"11 58\":[11,3,0,55,9,2],\"6 18\":[6,3,0,12,2,18,4,2],\"16 43\":[16,3,0,40,14,2],\"6 81\":[6,3,0,77,2,81,4,2],\"7 85\":[7,3,0,84,2,85,4,2],\"15 73\":[15,3,0,69,2,73,14,2],\"5 37\":[5,3,0,30,4,2],\"6 43\":[6,3,0,40,4,2],\"14 20\":[14,3,0,12,2,20,14,2],\"12 52\":[12,3,0,50,2,52,9,2],\"14 15\":[14,3,0,12,2,15,14,2],\"9 74\":[9,3,0,69,9,2],\"4 23\":[4,3,0,12,2,23,4,2],\"17 17\":[17,3,0,12,2,17,14,2],\"14 56\":[14,3,0,55,2,56,14,2],\"5 35\":[5,3,0,30,2,35,4,2],\"7 88\":[7,3,0,88,4,2],\"14 52\":[14,3,0,50,2,52,14,2],\"12 63\":[12,3,0,61,2,63,9,2],\"11 5\":[11,3,0,4,2,5,9,2],\"4 72\":[4,3,0,69,2,72,4,2],\"4 19\":[4,3,0,12,2,19,4,2],\"16 65\":[16,3,0,61,2,65,14,2],\"5 20\":[5,3,0,12,2,20,4,2],\"9 34\":[9,3,0,30,2,34,9,2],\"5 74\":[5,3,0,69,4,2],\"14 47\":[14,3,0,46,2,47,14,2],\"9 13\":[9,3,0,12,2,13,9,2],\"10 8\":[10,3,0,4,2,8,9,2],\"12 17\":[12,3,0,12,2,17,9,2],\"16 81\":[16,3,0,77,2,81,14,2],\"7 27\":[7,3,0,12,4,2],\"14 64\":[14,3,0,61,2,64,14,2],\"5 9\":[5,3,0,4,4,2],\"4 37\":[4,3,0,30,4,2],\"17 41\":[17,3,0,40,2,41,14,2],\"11 57\":[11,3,0,55,2,57,9,2],\"14 16\":[14,3,0,12,2,16,14,2],\"4 47\":[4,3,0,46,2,47,4,2],\"15 72\":[15,3,0,69,2,72,14,2],\"15 31\":[15,3,0,30,2,31,14,2],\"9 79\":[9,3,0,77,2,79,9,2],\"6 73\":[6,3,0,69,2,73,4,2],\"16 58\":[16,3,0,55,14,2],\"17 21\":[17,3,0,12,2,21,14,2],\"4 80\":[4,3,0,77,2,80,4,2],\"15 21\":[15,3,0,12,2,21,14,2],\"10 26\":[10,3,0,12,2,26,9,2],\"16 71\":[16,3,0,69,2,71,14,2],\"5 85\":[5,3,0,84,2,85,4,2],\"12 57\":[12,3,0,55,2,57,9,2],\"7 26\":[7,3,0,12,2,26,4,2],\"9 22\":[9,3,0,12,2,22,9,2],\"10 27\":[10,3,0,12,9,2],\"12 25\":[12,3,0,12,2,25,9,2],\"16 15\":[16,3,0,12,2,15,14,2],\"4 58\":[4,3,0,55,4,2],\"9 57\":[9,3,0,55,2,57,9,2],\"5 51\":[5,3,0,50,2,51,4,2],\"6 65\":[6,3,0,61,2,65,4,2],\"15 27\":[15,3,0,12,14,2],\"5 79\":[5,3,0,77,2,79,4,2],\"17 24\":[17,3,0,12,2,24,14,2],\"16 18\":[16,3,0,12,2,18,14,2],\"14 72\":[14,3,0,69,2,72,14,2],\"12 41\":[12,3,0,40,2,41,9,2],\"15 65\":[15,3,0,61,2,65,14,2],\"9 72\":[9,3,0,69,2,72,9,2],\"5 24\":[5,3,0,12,2,24,4,2],\"17 47\":[17,3,0,46,2,47,14,2],\"6 41\":[6,3,0,40,2,41,4,2],\"9 18\":[9,3,0,12,2,18,9,2],\"6 85\":[6,3,0,84,2,85,4,2],\"9 58\":[9,3,0,55,9,2],\"11 36\":[11,3,0,30,2,36,9,2],\"7 43\":[7,3,0,40,4,2],\"6 51\":[6,3,0,50,2,51,4,2],\"9 36\":[9,3,0,30,2,36,9,2],\"11 26\":[11,3,0,12,2,26,9,2],\"4 16\":[4,3,0,12,2,16,4,2],\"5 58\":[5,3,0,55,4,2],\"12 13\":[12,3,0,12,2,13,9,2],\"5 32\":[5,3,0,30,2,32,4,2],\"12 37\":[12,3,0,30,9,2],\"15 33\":[15,3,0,30,2,33,14,2],\"9 37\":[9,3,0,30,9,2],\"5 62\":[5,3,0,61,2,62,4,2],\"6 56\":[6,3,0,55,2,56,4,2],\"14 78\":[14,3,0,77,2,78,14,2],\"15 14\":[15,3,0,12,2,14,14,2],\"5 13\":[5,3,0,12,2,13,4,2],\"6 35\":[6,3,0,30,2,35,4,2],\"9 25\":[9,3,0,12,2,25,9,2],\"16 82\":[16,3,0,77,14,2],\"12 85\":[12,3,0,84,2,85,9,2],\"12 14\":[12,3,0,12,2,14,9,2],\"11 43\":[11,3,0,40,9,2],\"5 42\":[5,3,0,40,2,42,4,2],\"11 6\":[11,3,0,4,2,6,9,2],\"6 34\":[6,3,0,30,2,34,4,2],\"17 57\":[17,3,0,55,2,57,14,2],\"4 70\":[4,3,0,69,2,70,4,2],\"5 21\":[5,3,0,12,2,21,4,2],\"9 81\":[9,3,0,77,2,81,9,2],\"6 24\":[6,3,0,12,2,24,4,2],\"9 42\":[9,3,0,40,2,42,9,2],\"14 43\":[14,3,0,40,14,2],\"7 35\":[7,3,0,30,2,35,4,2],\"6 8\":[6,3,0,4,2,8,4,2],\"16 21\":[16,3,0,12,2,21,14,2],\"11 64\":[11,3,0,61,2,64,9,2],\"9 63\":[9,3,0,61,2,63,9,2],\"9 43\":[9,3,0,40,9,2],\"17 32\":[17,3,0,30,2,32,14,2],\"7 80\":[7,3,0,77,2,80,4,2],\"6 66\":[6,3,0,61,4,2],\"9 78\":[9,3,0,77,2,78,9,2],\"7 73\":[7,3,0,69,2,73,4,2],\"7 14\":[7,3,0,12,2,14,4,2],\"4 66\":[4,3,0,61,4,2],\"11 35\":[11,3,0,30,2,35,9,2],\"14 37\":[14,3,0,30,14,2],\"4 78\":[4,3,0,77,2,78,4,2],\"5 25\":[5,3,0,12,2,25,4,2],\"14 26\":[14,3,0,12,2,26,14,2],\"14 42\":[14,3,0,40,2,42,14,2],\"12 65\":[12,3,0,61,2,65,9,2],\"4 63\":[4,3,0,61,2,63,4,2],\"6 6\":[6,3,0,4,2,6,4,2],\"6 42\":[6,3,0,40,2,42,4,2],\"6 32\":[6,3,0,30,2,32,4,2],\"14 24\":[14,3,0,12,2,24,14,2],\"15 70\":[15,3,0,69,2,70,14,2],\"12 82\":[12,3,0,77,9,2],\"15 7\":[15,3,0,4,2,7,14,2],\"10 22\":[10,3,0,12,2,22,9,2],\"4 82\":[4,3,0,77,4,2],\"17 85\":[17,3,0,84,2,85,14,2],\"15 24\":[15,3,0,12,2,24,14,2],\"15 43\":[15,3,0,40,14,2],\"14 71\":[14,3,0,69,2,71,14,2],\"9 17\":[9,3,0,12,2,17,9,2],\"9 85\":[9,3,0,84,2,85,9,2],\"4 85\":[4,3,0,84,2,85,4,2],\"4 88\":[4,3,0,88,4,2],\"10 85\":[10,3,0,84,2,85,9,2],\"17 8\":[17,3,0,4,2,8,14,2],\"5 27\":[5,3,0,12,4,2],\"10 18\":[10,3,0,12,2,18,9,2],\"7 37\":[7,3,0,30,4,2],\"17 79\":[17,3,0,77,2,79,14,2],\"15 8\":[15,3,0,4,2,8,14,2],\"10 31\":[10,3,0,30,2,31,9,2],\"4 57\":[4,3,0,55,2,57,4,2],\"16 8\":[16,3,0,4,2,8,14,2],\"10 79\":[10,3,0,77,2,79,9,2],\"10 6\":[10,3,0,4,2,6,9,2],\"6 78\":[6,3,0,77,2,78,4,2],\"14 13\":[14,3,0,12,2,13,14,2],\"15 32\":[15,3,0,30,2,32,14,2],\"14 27\":[14,3,0,12,14,2],\"14 81\":[14,3,0,77,2,81,14,2],\"6 58\":[6,3,0,55,4,2],\"10 80\":[10,3,0,77,2,80,9,2],\"12 81\":[12,3,0,77,2,81,9,2],\"10 62\":[10,3,0,61,2,62,9,2],\"15 82\":[15,3,0,77,14,2],\"11 23\":[11,3,0,12,2,23,9,2],\"12 7\":[12,3,0,4,2,7,9,2],\"15 41\":[15,3,0,40,2,41,14,2],\"16 73\":[16,3,0,69,2,73,14,2],\"9 20\":[9,3,0,12,2,20,9,2],\"4 24\":[4,3,0,12,2,24,4,2],\"15 5\":[15,3,0,4,2,5,14,2],\"16 47\":[16,3,0,46,2,47,14,2],\"10 24\":[10,3,0,12,2,24,9,2],\"15 36\":[15,3,0,30,2,36,14,2],\"4 81\":[4,3,0,77,2,81,4,2],\"15 47\":[15,3,0,46,2,47,14,2],\"7 7\":[7,3,0,4,2,7,4,2],\"15 13\":[15,3,0,12,2,13,14,2],\"4 25\":[4,3,0,12,2,25,4,2],\"10 7\":[10,3,0,4,2,7,9,2],\"12 88\":[12,3,0,88,9,2],\"16 70\":[16,3,0,69,2,70,14,2],\"9 41\":[9,3,0,40,2,41,9,2],\"16 32\":[16,3,0,30,2,32,14,2],\"6 74\":[6,3,0,69,4,2],\"7 64\":[7,3,0,61,2,64,4,2],\"5 33\":[5,3,0,30,2,33,4,2],\"16 7\":[16,3,0,4,2,7,14,2],\"7 23\":[7,3,0,12,2,23,4,2],\"4 65\":[4,3,0,61,2,65,4,2],\"17 51\":[17,3,0,50,2,51,14,2],\"4 26\":[4,3,0,12,2,26,4,2],\"12 18\":[12,3,0,12,2,18,9,2],\"10 32\":[10,3,0,30,2,32,9,2],\"17 52\":[17,3,0,50,2,52,14,2],\"14 19\":[14,3,0,12,2,19,14,2],\"9 70\":[9,3,0,69,2,70,9,2],\"14 82\":[14,3,0,77,14,2],\"14 57\":[14,3,0,55,2,57,14,2],\"4 35\":[4,3,0,30,2,35,4,2],\"4 15\":[4,3,0,12,2,15,4,2],\"14 62\":[14,3,0,61,2,62,14,2],\"17 64\":[17,3,0,61,2,64,14,2],\"6 25\":[6,3,0,12,2,25,4,2],\"4 8\":[4,3,0,4,2,8,4,2],\"7 70\":[7,3,0,69,2,70,4,2],\"9 80\":[9,3,0,77,2,80,9,2],\"11 74\":[11,3,0,69,9,2],\"16 78\":[16,3,0,77,2,78,14,2],\"16 63\":[16,3,0,61,2,63,14,2],\"4 9\":[4,3,0,4,4,2],\"7 79\":[7,3,0,77,2,79,4,2],\"9 9\":[9,3,0,4,9,2],\"4 5\":[4,3,0,4,2,5,4,2],\"16 25\":[16,3,0,12,2,25,14,2],\"7 58\":[7,3,0,55,4,2],\"15 42\":[15,3,0,40,2,42,14,2],\"10 70\":[10,3,0,69,2,70,9,2],\"17 26\":[17,3,0,12,2,26,14,2],\"14 6\":[14,3,0,4,2,6,14,2],\"16 74\":[16,3,0,69,14,2],\"4 73\":[4,3,0,69,2,73,4,2],\"5 65\":[5,3,0,61,2,65,4,2],\"12 90\":[12,3,0,88,9,2],\"12 19\":[12,3,0,12,2,19,9,2],\"15 57\":[15,3,0,55,2,57,14,2],\"4 13\":[4,3,0,12,2,13,4,2],\"10 5\":[10,3,0,4,2,5,9,2],\"7 56\":[7,3,0,55,2,56,4,2],\"12 33\":[12,3,0,30,2,33,9,2],\"16 34\":[16,3,0,30,2,34,14,2],\"6 88\":[6,3,0,88,4,2],\"11 17\":[11,3,0,12,2,17,9,2],\"10 13\":[10,3,0,12,2,13,9,2],\"6 62\":[6,3,0,61,2,62,4,2],\"17 72\":[17,3,0,69,2,72,14,2],\"15 6\":[15,3,0,4,2,6,14,2],\"5 14\":[5,3,0,12,2,14,4,2],\"10 65\":[10,3,0,61,2,65,9,2],\"15 88\":[15,3,0,88,14,2],\"14 51\":[14,3,0,50,2,51,14,2],\"14 7\":[14,3,0,4,2,7,14,2],\"16 22\":[16,3,0,12,2,22,14,2],\"14 17\":[14,3,0,12,2,17,14,2],\"14 80\":[14,3,0,77,2,80,14,2],\"4 7\":[4,3,0,4,2,7,4,2],\"4 51\":[4,3,0,50,2,51,4,2],\"16 72\":[16,3,0,69,2,72,14,2],\"4 18\":[4,3,0,12,2,18,4,2],\"9 32\":[9,3,0,30,2,32,9,2],\"11 52\":[11,3,0,50,2,52,9,2],\"4 17\":[4,3,0,12,2,17,4,2],\"15 78\":[15,3,0,77,2,78,14,2],\"4 20\":[4,3,0,12,2,20,4,2],\"15 26\":[15,3,0,12,2,26,14,2],\"7 24\":[7,3,0,12,2,24,4,2],\"14 35\":[14,3,0,30,2,35,14,2],\"9 62\":[9,3,0,61,2,62,9,2],\"15 25\":[15,3,0,12,2,25,14,2],\"10 16\":[10,3,0,12,2,16,9,2],\"9 16\":[9,3,0,12,2,16,9,2],\"7 22\":[7,3,0,12,2,22,4,2],\"11 9\":[11,3,0,4,9,2],\"17 20\":[17,3,0,12,2,20,14,2],\"16 85\":[16,3,0,84,2,85,14,2],\"9 5\":[9,3,0,4,2,5,9,2],\"17 7\":[17,3,0,4,2,7,14,2],\"7 74\":[7,3,0,69,4,2],\"9 35\":[9,3,0,30,2,35,9,2],\"15 63\":[15,3,0,61,2,63,14,2],\"12 73\":[12,3,0,69,2,73,9,2],\"12 42\":[12,3,0,40,2,42,9,2],\"5 71\":[5,3,0,69,2,71,4,2],\"14 25\":[14,3,0,12,2,25,14,2],\"7 21\":[7,3,0,12,2,21,4,2],\"17 34\":[17,3,0,30,2,34,14,2],\"10 14\":[10,3,0,12,2,14,9,2],\"5 26\":[5,3,0,12,2,26,4,2],\"12 21\":[12,3,0,12,2,21,9,2],\"7 42\":[7,3,0,40,2,42,4,2],\"5 56\":[5,3,0,55,2,56,4,2],\"16 52\":[16,3,0,50,2,52,14,2],\"14 8\":[14,3,0,4,2,8,14,2],\"12 35\":[12,3,0,30,2,35,9,2],\"12 71\":[12,3,0,69,2,71,9,2],\"7 15\":[7,3,0,12,2,15,4,2],\"10 34\":[10,3,0,30,2,34,9,2],\"4 43\":[4,3,0,40,4,2],\"7 71\":[7,3,0,69,2,71,4,2],\"16 26\":[16,3,0,12,2,26,14,2],\"5 88\":[5,3,0,88,4,2],\"10 20\":[10,3,0,12,2,20,9,2],\"17 31\":[17,3,0,30,2,31,14,2],\"7 19\":[7,3,0,12,2,19,4,2],\"10 56\":[10,3,0,55,2,56,9,2],\"6 33\":[6,3,0,30,2,33,4,2],\"6 72\":[6,3,0,69,2,72,4,2],\"16 51\":[16,3,0,50,2,51,14,2],\"12 26\":[12,3,0,12,2,26,9,2],\"11 88\":[11,3,0,88,9,2],\"15 51\":[15,3,0,50,2,51,14,2],\"7 20\":[7,3,0,12,2,20,4,2],\"17 6\":[17,3,0,4,2,6,14,2],\"11 85\":[11,3,0,84,2,85,9,2],\"5 47\":[5,3,0,46,2,47,4,2],\"6 36\":[6,3,0,30,2,36,4,2],\"12 58\":[12,3,0,55,9,2],\"17 63\":[17,3,0,61,2,63,14,2],\"16 27\":[16,3,0,12,14,2],\"5 36\":[5,3,0,30,2,36,4,2],\"17 15\":[17,3,0,12,2,15,14,2],\"11 13\":[11,3,0,12,2,13,9,2],\"11 15\":[11,3,0,12,2,15,9,2],\"16 14\":[16,3,0,12,2,14,14,2],\"6 13\":[6,3,0,12,2,13,4,2],\"17 36\":[17,3,0,30,2,36,14,2],\"10 64\":[10,3,0,61,2,64,9,2],\"11 66\":[11,3,0,61,9,2],\"9 26\":[9,3,0,12,2,26,9,2],\"5 16\":[5,3,0,12,2,16,4,2],\"5 6\":[5,3,0,4,2,6,4,2],\"17 73\":[17,3,0,69,2,73,14,2],\"16 36\":[16,3,0,30,2,36,14,2],\"16 33\":[16,3,0,30,2,33,14,2],\"11 78\":[11,3,0,77,2,78,9,2],\"12 79\":[12,3,0,77,2,79,9,2],\"14 34\":[14,3,0,30,2,34,14,2],\"11 79\":[11,3,0,77,2,79,9,2],\"6 26\":[6,3,0,12,2,26,4,2],\"9 23\":[9,3,0,12,2,23,9,2],\"12 27\":[12,3,0,12,9,2],\"11 18\":[11,3,0,12,2,18,9,2],\"10 88\":[10,3,0,88,9,2],\"6 31\":[6,3,0,30,2,31,4,2],\"16 16\":[16,3,0,12,2,16,14,2],\"9 56\":[9,3,0,55,2,56,9,2],\"15 79\":[15,3,0,77,2,79,14,2],\"11 37\":[11,3,0,30,9,2],\"4 21\":[4,3,0,12,2,21,4,2],\"12 64\":[12,3,0,61,2,64,9,2],\"12 15\":[12,3,0,12,2,15,9,2],\"16 23\":[16,3,0,12,2,23,14,2],\"10 52\":[10,3,0,50,2,52,9,2],\"11 56\":[11,3,0,55,2,56,9,2],\"15 20\":[15,3,0,12,2,20,14,2],\"5 34\":[5,3,0,30,2,34,4,2],\"7 17\":[7,3,0,12,2,17,4,2],\"12 66\":[12,3,0,61,9,2],\"12 16\":[12,3,0,12,2,16,9,2],\"4 14\":[4,3,0,12,2,14,4,2],\"17 43\":[17,3,0,40,14,2],\"6 7\":[6,3,0,4,2,7,4,2],\"16 9\":[16,3,0,4,14,2],\"7 51\":[7,3,0,50,2,51,4,2],\"10 21\":[10,3,0,12,2,21,9,2],\"9 6\":[9,3,0,4,2,6,9,2],\"4 71\":[4,3,0,69,2,71,4,2],\"15 85\":[15,3,0,84,2,85,14,2],\"4 32\":[4,3,0,30,2,32,4,2],\"17 71\":[17,3,0,69,2,71,14,2],\"16 66\":[16,3,0,61,14,2],\"10 66\":[10,3,0,61,9,2],\"7 82\":[7,3,0,77,4,2],\"15 74\":[15,3,0,69,14,2],\"17 9\":[17,3,0,4,14,2],\"11 27\":[11,3,0,12,9,2],\"10 15\":[10,3,0,12,2,15,9,2],\"5 66\":[5,3,0,61,4,2],\"16 41\":[16,3,0,40,2,41,14,2],\"12 80\":[12,3,0,77,2,80,9,2],\"4 22\":[4,3,0,12,2,22,4,2],\"14 88\":[14,3,0,88,14,2],\"12 74\":[12,3,0,69,9,2],\"10 74\":[10,3,0,69,9,2],\"6 20\":[6,3,0,12,2,20,4,2],\"15 37\":[15,3,0,30,14,2],\"5 41\":[5,3,0,40,2,41,4,2],\"7 57\":[7,3,0,55,2,57,4,2],\"6 70\":[6,3,0,69,2,70,4,2],\"6 23\":[6,3,0,12,2,23,4,2],\"10 63\":[10,3,0,61,2,63,9,2],\"10 42\":[10,3,0,40,2,42,9,2],\"7 9\":[7,3,0,4,4,2],\"4 34\":[4,3,0,30,2,34,4,2],\"4 27\":[4,3,0,12,4,2],\"15 62\":[15,3,0,61,2,62,14,2],\"5 81\":[5,3,0,77,2,81,4,2],\"6 21\":[6,3,0,12,2,21,4,2],\"11 22\":[11,3,0,12,2,22,9,2],\"9 33\":[9,3,0,30,2,33,9,2],\"11 47\":[11,3,0,46,2,47,9,2],\"5 57\":[5,3,0,55,2,57,4,2],\"5 31\":[5,3,0,30,2,31,4,2],\"11 14\":[11,3,0,12,2,14,9,2],\"10 71\":[10,3,0,69,2,71,9,2],\"6 5\":[6,3,0,4,2,5,4,2],\"16 35\":[16,3,0,30,2,35,14,2],\"17 23\":[17,3,0,12,2,23,14,2],\"5 17\":[5,3,0,12,2,17,4,2],\"17 74\":[17,3,0,69,14,2],\"6 82\":[6,3,0,77,4,2],\"9 14\":[9,3,0,12,2,14,9,2],\"14 31\":[14,3,0,30,2,31,14,2],\"14 58\":[14,3,0,55,14,2],\"15 80\":[15,3,0,77,2,80,14,2],\"5 82\":[5,3,0,77,4,2],\"10 81\":[10,3,0,77,2,81,9,2],\"6 17\":[6,3,0,12,2,17,4,2],\"5 7\":[5,3,0,4,2,7,4,2],\"17 14\":[17,3,0,12,2,14,14,2],\"16 80\":[16,3,0,77,2,80,14,2],\"15 64\":[15,3,0,61,2,64,14,2],\"17 70\":[17,3,0,69,2,70,14,2],\"12 23\":[12,3,0,12,2,23,9,2],\"11 7\":[11,3,0,4,2,7,9,2],\"16 5\":[16,3,0,4,2,5,14,2],\"9 73\":[9,3,0,69,2,73,9,2],\"6 47\":[6,3,0,46,2,47,4,2],\"10 73\":[10,3,0,69,2,73,9,2],\"6 22\":[6,3,0,12,2,22,4,2],\"14 65\":[14,3,0,61,2,65,14,2],\"7 16\":[7,3,0,12,2,16,4,2],\"16 62\":[16,3,0,61,2,62,14,2],\"7 6\":[7,3,0,4,2,6,4,2],\"16 6\":[16,3,0,4,2,6,14,2],\"17 13\":[17,3,0,12,2,13,14,2],\"7 25\":[7,3,0,12,2,25,4,2],\"5 73\":[5,3,0,69,2,73,4,2],\"5 8\":[5,3,0,4,2,8,4,2],\"15 66\":[15,3,0,61,14,2],\"14 23\":[14,3,0,12,2,23,14,2],\"16 88\":[16,3,0,88,14,2],\"12 36\":[12,3,0,30,2,36,9,2],\"14 18\":[14,3,0,12,2,18,14,2],\"6 64\":[6,3,0,61,2,64,4,2],\"9 27\":[9,3,0,12,9,2],\"16 13\":[16,3,0,12,2,13,14,2],\"11 24\":[11,3,0,12,2,24,9,2],\"12 22\":[12,3,0,12,2,22,9,2],\"12 5\":[12,3,0,4,2,5,9,2],\"12 62\":[12,3,0,61,2,62,9,2],\"6 79\":[6,3,0,77,2,79,4,2],\"6 9\":[6,3,0,4,4,2],\"6 14\":[6,3,0,12,2,14,4,2],\"14 74\":[14,3,0,69,14,2],\"11 21\":[11,3,0,12,2,21,9,2],\"12 56\":[12,3,0,55,2,56,9,2],\"10 23\":[10,3,0,12,2,23,9,2],\"5 70\":[5,3,0,69,2,70,4,2],\"12 24\":[12,3,0,12,2,24,9,2],\"6 80\":[6,3,0,77,2,80,4,2],\"16 20\":[16,3,0,12,2,20,14,2],\"7 72\":[7,3,0,69,2,72,4,2],\"12 31\":[12,3,0,30,2,31,9,2],\"17 58\":[17,3,0,55,14,2],\"7 63\":[7,3,0,61,2,63,4,2],\"9 65\":[9,3,0,61,2,65,9,2],\"14 63\":[14,3,0,61,2,63,14,2],\"10 58\":[10,3,0,55,9,2],\"10 19\":[10,3,0,12,2,19,9,2],\"17 18\":[17,3,0,12,2,18,14,2],\"14 73\":[14,3,0,69,2,73,14,2],\"9 47\":[9,3,0,46,2,47,9,2],\"15 58\":[15,3,0,55,14,2],\"16 56\":[16,3,0,55,2,56,14,2],\"15 34\":[15,3,0,30,2,34,14,2],\"12 70\":[12,3,0,69,2,70,9,2],\"17 88\":[17,3,0,88,14,2],\"9 88\":[9,3,0,88,9,2],\"5 72\":[5,3,0,69,2,72,4,2],\"12 8\":[12,3,0,4,2,8,9,2],\"11 42\":[11,3,0,40,2,42,9,2],\"15 52\":[15,3,0,50,2,52,14,2],\"4 31\":[4,3,0,30,2,31,4,2],\"6 27\":[6,3,0,12,4,2],\"12 6\":[12,3,0,4,2,6,9,2],\"16 57\":[16,3,0,55,2,57,14,2],\"4 41\":[4,3,0,40,2,41,4,2],\"7 18\":[7,3,0,12,2,18,4,2],\"15 81\":[15,3,0,77,2,81,14,2],\"10 25\":[10,3,0,12,2,25,9,2],\"11 80\":[11,3,0,77,2,80,9,2],\"5 23\":[5,3,0,12,2,23,4,2],\"4 42\":[4,3,0,40,2,42,4,2],\"4 6\":[4,3,0,4,2,6,4,2],\"11 63\":[11,3,0,61,2,63,9,2],\"4 79\":[4,3,0,77,2,79,4,2],\"5 19\":[5,3,0,12,2,19,4,2],\"5 22\":[5,3,0,12,2,22,4,2],\"15 22\":[15,3,0,12,2,22,14,2],\"11 72\":[11,3,0,69,2,72,9,2],\"9 31\":[9,3,0,30,2,31,9,2],\"17 82\":[17,3,0,77,14,2],\"7 31\":[7,3,0,30,2,31,4,2],\"7 32\":[7,3,0,30,2,32,4,2],\"11 70\":[11,3,0,69,2,70,9,2],\"4 64\":[4,3,0,61,2,64,4,2],\"17 5\":[17,3,0,4,2,5,14,2],\"16 37\":[16,3,0,30,14,2],\"9 15\":[9,3,0,12,2,15,9,2],\"9 64\":[9,3,0,61,2,64,9,2],\"15 17\":[15,3,0,12,2,17,14,2],\"6 15\":[6,3,0,12,2,15,4,2],\"9 7\":[9,3,0,4,2,7,9,2],\"17 16\":[17,3,0,12,2,16,14,2],\"10 72\":[10,3,0,69,2,72,9,2],\"16 31\":[16,3,0,30,2,31,14,2],\"11 34\":[11,3,0,30,2,34,9,2],\"17 56\":[17,3,0,55,2,56,14,2],\"15 15\":[15,3,0,12,2,15,14,2],\"5 80\":[5,3,0,77,2,80,4,2],\"11 41\":[11,3,0,40,2,41,9,2],\"12 34\":[12,3,0,30,2,34,9,2],\"17 33\":[17,3,0,30,2,33,14,2],\"6 37\":[6,3,0,30,4,2],\"4 74\":[4,3,0,69,4,2],\"10 43\":[10,3,0,40,9,2],\"7 78\":[7,3,0,77,2,78,4,2],\"12 47\":[12,3,0,46,2,47,9,2],\"14 14\":[14,3,0,12,2,14,14,2],\"11 62\":[11,3,0,61,2,62,9,2],\"10 9\":[10,3,0,4,9,2],\"4 62\":[4,3,0,61,2,62,4,2],\"12 78\":[12,3,0,77,2,78,9,2],\"16 19\":[16,3,0,12,2,19,14,2],\"10 17\":[10,3,0,12,2,17,9,2],\"4 56\":[4,3,0,55,2,56,4,2],\"12 20\":[12,3,0,12,2,20,9,2],\"7 66\":[7,3,0,61,4,2],\"10 47\":[10,3,0,46,2,47,9,2],\"5 63\":[5,3,0,61,2,63,4,2],\"9 52\":[9,3,0,50,2,52,9,2],\"12 32\":[12,3,0,30,2,32,9,2],\"16 17\":[16,3,0,12,2,17,14,2],\"10 35\":[10,3,0,30,2,35,9,2],\"14 66\":[14,3,0,61,14,2],\"15 19\":[15,3,0,12,2,19,14,2],\"7 62\":[7,3,0,61,2,62,4,2],\"14 9\":[14,3,0,4,14,2],\"5 5\":[5,3,0,4,2,5,4,2],\"14 70\":[14,3,0,69,2,70,14,2],\"10 57\":[10,3,0,55,2,57,9,2],\"15 71\":[15,3,0,69,2,71,14,2],\"15 16\":[15,3,0,12,2,16,14,2],\"14 33\":[14,3,0,30,2,33,14,2],\"7 65\":[7,3,0,61,2,65,4,2],\"7 34\":[7,3,0,30,2,34,4,2],\"4 33\":[4,3,0,30,2,33,4,2],\"17 37\":[17,3,0,30,14,2],\"10 78\":[10,3,0,77,2,78,9,2],\"12 43\":[12,3,0,40,9,2],\"7 5\":[7,3,0,4,2,5,4,2],\"11 32\":[11,3,0,30,2,32,9,2],\"6 16\":[6,3,0,12,2,16,4,2],\"7 8\":[7,3,0,4,2,8,4,2],\"11 31\":[11,3,0,30,2,31,9,2],\"9 24\":[9,3,0,12,2,24,9,2],\"14 21\":[14,3,0,12,2,21,14,2],\"7 81\":[7,3,0,77,2,81,4,2],\"11 81\":[11,3,0,77,2,81,9,2],\"17 80\":[17,3,0,77,2,80,14,2],\"11 65\":[11,3,0,61,2,65,9,2],\"9 66\":[9,3,0,61,9,2],\"10 41\":[10,3,0,40,2,41,9,2],\"10 33\":[10,3,0,30,2,33,9,2],\"15 35\":[15,3,0,30,2,35,14,2],\"17 42\":[17,3,0,40,2,42,14,2],\"16 24\":[16,3,0,12,2,24,14,2],\"12 72\":[12,3,0,69,2,72,9,2],\"6 57\":[6,3,0,55,2,57,4,2],\"14 41\":[14,3,0,40,2,41,14,2],\"11 73\":[11,3,0,69,2,73,9,2],\"11 82\":[11,3,0,77,9,2],\"16 42\":[16,3,0,40,2,42,14,2],\"17 35\":[17,3,0,30,2,35,14,2],\"16 79\":[16,3,0,77,2,79,14,2],\"11 16\":[11,3,0,12,2,16,9,2],\"5 15\":[5,3,0,12,2,15,4,2],\"7 41\":[7,3,0,40,2,41,4,2],\"17 65\":[17,3,0,61,2,65,14,2],\"14 32\":[14,3,0,30,2,32,14,2],\"17 81\":[17,3,0,77,2,81,14,2],\"14 5\":[14,3,0,4,2,5,14,2],\"17 27\":[17,3,0,12,14,2]}; \n",
       "var jdividNUM = \"injblock1001\"; \n",
       "var Dclickedcell = null; \n",
       "function clickedcell() \n",
       "{ \n",
       "    Dclickedcell = this; \n",
       "    console.log(\"jjjj\", this); \n",
       "    var rgc = new RegExp('(^|\\b)' + \"selected\".split(' ').join('|') + '(\\b|$)', 'gi'); \n",
       "    Array.prototype.forEach.call(document.querySelectorAll(\"div#\"+jdividNUM+\" table.ex td.selected\"), function(el, i) { \n",
       "        if (el.classList)  el.classList.remove(\"selected\");\n",
       "        else  el.className = el.className.replace(rgc, ' ');\n",
       "    }); \n",
       "    if (this.classList)  this.classList.add(\"selected\");\n",
       "    else this.className += ' ' + \"selected\";\n",
       "\n",
       "    var dimpairs = jslookup[this.title]; \n",
       "    if (dimpairs !== undefined) {\n",
       "        for (var i = 1; i < dimpairs.length; i += 2) {\n",
       "            var row = document.querySelectorAll(\"div#\"+jdividNUM+\" table.ex tr\")[dimpairs[i]]; \n",
       "            var el = row.querySelectorAll(\"td\")[dimpairs[i-1]]; \n",
       "            if (el.classList)  el.classList.add(\"selected\");\n",
       "            else el.className += ' ' + \"selected\";\n",
       "        }\n",
       "    }\n",
       "}\n",
       "Array.prototype.forEach.call(document.querySelectorAll(\"div#\"+jdividNUM+\" table.ex td\"), function(item, i) { item.onclick=clickedcell; }); \n",
       "</script>\n"
      ],
      "text/plain": [
       "<IPython.core.display.HTML object>"
      ]
     },
     "metadata": {},
     "output_type": "display_data"
    }
   ],
   "source": [
    "c1 = ConversionSegment(observations, Dimensions, processTIMEUNIT=True)\n",
    "if is_interactive():\n",
    "    savepreviewhtml(c1)"
   ]
  },
  {
   "cell_type": "code",
   "execution_count": 10,
   "metadata": {},
   "outputs": [
    {
     "name": "stdout",
     "output_type": "stream",
     "text": [
      "\n"
     ]
    }
   ],
   "source": [
    "new_table = c1.topandas()"
   ]
  },
  {
   "cell_type": "code",
   "execution_count": 11,
   "metadata": {
    "collapsed": true
   },
   "outputs": [],
   "source": [
    "new_table['Year'] = pd.to_numeric(new_table['Year'], errors='coerce').fillna(0)"
   ]
  },
  {
   "cell_type": "code",
   "execution_count": 12,
   "metadata": {
    "collapsed": true
   },
   "outputs": [],
   "source": [
    "new_table['Year'] = new_table['Year'].astype(int)"
   ]
  },
  {
   "cell_type": "code",
   "execution_count": 13,
   "metadata": {
    "collapsed": true
   },
   "outputs": [],
   "source": [
    "new_table.columns = ['Value' if x=='OBS' else x for x in new_table.columns]"
   ]
  },
  {
   "cell_type": "code",
   "execution_count": 14,
   "metadata": {
    "collapsed": true
   },
   "outputs": [],
   "source": [
    "new_table['geo3'].fillna('Total', inplace = True)"
   ]
  },
  {
   "cell_type": "code",
   "execution_count": 15,
   "metadata": {
    "collapsed": true
   },
   "outputs": [],
   "source": [
    "new_table['BOP Service'] = new_table['geo1'].fillna('') + '-' + new_table['geo3'].fillna('')"
   ]
  },
  {
   "cell_type": "code",
   "execution_count": 16,
   "metadata": {
    "collapsed": true
   },
   "outputs": [],
   "source": [
    "new_table['Flow'] = new_table['Flow'].str.lower()"
   ]
  },
  {
   "cell_type": "code",
   "execution_count": 17,
   "metadata": {
    "collapsed": true
   },
   "outputs": [],
   "source": [
    "new_table['Flow'] = new_table['Flow'].map(lambda cell:cell.replace('balances', 'balance'))"
   ]
  },
  {
   "cell_type": "code",
   "execution_count": 18,
   "metadata": {
    "collapsed": true
   },
   "outputs": [],
   "source": [
    "new_table = new_table[new_table['Value'] != '' ]"
   ]
  },
  {
   "cell_type": "code",
   "execution_count": 19,
   "metadata": {
    "collapsed": true
   },
   "outputs": [],
   "source": [
    "new_table['International Trade Basis'] = 'BOP'"
   ]
  },
  {
   "cell_type": "code",
   "execution_count": 20,
   "metadata": {
    "collapsed": true
   },
   "outputs": [],
   "source": [
    "new_table['ONS Partner Geography'] = 'Whole world'"
   ]
  },
  {
   "cell_type": "code",
   "execution_count": 21,
   "metadata": {
    "collapsed": true
   },
   "outputs": [],
   "source": [
    "new_table = new_table[['ONS Partner Geography', 'Year','Flow','BOP Service', 'International Trade Basis', 'Measure Type','Value','Unit' ]]"
   ]
  },
  {
   "cell_type": "code",
   "execution_count": 22,
   "metadata": {
    "collapsed": true
   },
   "outputs": [],
   "source": [
    "# if is_interactive():\n",
    "#     SubstancetinationFolder = Path('out')\n",
    "#     SubstancetinationFolder.mkdir(exist_ok=True, parents=True)\n",
    "#     new_table.to_csv(SubstancetinationFolder / ('tablec61.csv'), index = False)"
   ]
  },
  {
   "cell_type": "code",
   "execution_count": 23,
   "metadata": {
    "scrolled": true
   },
   "outputs": [
    {
     "data": {
      "text/html": [
       "<div>\n",
       "<style scoped>\n",
       "    .dataframe tbody tr th:only-of-type {\n",
       "        vertical-align: middle;\n",
       "    }\n",
       "\n",
       "    .dataframe tbody tr th {\n",
       "        vertical-align: top;\n",
       "    }\n",
       "\n",
       "    .dataframe thead th {\n",
       "        text-align: right;\n",
       "    }\n",
       "</style>\n",
       "<table border=\"1\" class=\"dataframe\">\n",
       "  <thead>\n",
       "    <tr style=\"text-align: right;\">\n",
       "      <th></th>\n",
       "      <th>ONS Partner Geography</th>\n",
       "      <th>Year</th>\n",
       "      <th>Flow</th>\n",
       "      <th>BOP Service</th>\n",
       "      <th>International Trade Basis</th>\n",
       "      <th>Measure Type</th>\n",
       "      <th>Value</th>\n",
       "      <th>Unit</th>\n",
       "    </tr>\n",
       "  </thead>\n",
       "  <tbody>\n",
       "    <tr>\n",
       "      <th>0</th>\n",
       "      <td>Whole world</td>\n",
       "      <td>2009</td>\n",
       "      <td>exports</td>\n",
       "      <td>Agricultural, Mining and On-site Processing Se...</td>\n",
       "      <td>BOP</td>\n",
       "      <td>GBP Total</td>\n",
       "      <td>10.033</td>\n",
       "      <td>gbp-million</td>\n",
       "    </tr>\n",
       "    <tr>\n",
       "      <th>8</th>\n",
       "      <td>Whole world</td>\n",
       "      <td>2009</td>\n",
       "      <td>balance</td>\n",
       "      <td>Agricultural, Mining and On-site Processing Se...</td>\n",
       "      <td>BOP</td>\n",
       "      <td>GBP Total</td>\n",
       "      <td>9.693</td>\n",
       "      <td>gbp-million</td>\n",
       "    </tr>\n",
       "    <tr>\n",
       "      <th>12</th>\n",
       "      <td>Whole world</td>\n",
       "      <td>2009</td>\n",
       "      <td>exports</td>\n",
       "      <td>Agricultural, Mining and On-site Processing Se...</td>\n",
       "      <td>BOP</td>\n",
       "      <td>GBP Total</td>\n",
       "      <td>2.456</td>\n",
       "      <td>gbp-million</td>\n",
       "    </tr>\n",
       "    <tr>\n",
       "      <th>16</th>\n",
       "      <td>Whole world</td>\n",
       "      <td>2009</td>\n",
       "      <td>imports</td>\n",
       "      <td>Agricultural, Mining and On-site Processing Se...</td>\n",
       "      <td>BOP</td>\n",
       "      <td>GBP Total</td>\n",
       "      <td>6.461</td>\n",
       "      <td>gbp-million</td>\n",
       "    </tr>\n",
       "    <tr>\n",
       "      <th>18</th>\n",
       "      <td>Whole world</td>\n",
       "      <td>2011</td>\n",
       "      <td>imports</td>\n",
       "      <td>Agricultural, Mining and On-site Processing Se...</td>\n",
       "      <td>BOP</td>\n",
       "      <td>GBP Total</td>\n",
       "      <td>1.73</td>\n",
       "      <td>gbp-million</td>\n",
       "    </tr>\n",
       "  </tbody>\n",
       "</table>\n",
       "</div>"
      ],
      "text/plain": [
       "   ONS Partner Geography  Year     Flow  \\\n",
       "0            Whole world  2009  exports   \n",
       "8            Whole world  2009  balance   \n",
       "12           Whole world  2009  exports   \n",
       "16           Whole world  2009  imports   \n",
       "18           Whole world  2011  imports   \n",
       "\n",
       "                                          BOP Service  \\\n",
       "0   Agricultural, Mining and On-site Processing Se...   \n",
       "8   Agricultural, Mining and On-site Processing Se...   \n",
       "12  Agricultural, Mining and On-site Processing Se...   \n",
       "16  Agricultural, Mining and On-site Processing Se...   \n",
       "18  Agricultural, Mining and On-site Processing Se...   \n",
       "\n",
       "   International Trade Basis Measure Type   Value         Unit  \n",
       "0                        BOP    GBP Total  10.033  gbp-million  \n",
       "8                        BOP    GBP Total   9.693  gbp-million  \n",
       "12                       BOP    GBP Total   2.456  gbp-million  \n",
       "16                       BOP    GBP Total   6.461  gbp-million  \n",
       "18                       BOP    GBP Total    1.73  gbp-million  "
      ]
     },
     "execution_count": 23,
     "metadata": {},
     "output_type": "execute_result"
    }
   ],
   "source": [
    "new_table.head()"
   ]
  },
  {
   "cell_type": "code",
   "execution_count": null,
   "metadata": {
    "collapsed": true
   },
   "outputs": [],
   "source": []
  }
 ],
 "metadata": {
  "kernelspec": {
   "display_name": "Python 3",
   "language": "python",
   "name": "python3"
  },
  "language_info": {
   "codemirror_mode": {
    "name": "ipython",
    "version": 3
   },
   "file_extension": ".py",
   "mimetype": "text/x-python",
   "name": "python",
   "nbconvert_exporter": "python",
   "pygments_lexer": "ipython3",
   "version": "3.6.3"
  }
 },
 "nbformat": 4,
 "nbformat_minor": 2
}
