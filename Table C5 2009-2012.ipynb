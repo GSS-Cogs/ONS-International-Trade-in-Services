{
 "cells": [
  {
   "cell_type": "code",
   "execution_count": 1,
   "metadata": {},
   "outputs": [],
   "source": [
    "from gssutils import *\n",
    "\n",
    "if is_interactive():\n",
    "    scraper = Scraper('https://www.ons.gov.uk/businessindustryandtrade/internationaltrade/datasets/internationaltradeinservicesreferencetables')\n",
    "    tabs = { tab.name: tab for tab in scraper.distribution().as_databaker() }"
   ]
  },
  {
   "cell_type": "code",
   "execution_count": 2,
   "metadata": {},
   "outputs": [],
   "source": [
    "tab = tabs['Table C5 2009-2012']"
   ]
  },
  {
   "cell_type": "code",
   "execution_count": 3,
   "metadata": {},
   "outputs": [],
   "source": [
    "observations = tab.excel_ref('E6').expand(DOWN).expand(RIGHT).is_not_blank()"
   ]
  },
  {
   "cell_type": "code",
   "execution_count": 4,
   "metadata": {},
   "outputs": [],
   "source": [
    "Year = tab.excel_ref('E4').expand(RIGHT).is_not_whitespace()"
   ]
  },
  {
   "cell_type": "code",
   "execution_count": 5,
   "metadata": {},
   "outputs": [],
   "source": [
    "Flow = tab.excel_ref('E3').expand(RIGHT).is_not_blank()"
   ]
  },
  {
   "cell_type": "code",
   "execution_count": 6,
   "metadata": {},
   "outputs": [
    {
     "data": {
      "text/plain": [
       "{<A78 'Technical services'>, <A93 '..  Denotes disclosive data'>, <A85 'Other Trade  in Services'>, <A41 'Construction Services'>, <A56 'Merchanting and Other Trade related Services'>, <A92 '-   Denotes nil or less than £500,000'>, <A5 'Agricultural, Mining and On-site Processing Services '>, <A70 'Royalties and Licenses'>, <A62 'Personal, Cultural and Recreational  Services'>, <A13 'Business and Professional Services'>, <A31 'Communications and Computer Information Services'>, <A51 'Insurance Services'>, <A47 'Financial Services'>, <A89 'Total International Trade in Services'>}"
      ]
     },
     "execution_count": 6,
     "metadata": {},
     "output_type": "execute_result"
    }
   ],
   "source": [
    "geo1 = tab.excel_ref('A5').expand(DOWN).is_not_blank() - tab.excel_ref('A94').expand(DOWN)\n",
    "geo1"
   ]
  },
  {
   "cell_type": "code",
   "execution_count": 7,
   "metadata": {},
   "outputs": [
    {
     "data": {
      "text/plain": [
       "{<C8 'Waste treatment and depollution'>, <C16 'Management consulting'>, <C24 'Property management'>, <C9 'Other on-site processing services'>, <C63 'Audio- Visual and related services '>, <C80 'Engineering'>, <C35 'News agency services'>, <C58 'Other trade - related services'>, <C26 'Services between related enterprises'>, <C52 'Insurance Claims'>, <C15 'Advertising'>, <C57 'Merchanting'>, <C33 'Telecommunications'>, <C14 'Accountancy, auditing, bookkeeping and tax consulting services'>, <C17 'Public relations services'>, <C72 'Other royalties and license fees'>, <C73 'Purchases and sales of franchises and similar rights'>, <C53 'Insurance Premiums'>, <C71 'Use of franchise and similar rights fees'>, <C48 'Financial'>, <C20 'Legal services'>, <C27 'Other business and professional services'>, <C74 'Purchases and sales of other royalties and licenses'>, <C86 'Other trade in services'>, <C18 'Recruitment '>, <C34 'Computers'>, <C37 'Other information provision services'>, <C65 'Training and educational services'>, <C64 'Health Services'>, <C81 'Surveying'>, <C82 'Other technical services'>, <C43 'Construction outside the UK'>, <C66 'Other personal, cultural and recreational services'>, <C79 'Architectural'>, <C19 'Other business management'>, <C32 'Postal and courier'>, <C42 'Construction in the UK'>, <C23 'Procurement'>, <C6 'Agricultural'>, <C7 'Mining'>, <C21 'Market research and public opinion polling'>, <C22 'Operational leasing services'>, <C25 'Research and development'>, <C36 'Publishing services'>}"
      ]
     },
     "execution_count": 7,
     "metadata": {},
     "output_type": "execute_result"
    }
   ],
   "source": [
    "geo3 = tab.excel_ref('C5').expand(DOWN).is_not_blank() - tab.excel_ref('A94').expand(DOWN)\n",
    "geo3"
   ]
  },
  {
   "cell_type": "code",
   "execution_count": 8,
   "metadata": {},
   "outputs": [],
   "source": [
    "Dimensions = [\n",
    "            HDim(Year,'Year',DIRECTLY,ABOVE),\n",
    "            HDim(geo1,'geo1',CLOSEST,ABOVE),\n",
    "#             HDim(geo2,'geo2',DIRECTLY,LEFT),\n",
    "            HDim(geo3,'geo3',DIRECTLY,LEFT),\n",
    "            HDim(Flow, 'Flow',CLOSEST,LEFT),\n",
    "            HDimConst('Measure Type', 'GBP Total'),\n",
    "            HDimConst('Unit','gbp-million')\n",
    "            ]"
   ]
  },
  {
   "cell_type": "code",
   "execution_count": 9,
   "metadata": {},
   "outputs": [
    {
     "data": {
      "text/html": [
       "<div id=\"injblock1001\">\n",
       "<style>\n",
       "table.ex, table.exkey { border: thin black solid }\n",
       "table.ex td, table.ex tr { border: none }\n",
       "td.xb { font-weight: bold }\n",
       "td.xn { color: green }\n",
       "td.xd { color: purple }\n",
       "span.xo { text-decoration: line-through; }\n",
       "span.xn { }\n",
       "table { border-collapse: collapse }\n",
       "td.xc0 { background-color: Aqua }\n",
       "td.xc1 { background-color: LightGreen }\n",
       "td.xc2 { background-color: MistyRose }\n",
       "td.xc3 { background-color: LightGray }\n",
       "td.xc4 { background-color: BurlyWood }\n",
       "td.xc5 { background-color: Coral }\n",
       "td.xc6 { background-color: Gold }\n",
       "td.xc7 { background-color: Lime }\n",
       "td.xc8 { background-color: LightBlue }\n",
       "td.xc9 { background-color: Plum }\n",
       "td.xc10 { background-color: CornflowerBlue }\n",
       "td.xc11 { background-color: LightYellow }\n",
       "td.xc12 { background-color: Lavender }\n",
       "td.xc13 { background-color: Violet }\n",
       "td.xc14 { background-color: SeaGreen }\n",
       "td.xc15 { background-color: DeepSkyBlue }\n",
       "td.xc16 { background-color: Blue }\n",
       "td.xc17 { background-color: LightGray }\n",
       "td.xc18 { background-color: PaleTurquoise }\n",
       "td.xc19 { background-color: Tan }\n",
       "td.xc20 { background-color: SkyBlue }\n",
       "table.ex td:hover { border: thin blue solid }\n",
       "table.ex td.excOBS:hover { border: thin red solid }\n",
       "table.ex td.selected { background-color: red; border: thin blue dotted }\n",
       "</style>\n",
       "\n",
       "\n",
       "<table class=\"exkey\">\n",
       "<tr><td class=\"xc0\">OBS</td><td class=\"xc1\">Year</td><td class=\"xc2\">geo1</td><td class=\"xc3\">geo3</td><td class=\"xc4\">Flow</td></tr></table>\n",
       "\n",
       "<table class=\"ex\">\n",
       "<caption style=\"text-align:center; padding:0px; caption-side:bottom\">Table C5 2009-2012</caption>\n",
       "<tr><td class=\"xb\" title=\"0 0\">C5 </td><td class=\"xb\" title=\"1 0\"></td><td class=\"xb\" title=\"2 0\">Professional, Scientific and Technical Support industry analysed by products 2009 - 2012</td><td class=\"\" title=\"3 0\"></td><td class=\"\" title=\"4 0\"></td><td class=\"\" title=\"5 0\"></td><td class=\"\" title=\"6 0\"></td><td class=\"\" title=\"7 0\"></td><td class=\"\" title=\"8 0\"></td><td class=\"\" title=\"9 0\"></td><td class=\"\" title=\"10 0\"></td><td class=\"\" title=\"11 0\"></td><td class=\"\" title=\"12 0\"></td><td class=\"\" title=\"13 0\"></td><td class=\"\" title=\"14 0\"></td><td class=\"\" title=\"15 0\"></td><td class=\"\" title=\"16 0\"></td><td class=\"\" title=\"17 0\"></td></tr>\n",
       "<tr><td class=\"xb\" title=\"0 1\"></td><td class=\"xb\" title=\"1 1\"></td><td class=\"xb\" title=\"2 1\"></td><td class=\"\" title=\"3 1\"></td><td class=\"\" title=\"4 1\"></td><td class=\"\" title=\"5 1\"></td><td class=\"\" title=\"6 1\"></td><td class=\"\" title=\"7 1\"></td><td class=\"\" title=\"8 1\"></td><td class=\"\" title=\"9 1\"></td><td class=\"\" title=\"10 1\"></td><td class=\"\" title=\"11 1\"></td><td class=\"\" title=\"12 1\"></td><td class=\"\" title=\"13 1\"></td><td class=\"\" title=\"14 1\"></td><td class=\"\" title=\"15 1\"></td><td class=\"\" title=\"16 1\"></td><td class=\"\" title=\"17 1\">£ million</td></tr>\n",
       "<tr><td class=\"\" title=\"0 2\"></td><td class=\"\" title=\"1 2\"></td><td class=\"\" title=\"2 2\"></td><td class=\"\" title=\"3 2\"></td><td class=\"xc4 xb\" title=\"4 2\">Exports</td><td class=\"\" title=\"5 2\"></td><td class=\"\" title=\"6 2\"></td><td class=\"\" title=\"7 2\"></td><td class=\"\" title=\"8 2\"></td><td class=\"xc4 xb\" title=\"9 2\">Imports </td><td class=\"\" title=\"10 2\"></td><td class=\"\" title=\"11 2\"></td><td class=\"\" title=\"12 2\"></td><td class=\"\" title=\"13 2\"></td><td class=\"xc4 xb\" title=\"14 2\">Balances</td><td class=\"\" title=\"15 2\"></td><td class=\"\" title=\"16 2\"></td><td class=\"\" title=\"17 2\"></td></tr>\n",
       "<tr><td class=\"xb\" title=\"0 3\"></td><td class=\"xb\" title=\"1 3\"></td><td class=\"xb\" title=\"2 3\"></td><td class=\"xb\" title=\"3 3\"></td><td class=\"xc1 xb xn\" title=\"4 3\">2009.0</td><td class=\"xc1 xb xn\" title=\"5 3\">2010.0</td><td class=\"xc1 xb xn\" title=\"6 3\">2011.0</td><td class=\"xc1 xb xn\" title=\"7 3\">2012.0</td><td class=\"xb\" title=\"8 3\"></td><td class=\"xc1 xb xn\" title=\"9 3\">2009.0</td><td class=\"xc1 xb xn\" title=\"10 3\">2010.0</td><td class=\"xc1 xb xn\" title=\"11 3\">2011.0</td><td class=\"xc1 xb xn\" title=\"12 3\">2012.0</td><td class=\"xb\" title=\"13 3\"></td><td class=\"xc1 xb xn\" title=\"14 3\">2009.0</td><td class=\"xc1 xb xn\" title=\"15 3\">2010.0</td><td class=\"xc1 xb xn\" title=\"16 3\">2011.0</td><td class=\"xc1 xb xn\" title=\"17 3\">2012.0</td></tr>\n",
       "<tr><td class=\"xc2 xb\" title=\"0 4\">Agricultural, Mining and On-site Processing Services </td><td class=\"xb\" title=\"1 4\"></td><td class=\"xb\" title=\"2 4\"></td><td class=\"xb\" title=\"3 4\"></td><td class=\"xb\" title=\"4 4\"></td><td class=\"xb\" title=\"5 4\"></td><td class=\"xb\" title=\"6 4\"></td><td class=\"xb\" title=\"7 4\"></td><td class=\"xb\" title=\"8 4\"></td><td class=\"xb\" title=\"9 4\"></td><td class=\"xb\" title=\"10 4\"></td><td class=\"xb\" title=\"11 4\"></td><td class=\"xb\" title=\"12 4\"></td><td class=\"xb\" title=\"13 4\"></td><td class=\"xb\" title=\"14 4\"></td><td class=\"xb\" title=\"15 4\"></td><td class=\"xb\" title=\"16 4\"></td><td class=\"\" title=\"17 4\"></td></tr>\n",
       "<tr><td class=\"\" title=\"0 5\"></td><td class=\"\" title=\"1 5\"></td><td class=\"xc3\" title=\"2 5\">Agricultural</td><td class=\"xb\" title=\"3 5\"></td><td class=\"xc0 xn\" title=\"4 5\">3.852</td><td class=\"xc0\" title=\"5 5\">..</td><td class=\"xc0\" title=\"6 5\">..</td><td class=\"xc0\" title=\"7 5\">..</td><td class=\"\" title=\"8 5\"></td><td class=\"xc0\" title=\"9 5\">-</td><td class=\"xc0\" title=\"10 5\">..</td><td class=\"xc0\" title=\"11 5\">..</td><td class=\"xc0\" title=\"12 5\">..</td><td class=\"\" title=\"13 5\"></td><td class=\"xc0 xn\" title=\"14 5\">3.378</td><td class=\"xc0\" title=\"15 5\">-</td><td class=\"xc0\" title=\"16 5\">-</td><td class=\"xc0\" title=\"17 5\">-</td></tr>\n",
       "<tr><td class=\"\" title=\"0 6\"></td><td class=\"\" title=\"1 6\"></td><td class=\"xc3\" title=\"2 6\">Mining</td><td class=\"\" title=\"3 6\"></td><td class=\"xc0\" title=\"4 6\">..</td><td class=\"xc0 xn\" title=\"5 6\">95.883</td><td class=\"xc0 xn\" title=\"6 6\">145.03</td><td class=\"xc0 xn\" title=\"7 6\">148.325</td><td class=\"\" title=\"8 6\"></td><td class=\"xc0\" title=\"9 6\">..</td><td class=\"xc0 xn\" title=\"10 6\">3.549</td><td class=\"xc0 xn\" title=\"11 6\">23.572</td><td class=\"xc0 xn\" title=\"12 6\">13.975</td><td class=\"\" title=\"13 6\"></td><td class=\"xc0 xn\" title=\"14 6\">66.266</td><td class=\"xc0 xn\" title=\"15 6\">92.33399999999999</td><td class=\"xc0 xn\" title=\"16 6\">121.458</td><td class=\"xc0 xn\" title=\"17 6\">134.35</td></tr>\n",
       "<tr><td class=\"\" title=\"0 7\"></td><td class=\"\" title=\"1 7\"></td><td class=\"xc3\" title=\"2 7\">Waste treatment and depollution</td><td class=\"\" title=\"3 7\"></td><td class=\"xc0\" title=\"4 7\">..</td><td class=\"xc0\" title=\"5 7\">..</td><td class=\"xc0\" title=\"6 7\">..</td><td class=\"xc0\" title=\"7 7\">..</td><td class=\"\" title=\"8 7\"></td><td class=\"xc0\" title=\"9 7\">..</td><td class=\"xc0\" title=\"10 7\">..</td><td class=\"xc0\" title=\"11 7\">..</td><td class=\"xc0\" title=\"12 7\">..</td><td class=\"\" title=\"13 7\"></td><td class=\"xc0 xn\" title=\"14 7\">1.422</td><td class=\"xc0 xn\" title=\"15 7\">1.876</td><td class=\"xc0 xn\" title=\"16 7\">1.888</td><td class=\"xc0 xn\" title=\"17 7\">3.786</td></tr>\n",
       "<tr><td class=\"\" title=\"0 8\"></td><td class=\"\" title=\"1 8\"></td><td class=\"xc3\" title=\"2 8\">Other on-site processing services</td><td class=\"\" title=\"3 8\"></td><td class=\"xc0\" title=\"4 8\">..</td><td class=\"xc0 xn\" title=\"5 8\">31.985</td><td class=\"xc0 xn\" title=\"6 8\">18.041</td><td class=\"xc0 xn\" title=\"7 8\">76.045</td><td class=\"\" title=\"8 8\"></td><td class=\"xc0\" title=\"9 8\">..</td><td class=\"xc0 xn\" title=\"10 8\">2.86</td><td class=\"xc0 xn\" title=\"11 8\">4.73</td><td class=\"xc0 xn\" title=\"12 8\">6.555</td><td class=\"\" title=\"13 8\"></td><td class=\"xc0 xn\" title=\"14 8\">20.452</td><td class=\"xc0 xn\" title=\"15 8\">29.125</td><td class=\"xc0 xn\" title=\"16 8\">13.311</td><td class=\"xc0 xn\" title=\"17 8\">69.49000000000001</td></tr>\n",
       "<tr><td class=\"\" title=\"0 9\"></td><td class=\"xb\" title=\"1 9\">Total Agricultural, Mining and On-site Processing Services</td><td class=\"\" title=\"2 9\"></td><td class=\"\" title=\"3 9\"></td><td class=\"xc0 xb xn\" title=\"4 9\">99.99600000000001</td><td class=\"xc0 xb xn\" title=\"5 9\">137.3</td><td class=\"xc0 xb xn\" title=\"6 9\">170.438</td><td class=\"xc0 xb xn\" title=\"7 9\">232.66699999999997</td><td class=\"xb\" title=\"8 9\"></td><td class=\"xc0 xb xn\" title=\"9 9\">8.478</td><td class=\"xc0 xb xn\" title=\"10 9\">14.385</td><td class=\"xc0 xb xn\" title=\"11 9\">34.25</td><td class=\"xc0 xb xn\" title=\"12 9\">24.959</td><td class=\"xb\" title=\"13 9\"></td><td class=\"xc0 xb xn\" title=\"14 9\">91.518</td><td class=\"xc0 xb xn\" title=\"15 9\">122.915</td><td class=\"xc0 xb xn\" title=\"16 9\">136.18800000000002</td><td class=\"xc0 xb xn\" title=\"17 9\">207.708</td></tr>\n",
       "<tr><td class=\"\" title=\"0 10\"></td><td class=\"\" title=\"1 10\"></td><td class=\"\" title=\"2 10\"></td><td class=\"\" title=\"3 10\"></td><td class=\"\" title=\"4 10\"></td><td class=\"\" title=\"5 10\"></td><td class=\"\" title=\"6 10\"></td><td class=\"\" title=\"7 10\"></td><td class=\"\" title=\"8 10\"></td><td class=\"\" title=\"9 10\"></td><td class=\"\" title=\"10 10\"></td><td class=\"\" title=\"11 10\"></td><td class=\"\" title=\"12 10\"></td><td class=\"\" title=\"13 10\"></td><td class=\"\" title=\"14 10\"></td><td class=\"\" title=\"15 10\"></td><td class=\"\" title=\"16 10\"></td><td class=\"\" title=\"17 10\"></td></tr>\n",
       "<tr><td class=\"\" title=\"0 11\"></td><td class=\"\" title=\"1 11\"></td><td class=\"\" title=\"2 11\"></td><td class=\"\" title=\"3 11\"></td><td class=\"\" title=\"4 11\"></td><td class=\"\" title=\"5 11\"></td><td class=\"\" title=\"6 11\"></td><td class=\"\" title=\"7 11\"></td><td class=\"\" title=\"8 11\"></td><td class=\"\" title=\"9 11\"></td><td class=\"\" title=\"10 11\"></td><td class=\"\" title=\"11 11\"></td><td class=\"\" title=\"12 11\"></td><td class=\"\" title=\"13 11\"></td><td class=\"\" title=\"14 11\"></td><td class=\"\" title=\"15 11\"></td><td class=\"\" title=\"16 11\"></td><td class=\"\" title=\"17 11\"></td></tr>\n",
       "<tr><td class=\"xc2 xb\" title=\"0 12\">Business and Professional Services</td><td class=\"\" title=\"1 12\"></td><td class=\"\" title=\"2 12\"></td><td class=\"\" title=\"3 12\"></td><td class=\"\" title=\"4 12\"></td><td class=\"\" title=\"5 12\"></td><td class=\"\" title=\"6 12\"></td><td class=\"\" title=\"7 12\"></td><td class=\"\" title=\"8 12\"></td><td class=\"\" title=\"9 12\"></td><td class=\"\" title=\"10 12\"></td><td class=\"\" title=\"11 12\"></td><td class=\"\" title=\"12 12\"></td><td class=\"\" title=\"13 12\"></td><td class=\"\" title=\"14 12\"></td><td class=\"\" title=\"15 12\"></td><td class=\"\" title=\"16 12\"></td><td class=\"\" title=\"17 12\"></td></tr>\n",
       "<tr><td class=\"\" title=\"0 13\"></td><td class=\"\" title=\"1 13\"></td><td class=\"xc3\" title=\"2 13\">Accountancy, auditing, bookkeeping and tax consulting services</td><td class=\"\" title=\"3 13\"></td><td class=\"xc0 xn\" title=\"4 13\">1061.355</td><td class=\"xc0 xn\" title=\"5 13\">1001.211</td><td class=\"xc0 xn\" title=\"6 13\">1016.957</td><td class=\"xc0 xn\" title=\"7 13\">1100.715</td><td class=\"\" title=\"8 13\"></td><td class=\"xc0 xn\" title=\"9 13\">329.748</td><td class=\"xc0 xn\" title=\"10 13\">299.586</td><td class=\"xc0 xn\" title=\"11 13\">377.14</td><td class=\"xc0 xn\" title=\"12 13\">406.214</td><td class=\"\" title=\"13 13\"></td><td class=\"xc0 xn\" title=\"14 13\">731.607</td><td class=\"xc0 xn\" title=\"15 13\">701.625</td><td class=\"xc0 xn\" title=\"16 13\">639.817</td><td class=\"xc0 xn\" title=\"17 13\">694.501</td></tr>\n",
       "<tr><td class=\"\" title=\"0 14\"></td><td class=\"\" title=\"1 14\"></td><td class=\"xc3\" title=\"2 14\">Advertising</td><td class=\"\" title=\"3 14\"></td><td class=\"xc0 xn\" title=\"4 14\">1607.981</td><td class=\"xc0 xn\" title=\"5 14\">1463.497</td><td class=\"xc0 xn\" title=\"6 14\">1653.148</td><td class=\"xc0 xn\" title=\"7 14\">1922.401</td><td class=\"\" title=\"8 14\"></td><td class=\"xc0 xn\" title=\"9 14\">1146.928</td><td class=\"xc0 xn\" title=\"10 14\">928.51</td><td class=\"xc0 xn\" title=\"11 14\">835.217</td><td class=\"xc0 xn\" title=\"12 14\">890.83</td><td class=\"\" title=\"13 14\"></td><td class=\"xc0 xn\" title=\"14 14\">461.0529999999999</td><td class=\"xc0 xn\" title=\"15 14\">534.9870000000001</td><td class=\"xc0 xn\" title=\"16 14\">817.9309999999999</td><td class=\"xc0 xn\" title=\"17 14\">1031.571</td></tr>\n",
       "<tr><td class=\"\" title=\"0 15\"></td><td class=\"\" title=\"1 15\"></td><td class=\"xc3\" title=\"2 15\">Management consulting</td><td class=\"\" title=\"3 15\"></td><td class=\"xc0 xn\" title=\"4 15\">1409.16</td><td class=\"xc0 xn\" title=\"5 15\">940.901</td><td class=\"xc0 xn\" title=\"6 15\">974.386</td><td class=\"xc0 xn\" title=\"7 15\">1434.1</td><td class=\"\" title=\"8 15\"></td><td class=\"xc0 xn\" title=\"9 15\">569.61</td><td class=\"xc0 xn\" title=\"10 15\">539.789</td><td class=\"xc0 xn\" title=\"11 15\">374.051</td><td class=\"xc0 xn\" title=\"12 15\">442.625</td><td class=\"\" title=\"13 15\"></td><td class=\"xc0 xn\" title=\"14 15\">839.55</td><td class=\"xc0 xn\" title=\"15 15\">401.11199999999997</td><td class=\"xc0 xn\" title=\"16 15\">600.335</td><td class=\"xc0 xn\" title=\"17 15\">991.4749999999999</td></tr>\n",
       "<tr><td class=\"\" title=\"0 16\"></td><td class=\"\" title=\"1 16\"></td><td class=\"xc3\" title=\"2 16\">Public relations services</td><td class=\"\" title=\"3 16\"></td><td class=\"xc0 xn\" title=\"4 16\">385.018</td><td class=\"xc0 xn\" title=\"5 16\">339.387</td><td class=\"xc0 xn\" title=\"6 16\">351.756</td><td class=\"xc0 xn\" title=\"7 16\">297.322</td><td class=\"\" title=\"8 16\"></td><td class=\"xc0 xn\" title=\"9 16\">150.769</td><td class=\"xc0 xn\" title=\"10 16\">130.17</td><td class=\"xc0 xn\" title=\"11 16\">113.253</td><td class=\"xc0 xn\" title=\"12 16\">62.349</td><td class=\"\" title=\"13 16\"></td><td class=\"xc0 xn\" title=\"14 16\">234.24899999999997</td><td class=\"xc0 xn\" title=\"15 16\">209.217</td><td class=\"xc0 xn\" title=\"16 16\">238.503</td><td class=\"xc0 xn\" title=\"17 16\">234.973</td></tr>\n",
       "<tr><td class=\"\" title=\"0 17\"></td><td class=\"\" title=\"1 17\"></td><td class=\"xc3\" title=\"2 17\">Recruitment </td><td class=\"\" title=\"3 17\"></td><td class=\"xc0 xn\" title=\"4 17\">46.421</td><td class=\"xc0 xn\" title=\"5 17\">157.277</td><td class=\"xc0 xn\" title=\"6 17\">39.557</td><td class=\"xc0 xn\" title=\"7 17\">133.189</td><td class=\"\" title=\"8 17\"></td><td class=\"xc0 xn\" title=\"9 17\">26.631</td><td class=\"xc0 xn\" title=\"10 17\">119.236</td><td class=\"xc0 xn\" title=\"11 17\">30.202</td><td class=\"xc0 xn\" title=\"12 17\">72.986</td><td class=\"\" title=\"13 17\"></td><td class=\"xc0 xn\" title=\"14 17\">19.79</td><td class=\"xc0 xn\" title=\"15 17\">38.04099999999998</td><td class=\"xc0 xn\" title=\"16 17\">9.355</td><td class=\"xc0 xn\" title=\"17 17\">60.20299999999999</td></tr>\n",
       "<tr><td class=\"\" title=\"0 18\"></td><td class=\"\" title=\"1 18\"></td><td class=\"xc3\" title=\"2 18\">Other business management</td><td class=\"\" title=\"3 18\"></td><td class=\"xc0\" title=\"4 18\">..</td><td class=\"xc0 xn\" title=\"5 18\">956.287</td><td class=\"xc0 xn\" title=\"6 18\">1058.237</td><td class=\"xc0 xn\" title=\"7 18\">1063.195</td><td class=\"\" title=\"8 18\"></td><td class=\"xc0\" title=\"9 18\">..</td><td class=\"xc0 xn\" title=\"10 18\">533.844</td><td class=\"xc0 xn\" title=\"11 18\">549.55</td><td class=\"xc0 xn\" title=\"12 18\">623.522</td><td class=\"\" title=\"13 18\"></td><td class=\"xc0 xn\" title=\"14 18\">259.31399999999996</td><td class=\"xc0 xn\" title=\"15 18\">422.443</td><td class=\"xc0 xn\" title=\"16 18\">508.6870000000001</td><td class=\"xc0 xn\" title=\"17 18\">439.6729999999999</td></tr>\n",
       "<tr><td class=\"\" title=\"0 19\"></td><td class=\"\" title=\"1 19\"></td><td class=\"xc3\" title=\"2 19\">Legal services</td><td class=\"\" title=\"3 19\"></td><td class=\"xc0 xn\" title=\"4 19\">3147.087</td><td class=\"xc0 xn\" title=\"5 19\">3157.225</td><td class=\"xc0 xn\" title=\"6 19\">3482.114</td><td class=\"xc0 xn\" title=\"7 19\">3823.761</td><td class=\"\" title=\"8 19\"></td><td class=\"xc0 xn\" title=\"9 19\">572.373</td><td class=\"xc0 xn\" title=\"10 19\">492.492</td><td class=\"xc0 xn\" title=\"11 19\">475.685</td><td class=\"xc0 xn\" title=\"12 19\">739.027</td><td class=\"\" title=\"13 19\"></td><td class=\"xc0 xn\" title=\"14 19\">2574.714</td><td class=\"xc0 xn\" title=\"15 19\">2664.7329999999997</td><td class=\"xc0 xn\" title=\"16 19\">3006.429</td><td class=\"xc0 xn\" title=\"17 19\">3084.734</td></tr>\n",
       "<tr><td class=\"\" title=\"0 20\"></td><td class=\"\" title=\"1 20\"></td><td class=\"xc3\" title=\"2 20\">Market research and public opinion polling</td><td class=\"\" title=\"3 20\"></td><td class=\"xc0 xn\" title=\"4 20\">464.635</td><td class=\"xc0 xn\" title=\"5 20\">445.345</td><td class=\"xc0 xn\" title=\"6 20\">480.742</td><td class=\"xc0 xn\" title=\"7 20\">546.802</td><td class=\"\" title=\"8 20\"></td><td class=\"xc0 xn\" title=\"9 20\">322.927</td><td class=\"xc0 xn\" title=\"10 20\">276.802</td><td class=\"xc0 xn\" title=\"11 20\">314.325</td><td class=\"xc0 xn\" title=\"12 20\">310.449</td><td class=\"\" title=\"13 20\"></td><td class=\"xc0 xn\" title=\"14 20\">141.70799999999997</td><td class=\"xc0 xn\" title=\"15 20\">168.543</td><td class=\"xc0 xn\" title=\"16 20\">166.41700000000003</td><td class=\"xc0 xn\" title=\"17 20\">236.353</td></tr>\n",
       "<tr><td class=\"\" title=\"0 21\"></td><td class=\"\" title=\"1 21\"></td><td class=\"xc3\" title=\"2 21\">Operational leasing services</td><td class=\"\" title=\"3 21\"></td><td class=\"xc0 xn\" title=\"4 21\">9.611</td><td class=\"xc0 xn\" title=\"5 21\">8.174</td><td class=\"xc0\" title=\"6 21\">..</td><td class=\"xc0\" title=\"7 21\">..</td><td class=\"\" title=\"8 21\"></td><td class=\"xc0 xn\" title=\"9 21\">8.14</td><td class=\"xc0 xn\" title=\"10 21\">2.477</td><td class=\"xc0\" title=\"11 21\">..</td><td class=\"xc0\" title=\"12 21\">..</td><td class=\"\" title=\"13 21\"></td><td class=\"xc0 xn\" title=\"14 21\">1.471</td><td class=\"xc0 xn\" title=\"15 21\">5.696999999999999</td><td class=\"xc0 xn\" title=\"16 21\">0.6519999999999992</td><td class=\"xc0 xn\" title=\"17 21\">8.266</td></tr>\n",
       "<tr><td class=\"\" title=\"0 22\"></td><td class=\"\" title=\"1 22\"></td><td class=\"xc3\" title=\"2 22\">Procurement</td><td class=\"\" title=\"3 22\"></td><td class=\"xc0 xn\" title=\"4 22\">106.922</td><td class=\"xc0 xn\" title=\"5 22\">44.541</td><td class=\"xc0 xn\" title=\"6 22\">39.687</td><td class=\"xc0 xn\" title=\"7 22\">45.25</td><td class=\"\" title=\"8 22\"></td><td class=\"xc0 xn\" title=\"9 22\">53.202</td><td class=\"xc0 xn\" title=\"10 22\">41.024</td><td class=\"xc0 xn\" title=\"11 22\">31.65</td><td class=\"xc0 xn\" title=\"12 22\">42.647</td><td class=\"\" title=\"13 22\"></td><td class=\"xc0 xn\" title=\"14 22\">53.72</td><td class=\"xc0 xn\" title=\"15 22\">3.516999999999996</td><td class=\"xc0 xn\" title=\"16 22\">8.036999999999999</td><td class=\"xc0 xn\" title=\"17 22\">2.6030000000000015</td></tr>\n",
       "<tr><td class=\"\" title=\"0 23\"></td><td class=\"\" title=\"1 23\"></td><td class=\"xc3\" title=\"2 23\">Property management</td><td class=\"\" title=\"3 23\"></td><td class=\"xc0\" title=\"4 23\">..</td><td class=\"xc0 xn\" title=\"5 23\">22.519</td><td class=\"xc0 xn\" title=\"6 23\">8.181</td><td class=\"xc0 xn\" title=\"7 23\">22.399</td><td class=\"\" title=\"8 23\"></td><td class=\"xc0\" title=\"9 23\">..</td><td class=\"xc0 xn\" title=\"10 23\">8.055</td><td class=\"xc0 xn\" title=\"11 23\">6.661</td><td class=\"xc0 xn\" title=\"12 23\">6.119</td><td class=\"\" title=\"13 23\"></td><td class=\"xc0 xn\" title=\"14 23\">10.496</td><td class=\"xc0 xn\" title=\"15 23\">14.463999999999999</td><td class=\"xc0 xn\" title=\"16 23\">1.5199999999999996</td><td class=\"xc0 xn\" title=\"17 23\">16.28</td></tr>\n",
       "<tr><td class=\"\" title=\"0 24\"></td><td class=\"\" title=\"1 24\"></td><td class=\"xc3\" title=\"2 24\">Research and development</td><td class=\"\" title=\"3 24\"></td><td class=\"xc0 xn\" title=\"4 24\">3457.039</td><td class=\"xc0 xn\" title=\"5 24\">4263.563</td><td class=\"xc0 xn\" title=\"6 24\">4444.287</td><td class=\"xc0 xn\" title=\"7 24\">4439.92</td><td class=\"\" title=\"8 24\"></td><td class=\"xc0 xn\" title=\"9 24\">2724.332</td><td class=\"xc0 xn\" title=\"10 24\">3464.051</td><td class=\"xc0 xn\" title=\"11 24\">3423.905</td><td class=\"xc0 xn\" title=\"12 24\">2948.484</td><td class=\"\" title=\"13 24\"></td><td class=\"xc0 xn\" title=\"14 24\">732.7070000000003</td><td class=\"xc0 xn\" title=\"15 24\">799.5120000000002</td><td class=\"xc0 xn\" title=\"16 24\">1020.3820000000001</td><td class=\"xc0 xn\" title=\"17 24\">1491.4360000000001</td></tr>\n",
       "<tr><td class=\"\" title=\"0 25\"></td><td class=\"\" title=\"1 25\"></td><td class=\"xc3\" title=\"2 25\">Services between related enterprises</td><td class=\"\" title=\"3 25\"></td><td class=\"xc0 xn\" title=\"4 25\">6526.945</td><td class=\"xc0 xn\" title=\"5 25\">5865.42</td><td class=\"xc0 xn\" title=\"6 25\">5647.252</td><td class=\"xc0 xn\" title=\"7 25\">6622.026</td><td class=\"\" title=\"8 25\"></td><td class=\"xc0 xn\" title=\"9 25\">2286.949</td><td class=\"xc0 xn\" title=\"10 25\">1685.445</td><td class=\"xc0 xn\" title=\"11 25\">1393.1</td><td class=\"xc0 xn\" title=\"12 25\">1829.781</td><td class=\"\" title=\"13 25\"></td><td class=\"xc0 xn\" title=\"14 25\">4239.995999999999</td><td class=\"xc0 xn\" title=\"15 25\">4179.975</td><td class=\"xc0 xn\" title=\"16 25\">4254.152</td><td class=\"xc0 xn\" title=\"17 25\">4792.245</td></tr>\n",
       "<tr><td class=\"\" title=\"0 26\"></td><td class=\"\" title=\"1 26\"></td><td class=\"xc3\" title=\"2 26\">Other business and professional services</td><td class=\"\" title=\"3 26\"></td><td class=\"xc0 xn\" title=\"4 26\">1153.738</td><td class=\"xc0 xn\" title=\"5 26\">1373.291</td><td class=\"xc0\" title=\"6 26\">..</td><td class=\"xc0\" title=\"7 26\">..</td><td class=\"\" title=\"8 26\"></td><td class=\"xc0 xn\" title=\"9 26\">629.245</td><td class=\"xc0 xn\" title=\"10 26\">692.885</td><td class=\"xc0\" title=\"11 26\">..</td><td class=\"xc0\" title=\"12 26\">..</td><td class=\"\" title=\"13 26\"></td><td class=\"xc0 xn\" title=\"14 26\">524.493</td><td class=\"xc0 xn\" title=\"15 26\">680.406</td><td class=\"xc0 xn\" title=\"16 26\">387.11199999999997</td><td class=\"xc0 xn\" title=\"17 26\">626.1250000000001</td></tr>\n",
       "<tr><td class=\"\" title=\"0 27\"></td><td class=\"xb\" title=\"1 27\">Total Business and Professional Services</td><td class=\"\" title=\"2 27\"></td><td class=\"\" title=\"3 27\"></td><td class=\"xc0 xb xn\" title=\"4 27\">19967.94</td><td class=\"xc0 xb xn\" title=\"5 27\">20038.638000000003</td><td class=\"xc0 xb xn\" title=\"6 27\">20534.245000000003</td><td class=\"xc0 xb xn\" title=\"7 27\">23026.007999999998</td><td class=\"xb\" title=\"8 27\"></td><td class=\"xc0 xb xn\" title=\"9 27\">9143.072000000002</td><td class=\"xc0 xb xn\" title=\"10 27\">9214.366</td><td class=\"xc0 xb xn\" title=\"11 27\">8874.916</td><td class=\"xc0 xb xn\" title=\"12 27\">9315.57</td><td class=\"xb\" title=\"13 27\"></td><td class=\"xc0 xb xn\" title=\"14 27\">10824.868</td><td class=\"xc0 xb xn\" title=\"15 27\">10824.272</td><td class=\"xc0 xb xn\" title=\"16 27\">11659.329000000002</td><td class=\"xc0 xb xn\" title=\"17 27\">13710.437999999998</td></tr>\n",
       "<tr><td class=\"\" title=\"0 28\"></td><td class=\"\" title=\"1 28\"></td><td class=\"\" title=\"2 28\"></td><td class=\"\" title=\"3 28\"></td><td class=\"\" title=\"4 28\"></td><td class=\"\" title=\"5 28\"></td><td class=\"\" title=\"6 28\"></td><td class=\"\" title=\"7 28\"></td><td class=\"\" title=\"8 28\"></td><td class=\"\" title=\"9 28\"></td><td class=\"\" title=\"10 28\"></td><td class=\"\" title=\"11 28\"></td><td class=\"\" title=\"12 28\"></td><td class=\"\" title=\"13 28\"></td><td class=\"\" title=\"14 28\"></td><td class=\"\" title=\"15 28\"></td><td class=\"\" title=\"16 28\"></td><td class=\"\" title=\"17 28\"></td></tr>\n",
       "<tr><td class=\"\" title=\"0 29\"></td><td class=\"\" title=\"1 29\"></td><td class=\"\" title=\"2 29\"></td><td class=\"\" title=\"3 29\"></td><td class=\"\" title=\"4 29\"></td><td class=\"\" title=\"5 29\"></td><td class=\"\" title=\"6 29\"></td><td class=\"\" title=\"7 29\"></td><td class=\"\" title=\"8 29\"></td><td class=\"\" title=\"9 29\"></td><td class=\"\" title=\"10 29\"></td><td class=\"\" title=\"11 29\"></td><td class=\"\" title=\"12 29\"></td><td class=\"\" title=\"13 29\"></td><td class=\"\" title=\"14 29\"></td><td class=\"\" title=\"15 29\"></td><td class=\"\" title=\"16 29\"></td><td class=\"\" title=\"17 29\"></td></tr>\n",
       "<tr><td class=\"xc2 xb\" title=\"0 30\">Communications and Computer Information Services</td><td class=\"\" title=\"1 30\"></td><td class=\"\" title=\"2 30\"></td><td class=\"\" title=\"3 30\"></td><td class=\"\" title=\"4 30\"></td><td class=\"\" title=\"5 30\"></td><td class=\"\" title=\"6 30\"></td><td class=\"\" title=\"7 30\"></td><td class=\"\" title=\"8 30\"></td><td class=\"\" title=\"9 30\"></td><td class=\"\" title=\"10 30\"></td><td class=\"\" title=\"11 30\"></td><td class=\"\" title=\"12 30\"></td><td class=\"\" title=\"13 30\"></td><td class=\"\" title=\"14 30\"></td><td class=\"\" title=\"15 30\"></td><td class=\"\" title=\"16 30\"></td><td class=\"\" title=\"17 30\"></td></tr>\n",
       "<tr><td class=\"\" title=\"0 31\"></td><td class=\"\" title=\"1 31\"></td><td class=\"xc3\" title=\"2 31\">Postal and courier</td><td class=\"\" title=\"3 31\"></td><td class=\"xc0\" title=\"4 31\">-</td><td class=\"xc0 xn\" title=\"5 31\">0.926</td><td class=\"xc0\" title=\"6 31\">-</td><td class=\"xc0\" title=\"7 31\">..</td><td class=\"\" title=\"8 31\"></td><td class=\"xc0 xn\" title=\"9 31\">2.449</td><td class=\"xc0 xn\" title=\"10 31\">4.397</td><td class=\"xc0 xn\" title=\"11 31\">2.693</td><td class=\"xc0\" title=\"12 31\">..</td><td class=\"\" title=\"13 31\"></td><td class=\"xc0 xn\" title=\"14 31\">-2.364</td><td class=\"xc0 xn\" title=\"15 31\">-3.471</td><td class=\"xc0 xn\" title=\"16 31\">-2.444</td><td class=\"xc0 xn\" title=\"17 31\">-82.96100000000001</td></tr>\n",
       "<tr><td class=\"\" title=\"0 32\"></td><td class=\"\" title=\"1 32\"></td><td class=\"xc3\" title=\"2 32\">Telecommunications</td><td class=\"\" title=\"3 32\"></td><td class=\"xc0\" title=\"4 32\">..</td><td class=\"xc0\" title=\"5 32\">..</td><td class=\"xc0 xn\" title=\"6 32\">16.439</td><td class=\"xc0\" title=\"7 32\">..</td><td class=\"\" title=\"8 32\"></td><td class=\"xc0\" title=\"9 32\">..</td><td class=\"xc0\" title=\"10 32\">..</td><td class=\"xc0 xn\" title=\"11 32\">14.193</td><td class=\"xc0\" title=\"12 32\">..</td><td class=\"\" title=\"13 32\"></td><td class=\"xc0\" title=\"14 32\">..</td><td class=\"xc0\" title=\"15 32\">..</td><td class=\"xc0 xn\" title=\"16 32\">2.2460000000000004</td><td class=\"xc0 xn\" title=\"17 32\">15.025000000000002</td></tr>\n",
       "<tr><td class=\"\" title=\"0 33\"></td><td class=\"\" title=\"1 33\"></td><td class=\"xc3\" title=\"2 33\">Computers</td><td class=\"\" title=\"3 33\"></td><td class=\"xc0 xn\" title=\"4 33\">392.648</td><td class=\"xc0 xn\" title=\"5 33\">321.39</td><td class=\"xc0 xn\" title=\"6 33\">337.011</td><td class=\"xc0 xn\" title=\"7 33\">478.268</td><td class=\"\" title=\"8 33\"></td><td class=\"xc0 xn\" title=\"9 33\">274.156</td><td class=\"xc0 xn\" title=\"10 33\">305.85</td><td class=\"xc0 xn\" title=\"11 33\">335.098</td><td class=\"xc0 xn\" title=\"12 33\">383.946</td><td class=\"\" title=\"13 33\"></td><td class=\"xc0 xn\" title=\"14 33\">118.49200000000002</td><td class=\"xc0 xn\" title=\"15 33\">15.54</td><td class=\"xc0 xn\" title=\"16 33\">1.913000000000011</td><td class=\"xc0 xn\" title=\"17 33\">94.32199999999995</td></tr>\n",
       "<tr><td class=\"\" title=\"0 34\"></td><td class=\"\" title=\"1 34\"></td><td class=\"xc3\" title=\"2 34\">News agency services</td><td class=\"\" title=\"3 34\"></td><td class=\"xc0 xn\" title=\"4 34\">1.837</td><td class=\"xc0\" title=\"5 34\">..</td><td class=\"xc0 xn\" title=\"6 34\">13.898</td><td class=\"xc0 xn\" title=\"7 34\">4.047</td><td class=\"xb\" title=\"8 34\"></td><td class=\"xc0\" title=\"9 34\">-</td><td class=\"xc0\" title=\"10 34\">..</td><td class=\"xc0\" title=\"11 34\">-</td><td class=\"xc0 xn\" title=\"12 34\">0.168</td><td class=\"\" title=\"13 34\"></td><td class=\"xc0 xn\" title=\"14 34\">1.4889999999999999</td><td class=\"xc0\" title=\"15 34\">..</td><td class=\"xc0 xn\" title=\"16 34\">13.74</td><td class=\"xc0 xn\" title=\"17 34\">3.8789999999999996</td></tr>\n",
       "<tr><td class=\"\" title=\"0 35\"></td><td class=\"\" title=\"1 35\"></td><td class=\"xc3\" title=\"2 35\">Publishing services</td><td class=\"\" title=\"3 35\"></td><td class=\"xc0 xn\" title=\"4 35\">19.312</td><td class=\"xc0 xn\" title=\"5 35\">20.243</td><td class=\"xc0 xn\" title=\"6 35\">24.308</td><td class=\"xc0\" title=\"7 35\">..</td><td class=\"\" title=\"8 35\"></td><td class=\"xc0 xn\" title=\"9 35\">24.731</td><td class=\"xc0 xn\" title=\"10 35\">27.829</td><td class=\"xc0 xn\" title=\"11 35\">27.957</td><td class=\"xc0\" title=\"12 35\">..</td><td class=\"\" title=\"13 35\"></td><td class=\"xc0 xn\" title=\"14 35\">-5.4190000000000005</td><td class=\"xc0 xn\" title=\"15 35\">-7.586000000000002</td><td class=\"xc0 xn\" title=\"16 35\">-3.649000000000001</td><td class=\"xc0 xn\" title=\"17 35\">-5.34</td></tr>\n",
       "<tr><td class=\"\" title=\"0 36\"></td><td class=\"\" title=\"1 36\"></td><td class=\"xc3\" title=\"2 36\">Other information provision services</td><td class=\"\" title=\"3 36\"></td><td class=\"xc0\" title=\"4 36\">..</td><td class=\"xc0\" title=\"5 36\">..</td><td class=\"xc0 xn\" title=\"6 36\">159.574</td><td class=\"xc0\" title=\"7 36\">..</td><td class=\"\" title=\"8 36\"></td><td class=\"xc0\" title=\"9 36\">..</td><td class=\"xc0\" title=\"10 36\">..</td><td class=\"xc0 xn\" title=\"11 36\">60.063</td><td class=\"xc0\" title=\"12 36\">..</td><td class=\"\" title=\"13 36\"></td><td class=\"xc0\" title=\"14 36\">..</td><td class=\"xc0\" title=\"15 36\">..</td><td class=\"xc0 xn\" title=\"16 36\">99.51100000000001</td><td class=\"xc0 xn\" title=\"17 36\">56.913</td></tr>\n",
       "<tr><td class=\"\" title=\"0 37\"></td><td class=\"xb\" title=\"1 37\">Total Communcations and Computer Information Services</td><td class=\"\" title=\"2 37\"></td><td class=\"\" title=\"3 37\"></td><td class=\"xc0 xb xn\" title=\"4 37\">661.551</td><td class=\"xc0 xb xn\" title=\"5 37\">688.689</td><td class=\"xc0 xb xn\" title=\"6 37\">552.0</td><td class=\"xc0 xb xn\" title=\"7 37\">678.0</td><td class=\"xb\" title=\"8 37\"></td><td class=\"xc0 xb xn\" title=\"9 37\">636.82</td><td class=\"xc0 xb xn\" title=\"10 37\">619.02</td><td class=\"xc0 xb xn\" title=\"11 37\">440.0</td><td class=\"xc0 xb xn\" title=\"12 37\">596.0</td><td class=\"xb\" title=\"13 37\"></td><td class=\"xc0 xb xn\" title=\"14 37\">25.0</td><td class=\"xc0 xb xn\" title=\"15 37\">69.669</td><td class=\"xc0 xb xn\" title=\"16 37\">112.0</td><td class=\"xc0 xb xn\" title=\"17 37\">82.0</td></tr>\n",
       "<tr><td class=\"\" title=\"0 38\"></td><td class=\"\" title=\"1 38\"></td><td class=\"\" title=\"2 38\"></td><td class=\"\" title=\"3 38\"></td><td class=\"\" title=\"4 38\"></td><td class=\"\" title=\"5 38\"></td><td class=\"\" title=\"6 38\"></td><td class=\"\" title=\"7 38\"></td><td class=\"\" title=\"8 38\"></td><td class=\"\" title=\"9 38\"></td><td class=\"\" title=\"10 38\"></td><td class=\"\" title=\"11 38\"></td><td class=\"\" title=\"12 38\"></td><td class=\"\" title=\"13 38\"></td><td class=\"\" title=\"14 38\"></td><td class=\"\" title=\"15 38\"></td><td class=\"\" title=\"16 38\"></td><td class=\"\" title=\"17 38\"></td></tr>\n",
       "<tr><td class=\"xb\" title=\"0 39\"></td><td class=\"xb\" title=\"1 39\"></td><td class=\"\" title=\"2 39\"></td><td class=\"\" title=\"3 39\"></td><td class=\"\" title=\"4 39\"></td><td class=\"\" title=\"5 39\"></td><td class=\"\" title=\"6 39\"></td><td class=\"\" title=\"7 39\"></td><td class=\"\" title=\"8 39\"></td><td class=\"\" title=\"9 39\"></td><td class=\"\" title=\"10 39\"></td><td class=\"\" title=\"11 39\"></td><td class=\"\" title=\"12 39\"></td><td class=\"\" title=\"13 39\"></td><td class=\"\" title=\"14 39\"></td><td class=\"\" title=\"15 39\"></td><td class=\"\" title=\"16 39\"></td><td class=\"\" title=\"17 39\"></td></tr>\n",
       "<tr><td class=\"xc2 xb\" title=\"0 40\">Construction Services</td><td class=\"\" title=\"1 40\"></td><td class=\"\" title=\"2 40\"></td><td class=\"\" title=\"3 40\"></td><td class=\"\" title=\"4 40\"></td><td class=\"\" title=\"5 40\"></td><td class=\"\" title=\"6 40\"></td><td class=\"\" title=\"7 40\"></td><td class=\"\" title=\"8 40\"></td><td class=\"\" title=\"9 40\"></td><td class=\"\" title=\"10 40\"></td><td class=\"\" title=\"11 40\"></td><td class=\"\" title=\"12 40\"></td><td class=\"\" title=\"13 40\"></td><td class=\"\" title=\"14 40\"></td><td class=\"\" title=\"15 40\"></td><td class=\"\" title=\"16 40\"></td><td class=\"\" title=\"17 40\"></td></tr>\n",
       "<tr><td class=\"xb\" title=\"0 41\"></td><td class=\"\" title=\"1 41\"></td><td class=\"xc3\" title=\"2 41\">Construction in the UK</td><td class=\"\" title=\"3 41\"></td><td class=\"xc0\" title=\"4 41\">..</td><td class=\"xc0\" title=\"5 41\">..</td><td class=\"xc0\" title=\"6 41\">..</td><td class=\"xc0\" title=\"7 41\">..</td><td class=\"\" title=\"8 41\"></td><td class=\"xc0\" title=\"9 41\">..</td><td class=\"xc0\" title=\"10 41\">..</td><td class=\"xc0\" title=\"11 41\">..</td><td class=\"xc0\" title=\"12 41\">..</td><td class=\"\" title=\"13 41\"></td><td class=\"xc0 xn\" title=\"14 41\">-193.471</td><td class=\"xc0\" title=\"15 41\">..</td><td class=\"xc0 xn\" title=\"16 41\">-16.813000000000002</td><td class=\"xc0 xn\" title=\"17 41\">-169.07099999999997</td></tr>\n",
       "<tr><td class=\"\" title=\"0 42\"></td><td class=\"\" title=\"1 42\"></td><td class=\"xc3\" title=\"2 42\">Construction outside the UK</td><td class=\"\" title=\"3 42\"></td><td class=\"xc0\" title=\"4 42\">..</td><td class=\"xc0\" title=\"5 42\">..</td><td class=\"xc0\" title=\"6 42\">..</td><td class=\"xc0\" title=\"7 42\">..</td><td class=\"\" title=\"8 42\"></td><td class=\"xc0\" title=\"9 42\">..</td><td class=\"xc0\" title=\"10 42\">..</td><td class=\"xc0\" title=\"11 42\">..</td><td class=\"xc0\" title=\"12 42\">..</td><td class=\"\" title=\"13 42\"></td><td class=\"xc0 xn\" title=\"14 42\">166.827</td><td class=\"xc0\" title=\"15 42\">..</td><td class=\"xc0 xn\" title=\"16 42\">326.089</td><td class=\"xc0 xn\" title=\"17 42\">402.413</td></tr>\n",
       "<tr><td class=\"\" title=\"0 43\"></td><td class=\"xb\" title=\"1 43\">Total Construction Services</td><td class=\"\" title=\"2 43\"></td><td class=\"\" title=\"3 43\"></td><td class=\"xc0 xb xn\" title=\"4 43\">823.57</td><td class=\"xc0 xb xn\" title=\"5 43\">633.404</td><td class=\"xc0 xb xn\" title=\"6 43\">714.8249999999999</td><td class=\"xc0 xb xn\" title=\"7 43\">784.829</td><td class=\"xb\" title=\"8 43\"></td><td class=\"xc0 xb xn\" title=\"9 43\">850.2139999999999</td><td class=\"xc0 xb xn\" title=\"10 43\">400.736</td><td class=\"xc0 xb xn\" title=\"11 43\">405.549</td><td class=\"xc0 xb xn\" title=\"12 43\">551.487</td><td class=\"xb\" title=\"13 43\"></td><td class=\"xc0 xb xn\" title=\"14 43\">-26.644000000000005</td><td class=\"xc0 xb xn\" title=\"15 43\">232.66800000000006</td><td class=\"xc0 xb xn\" title=\"16 43\">309.276</td><td class=\"xc0 xb xn\" title=\"17 43\">233.34200000000004</td></tr>\n",
       "<tr><td class=\"\" title=\"0 44\"></td><td class=\"xb\" title=\"1 44\"></td><td class=\"\" title=\"2 44\"></td><td class=\"\" title=\"3 44\"></td><td class=\"\" title=\"4 44\"></td><td class=\"\" title=\"5 44\"></td><td class=\"\" title=\"6 44\"></td><td class=\"\" title=\"7 44\"></td><td class=\"\" title=\"8 44\"></td><td class=\"\" title=\"9 44\"></td><td class=\"\" title=\"10 44\"></td><td class=\"\" title=\"11 44\"></td><td class=\"\" title=\"12 44\"></td><td class=\"\" title=\"13 44\"></td><td class=\"\" title=\"14 44\"></td><td class=\"\" title=\"15 44\"></td><td class=\"\" title=\"16 44\"></td><td class=\"\" title=\"17 44\"></td></tr>\n",
       "<tr><td class=\"\" title=\"0 45\"></td><td class=\"\" title=\"1 45\"></td><td class=\"\" title=\"2 45\"></td><td class=\"\" title=\"3 45\"></td><td class=\"\" title=\"4 45\"></td><td class=\"\" title=\"5 45\"></td><td class=\"\" title=\"6 45\"></td><td class=\"\" title=\"7 45\"></td><td class=\"\" title=\"8 45\"></td><td class=\"\" title=\"9 45\"></td><td class=\"\" title=\"10 45\"></td><td class=\"\" title=\"11 45\"></td><td class=\"\" title=\"12 45\"></td><td class=\"\" title=\"13 45\"></td><td class=\"\" title=\"14 45\"></td><td class=\"\" title=\"15 45\"></td><td class=\"\" title=\"16 45\"></td><td class=\"\" title=\"17 45\"></td></tr>\n",
       "<tr><td class=\"xc2 xb\" title=\"0 46\">Financial Services</td><td class=\"\" title=\"1 46\"></td><td class=\"\" title=\"2 46\"></td><td class=\"\" title=\"3 46\"></td><td class=\"\" title=\"4 46\"></td><td class=\"\" title=\"5 46\"></td><td class=\"\" title=\"6 46\"></td><td class=\"\" title=\"7 46\"></td><td class=\"\" title=\"8 46\"></td><td class=\"\" title=\"9 46\"></td><td class=\"\" title=\"10 46\"></td><td class=\"\" title=\"11 46\"></td><td class=\"\" title=\"12 46\"></td><td class=\"\" title=\"13 46\"></td><td class=\"\" title=\"14 46\"></td><td class=\"\" title=\"15 46\"></td><td class=\"\" title=\"16 46\"></td><td class=\"\" title=\"17 46\"></td></tr>\n",
       "<tr><td class=\"\" title=\"0 47\"></td><td class=\"\" title=\"1 47\"></td><td class=\"xc3\" title=\"2 47\">Financial</td><td class=\"\" title=\"3 47\"></td><td class=\"xc0 xn\" title=\"4 47\">368.876</td><td class=\"xc0 xn\" title=\"5 47\">407.892</td><td class=\"xc0 xn\" title=\"6 47\">223.367</td><td class=\"xc0 xn\" title=\"7 47\">517.385</td><td class=\"\" title=\"8 47\"></td><td class=\"xc0 xn\" title=\"9 47\">74.519</td><td class=\"xc0 xn\" title=\"10 47\">173.65</td><td class=\"xc0 xn\" title=\"11 47\">66.536</td><td class=\"xc0 xn\" title=\"12 47\">173.733</td><td class=\"\" title=\"13 47\"></td><td class=\"xc0 xn\" title=\"14 47\">294.35699999999997</td><td class=\"xc0 xn\" title=\"15 47\">234.242</td><td class=\"xc0 xn\" title=\"16 47\">156.831</td><td class=\"xc0 xn\" title=\"17 47\">343.652</td></tr>\n",
       "<tr><td class=\"\" title=\"0 48\"></td><td class=\"\" title=\"1 48\"></td><td class=\"\" title=\"2 48\"></td><td class=\"\" title=\"3 48\"></td><td class=\"\" title=\"4 48\"></td><td class=\"\" title=\"5 48\"></td><td class=\"\" title=\"6 48\"></td><td class=\"\" title=\"7 48\"></td><td class=\"xb\" title=\"8 48\"></td><td class=\"xb\" title=\"9 48\"></td><td class=\"xb\" title=\"10 48\"></td><td class=\"xb\" title=\"11 48\"></td><td class=\"xb\" title=\"12 48\"></td><td class=\"xb\" title=\"13 48\"></td><td class=\"\" title=\"14 48\"></td><td class=\"xb\" title=\"15 48\"></td><td class=\"\" title=\"16 48\"></td><td class=\"\" title=\"17 48\"></td></tr>\n",
       "<tr><td class=\"\" title=\"0 49\"></td><td class=\"\" title=\"1 49\"></td><td class=\"\" title=\"2 49\"></td><td class=\"\" title=\"3 49\"></td><td class=\"\" title=\"4 49\"></td><td class=\"\" title=\"5 49\"></td><td class=\"\" title=\"6 49\"></td><td class=\"\" title=\"7 49\"></td><td class=\"\" title=\"8 49\"></td><td class=\"\" title=\"9 49\"></td><td class=\"\" title=\"10 49\"></td><td class=\"\" title=\"11 49\"></td><td class=\"\" title=\"12 49\"></td><td class=\"\" title=\"13 49\"></td><td class=\"\" title=\"14 49\"></td><td class=\"\" title=\"15 49\"></td><td class=\"\" title=\"16 49\"></td><td class=\"\" title=\"17 49\"></td></tr>\n",
       "<tr><td class=\"xc2 xb\" title=\"0 50\">Insurance Services</td><td class=\"xb\" title=\"1 50\"></td><td class=\"\" title=\"2 50\"></td><td class=\"\" title=\"3 50\"></td><td class=\"\" title=\"4 50\"></td><td class=\"\" title=\"5 50\"></td><td class=\"\" title=\"6 50\"></td><td class=\"\" title=\"7 50\"></td><td class=\"\" title=\"8 50\"></td><td class=\"\" title=\"9 50\"></td><td class=\"\" title=\"10 50\"></td><td class=\"\" title=\"11 50\"></td><td class=\"\" title=\"12 50\"></td><td class=\"\" title=\"13 50\"></td><td class=\"\" title=\"14 50\"></td><td class=\"\" title=\"15 50\"></td><td class=\"\" title=\"16 50\"></td><td class=\"\" title=\"17 50\"></td></tr>\n",
       "<tr><td class=\"xb\" title=\"0 51\"></td><td class=\"xb\" title=\"1 51\"></td><td class=\"xc3\" title=\"2 51\">Insurance Claims</td><td class=\"\" title=\"3 51\"></td><td class=\"xc0 xn\" title=\"4 51\">11.887</td><td class=\"xc0 xn\" title=\"5 51\">16.867</td><td class=\"xc0 xn\" title=\"6 51\">16.573</td><td class=\"xc0 xn\" title=\"7 51\">29.396</td><td class=\"\" title=\"8 51\"></td><td class=\"\" title=\"9 51\"></td><td class=\"\" title=\"10 51\"></td><td class=\"\" title=\"11 51\"></td><td class=\"\" title=\"12 51\"></td><td class=\"\" title=\"13 51\"></td><td class=\"xc0 xn\" title=\"14 51\">11.887</td><td class=\"xc0 xn\" title=\"15 51\">16.867</td><td class=\"xc0 xn\" title=\"16 51\">16.573</td><td class=\"xc0 xn\" title=\"17 51\">29.396</td></tr>\n",
       "<tr><td class=\"xb\" title=\"0 52\"></td><td class=\"\" title=\"1 52\"></td><td class=\"xc3\" title=\"2 52\">Insurance Premiums</td><td class=\"\" title=\"3 52\"></td><td class=\"\" title=\"4 52\"></td><td class=\"\" title=\"5 52\"></td><td class=\"\" title=\"6 52\"></td><td class=\"\" title=\"7 52\"></td><td class=\"\" title=\"8 52\"></td><td class=\"xc0 xn\" title=\"9 52\">24.68</td><td class=\"xc0 xn\" title=\"10 52\">17.158</td><td class=\"xc0 xn\" title=\"11 52\">25.74</td><td class=\"xc0 xn\" title=\"12 52\">14.167</td><td class=\"\" title=\"13 52\"></td><td class=\"xc0 xn\" title=\"14 52\">-24.68</td><td class=\"xc0 xn\" title=\"15 52\">-17.158</td><td class=\"xc0 xn\" title=\"16 52\">-25.74</td><td class=\"xc0 xn\" title=\"17 52\">-14.167</td></tr>\n",
       "<tr><td class=\"xb\" title=\"0 53\"></td><td class=\"xb\" title=\"1 53\"></td><td class=\"\" title=\"2 53\"></td><td class=\"\" title=\"3 53\"></td><td class=\"\" title=\"4 53\"></td><td class=\"\" title=\"5 53\"></td><td class=\"\" title=\"6 53\"></td><td class=\"\" title=\"7 53\"></td><td class=\"\" title=\"8 53\"></td><td class=\"\" title=\"9 53\"></td><td class=\"\" title=\"10 53\"></td><td class=\"\" title=\"11 53\"></td><td class=\"\" title=\"12 53\"></td><td class=\"\" title=\"13 53\"></td><td class=\"\" title=\"14 53\"></td><td class=\"\" title=\"15 53\"></td><td class=\"\" title=\"16 53\"></td><td class=\"\" title=\"17 53\"></td></tr>\n",
       "<tr><td class=\"xb\" title=\"0 54\"></td><td class=\"xb\" title=\"1 54\"></td><td class=\"\" title=\"2 54\"></td><td class=\"\" title=\"3 54\"></td><td class=\"\" title=\"4 54\"></td><td class=\"\" title=\"5 54\"></td><td class=\"\" title=\"6 54\"></td><td class=\"\" title=\"7 54\"></td><td class=\"\" title=\"8 54\"></td><td class=\"\" title=\"9 54\"></td><td class=\"\" title=\"10 54\"></td><td class=\"\" title=\"11 54\"></td><td class=\"\" title=\"12 54\"></td><td class=\"\" title=\"13 54\"></td><td class=\"\" title=\"14 54\"></td><td class=\"\" title=\"15 54\"></td><td class=\"\" title=\"16 54\"></td><td class=\"\" title=\"17 54\"></td></tr>\n",
       "<tr><td class=\"xc2 xb\" title=\"0 55\">Merchanting and Other Trade related Services</td><td class=\"\" title=\"1 55\"></td><td class=\"\" title=\"2 55\"></td><td class=\"\" title=\"3 55\"></td><td class=\"\" title=\"4 55\"></td><td class=\"\" title=\"5 55\"></td><td class=\"\" title=\"6 55\"></td><td class=\"\" title=\"7 55\"></td><td class=\"\" title=\"8 55\"></td><td class=\"\" title=\"9 55\"></td><td class=\"\" title=\"10 55\"></td><td class=\"\" title=\"11 55\"></td><td class=\"\" title=\"12 55\"></td><td class=\"\" title=\"13 55\"></td><td class=\"\" title=\"14 55\"></td><td class=\"\" title=\"15 55\"></td><td class=\"\" title=\"16 55\"></td><td class=\"\" title=\"17 55\"></td></tr>\n",
       "<tr><td class=\"\" title=\"0 56\"></td><td class=\"\" title=\"1 56\"></td><td class=\"xc3\" title=\"2 56\">Merchanting</td><td class=\"\" title=\"3 56\"></td><td class=\"xc0 xn\" title=\"4 56\">16.228</td><td class=\"xc0\" title=\"5 56\">..</td><td class=\"xc0 xn\" title=\"6 56\">73.759</td><td class=\"xc0 xn\" title=\"7 56\">74.618</td><td class=\"\" title=\"8 56\"></td><td class=\"xc0\" title=\"9 56\">-</td><td class=\"xc0\" title=\"10 56\">..</td><td class=\"xc0\" title=\"11 56\">-</td><td class=\"xc0 xn\" title=\"12 56\">30.409</td><td class=\"\" title=\"13 56\"></td><td class=\"xc0 xn\" title=\"14 56\">16.003</td><td class=\"xc0 xn\" title=\"15 56\">35.91</td><td class=\"xc0 xn\" title=\"16 56\">73.648</td><td class=\"xc0 xn\" title=\"17 56\">44.208999999999996</td></tr>\n",
       "<tr><td class=\"\" title=\"0 57\"></td><td class=\"\" title=\"1 57\"></td><td class=\"xc3\" title=\"2 57\">Other trade - related services</td><td class=\"\" title=\"3 57\"></td><td class=\"xc0 xn\" title=\"4 57\">107.727</td><td class=\"xc0\" title=\"5 57\">..</td><td class=\"xc0 xn\" title=\"6 57\">4.78</td><td class=\"xc0 xn\" title=\"7 57\">5.54</td><td class=\"\" title=\"8 57\"></td><td class=\"xc0 xn\" title=\"9 57\">29.888</td><td class=\"xc0\" title=\"10 57\">..</td><td class=\"xc0 xn\" title=\"11 57\">96.382</td><td class=\"xc0 xn\" title=\"12 57\">96.034</td><td class=\"\" title=\"13 57\"></td><td class=\"xc0 xn\" title=\"14 57\">77.839</td><td class=\"xc0 xn\" title=\"15 57\">79.102</td><td class=\"xc0 xn\" title=\"16 57\">-91.602</td><td class=\"xc0 xn\" title=\"17 57\">-90.494</td></tr>\n",
       "<tr><td class=\"\" title=\"0 58\"></td><td class=\"xb\" title=\"1 58\">Total Merchanting and Other Trade related Services</td><td class=\"\" title=\"2 58\"></td><td class=\"\" title=\"3 58\"></td><td class=\"xc0 xb xn\" title=\"4 58\">123.955</td><td class=\"xc0 xb xn\" title=\"5 58\">140.325</td><td class=\"xc0 xb xn\" title=\"6 58\">78.539</td><td class=\"xc0 xb xn\" title=\"7 58\">80.158</td><td class=\"xb\" title=\"8 58\"></td><td class=\"xc0 xb xn\" title=\"9 58\">30.113000000000003</td><td class=\"xc0 xb xn\" title=\"10 58\">25.313000000000002</td><td class=\"xc0 xb xn\" title=\"11 58\">96.49300000000001</td><td class=\"xc0 xb xn\" title=\"12 58\">126.44300000000001</td><td class=\"xb\" title=\"13 58\"></td><td class=\"xc0 xb xn\" title=\"14 58\">93.842</td><td class=\"xc0 xb xn\" title=\"15 58\">115.012</td><td class=\"xc0 xb xn\" title=\"16 58\">-17.954000000000008</td><td class=\"xc0 xb xn\" title=\"17 58\">-46.285000000000004</td></tr>\n",
       "<tr><td class=\"\" title=\"0 59\"></td><td class=\"\" title=\"1 59\"></td><td class=\"\" title=\"2 59\"></td><td class=\"\" title=\"3 59\"></td><td class=\"\" title=\"4 59\"></td><td class=\"\" title=\"5 59\"></td><td class=\"\" title=\"6 59\"></td><td class=\"\" title=\"7 59\"></td><td class=\"\" title=\"8 59\"></td><td class=\"\" title=\"9 59\"></td><td class=\"\" title=\"10 59\"></td><td class=\"\" title=\"11 59\"></td><td class=\"\" title=\"12 59\"></td><td class=\"\" title=\"13 59\"></td><td class=\"\" title=\"14 59\"></td><td class=\"\" title=\"15 59\"></td><td class=\"\" title=\"16 59\"></td><td class=\"\" title=\"17 59\"></td></tr>\n",
       "<tr><td class=\"\" title=\"0 60\"></td><td class=\"\" title=\"1 60\"></td><td class=\"\" title=\"2 60\"></td><td class=\"\" title=\"3 60\"></td><td class=\"\" title=\"4 60\"></td><td class=\"\" title=\"5 60\"></td><td class=\"\" title=\"6 60\"></td><td class=\"\" title=\"7 60\"></td><td class=\"\" title=\"8 60\"></td><td class=\"\" title=\"9 60\"></td><td class=\"\" title=\"10 60\"></td><td class=\"\" title=\"11 60\"></td><td class=\"\" title=\"12 60\"></td><td class=\"\" title=\"13 60\"></td><td class=\"\" title=\"14 60\"></td><td class=\"\" title=\"15 60\"></td><td class=\"\" title=\"16 60\"></td><td class=\"\" title=\"17 60\"></td></tr>\n",
       "<tr><td class=\"xc2 xb\" title=\"0 61\">Personal, Cultural and Recreational  Services</td><td class=\"\" title=\"1 61\"></td><td class=\"\" title=\"2 61\"></td><td class=\"\" title=\"3 61\"></td><td class=\"\" title=\"4 61\"></td><td class=\"\" title=\"5 61\"></td><td class=\"\" title=\"6 61\"></td><td class=\"\" title=\"7 61\"></td><td class=\"\" title=\"8 61\"></td><td class=\"\" title=\"9 61\"></td><td class=\"\" title=\"10 61\"></td><td class=\"\" title=\"11 61\"></td><td class=\"\" title=\"12 61\"></td><td class=\"\" title=\"13 61\"></td><td class=\"\" title=\"14 61\"></td><td class=\"\" title=\"15 61\"></td><td class=\"\" title=\"16 61\"></td><td class=\"\" title=\"17 61\"></td></tr>\n",
       "<tr><td class=\"\" title=\"0 62\"></td><td class=\"\" title=\"1 62\"></td><td class=\"xc3\" title=\"2 62\">Audio- Visual and related services </td><td class=\"\" title=\"3 62\"></td><td class=\"xc0 xn\" title=\"4 62\">2.74</td><td class=\"xc0 xn\" title=\"5 62\">25.566</td><td class=\"xc0 xn\" title=\"6 62\">7.58</td><td class=\"xc0\" title=\"7 62\">..</td><td class=\"\" title=\"8 62\"></td><td class=\"xc0\" title=\"9 62\">-</td><td class=\"xc0 xn\" title=\"10 62\">3.461</td><td class=\"xc0 xn\" title=\"11 62\">2.244</td><td class=\"xc0\" title=\"12 62\">..</td><td class=\"\" title=\"13 62\"></td><td class=\"xc0 xn\" title=\"14 62\">2.3360000000000003</td><td class=\"xc0 xn\" title=\"15 62\">22.105</td><td class=\"xc0 xn\" title=\"16 62\">5.336</td><td class=\"xc0 xn\" title=\"17 62\">2.8</td></tr>\n",
       "<tr><td class=\"\" title=\"0 63\"></td><td class=\"\" title=\"1 63\"></td><td class=\"xc3\" title=\"2 63\">Health Services</td><td class=\"\" title=\"3 63\"></td><td class=\"xc0 xn\" title=\"4 63\">28.09</td><td class=\"xc0 xn\" title=\"5 63\">46.788</td><td class=\"xc0 xn\" title=\"6 63\">60.511</td><td class=\"xc0 xn\" title=\"7 63\">36.487</td><td class=\"\" title=\"8 63\"></td><td class=\"xc0 xn\" title=\"9 63\">20.831</td><td class=\"xc0 xn\" title=\"10 63\">40.292</td><td class=\"xc0 xn\" title=\"11 63\">21.945</td><td class=\"xc0 xn\" title=\"12 63\">15.628</td><td class=\"\" title=\"13 63\"></td><td class=\"xc0 xn\" title=\"14 63\">7.259</td><td class=\"xc0 xn\" title=\"15 63\">6.495999999999995</td><td class=\"xc0 xn\" title=\"16 63\">38.566</td><td class=\"xc0 xn\" title=\"17 63\">20.859</td></tr>\n",
       "<tr><td class=\"\" title=\"0 64\"></td><td class=\"\" title=\"1 64\"></td><td class=\"xc3\" title=\"2 64\">Training and educational services</td><td class=\"\" title=\"3 64\"></td><td class=\"xc0 xn\" title=\"4 64\">136.075</td><td class=\"xc0 xn\" title=\"5 64\">43.653</td><td class=\"xc0 xn\" title=\"6 64\">75.085</td><td class=\"xc0 xn\" title=\"7 64\">39.555</td><td class=\"\" title=\"8 64\"></td><td class=\"xc0 xn\" title=\"9 64\">6.277</td><td class=\"xc0 xn\" title=\"10 64\">8.574</td><td class=\"xc0 xn\" title=\"11 64\">11.201</td><td class=\"xc0 xn\" title=\"12 64\">8.841</td><td class=\"\" title=\"13 64\"></td><td class=\"xc0 xn\" title=\"14 64\">129.798</td><td class=\"xc0 xn\" title=\"15 64\">35.079</td><td class=\"xc0 xn\" title=\"16 64\">63.88399999999999</td><td class=\"xc0 xn\" title=\"17 64\">30.714</td></tr>\n",
       "<tr><td class=\"\" title=\"0 65\"></td><td class=\"\" title=\"1 65\"></td><td class=\"xc3\" title=\"2 65\">Other personal, cultural and recreational services</td><td class=\"\" title=\"3 65\"></td><td class=\"xc0 xn\" title=\"4 65\">11.587</td><td class=\"xc0 xn\" title=\"5 65\">48.041</td><td class=\"xc0 xn\" title=\"6 65\">17.072</td><td class=\"xc0\" title=\"7 65\">..</td><td class=\"\" title=\"8 65\"></td><td class=\"xc0 xn\" title=\"9 65\">1.6</td><td class=\"xc0 xn\" title=\"10 65\">2.775</td><td class=\"xc0 xn\" title=\"11 65\">2.869</td><td class=\"xc0\" title=\"12 65\">..</td><td class=\"\" title=\"13 65\"></td><td class=\"xc0 xn\" title=\"14 65\">9.987</td><td class=\"xc0 xn\" title=\"15 65\">45.266</td><td class=\"xc0 xn\" title=\"16 65\">14.203</td><td class=\"xc0 xn\" title=\"17 65\">7.83</td></tr>\n",
       "<tr><td class=\"xb\" title=\"0 66\"></td><td class=\"xb\" title=\"1 66\">Total Personal, Cultural and Recreational Services</td><td class=\"\" title=\"2 66\"></td><td class=\"\" title=\"3 66\"></td><td class=\"xc0 xb xn\" title=\"4 66\">178.49199999999996</td><td class=\"xc0 xb xn\" title=\"5 66\">164.048</td><td class=\"xc0 xb xn\" title=\"6 66\">160.248</td><td class=\"xc0 xb xn\" title=\"7 66\">91.511</td><td class=\"xb\" title=\"8 66\"></td><td class=\"xc0 xb xn\" title=\"9 66\">29.112000000000002</td><td class=\"xc0 xb xn\" title=\"10 66\">55.102</td><td class=\"xc0 xb xn\" title=\"11 66\">38.259</td><td class=\"xc0 xb xn\" title=\"12 66\">29.307999999999996</td><td class=\"xb\" title=\"13 66\"></td><td class=\"xc0 xb xn\" title=\"14 66\">149.38</td><td class=\"xc0 xb xn\" title=\"15 66\">108.946</td><td class=\"xc0 xb xn\" title=\"16 66\">121.989</td><td class=\"xc0 xb xn\" title=\"17 66\">62.203</td></tr>\n",
       "<tr><td class=\"\" title=\"0 67\"></td><td class=\"\" title=\"1 67\"></td><td class=\"\" title=\"2 67\"></td><td class=\"\" title=\"3 67\"></td><td class=\"\" title=\"4 67\"></td><td class=\"\" title=\"5 67\"></td><td class=\"\" title=\"6 67\"></td><td class=\"\" title=\"7 67\"></td><td class=\"\" title=\"8 67\"></td><td class=\"\" title=\"9 67\"></td><td class=\"\" title=\"10 67\"></td><td class=\"\" title=\"11 67\"></td><td class=\"\" title=\"12 67\"></td><td class=\"\" title=\"13 67\"></td><td class=\"\" title=\"14 67\"></td><td class=\"\" title=\"15 67\"></td><td class=\"\" title=\"16 67\"></td><td class=\"\" title=\"17 67\"></td></tr>\n",
       "<tr><td class=\"xb\" title=\"0 68\"></td><td class=\"\" title=\"1 68\"></td><td class=\"\" title=\"2 68\"></td><td class=\"xb\" title=\"3 68\"></td><td class=\"\" title=\"4 68\"></td><td class=\"xb\" title=\"5 68\"></td><td class=\"\" title=\"6 68\"></td><td class=\"\" title=\"7 68\"></td><td class=\"\" title=\"8 68\"></td><td class=\"\" title=\"9 68\"></td><td class=\"\" title=\"10 68\"></td><td class=\"\" title=\"11 68\"></td><td class=\"\" title=\"12 68\"></td><td class=\"\" title=\"13 68\"></td><td class=\"\" title=\"14 68\"></td><td class=\"\" title=\"15 68\"></td><td class=\"\" title=\"16 68\"></td><td class=\"\" title=\"17 68\"></td></tr>\n",
       "<tr><td class=\"xc2 xb\" title=\"0 69\">Royalties and Licenses</td><td class=\"\" title=\"1 69\"></td><td class=\"\" title=\"2 69\"></td><td class=\"\" title=\"3 69\"></td><td class=\"\" title=\"4 69\"></td><td class=\"\" title=\"5 69\"></td><td class=\"\" title=\"6 69\"></td><td class=\"\" title=\"7 69\"></td><td class=\"\" title=\"8 69\"></td><td class=\"\" title=\"9 69\"></td><td class=\"\" title=\"10 69\"></td><td class=\"\" title=\"11 69\"></td><td class=\"\" title=\"12 69\"></td><td class=\"\" title=\"13 69\"></td><td class=\"\" title=\"14 69\"></td><td class=\"\" title=\"15 69\"></td><td class=\"\" title=\"16 69\"></td><td class=\"\" title=\"17 69\"></td></tr>\n",
       "<tr><td class=\"xb\" title=\"0 70\"></td><td class=\"\" title=\"1 70\"></td><td class=\"xc3\" title=\"2 70\">Use of franchise and similar rights fees</td><td class=\"\" title=\"3 70\"></td><td class=\"xc0 xn\" title=\"4 70\">608.267</td><td class=\"xc0 xn\" title=\"5 70\">719.143</td><td class=\"xc0 xn\" title=\"6 70\">583.677</td><td class=\"xc0 xn\" title=\"7 70\">694.614</td><td class=\"\" title=\"8 70\"></td><td class=\"xc0 xn\" title=\"9 70\">165.971</td><td class=\"xc0 xn\" title=\"10 70\">80.963</td><td class=\"xc0 xn\" title=\"11 70\">136.447</td><td class=\"xc0 xn\" title=\"12 70\">132.51</td><td class=\"\" title=\"13 70\"></td><td class=\"xc0 xn\" title=\"14 70\">442.29600000000005</td><td class=\"xc0 xn\" title=\"15 70\">638.18</td><td class=\"xc0 xn\" title=\"16 70\">447.23</td><td class=\"xc0 xn\" title=\"17 70\">562.104</td></tr>\n",
       "<tr><td class=\"xb\" title=\"0 71\"></td><td class=\"\" title=\"1 71\"></td><td class=\"xc3\" title=\"2 71\">Other royalties and license fees</td><td class=\"\" title=\"3 71\"></td><td class=\"xc0 xn\" title=\"4 71\">892.705</td><td class=\"xc0 xn\" title=\"5 71\">1141.544</td><td class=\"xc0 xn\" title=\"6 71\">1366.025</td><td class=\"xc0 xn\" title=\"7 71\">1575.474</td><td class=\"\" title=\"8 71\"></td><td class=\"xc0 xn\" title=\"9 71\">914.404</td><td class=\"xc0 xn\" title=\"10 71\">892.183</td><td class=\"xc0 xn\" title=\"11 71\">1970.257</td><td class=\"xc0 xn\" title=\"12 71\">833.65</td><td class=\"\" title=\"13 71\"></td><td class=\"xc0 xn\" title=\"14 71\">-21.698999999999955</td><td class=\"xc0 xn\" title=\"15 71\">249.3610000000001</td><td class=\"xc0 xn\" title=\"16 71\">-604.232</td><td class=\"xc0 xn\" title=\"17 71\">741.824</td></tr>\n",
       "<tr><td class=\"xb\" title=\"0 72\"></td><td class=\"\" title=\"1 72\"></td><td class=\"xc3\" title=\"2 72\">Purchases and sales of franchises and similar rights</td><td class=\"\" title=\"3 72\"></td><td class=\"xc0\" title=\"4 72\">..</td><td class=\"xc0\" title=\"5 72\">..</td><td class=\"xc0\" title=\"6 72\">..</td><td class=\"xc0\" title=\"7 72\">..</td><td class=\"\" title=\"8 72\"></td><td class=\"xc0\" title=\"9 72\">..</td><td class=\"xc0\" title=\"10 72\">..</td><td class=\"xc0\" title=\"11 72\">..</td><td class=\"xc0\" title=\"12 72\">..</td><td class=\"\" title=\"13 72\"></td><td class=\"xc0\" title=\"14 72\">..</td><td class=\"xc0 xn\" title=\"15 72\">4.367</td><td class=\"xc0 xn\" title=\"16 72\">8.778</td><td class=\"xc0 xn\" title=\"17 72\">22.516000000000002</td></tr>\n",
       "<tr><td class=\"\" title=\"0 73\"></td><td class=\"\" title=\"1 73\"></td><td class=\"xc3\" title=\"2 73\">Purchases and sales of other royalties and licenses</td><td class=\"\" title=\"3 73\"></td><td class=\"xc0\" title=\"4 73\">..</td><td class=\"xc0\" title=\"5 73\">..</td><td class=\"xc0\" title=\"6 73\">..</td><td class=\"xc0\" title=\"7 73\">..</td><td class=\"\" title=\"8 73\"></td><td class=\"xc0\" title=\"9 73\">..</td><td class=\"xc0\" title=\"10 73\">..</td><td class=\"xc0\" title=\"11 73\">..</td><td class=\"xc0\" title=\"12 73\">..</td><td class=\"\" title=\"13 73\"></td><td class=\"xc0\" title=\"14 73\">..</td><td class=\"xc0 xn\" title=\"15 73\">96.263</td><td class=\"xc0 xn\" title=\"16 73\">146.75300000000001</td><td class=\"xc0 xn\" title=\"17 73\">28.886000000000003</td></tr>\n",
       "<tr><td class=\"\" title=\"0 74\"></td><td class=\"xb\" title=\"1 74\">Total Royalties and Licenses</td><td class=\"\" title=\"2 74\"></td><td class=\"\" title=\"3 74\"></td><td class=\"xc0 xb xn\" title=\"4 74\">1640.5770000000002</td><td class=\"xc0 xb xn\" title=\"5 74\">2008.146</td><td class=\"xc0 xb xn\" title=\"6 74\">2114.1510000000003</td><td class=\"xc0 xb xn\" title=\"7 74\">2370.3459999999995</td><td class=\"xb\" title=\"8 74\"></td><td class=\"xc0 xb xn\" title=\"9 74\">1112.849</td><td class=\"xc0 xb xn\" title=\"10 74\">1019.975</td><td class=\"xc0 xb xn\" title=\"11 74\">2115.6220000000003</td><td class=\"xc0 xb xn\" title=\"12 74\">1015.016</td><td class=\"xb\" title=\"13 74\"></td><td class=\"xc0 xb xn\" title=\"14 74\">527.7280000000001</td><td class=\"xc0 xb xn\" title=\"15 74\">988.1710000000002</td><td class=\"xc0 xb xn\" title=\"16 74\">-1.4709999999999468</td><td class=\"xc0 xb xn\" title=\"17 74\">1355.33</td></tr>\n",
       "<tr><td class=\"\" title=\"0 75\"></td><td class=\"\" title=\"1 75\"></td><td class=\"\" title=\"2 75\"></td><td class=\"\" title=\"3 75\"></td><td class=\"\" title=\"4 75\"></td><td class=\"\" title=\"5 75\"></td><td class=\"\" title=\"6 75\"></td><td class=\"\" title=\"7 75\"></td><td class=\"\" title=\"8 75\"></td><td class=\"\" title=\"9 75\"></td><td class=\"\" title=\"10 75\"></td><td class=\"\" title=\"11 75\"></td><td class=\"\" title=\"12 75\"></td><td class=\"\" title=\"13 75\"></td><td class=\"\" title=\"14 75\"></td><td class=\"\" title=\"15 75\"></td><td class=\"\" title=\"16 75\"></td><td class=\"\" title=\"17 75\"></td></tr>\n",
       "<tr><td class=\"\" title=\"0 76\"></td><td class=\"\" title=\"1 76\"></td><td class=\"\" title=\"2 76\"></td><td class=\"\" title=\"3 76\"></td><td class=\"\" title=\"4 76\"></td><td class=\"\" title=\"5 76\"></td><td class=\"\" title=\"6 76\"></td><td class=\"\" title=\"7 76\"></td><td class=\"\" title=\"8 76\"></td><td class=\"\" title=\"9 76\"></td><td class=\"\" title=\"10 76\"></td><td class=\"\" title=\"11 76\"></td><td class=\"\" title=\"12 76\"></td><td class=\"\" title=\"13 76\"></td><td class=\"\" title=\"14 76\"></td><td class=\"\" title=\"15 76\"></td><td class=\"\" title=\"16 76\"></td><td class=\"\" title=\"17 76\"></td></tr>\n",
       "<tr><td class=\"xc2 xb\" title=\"0 77\">Technical services</td><td class=\"\" title=\"1 77\"></td><td class=\"\" title=\"2 77\"></td><td class=\"\" title=\"3 77\"></td><td class=\"xb\" title=\"4 77\"></td><td class=\"\" title=\"5 77\"></td><td class=\"xb\" title=\"6 77\"></td><td class=\"xb\" title=\"7 77\"></td><td class=\"xb\" title=\"8 77\"></td><td class=\"xb\" title=\"9 77\"></td><td class=\"xb\" title=\"10 77\"></td><td class=\"xb\" title=\"11 77\"></td><td class=\"xb\" title=\"12 77\"></td><td class=\"xb\" title=\"13 77\"></td><td class=\"xb\" title=\"14 77\"></td><td class=\"xb\" title=\"15 77\"></td><td class=\"xb\" title=\"16 77\"></td><td class=\"\" title=\"17 77\"></td></tr>\n",
       "<tr><td class=\"xb\" title=\"0 78\"></td><td class=\"\" title=\"1 78\"></td><td class=\"xc3\" title=\"2 78\">Architectural</td><td class=\"\" title=\"3 78\"></td><td class=\"xc0 xn\" title=\"4 78\">302.0</td><td class=\"xc0 xn\" title=\"5 78\">369.715</td><td class=\"xc0 xn\" title=\"6 78\">363.318</td><td class=\"xc0 xn\" title=\"7 78\">343.548</td><td class=\"\" title=\"8 78\"></td><td class=\"xc0 xn\" title=\"9 78\">22.203</td><td class=\"xc0 xn\" title=\"10 78\">23.627</td><td class=\"xc0 xn\" title=\"11 78\">23.698</td><td class=\"xc0 xn\" title=\"12 78\">34.591</td><td class=\"\" title=\"13 78\"></td><td class=\"xc0 xn\" title=\"14 78\">279.797</td><td class=\"xc0 xn\" title=\"15 78\">346.08799999999997</td><td class=\"xc0 xn\" title=\"16 78\">339.62</td><td class=\"xc0 xn\" title=\"17 78\">308.957</td></tr>\n",
       "<tr><td class=\"xb\" title=\"0 79\"></td><td class=\"\" title=\"1 79\"></td><td class=\"xc3\" title=\"2 79\">Engineering</td><td class=\"\" title=\"3 79\"></td><td class=\"xc0 xn\" title=\"4 79\">2774.081</td><td class=\"xc0 xn\" title=\"5 79\">2335.035</td><td class=\"xc0 xn\" title=\"6 79\">2629.781</td><td class=\"xc0 xn\" title=\"7 79\">2978.815</td><td class=\"\" title=\"8 79\"></td><td class=\"xc0 xn\" title=\"9 79\">884.34</td><td class=\"xc0 xn\" title=\"10 79\">520.578</td><td class=\"xc0 xn\" title=\"11 79\">521.98</td><td class=\"xc0 xn\" title=\"12 79\">860.948</td><td class=\"\" title=\"13 79\"></td><td class=\"xc0 xn\" title=\"14 79\">1889.741</td><td class=\"xc0 xn\" title=\"15 79\">1814.4569999999999</td><td class=\"xc0 xn\" title=\"16 79\">2107.801</td><td class=\"xc0 xn\" title=\"17 79\">2117.867</td></tr>\n",
       "<tr><td class=\"\" title=\"0 80\"></td><td class=\"\" title=\"1 80\"></td><td class=\"xc3\" title=\"2 80\">Surveying</td><td class=\"\" title=\"3 80\"></td><td class=\"xc0 xn\" title=\"4 80\">133.269</td><td class=\"xc0 xn\" title=\"5 80\">144.596</td><td class=\"xc0 xn\" title=\"6 80\">239.32</td><td class=\"xc0 xn\" title=\"7 80\">195.637</td><td class=\"xb\" title=\"8 80\"></td><td class=\"xc0 xn\" title=\"9 80\">45.265</td><td class=\"xc0 xn\" title=\"10 80\">63.367</td><td class=\"xc0 xn\" title=\"11 80\">101.879</td><td class=\"xc0 xn\" title=\"12 80\">83.601</td><td class=\"\" title=\"13 80\"></td><td class=\"xc0 xn\" title=\"14 80\">88.004</td><td class=\"xc0 xn\" title=\"15 80\">81.22900000000001</td><td class=\"xc0 xn\" title=\"16 80\">137.44099999999997</td><td class=\"xc0 xn\" title=\"17 80\">112.036</td></tr>\n",
       "<tr><td class=\"\" title=\"0 81\"></td><td class=\"\" title=\"1 81\"></td><td class=\"xc3\" title=\"2 81\">Other technical services</td><td class=\"\" title=\"3 81\"></td><td class=\"xc0 xn\" title=\"4 81\">298.892</td><td class=\"xc0 xn\" title=\"5 81\">466.73</td><td class=\"xc0 xn\" title=\"6 81\">444.052</td><td class=\"xc0 xn\" title=\"7 81\">550.948</td><td class=\"\" title=\"8 81\"></td><td class=\"xc0 xn\" title=\"9 81\">64.681</td><td class=\"xc0 xn\" title=\"10 81\">111.215</td><td class=\"xc0 xn\" title=\"11 81\">87.253</td><td class=\"xc0 xn\" title=\"12 81\">190.903</td><td class=\"\" title=\"13 81\"></td><td class=\"xc0 xn\" title=\"14 81\">234.211</td><td class=\"xc0 xn\" title=\"15 81\">355.515</td><td class=\"xc0 xn\" title=\"16 81\">356.79900000000004</td><td class=\"xc0 xn\" title=\"17 81\">360.04499999999996</td></tr>\n",
       "<tr><td class=\"xb\" title=\"0 82\"></td><td class=\"xb\" title=\"1 82\">Total Technical Services</td><td class=\"xb\" title=\"2 82\"></td><td class=\"xb\" title=\"3 82\"></td><td class=\"xc0 xb xn\" title=\"4 82\">3508.242</td><td class=\"xc0 xb xn\" title=\"5 82\">3316.076</td><td class=\"xc0 xb xn\" title=\"6 82\">3676.4710000000005</td><td class=\"xc0 xb xn\" title=\"7 82\">4068.9480000000003</td><td class=\"xb\" title=\"8 82\"></td><td class=\"xc0 xb xn\" title=\"9 82\">1016.489</td><td class=\"xc0 xb xn\" title=\"10 82\">718.7869999999999</td><td class=\"xc0 xb xn\" title=\"11 82\">734.8100000000001</td><td class=\"xc0 xb xn\" title=\"12 82\">1170.043</td><td class=\"xb\" title=\"13 82\"></td><td class=\"xc0 xb xn\" title=\"14 82\">2491.7529999999997</td><td class=\"xc0 xb xn\" title=\"15 82\">2597.2889999999998</td><td class=\"xc0 xb xn\" title=\"16 82\">2941.6609999999996</td><td class=\"xc0 xb xn\" title=\"17 82\">2898.905</td></tr>\n",
       "<tr><td class=\"\" title=\"0 83\"></td><td class=\"\" title=\"1 83\"></td><td class=\"\" title=\"2 83\"></td><td class=\"\" title=\"3 83\"></td><td class=\"xb\" title=\"4 83\"></td><td class=\"\" title=\"5 83\"></td><td class=\"xb\" title=\"6 83\"></td><td class=\"xb\" title=\"7 83\"></td><td class=\"xb\" title=\"8 83\"></td><td class=\"xb\" title=\"9 83\"></td><td class=\"xb\" title=\"10 83\"></td><td class=\"xb\" title=\"11 83\"></td><td class=\"xb\" title=\"12 83\"></td><td class=\"xb\" title=\"13 83\"></td><td class=\"xb\" title=\"14 83\"></td><td class=\"xb\" title=\"15 83\"></td><td class=\"xb\" title=\"16 83\"></td><td class=\"\" title=\"17 83\"></td></tr>\n",
       "<tr><td class=\"xc2 xb\" title=\"0 84\">Other Trade  in Services</td><td class=\"\" title=\"1 84\"></td><td class=\"\" title=\"2 84\"></td><td class=\"\" title=\"3 84\"></td><td class=\"xb\" title=\"4 84\"></td><td class=\"\" title=\"5 84\"></td><td class=\"xb\" title=\"6 84\"></td><td class=\"xb\" title=\"7 84\"></td><td class=\"\" title=\"8 84\"></td><td class=\"xb\" title=\"9 84\"></td><td class=\"\" title=\"10 84\"></td><td class=\"xb\" title=\"11 84\"></td><td class=\"xb\" title=\"12 84\"></td><td class=\"xb\" title=\"13 84\"></td><td class=\"xb\" title=\"14 84\"></td><td class=\"\" title=\"15 84\"></td><td class=\"xb\" title=\"16 84\"></td><td class=\"\" title=\"17 84\"></td></tr>\n",
       "<tr><td class=\"xb\" title=\"0 85\"></td><td class=\"\" title=\"1 85\"></td><td class=\"xc3\" title=\"2 85\">Other trade in services</td><td class=\"\" title=\"3 85\"></td><td class=\"xc0 xn\" title=\"4 85\">291.438</td><td class=\"xc0 xn\" title=\"5 85\">324.621</td><td class=\"xc0 xn\" title=\"6 85\">531.557</td><td class=\"xc0 xn\" title=\"7 85\">844.67</td><td class=\"\" title=\"8 85\"></td><td class=\"xc0 xn\" title=\"9 85\">64.513</td><td class=\"xc0 xn\" title=\"10 85\">67.64</td><td class=\"xc0 xn\" title=\"11 85\">320.133</td><td class=\"xc0 xn\" title=\"12 85\">384.26</td><td class=\"\" title=\"13 85\"></td><td class=\"xc0 xn\" title=\"14 85\">226.925</td><td class=\"xc0 xn\" title=\"15 85\">256.981</td><td class=\"xc0 xn\" title=\"16 85\">211.42400000000004</td><td class=\"xc0 xn\" title=\"17 85\">460.40999999999997</td></tr>\n",
       "<tr><td class=\"xb\" title=\"0 86\"></td><td class=\"\" title=\"1 86\"></td><td class=\"\" title=\"2 86\"></td><td class=\"\" title=\"3 86\"></td><td class=\"xb\" title=\"4 86\"></td><td class=\"\" title=\"5 86\"></td><td class=\"xb\" title=\"6 86\"></td><td class=\"xb\" title=\"7 86\"></td><td class=\"\" title=\"8 86\"></td><td class=\"xb\" title=\"9 86\"></td><td class=\"\" title=\"10 86\"></td><td class=\"xb\" title=\"11 86\"></td><td class=\"xb\" title=\"12 86\"></td><td class=\"xb\" title=\"13 86\"></td><td class=\"xb\" title=\"14 86\"></td><td class=\"\" title=\"15 86\"></td><td class=\"xb\" title=\"16 86\"></td><td class=\"\" title=\"17 86\"></td></tr>\n",
       "<tr><td class=\"xb\" title=\"0 87\"></td><td class=\"\" title=\"1 87\"></td><td class=\"\" title=\"2 87\"></td><td class=\"\" title=\"3 87\"></td><td class=\"xb\" title=\"4 87\"></td><td class=\"\" title=\"5 87\"></td><td class=\"xb\" title=\"6 87\"></td><td class=\"xb\" title=\"7 87\"></td><td class=\"xb\" title=\"8 87\"></td><td class=\"xb\" title=\"9 87\"></td><td class=\"xb\" title=\"10 87\"></td><td class=\"xb\" title=\"11 87\"></td><td class=\"xb\" title=\"12 87\"></td><td class=\"xb\" title=\"13 87\"></td><td class=\"xb\" title=\"14 87\"></td><td class=\"xb\" title=\"15 87\"></td><td class=\"xb\" title=\"16 87\"></td><td class=\"\" title=\"17 87\"></td></tr>\n",
       "<tr><td class=\"xc2 xb\" title=\"0 88\">Total International Trade in Services</td><td class=\"\" title=\"1 88\"></td><td class=\"\" title=\"2 88\"></td><td class=\"\" title=\"3 88\"></td><td class=\"xc0 xb xn\" title=\"4 88\">27676.524000000005</td><td class=\"xc0 xb xn\" title=\"5 88\">27876.006</td><td class=\"xc0 xb xn\" title=\"6 88\">28771.893</td><td class=\"xc0 xb xn\" title=\"7 88\">32723.754</td><td class=\"xb\" title=\"8 88\"></td><td class=\"xc0 xb xn\" title=\"9 88\">12990.859</td><td class=\"xc0 xb xn\" title=\"10 88\">12326.132</td><td class=\"xc0 xb xn\" title=\"11 88\">13152.470000000001</td><td class=\"xc0 xb xn\" title=\"12 88\">13400.984</td><td class=\"xb\" title=\"13 88\"></td><td class=\"xc0 xb xn\" title=\"14 88\">14685.665</td><td class=\"xc0 xb xn\" title=\"15 88\">15549.874000000002</td><td class=\"xc0 xb xn\" title=\"16 88\">15619.423</td><td class=\"xc0 xb xn\" title=\"17 88\">19322.769999999997</td></tr>\n",
       "<tr><td class=\"xb\" title=\"0 89\"></td><td class=\"\" title=\"1 89\"></td><td class=\"\" title=\"2 89\"></td><td class=\"\" title=\"3 89\"></td><td class=\"xb\" title=\"4 89\"></td><td class=\"\" title=\"5 89\"></td><td class=\"xb\" title=\"6 89\"></td><td class=\"xb\" title=\"7 89\"></td><td class=\"xb\" title=\"8 89\"></td><td class=\"xb\" title=\"9 89\"></td><td class=\"xb\" title=\"10 89\"></td><td class=\"xb\" title=\"11 89\"></td><td class=\"xb\" title=\"12 89\"></td><td class=\"xb\" title=\"13 89\"></td><td class=\"xb\" title=\"14 89\"></td><td class=\"xb\" title=\"15 89\"></td><td class=\"xb\" title=\"16 89\"></td><td class=\"\" title=\"17 89\"></td></tr>\n",
       "<tr><td class=\"\" title=\"0 90\"></td><td class=\"xb\" title=\"1 90\"></td><td class=\"xb\" title=\"2 90\"></td><td class=\"\" title=\"3 90\"></td><td class=\"\" title=\"4 90\"></td><td class=\"\" title=\"5 90\"></td><td class=\"\" title=\"6 90\"></td><td class=\"\" title=\"7 90\"></td><td class=\"\" title=\"8 90\"></td><td class=\"\" title=\"9 90\"></td><td class=\"\" title=\"10 90\"></td><td class=\"\" title=\"11 90\"></td><td class=\"xc0\" title=\"12 90\">Source: Office for National Statistics</td><td class=\"\" title=\"13 90\"></td><td class=\"\" title=\"14 90\"></td><td class=\"\" title=\"15 90\"></td><td class=\"\" title=\"16 90\"></td><td class=\"\" title=\"17 90\"></td></tr>\n",
       "<tr><td class=\"xc2\" title=\"0 91\">-   Denotes nil or less than £500,000</td><td class=\"\" title=\"1 91\"></td><td class=\"\" title=\"2 91\"></td><td class=\"\" title=\"3 91\"></td><td class=\"\" title=\"4 91\"></td><td class=\"\" title=\"5 91\"></td><td class=\"\" title=\"6 91\"></td><td class=\"\" title=\"7 91\"></td><td class=\"\" title=\"8 91\"></td><td class=\"\" title=\"9 91\"></td><td class=\"\" title=\"10 91\"></td><td class=\"\" title=\"11 91\"></td><td class=\"\" title=\"12 91\"></td><td class=\"\" title=\"13 91\"></td><td class=\"\" title=\"14 91\"></td><td class=\"\" title=\"15 91\"></td><td class=\"\" title=\"16 91\"></td><td class=\"\" title=\"17 91\"></td></tr>\n",
       "<tr><td class=\"xc2\" title=\"0 92\">..  Denotes disclosive data</td><td class=\"\" title=\"1 92\"></td><td class=\"\" title=\"2 92\"></td><td class=\"\" title=\"3 92\"></td><td class=\"\" title=\"4 92\"></td><td class=\"\" title=\"5 92\"></td><td class=\"\" title=\"6 92\"></td><td class=\"\" title=\"7 92\"></td><td class=\"\" title=\"8 92\"></td><td class=\"\" title=\"9 92\"></td><td class=\"\" title=\"10 92\"></td><td class=\"\" title=\"11 92\"></td><td class=\"\" title=\"12 92\"></td><td class=\"\" title=\"13 92\"></td><td class=\"\" title=\"14 92\"></td><td class=\"\" title=\"15 92\"></td><td class=\"\" title=\"16 92\"></td><td class=\"\" title=\"17 92\"></td></tr>\n",
       "<tr><td class=\"\" title=\"0 93\"></td><td class=\"\" title=\"1 93\"></td><td class=\"\" title=\"2 93\"></td><td class=\"\" title=\"3 93\"></td><td class=\"\" title=\"4 93\"></td><td class=\"\" title=\"5 93\"></td><td class=\"xb\" title=\"6 93\"></td><td class=\"xb\" title=\"7 93\"></td><td class=\"xb\" title=\"8 93\"></td><td class=\"xb\" title=\"9 93\"></td><td class=\"xb\" title=\"10 93\"></td><td class=\"xb\" title=\"11 93\"></td><td class=\"xb\" title=\"12 93\"></td><td class=\"xb\" title=\"13 93\"></td><td class=\"xb\" title=\"14 93\"></td><td class=\"xb\" title=\"15 93\"></td><td class=\"xb\" title=\"16 93\"></td><td class=\"\" title=\"17 93\"></td></tr>\n",
       "<tr><td class=\"\" title=\"0 94\"></td><td class=\"xb\" title=\"1 94\"></td><td class=\"\" title=\"2 94\"></td><td class=\"\" title=\"3 94\"></td><td class=\"\" title=\"4 94\"></td><td class=\"\" title=\"5 94\"></td><td class=\"\" title=\"6 94\"></td><td class=\"\" title=\"7 94\"></td><td class=\"\" title=\"8 94\"></td><td class=\"\" title=\"9 94\"></td><td class=\"\" title=\"10 94\"></td><td class=\"\" title=\"11 94\"></td><td class=\"\" title=\"12 94\"></td><td class=\"\" title=\"13 94\"></td><td class=\"\" title=\"14 94\"></td><td class=\"\" title=\"15 94\"></td><td class=\"\" title=\"16 94\"></td><td class=\"\" title=\"17 94\"></td></tr>\n",
       "<tr><td class=\"\" title=\"0 95\"></td><td class=\"\" title=\"1 95\"></td><td class=\"\" title=\"2 95\"></td><td class=\"\" title=\"3 95\"></td><td class=\"\" title=\"4 95\"></td><td class=\"\" title=\"5 95\"></td><td class=\"\" title=\"6 95\"></td><td class=\"\" title=\"7 95\"></td><td class=\"\" title=\"8 95\"></td><td class=\"\" title=\"9 95\"></td><td class=\"\" title=\"10 95\"></td><td class=\"\" title=\"11 95\"></td><td class=\"\" title=\"12 95\"></td><td class=\"\" title=\"13 95\"></td><td class=\"\" title=\"14 95\"></td><td class=\"\" title=\"15 95\"></td><td class=\"\" title=\"16 95\"></td><td class=\"\" title=\"17 95\"></td></tr>\n",
       "<tr><td class=\"xb\" title=\"0 96\"></td><td class=\"xb\" title=\"1 96\"></td><td class=\"xb\" title=\"2 96\"></td><td class=\"\" title=\"3 96\"></td><td class=\"\" title=\"4 96\"></td><td class=\"\" title=\"5 96\"></td><td class=\"\" title=\"6 96\"></td><td class=\"\" title=\"7 96\"></td><td class=\"\" title=\"8 96\"></td><td class=\"\" title=\"9 96\"></td><td class=\"\" title=\"10 96\"></td><td class=\"\" title=\"11 96\"></td><td class=\"\" title=\"12 96\"></td><td class=\"\" title=\"13 96\"></td><td class=\"\" title=\"14 96\"></td><td class=\"\" title=\"15 96\"></td><td class=\"\" title=\"16 96\"></td><td class=\"\" title=\"17 96\"></td></tr>\n",
       "<tr><td class=\"xb\" title=\"0 97\"></td><td class=\"xb\" title=\"1 97\"></td><td class=\"\" title=\"2 97\"></td><td class=\"\" title=\"3 97\"></td><td class=\"\" title=\"4 97\"></td><td class=\"\" title=\"5 97\"></td><td class=\"\" title=\"6 97\"></td><td class=\"\" title=\"7 97\"></td><td class=\"\" title=\"8 97\"></td><td class=\"\" title=\"9 97\"></td><td class=\"\" title=\"10 97\"></td><td class=\"\" title=\"11 97\"></td><td class=\"\" title=\"12 97\"></td><td class=\"\" title=\"13 97\"></td><td class=\"\" title=\"14 97\"></td><td class=\"\" title=\"15 97\"></td><td class=\"\" title=\"16 97\"></td><td class=\"\" title=\"17 97\"></td></tr>\n",
       "<tr><td class=\"xb\" title=\"0 98\"></td><td class=\"xb\" title=\"1 98\"></td><td class=\"\" title=\"2 98\"></td><td class=\"\" title=\"3 98\"></td><td class=\"\" title=\"4 98\"></td><td class=\"\" title=\"5 98\"></td><td class=\"\" title=\"6 98\"></td><td class=\"\" title=\"7 98\"></td><td class=\"\" title=\"8 98\"></td><td class=\"\" title=\"9 98\"></td><td class=\"\" title=\"10 98\"></td><td class=\"\" title=\"11 98\"></td><td class=\"\" title=\"12 98\"></td><td class=\"\" title=\"13 98\"></td><td class=\"\" title=\"14 98\"></td><td class=\"\" title=\"15 98\"></td><td class=\"\" title=\"16 98\"></td><td class=\"\" title=\"17 98\"></td></tr>\n",
       "<tr><td class=\"xb\" title=\"0 99\"></td><td class=\"xb\" title=\"1 99\"></td><td class=\"\" title=\"2 99\"></td><td class=\"\" title=\"3 99\"></td><td class=\"\" title=\"4 99\"></td><td class=\"\" title=\"5 99\"></td><td class=\"\" title=\"6 99\"></td><td class=\"\" title=\"7 99\"></td><td class=\"\" title=\"8 99\"></td><td class=\"\" title=\"9 99\"></td><td class=\"\" title=\"10 99\"></td><td class=\"\" title=\"11 99\"></td><td class=\"\" title=\"12 99\"></td><td class=\"\" title=\"13 99\"></td><td class=\"\" title=\"14 99\"></td><td class=\"\" title=\"15 99\"></td><td class=\"\" title=\"16 99\"></td><td class=\"\" title=\"17 99\"></td></tr>\n",
       "<tr><td class=\"xb\" title=\"0 100\"></td><td class=\"xb\" title=\"1 100\"></td><td class=\"\" title=\"2 100\"></td><td class=\"\" title=\"3 100\"></td><td class=\"\" title=\"4 100\"></td><td class=\"\" title=\"5 100\"></td><td class=\"\" title=\"6 100\"></td><td class=\"\" title=\"7 100\"></td><td class=\"\" title=\"8 100\"></td><td class=\"\" title=\"9 100\"></td><td class=\"\" title=\"10 100\"></td><td class=\"\" title=\"11 100\"></td><td class=\"\" title=\"12 100\"></td><td class=\"\" title=\"13 100\"></td><td class=\"\" title=\"14 100\"></td><td class=\"\" title=\"15 100\"></td><td class=\"\" title=\"16 100\"></td><td class=\"\" title=\"17 100\"></td></tr>\n",
       "<tr><td class=\"xb\" title=\"0 101\"></td><td class=\"xb\" title=\"1 101\"></td><td class=\"\" title=\"2 101\"></td><td class=\"\" title=\"3 101\"></td><td class=\"\" title=\"4 101\"></td><td class=\"\" title=\"5 101\"></td><td class=\"\" title=\"6 101\"></td><td class=\"\" title=\"7 101\"></td><td class=\"\" title=\"8 101\"></td><td class=\"\" title=\"9 101\"></td><td class=\"\" title=\"10 101\"></td><td class=\"\" title=\"11 101\"></td><td class=\"\" title=\"12 101\"></td><td class=\"\" title=\"13 101\"></td><td class=\"\" title=\"14 101\"></td><td class=\"\" title=\"15 101\"></td><td class=\"\" title=\"16 101\"></td><td class=\"\" title=\"17 101\"></td></tr>\n",
       "<tr><td class=\"xb\" title=\"0 102\"></td><td class=\"xb\" title=\"1 102\"></td><td class=\"\" title=\"2 102\"></td><td class=\"\" title=\"3 102\"></td><td class=\"\" title=\"4 102\"></td><td class=\"\" title=\"5 102\"></td><td class=\"\" title=\"6 102\"></td><td class=\"\" title=\"7 102\"></td><td class=\"xb\" title=\"8 102\"></td><td class=\"xb\" title=\"9 102\"></td><td class=\"xb\" title=\"10 102\"></td><td class=\"\" title=\"11 102\"></td><td class=\"\" title=\"12 102\"></td><td class=\"\" title=\"13 102\"></td><td class=\"\" title=\"14 102\"></td><td class=\"xb\" title=\"15 102\"></td><td class=\"\" title=\"16 102\"></td><td class=\"\" title=\"17 102\"></td></tr>\n",
       "<tr><td class=\"xb\" title=\"0 103\"></td><td class=\"xb\" title=\"1 103\"></td><td class=\"\" title=\"2 103\"></td><td class=\"\" title=\"3 103\"></td><td class=\"\" title=\"4 103\"></td><td class=\"\" title=\"5 103\"></td><td class=\"\" title=\"6 103\"></td><td class=\"\" title=\"7 103\"></td><td class=\"xb\" title=\"8 103\"></td><td class=\"xb\" title=\"9 103\"></td><td class=\"xb\" title=\"10 103\"></td><td class=\"\" title=\"11 103\"></td><td class=\"\" title=\"12 103\"></td><td class=\"\" title=\"13 103\"></td><td class=\"\" title=\"14 103\"></td><td class=\"xb\" title=\"15 103\"></td><td class=\"\" title=\"16 103\"></td><td class=\"\" title=\"17 103\"></td></tr>\n",
       "<tr><td class=\"\" title=\"0 104\"></td><td class=\"\" title=\"1 104\"></td><td class=\"\" title=\"2 104\"></td><td class=\"\" title=\"3 104\"></td><td class=\"\" title=\"4 104\"></td><td class=\"\" title=\"5 104\"></td><td class=\"\" title=\"6 104\"></td><td class=\"\" title=\"7 104\"></td><td class=\"xb\" title=\"8 104\"></td><td class=\"xb\" title=\"9 104\"></td><td class=\"xb\" title=\"10 104\"></td><td class=\"\" title=\"11 104\"></td><td class=\"\" title=\"12 104\"></td><td class=\"\" title=\"13 104\"></td><td class=\"\" title=\"14 104\"></td><td class=\"xb\" title=\"15 104\"></td><td class=\"\" title=\"16 104\"></td><td class=\"\" title=\"17 104\"></td></tr>\n",
       "<tr><td class=\"xb\" title=\"0 105\"></td><td class=\"xb\" title=\"1 105\"></td><td class=\"xb\" title=\"2 105\"></td><td class=\"\" title=\"3 105\"></td><td class=\"\" title=\"4 105\"></td><td class=\"\" title=\"5 105\"></td><td class=\"\" title=\"6 105\"></td><td class=\"\" title=\"7 105\"></td><td class=\"xb\" title=\"8 105\"></td><td class=\"xb\" title=\"9 105\"></td><td class=\"xb\" title=\"10 105\"></td><td class=\"\" title=\"11 105\"></td><td class=\"\" title=\"12 105\"></td><td class=\"\" title=\"13 105\"></td><td class=\"\" title=\"14 105\"></td><td class=\"xb\" title=\"15 105\"></td><td class=\"\" title=\"16 105\"></td><td class=\"xb\" title=\"17 105\"></td></tr>\n",
       "<tr><td class=\"xb\" title=\"0 106\"></td><td class=\"xb\" title=\"1 106\"></td><td class=\"xb\" title=\"2 106\"></td><td class=\"\" title=\"3 106\"></td><td class=\"\" title=\"4 106\"></td><td class=\"\" title=\"5 106\"></td><td class=\"\" title=\"6 106\"></td><td class=\"\" title=\"7 106\"></td><td class=\"xb\" title=\"8 106\"></td><td class=\"xb\" title=\"9 106\"></td><td class=\"xb\" title=\"10 106\"></td><td class=\"\" title=\"11 106\"></td><td class=\"\" title=\"12 106\"></td><td class=\"\" title=\"13 106\"></td><td class=\"\" title=\"14 106\"></td><td class=\"xb\" title=\"15 106\"></td><td class=\"\" title=\"16 106\"></td><td class=\"\" title=\"17 106\"></td></tr>\n",
       "<tr><td class=\"xb\" title=\"0 107\"></td><td class=\"xb\" title=\"1 107\"></td><td class=\"xb\" title=\"2 107\"></td><td class=\"\" title=\"3 107\"></td><td class=\"\" title=\"4 107\"></td><td class=\"\" title=\"5 107\"></td><td class=\"\" title=\"6 107\"></td><td class=\"\" title=\"7 107\"></td><td class=\"\" title=\"8 107\"></td><td class=\"\" title=\"9 107\"></td><td class=\"\" title=\"10 107\"></td><td class=\"\" title=\"11 107\"></td><td class=\"\" title=\"12 107\"></td><td class=\"\" title=\"13 107\"></td><td class=\"\" title=\"14 107\"></td><td class=\"\" title=\"15 107\"></td><td class=\"\" title=\"16 107\"></td><td class=\"\" title=\"17 107\"></td></tr>\n",
       "<tr><td class=\"\" title=\"0 108\"></td><td class=\"\" title=\"1 108\"></td><td class=\"\" title=\"2 108\"></td><td class=\"\" title=\"3 108\"></td><td class=\"\" title=\"4 108\"></td><td class=\"\" title=\"5 108\"></td><td class=\"\" title=\"6 108\"></td><td class=\"\" title=\"7 108\"></td><td class=\"\" title=\"8 108\"></td><td class=\"\" title=\"9 108\"></td><td class=\"\" title=\"10 108\"></td><td class=\"\" title=\"11 108\"></td><td class=\"\" title=\"12 108\"></td><td class=\"\" title=\"13 108\"></td><td class=\"\" title=\"14 108\"></td><td class=\"\" title=\"15 108\"></td><td class=\"\" title=\"16 108\"></td><td class=\"\" title=\"17 108\"></td></tr>\n",
       "<tr><td class=\"xb\" title=\"0 109\"></td><td class=\"xb\" title=\"1 109\"></td><td class=\"xb\" title=\"2 109\"></td><td class=\"\" title=\"3 109\"></td><td class=\"\" title=\"4 109\"></td><td class=\"\" title=\"5 109\"></td><td class=\"\" title=\"6 109\"></td><td class=\"\" title=\"7 109\"></td><td class=\"\" title=\"8 109\"></td><td class=\"\" title=\"9 109\"></td><td class=\"\" title=\"10 109\"></td><td class=\"\" title=\"11 109\"></td><td class=\"\" title=\"12 109\"></td><td class=\"\" title=\"13 109\"></td><td class=\"\" title=\"14 109\"></td><td class=\"\" title=\"15 109\"></td><td class=\"\" title=\"16 109\"></td><td class=\"\" title=\"17 109\"></td></tr>\n",
       "<tr><td class=\"\" title=\"0 110\"></td><td class=\"\" title=\"1 110\"></td><td class=\"\" title=\"2 110\"></td><td class=\"\" title=\"3 110\"></td><td class=\"\" title=\"4 110\"></td><td class=\"\" title=\"5 110\"></td><td class=\"\" title=\"6 110\"></td><td class=\"\" title=\"7 110\"></td><td class=\"\" title=\"8 110\"></td><td class=\"\" title=\"9 110\"></td><td class=\"\" title=\"10 110\"></td><td class=\"\" title=\"11 110\"></td><td class=\"\" title=\"12 110\"></td><td class=\"\" title=\"13 110\"></td><td class=\"\" title=\"14 110\"></td><td class=\"\" title=\"15 110\"></td><td class=\"\" title=\"16 110\"></td><td class=\"\" title=\"17 110\"></td></tr>\n",
       "<tr><td class=\"\" title=\"0 111\"></td><td class=\"\" title=\"1 111\"></td><td class=\"\" title=\"2 111\"></td><td class=\"\" title=\"3 111\"></td><td class=\"\" title=\"4 111\"></td><td class=\"\" title=\"5 111\"></td><td class=\"\" title=\"6 111\"></td><td class=\"\" title=\"7 111\"></td><td class=\"\" title=\"8 111\"></td><td class=\"\" title=\"9 111\"></td><td class=\"\" title=\"10 111\"></td><td class=\"\" title=\"11 111\"></td><td class=\"\" title=\"12 111\"></td><td class=\"\" title=\"13 111\"></td><td class=\"\" title=\"14 111\"></td><td class=\"\" title=\"15 111\"></td><td class=\"\" title=\"16 111\"></td><td class=\"\" title=\"17 111\"></td></tr>\n",
       "<tr><td class=\"\" title=\"0 112\"></td><td class=\"\" title=\"1 112\"></td><td class=\"\" title=\"2 112\"></td><td class=\"\" title=\"3 112\"></td><td class=\"\" title=\"4 112\"></td><td class=\"\" title=\"5 112\"></td><td class=\"\" title=\"6 112\"></td><td class=\"\" title=\"7 112\"></td><td class=\"\" title=\"8 112\"></td><td class=\"\" title=\"9 112\"></td><td class=\"\" title=\"10 112\"></td><td class=\"\" title=\"11 112\"></td><td class=\"\" title=\"12 112\"></td><td class=\"\" title=\"13 112\"></td><td class=\"\" title=\"14 112\"></td><td class=\"\" title=\"15 112\"></td><td class=\"\" title=\"16 112\"></td><td class=\"\" title=\"17 112\"></td></tr>\n",
       "<tr><td class=\"\" title=\"0 113\"></td><td class=\"\" title=\"1 113\"></td><td class=\"\" title=\"2 113\"></td><td class=\"\" title=\"3 113\"></td><td class=\"\" title=\"4 113\"></td><td class=\"\" title=\"5 113\"></td><td class=\"\" title=\"6 113\"></td><td class=\"\" title=\"7 113\"></td><td class=\"\" title=\"8 113\"></td><td class=\"\" title=\"9 113\"></td><td class=\"\" title=\"10 113\"></td><td class=\"\" title=\"11 113\"></td><td class=\"\" title=\"12 113\"></td><td class=\"\" title=\"13 113\"></td><td class=\"\" title=\"14 113\"></td><td class=\"\" title=\"15 113\"></td><td class=\"\" title=\"16 113\"></td><td class=\"\" title=\"17 113\"></td></tr>\n",
       "</table>\n",
       "\n",
       "</div>\n",
       "\n",
       "<script>\n",
       "var jslookup = {\"14 27\":[14,3,0,12,14,2],\"6 21\":[6,3,0,12,2,21,4,2],\"7 15\":[7,3,0,12,2,15,4,2],\"5 41\":[5,3,0,40,2,41,4,2],\"12 43\":[12,3,0,40,9,2],\"16 34\":[16,3,0,30,2,34,14,2],\"7 64\":[7,3,0,61,2,64,4,2],\"11 24\":[11,3,0,12,2,24,9,2],\"16 14\":[16,3,0,12,2,14,14,2],\"15 52\":[15,3,0,50,2,52,14,2],\"11 70\":[11,3,0,69,2,70,9,2],\"9 7\":[9,3,0,4,2,7,9,2],\"4 21\":[4,3,0,12,2,21,4,2],\"14 26\":[14,3,0,12,2,26,14,2],\"5 18\":[5,3,0,12,2,18,4,2],\"17 73\":[17,3,0,69,2,73,14,2],\"15 36\":[15,3,0,30,2,36,14,2],\"5 8\":[5,3,0,4,2,8,4,2],\"6 58\":[6,3,0,55,4,2],\"6 78\":[6,3,0,77,2,78,4,2],\"7 41\":[7,3,0,40,2,41,4,2],\"12 64\":[12,3,0,61,2,64,9,2],\"10 85\":[10,3,0,84,2,85,9,2],\"12 88\":[12,3,0,88,9,2],\"17 7\":[17,3,0,4,2,7,14,2],\"6 18\":[6,3,0,12,2,18,4,2],\"7 33\":[7,3,0,30,2,33,4,2],\"11 16\":[11,3,0,12,2,16,9,2],\"4 47\":[4,3,0,46,2,47,4,2],\"16 80\":[16,3,0,77,2,80,14,2],\"11 42\":[11,3,0,40,2,42,9,2],\"12 62\":[12,3,0,61,2,62,9,2],\"15 71\":[15,3,0,69,2,71,14,2],\"4 42\":[4,3,0,40,2,42,4,2],\"17 8\":[17,3,0,4,2,8,14,2],\"10 35\":[10,3,0,30,2,35,9,2],\"12 24\":[12,3,0,12,2,24,9,2],\"16 62\":[16,3,0,61,2,62,14,2],\"5 23\":[5,3,0,12,2,23,4,2],\"7 88\":[7,3,0,88,4,2],\"14 62\":[14,3,0,61,2,62,14,2],\"17 37\":[17,3,0,30,14,2],\"5 56\":[5,3,0,55,2,56,4,2],\"17 26\":[17,3,0,12,2,26,14,2],\"6 81\":[6,3,0,77,2,81,4,2],\"6 5\":[6,3,0,4,2,5,4,2],\"11 15\":[11,3,0,12,2,15,9,2],\"10 19\":[10,3,0,12,2,19,9,2],\"15 88\":[15,3,0,88,14,2],\"11 79\":[11,3,0,77,2,79,9,2],\"5 81\":[5,3,0,77,2,81,4,2],\"9 9\":[9,3,0,4,9,2],\"5 64\":[5,3,0,61,2,64,4,2],\"17 35\":[17,3,0,30,2,35,14,2],\"15 73\":[15,3,0,69,2,73,14,2],\"9 82\":[9,3,0,77,9,2],\"17 62\":[17,3,0,61,2,62,14,2],\"7 81\":[7,3,0,77,2,81,4,2],\"17 31\":[17,3,0,30,2,31,14,2],\"15 85\":[15,3,0,84,2,85,14,2],\"9 17\":[9,3,0,12,2,17,9,2],\"16 79\":[16,3,0,77,2,79,14,2],\"16 35\":[16,3,0,30,2,35,14,2],\"14 37\":[14,3,0,30,14,2],\"16 51\":[16,3,0,50,2,51,14,2],\"6 34\":[6,3,0,30,2,34,4,2],\"6 23\":[6,3,0,12,2,23,4,2],\"9 26\":[9,3,0,12,2,26,9,2],\"11 43\":[11,3,0,40,9,2],\"11 31\":[11,3,0,30,2,31,9,2],\"15 23\":[15,3,0,12,2,23,14,2],\"10 26\":[10,3,0,12,2,26,9,2],\"6 80\":[6,3,0,77,2,80,4,2],\"9 80\":[9,3,0,77,2,80,9,2],\"14 20\":[14,3,0,12,2,20,14,2],\"6 57\":[6,3,0,55,2,57,4,2],\"14 42\":[14,3,0,40,2,42,14,2],\"5 65\":[5,3,0,61,2,65,4,2],\"6 88\":[6,3,0,88,4,2],\"17 27\":[17,3,0,12,14,2],\"12 18\":[12,3,0,12,2,18,9,2],\"4 34\":[4,3,0,30,2,34,4,2],\"12 56\":[12,3,0,55,2,56,9,2],\"7 19\":[7,3,0,12,2,19,4,2],\"11 65\":[11,3,0,61,2,65,9,2],\"7 71\":[7,3,0,69,2,71,4,2],\"9 74\":[9,3,0,69,9,2],\"11 52\":[11,3,0,50,2,52,9,2],\"12 81\":[12,3,0,77,2,81,9,2],\"17 25\":[17,3,0,12,2,25,14,2],\"16 26\":[16,3,0,12,2,26,14,2],\"12 71\":[12,3,0,69,2,71,9,2],\"9 37\":[9,3,0,30,9,2],\"7 80\":[7,3,0,77,2,80,4,2],\"16 65\":[16,3,0,61,2,65,14,2],\"7 63\":[7,3,0,61,2,63,4,2],\"10 56\":[10,3,0,55,2,56,9,2],\"7 8\":[7,3,0,4,2,8,4,2],\"16 64\":[16,3,0,61,2,64,14,2],\"9 31\":[9,3,0,30,2,31,9,2],\"6 71\":[6,3,0,69,2,71,4,2],\"9 52\":[9,3,0,50,2,52,9,2],\"4 88\":[4,3,0,88,4,2],\"10 17\":[10,3,0,12,2,17,9,2],\"7 56\":[7,3,0,55,2,56,4,2],\"14 65\":[14,3,0,61,2,65,14,2],\"11 78\":[11,3,0,77,2,78,9,2],\"4 19\":[4,3,0,12,2,19,4,2],\"10 9\":[10,3,0,4,9,2],\"5 51\":[5,3,0,50,2,51,4,2],\"9 85\":[9,3,0,84,2,85,9,2],\"12 34\":[12,3,0,30,2,34,9,2],\"6 82\":[6,3,0,77,4,2],\"14 31\":[14,3,0,30,2,31,14,2],\"10 78\":[10,3,0,77,2,78,9,2],\"5 88\":[5,3,0,88,4,2],\"4 6\":[4,3,0,4,2,6,4,2],\"12 16\":[12,3,0,12,2,16,9,2],\"12 52\":[12,3,0,50,2,52,9,2],\"16 42\":[16,3,0,40,2,42,14,2],\"14 72\":[14,3,0,69,2,72,14,2],\"7 26\":[7,3,0,12,2,26,4,2],\"16 9\":[16,3,0,4,14,2],\"14 47\":[14,3,0,46,2,47,14,2],\"17 18\":[17,3,0,12,2,18,14,2],\"6 22\":[6,3,0,12,2,22,4,2],\"14 78\":[14,3,0,77,2,78,14,2],\"9 72\":[9,3,0,69,2,72,9,2],\"14 22\":[14,3,0,12,2,22,14,2],\"11 9\":[11,3,0,4,9,2],\"15 66\":[15,3,0,61,14,2],\"9 47\":[9,3,0,46,2,47,9,2],\"17 64\":[17,3,0,61,2,64,14,2],\"15 62\":[15,3,0,61,2,62,14,2],\"17 6\":[17,3,0,4,2,6,14,2],\"17 47\":[17,3,0,46,2,47,14,2],\"9 56\":[9,3,0,55,2,56,9,2],\"17 19\":[17,3,0,12,2,19,14,2],\"15 80\":[15,3,0,77,2,80,14,2],\"11 8\":[11,3,0,4,2,8,9,2],\"14 13\":[14,3,0,12,2,13,14,2],\"16 70\":[16,3,0,69,2,70,14,2],\"6 41\":[6,3,0,40,2,41,4,2],\"16 81\":[16,3,0,77,2,81,14,2],\"16 72\":[16,3,0,69,2,72,14,2],\"7 14\":[7,3,0,12,2,14,4,2],\"10 42\":[10,3,0,40,2,42,9,2],\"12 82\":[12,3,0,77,9,2],\"9 20\":[9,3,0,12,2,20,9,2],\"17 17\":[17,3,0,12,2,17,14,2],\"7 65\":[7,3,0,61,2,65,4,2],\"4 23\":[4,3,0,12,2,23,4,2],\"16 24\":[16,3,0,12,2,24,14,2],\"15 79\":[15,3,0,77,2,79,14,2],\"6 70\":[6,3,0,69,2,70,4,2],\"17 81\":[17,3,0,77,2,81,14,2],\"7 13\":[7,3,0,12,2,13,4,2],\"17 74\":[17,3,0,69,14,2],\"6 63\":[6,3,0,61,2,63,4,2],\"12 66\":[12,3,0,61,9,2],\"16 73\":[16,3,0,69,2,73,14,2],\"14 18\":[14,3,0,12,2,18,14,2],\"11 63\":[11,3,0,61,2,63,9,2],\"7 21\":[7,3,0,12,2,21,4,2],\"7 6\":[7,3,0,4,2,6,4,2],\"7 16\":[7,3,0,12,2,16,4,2],\"4 63\":[4,3,0,61,2,63,4,2],\"4 31\":[4,3,0,30,2,31,4,2],\"12 79\":[12,3,0,77,2,79,9,2],\"9 58\":[9,3,0,55,9,2],\"5 43\":[5,3,0,40,4,2],\"10 66\":[10,3,0,61,9,2],\"14 51\":[14,3,0,50,2,51,14,2],\"17 70\":[17,3,0,69,2,70,14,2],\"14 15\":[14,3,0,12,2,15,14,2],\"17 52\":[17,3,0,50,2,52,14,2],\"14 56\":[14,3,0,55,2,56,14,2],\"14 34\":[14,3,0,30,2,34,14,2],\"7 79\":[7,3,0,77,2,79,4,2],\"15 20\":[15,3,0,12,2,20,14,2],\"4 74\":[4,3,0,69,4,2],\"10 36\":[10,3,0,30,2,36,9,2],\"17 33\":[17,3,0,30,2,33,14,2],\"15 42\":[15,3,0,40,2,42,14,2],\"10 82\":[10,3,0,77,9,2],\"10 47\":[10,3,0,46,2,47,9,2],\"5 82\":[5,3,0,77,4,2],\"15 72\":[15,3,0,69,2,72,14,2],\"11 23\":[11,3,0,12,2,23,9,2],\"16 47\":[16,3,0,46,2,47,14,2],\"10 8\":[10,3,0,4,2,8,9,2],\"4 16\":[4,3,0,12,2,16,4,2],\"5 27\":[5,3,0,12,4,2],\"6 27\":[6,3,0,12,4,2],\"12 63\":[12,3,0,61,2,63,9,2],\"9 19\":[9,3,0,12,2,19,9,2],\"9 18\":[9,3,0,12,2,18,9,2],\"7 31\":[7,3,0,30,2,31,4,2],\"12 41\":[12,3,0,40,2,41,9,2],\"14 16\":[14,3,0,12,2,16,14,2],\"17 51\":[17,3,0,50,2,51,14,2],\"12 13\":[12,3,0,12,2,13,9,2],\"16 85\":[16,3,0,84,2,85,14,2],\"7 7\":[7,3,0,4,2,7,4,2],\"12 22\":[12,3,0,12,2,22,9,2],\"5 9\":[5,3,0,4,4,2],\"11 47\":[11,3,0,46,2,47,9,2],\"15 37\":[15,3,0,30,14,2],\"14 81\":[14,3,0,77,2,81,14,2],\"4 20\":[4,3,0,12,2,20,4,2],\"4 15\":[4,3,0,12,2,15,4,2],\"12 58\":[12,3,0,55,9,2],\"7 62\":[7,3,0,61,2,62,4,2],\"11 20\":[11,3,0,12,2,20,9,2],\"9 8\":[9,3,0,4,2,8,9,2],\"14 66\":[14,3,0,61,14,2],\"16 57\":[16,3,0,55,2,57,14,2],\"15 5\":[15,3,0,4,2,5,14,2],\"15 14\":[15,3,0,12,2,14,14,2],\"12 31\":[12,3,0,30,2,31,9,2],\"6 17\":[6,3,0,12,2,17,4,2],\"10 27\":[10,3,0,12,9,2],\"6 72\":[6,3,0,69,2,72,4,2],\"17 34\":[17,3,0,30,2,34,14,2],\"4 18\":[4,3,0,12,2,18,4,2],\"10 73\":[10,3,0,69,2,73,9,2],\"10 25\":[10,3,0,12,2,25,9,2],\"15 13\":[15,3,0,12,2,13,14,2],\"9 36\":[9,3,0,30,2,36,9,2],\"10 58\":[10,3,0,55,9,2],\"5 79\":[5,3,0,77,2,79,4,2],\"4 82\":[4,3,0,77,4,2],\"15 17\":[15,3,0,12,2,17,14,2],\"11 34\":[11,3,0,30,2,34,9,2],\"5 32\":[5,3,0,30,2,32,4,2],\"12 73\":[12,3,0,69,2,73,9,2],\"16 5\":[16,3,0,4,2,5,14,2],\"5 21\":[5,3,0,12,2,21,4,2],\"11 13\":[11,3,0,12,2,13,9,2],\"16 20\":[16,3,0,12,2,20,14,2],\"4 80\":[4,3,0,77,2,80,4,2],\"17 79\":[17,3,0,77,2,79,14,2],\"14 23\":[14,3,0,12,2,23,14,2],\"16 13\":[16,3,0,12,2,13,14,2],\"14 74\":[14,3,0,69,14,2],\"5 66\":[5,3,0,61,4,2],\"7 58\":[7,3,0,55,4,2],\"9 5\":[9,3,0,4,2,5,9,2],\"12 33\":[12,3,0,30,2,33,9,2],\"15 65\":[15,3,0,61,2,65,14,2],\"10 21\":[10,3,0,12,2,21,9,2],\"7 32\":[7,3,0,30,2,32,4,2],\"4 81\":[4,3,0,77,2,81,4,2],\"11 73\":[11,3,0,69,2,73,9,2],\"9 6\":[9,3,0,4,2,6,9,2],\"15 35\":[15,3,0,30,2,35,14,2],\"7 82\":[7,3,0,77,4,2],\"12 21\":[12,3,0,12,2,21,9,2],\"16 21\":[16,3,0,12,2,21,14,2],\"6 9\":[6,3,0,4,4,2],\"7 47\":[7,3,0,46,2,47,4,2],\"16 36\":[16,3,0,30,2,36,14,2],\"4 56\":[4,3,0,55,2,56,4,2],\"15 63\":[15,3,0,61,2,63,14,2],\"16 16\":[16,3,0,12,2,16,14,2],\"16 18\":[16,3,0,12,2,18,14,2],\"12 17\":[12,3,0,12,2,17,9,2],\"5 24\":[5,3,0,12,2,24,4,2],\"17 5\":[17,3,0,4,2,5,14,2],\"16 52\":[16,3,0,50,2,52,14,2],\"6 24\":[6,3,0,12,2,24,4,2],\"12 36\":[12,3,0,30,2,36,9,2],\"17 88\":[17,3,0,88,14,2],\"15 24\":[15,3,0,12,2,24,14,2],\"17 24\":[17,3,0,12,2,24,14,2],\"9 63\":[9,3,0,61,2,63,9,2],\"6 35\":[6,3,0,30,2,35,4,2],\"17 23\":[17,3,0,12,2,23,14,2],\"15 64\":[15,3,0,61,2,64,14,2],\"12 14\":[12,3,0,12,2,14,9,2],\"12 90\":[12,3,0,88,9,2],\"14 36\":[14,3,0,30,2,36,14,2],\"7 42\":[7,3,0,40,2,42,4,2],\"5 63\":[5,3,0,61,2,63,4,2],\"12 74\":[12,3,0,69,9,2],\"11 82\":[11,3,0,77,9,2],\"11 74\":[11,3,0,69,9,2],\"4 65\":[4,3,0,61,2,65,4,2],\"9 43\":[9,3,0,40,9,2],\"7 18\":[7,3,0,12,2,18,4,2],\"11 88\":[11,3,0,88,9,2],\"9 78\":[9,3,0,77,2,78,9,2],\"4 41\":[4,3,0,40,2,41,4,2],\"6 37\":[6,3,0,30,4,2],\"4 35\":[4,3,0,30,2,35,4,2],\"9 64\":[9,3,0,61,2,64,9,2],\"12 15\":[12,3,0,12,2,15,9,2],\"17 85\":[17,3,0,84,2,85,14,2],\"17 56\":[17,3,0,55,2,56,14,2],\"12 26\":[12,3,0,12,2,26,9,2],\"14 9\":[14,3,0,4,14,2],\"4 79\":[4,3,0,77,2,79,4,2],\"11 57\":[11,3,0,55,2,57,9,2],\"11 21\":[11,3,0,12,2,21,9,2],\"15 19\":[15,3,0,12,2,19,14,2],\"10 18\":[10,3,0,12,2,18,9,2],\"12 20\":[12,3,0,12,2,20,9,2],\"9 24\":[9,3,0,12,2,24,9,2],\"12 85\":[12,3,0,84,2,85,9,2],\"17 14\":[17,3,0,12,2,14,14,2],\"7 27\":[7,3,0,12,4,2],\"7 85\":[7,3,0,84,2,85,4,2],\"14 21\":[14,3,0,12,2,21,14,2],\"9 71\":[9,3,0,69,2,71,9,2],\"16 71\":[16,3,0,69,2,71,14,2],\"5 58\":[5,3,0,55,4,2],\"17 78\":[17,3,0,77,2,78,14,2],\"9 42\":[9,3,0,40,2,42,9,2],\"6 51\":[6,3,0,50,2,51,4,2],\"11 66\":[11,3,0,61,9,2],\"10 34\":[10,3,0,30,2,34,9,2],\"4 66\":[4,3,0,61,4,2],\"10 57\":[10,3,0,55,2,57,9,2],\"4 22\":[4,3,0,12,2,22,4,2],\"9 88\":[9,3,0,88,9,2],\"7 73\":[7,3,0,69,2,73,4,2],\"7 57\":[7,3,0,55,2,57,4,2],\"15 70\":[15,3,0,69,2,70,14,2],\"7 23\":[7,3,0,12,2,23,4,2],\"5 5\":[5,3,0,4,2,5,4,2],\"17 80\":[17,3,0,77,2,80,14,2],\"9 22\":[9,3,0,12,2,22,9,2],\"10 37\":[10,3,0,30,9,2],\"16 7\":[16,3,0,4,2,7,14,2],\"15 32\":[15,3,0,30,2,32,14,2],\"4 7\":[4,3,0,4,2,7,4,2],\"4 51\":[4,3,0,50,2,51,4,2],\"17 71\":[17,3,0,69,2,71,14,2],\"7 43\":[7,3,0,40,4,2],\"15 18\":[15,3,0,12,2,18,14,2],\"4 73\":[4,3,0,69,2,73,4,2],\"6 62\":[6,3,0,61,2,62,4,2],\"10 52\":[10,3,0,50,2,52,9,2],\"7 20\":[7,3,0,12,2,20,4,2],\"4 9\":[4,3,0,4,4,2],\"7 5\":[7,3,0,4,2,5,4,2],\"12 35\":[12,3,0,30,2,35,9,2],\"10 88\":[10,3,0,88,9,2],\"11 7\":[11,3,0,4,2,7,9,2],\"15 78\":[15,3,0,77,2,78,14,2],\"7 66\":[7,3,0,61,4,2],\"15 26\":[15,3,0,12,2,26,14,2],\"9 32\":[9,3,0,30,2,32,9,2],\"10 74\":[10,3,0,69,9,2],\"5 35\":[5,3,0,30,2,35,4,2],\"10 5\":[10,3,0,4,2,5,9,2],\"15 34\":[15,3,0,30,2,34,14,2],\"17 20\":[17,3,0,12,2,20,14,2],\"5 36\":[5,3,0,30,2,36,4,2],\"16 15\":[16,3,0,12,2,15,14,2],\"10 43\":[10,3,0,40,9,2],\"14 19\":[14,3,0,12,2,19,14,2],\"7 70\":[7,3,0,69,2,70,4,2],\"14 17\":[14,3,0,12,2,17,14,2],\"17 9\":[17,3,0,4,14,2],\"5 26\":[5,3,0,12,2,26,4,2],\"11 85\":[11,3,0,84,2,85,9,2],\"6 74\":[6,3,0,69,4,2],\"14 58\":[14,3,0,55,14,2],\"6 42\":[6,3,0,40,2,42,4,2],\"5 72\":[5,3,0,69,2,72,4,2],\"9 21\":[9,3,0,12,2,21,9,2],\"9 57\":[9,3,0,55,2,57,9,2],\"11 32\":[11,3,0,30,2,32,9,2],\"16 58\":[16,3,0,55,14,2],\"9 79\":[9,3,0,77,2,79,9,2],\"11 22\":[11,3,0,12,2,22,9,2],\"14 70\":[14,3,0,69,2,70,14,2],\"7 36\":[7,3,0,30,2,36,4,2],\"10 23\":[10,3,0,12,2,23,9,2],\"10 7\":[10,3,0,4,2,7,9,2],\"12 78\":[12,3,0,77,2,78,9,2],\"9 27\":[9,3,0,12,9,2],\"16 27\":[16,3,0,12,14,2],\"12 9\":[12,3,0,4,9,2],\"9 25\":[9,3,0,12,2,25,9,2],\"12 8\":[12,3,0,4,2,8,9,2],\"4 14\":[4,3,0,12,2,14,4,2],\"14 52\":[14,3,0,50,2,52,14,2],\"17 63\":[17,3,0,61,2,63,14,2],\"5 34\":[5,3,0,30,2,34,4,2],\"9 65\":[9,3,0,61,2,65,9,2],\"16 33\":[16,3,0,30,2,33,14,2],\"17 57\":[17,3,0,55,2,57,14,2],\"6 15\":[6,3,0,12,2,15,4,2],\"14 79\":[14,3,0,77,2,79,14,2],\"16 31\":[16,3,0,30,2,31,14,2],\"10 22\":[10,3,0,12,2,22,9,2],\"5 42\":[5,3,0,40,2,42,4,2],\"12 6\":[12,3,0,4,2,6,9,2],\"11 18\":[11,3,0,12,2,18,9,2],\"16 8\":[16,3,0,4,2,8,14,2],\"10 15\":[10,3,0,12,2,15,9,2],\"16 17\":[16,3,0,12,2,17,14,2],\"5 37\":[5,3,0,30,4,2],\"7 34\":[7,3,0,30,2,34,4,2],\"6 33\":[6,3,0,30,2,33,4,2],\"14 85\":[14,3,0,84,2,85,14,2],\"4 64\":[4,3,0,61,2,64,4,2],\"4 85\":[4,3,0,84,2,85,4,2],\"9 81\":[9,3,0,77,2,81,9,2],\"16 56\":[16,3,0,55,2,56,14,2],\"11 14\":[11,3,0,12,2,14,9,2],\"6 20\":[6,3,0,12,2,20,4,2],\"12 65\":[12,3,0,61,2,65,9,2],\"5 14\":[5,3,0,12,2,14,4,2],\"10 62\":[10,3,0,61,2,62,9,2],\"6 8\":[6,3,0,4,2,8,4,2],\"12 25\":[12,3,0,12,2,25,9,2],\"5 17\":[5,3,0,12,2,17,4,2],\"10 31\":[10,3,0,30,2,31,9,2],\"4 37\":[4,3,0,30,4,2],\"14 41\":[14,3,0,40,2,41,14,2],\"6 79\":[6,3,0,77,2,79,4,2],\"5 57\":[5,3,0,55,2,57,4,2],\"5 20\":[5,3,0,12,2,20,4,2],\"4 71\":[4,3,0,69,2,71,4,2],\"17 41\":[17,3,0,40,2,41,14,2],\"10 16\":[10,3,0,12,2,16,9,2],\"9 23\":[9,3,0,12,2,23,9,2],\"15 33\":[15,3,0,30,2,33,14,2],\"11 19\":[11,3,0,12,2,19,9,2],\"15 82\":[15,3,0,77,14,2],\"4 26\":[4,3,0,12,2,26,4,2],\"4 78\":[4,3,0,77,2,78,4,2],\"15 57\":[15,3,0,55,2,57,14,2],\"11 27\":[11,3,0,12,9,2],\"14 25\":[14,3,0,12,2,25,14,2],\"14 64\":[14,3,0,61,2,64,14,2],\"14 33\":[14,3,0,30,2,33,14,2],\"12 5\":[12,3,0,4,2,5,9,2],\"5 85\":[5,3,0,84,2,85,4,2],\"17 82\":[17,3,0,77,14,2],\"14 71\":[14,3,0,69,2,71,14,2],\"15 81\":[15,3,0,77,2,81,14,2],\"6 73\":[6,3,0,69,2,73,4,2],\"14 82\":[14,3,0,77,14,2],\"4 8\":[4,3,0,4,2,8,4,2],\"6 19\":[6,3,0,12,2,19,4,2],\"15 56\":[15,3,0,55,2,56,14,2],\"7 25\":[7,3,0,12,2,25,4,2],\"16 78\":[16,3,0,77,2,78,14,2],\"15 16\":[15,3,0,12,2,16,14,2],\"17 22\":[17,3,0,12,2,22,14,2],\"16 43\":[16,3,0,40,14,2],\"10 79\":[10,3,0,77,2,79,9,2],\"11 17\":[11,3,0,12,2,17,9,2],\"14 57\":[14,3,0,55,2,57,14,2],\"6 43\":[6,3,0,40,4,2],\"5 13\":[5,3,0,12,2,13,4,2],\"5 16\":[5,3,0,12,2,16,4,2],\"14 63\":[14,3,0,61,2,63,14,2],\"15 6\":[15,3,0,4,2,6,14,2],\"9 15\":[9,3,0,12,2,15,9,2],\"10 32\":[10,3,0,30,2,32,9,2],\"6 56\":[6,3,0,55,2,56,4,2],\"10 14\":[10,3,0,12,2,14,9,2],\"5 71\":[5,3,0,69,2,71,4,2],\"15 27\":[15,3,0,12,14,2],\"11 81\":[11,3,0,77,2,81,9,2],\"4 17\":[4,3,0,12,2,17,4,2],\"4 70\":[4,3,0,69,2,70,4,2],\"16 22\":[16,3,0,12,2,22,14,2],\"7 35\":[7,3,0,30,2,35,4,2],\"5 7\":[5,3,0,4,2,7,4,2],\"11 72\":[11,3,0,69,2,72,9,2],\"4 62\":[4,3,0,61,2,62,4,2],\"6 31\":[6,3,0,30,2,31,4,2],\"16 32\":[16,3,0,30,2,32,14,2],\"5 19\":[5,3,0,12,2,19,4,2],\"10 13\":[10,3,0,12,2,13,9,2],\"14 35\":[14,3,0,30,2,35,14,2],\"4 32\":[4,3,0,30,2,32,4,2],\"11 37\":[11,3,0,30,9,2],\"12 27\":[12,3,0,12,9,2],\"14 6\":[14,3,0,4,2,6,14,2],\"16 88\":[16,3,0,88,14,2],\"10 65\":[10,3,0,61,2,65,9,2],\"4 13\":[4,3,0,12,2,13,4,2],\"4 57\":[4,3,0,55,2,57,4,2],\"4 24\":[4,3,0,12,2,24,4,2],\"12 80\":[12,3,0,77,2,80,9,2],\"15 7\":[15,3,0,4,2,7,14,2],\"11 5\":[11,3,0,4,2,5,9,2],\"11 26\":[11,3,0,12,2,26,9,2],\"11 62\":[11,3,0,61,2,62,9,2],\"7 17\":[7,3,0,12,2,17,4,2],\"14 24\":[14,3,0,12,2,24,14,2],\"9 73\":[9,3,0,69,2,73,9,2],\"12 37\":[12,3,0,30,9,2],\"6 32\":[6,3,0,30,2,32,4,2],\"4 5\":[4,3,0,4,2,5,4,2],\"5 6\":[5,3,0,4,2,6,4,2],\"6 65\":[6,3,0,61,2,65,4,2],\"5 74\":[5,3,0,69,4,2],\"14 7\":[14,3,0,4,2,7,14,2],\"4 25\":[4,3,0,12,2,25,4,2],\"15 8\":[15,3,0,4,2,8,14,2],\"10 64\":[10,3,0,61,2,64,9,2],\"17 72\":[17,3,0,69,2,72,14,2],\"11 80\":[11,3,0,77,2,80,9,2],\"9 34\":[9,3,0,30,2,34,9,2],\"6 7\":[6,3,0,4,2,7,4,2],\"6 13\":[6,3,0,12,2,13,4,2],\"14 80\":[14,3,0,77,2,80,14,2],\"9 66\":[9,3,0,61,9,2],\"4 58\":[4,3,0,55,4,2],\"14 73\":[14,3,0,69,2,73,14,2],\"17 43\":[17,3,0,40,14,2],\"15 15\":[15,3,0,12,2,15,14,2],\"10 41\":[10,3,0,40,2,41,9,2],\"16 82\":[16,3,0,77,14,2],\"5 31\":[5,3,0,30,2,31,4,2],\"10 63\":[10,3,0,61,2,63,9,2],\"6 36\":[6,3,0,30,2,36,4,2],\"10 33\":[10,3,0,30,2,33,9,2],\"6 16\":[6,3,0,12,2,16,4,2],\"5 22\":[5,3,0,12,2,22,4,2],\"10 24\":[10,3,0,12,2,24,9,2],\"11 35\":[11,3,0,30,2,35,9,2],\"5 47\":[5,3,0,46,2,47,4,2],\"6 25\":[6,3,0,12,2,25,4,2],\"11 6\":[11,3,0,4,2,6,9,2],\"5 70\":[5,3,0,69,2,70,4,2],\"11 58\":[11,3,0,55,9,2],\"16 23\":[16,3,0,12,2,23,14,2],\"6 85\":[6,3,0,84,2,85,4,2],\"5 62\":[5,3,0,61,2,62,4,2],\"15 41\":[15,3,0,40,2,41,14,2],\"12 70\":[12,3,0,69,2,70,9,2],\"15 51\":[15,3,0,50,2,51,14,2],\"15 25\":[15,3,0,12,2,25,14,2],\"9 13\":[9,3,0,12,2,13,9,2],\"16 74\":[16,3,0,69,14,2],\"12 23\":[12,3,0,12,2,23,9,2],\"16 37\":[16,3,0,30,14,2],\"17 15\":[17,3,0,12,2,15,14,2],\"12 42\":[12,3,0,40,2,42,9,2],\"9 35\":[9,3,0,30,2,35,9,2],\"4 27\":[4,3,0,12,4,2],\"4 33\":[4,3,0,30,2,33,4,2],\"15 22\":[15,3,0,12,2,22,14,2],\"7 51\":[7,3,0,50,2,51,4,2],\"4 72\":[4,3,0,69,2,72,4,2],\"9 41\":[9,3,0,40,2,41,9,2],\"14 14\":[14,3,0,12,2,14,14,2],\"14 43\":[14,3,0,40,14,2],\"6 64\":[6,3,0,61,2,64,4,2],\"16 66\":[16,3,0,61,14,2],\"12 57\":[12,3,0,55,2,57,9,2],\"15 74\":[15,3,0,69,14,2],\"7 72\":[7,3,0,69,2,72,4,2],\"9 14\":[9,3,0,12,2,14,9,2],\"11 64\":[11,3,0,61,2,64,9,2],\"16 19\":[16,3,0,12,2,19,14,2],\"7 74\":[7,3,0,69,4,2],\"15 47\":[15,3,0,46,2,47,14,2],\"11 33\":[11,3,0,30,2,33,9,2],\"11 41\":[11,3,0,40,2,41,9,2],\"14 8\":[14,3,0,4,2,8,14,2],\"6 14\":[6,3,0,12,2,14,4,2],\"10 71\":[10,3,0,69,2,71,9,2],\"14 5\":[14,3,0,4,2,5,14,2],\"6 66\":[6,3,0,61,4,2],\"11 71\":[11,3,0,69,2,71,9,2],\"10 81\":[10,3,0,77,2,81,9,2],\"17 16\":[17,3,0,12,2,16,14,2],\"5 25\":[5,3,0,12,2,25,4,2],\"10 80\":[10,3,0,77,2,80,9,2],\"17 36\":[17,3,0,30,2,36,14,2],\"12 19\":[12,3,0,12,2,19,9,2],\"12 32\":[12,3,0,30,2,32,9,2],\"5 73\":[5,3,0,69,2,73,4,2],\"15 21\":[15,3,0,12,2,21,14,2],\"15 31\":[15,3,0,30,2,31,14,2],\"6 26\":[6,3,0,12,2,26,4,2],\"7 78\":[7,3,0,77,2,78,4,2],\"5 78\":[5,3,0,77,2,78,4,2],\"9 33\":[9,3,0,30,2,33,9,2],\"16 63\":[16,3,0,61,2,63,14,2],\"17 58\":[17,3,0,55,14,2],\"10 70\":[10,3,0,69,2,70,9,2],\"17 21\":[17,3,0,12,2,21,14,2],\"9 70\":[9,3,0,69,2,70,9,2],\"9 62\":[9,3,0,61,2,62,9,2],\"17 13\":[17,3,0,12,2,13,14,2],\"14 32\":[14,3,0,30,2,32,14,2],\"4 43\":[4,3,0,40,4,2],\"16 25\":[16,3,0,12,2,25,14,2],\"17 66\":[17,3,0,61,14,2],\"17 32\":[17,3,0,30,2,32,14,2],\"15 58\":[15,3,0,55,14,2],\"17 65\":[17,3,0,61,2,65,14,2],\"15 9\":[15,3,0,4,14,2],\"12 7\":[12,3,0,4,2,7,9,2],\"7 24\":[7,3,0,12,2,24,4,2],\"7 9\":[7,3,0,4,4,2],\"10 6\":[10,3,0,4,2,6,9,2],\"11 36\":[11,3,0,30,2,36,9,2],\"5 33\":[5,3,0,30,2,33,4,2],\"10 72\":[10,3,0,69,2,72,9,2],\"16 6\":[16,3,0,4,2,6,14,2],\"6 6\":[6,3,0,4,2,6,4,2],\"15 43\":[15,3,0,40,14,2],\"11 56\":[11,3,0,55,2,56,9,2],\"10 20\":[10,3,0,12,2,20,9,2],\"5 80\":[5,3,0,77,2,80,4,2],\"9 16\":[9,3,0,12,2,16,9,2],\"14 88\":[14,3,0,88,14,2],\"17 42\":[17,3,0,40,2,42,14,2],\"7 37\":[7,3,0,30,4,2],\"5 15\":[5,3,0,12,2,15,4,2],\"12 72\":[12,3,0,69,2,72,9,2],\"12 47\":[12,3,0,46,2,47,9,2],\"11 25\":[11,3,0,12,2,25,9,2],\"6 47\":[6,3,0,46,2,47,4,2],\"7 22\":[7,3,0,12,2,22,4,2],\"16 41\":[16,3,0,40,2,41,14,2],\"4 36\":[4,3,0,30,2,36,4,2]}; \n",
       "var jdividNUM = \"injblock1001\"; \n",
       "var Dclickedcell = null; \n",
       "function clickedcell() \n",
       "{ \n",
       "    Dclickedcell = this; \n",
       "    console.log(\"jjjj\", this); \n",
       "    var rgc = new RegExp('(^|\\b)' + \"selected\".split(' ').join('|') + '(\\b|$)', 'gi'); \n",
       "    Array.prototype.forEach.call(document.querySelectorAll(\"div#\"+jdividNUM+\" table.ex td.selected\"), function(el, i) { \n",
       "        if (el.classList)  el.classList.remove(\"selected\");\n",
       "        else  el.className = el.className.replace(rgc, ' ');\n",
       "    }); \n",
       "    if (this.classList)  this.classList.add(\"selected\");\n",
       "    else this.className += ' ' + \"selected\";\n",
       "\n",
       "    var dimpairs = jslookup[this.title]; \n",
       "    if (dimpairs !== undefined) {\n",
       "        for (var i = 1; i < dimpairs.length; i += 2) {\n",
       "            var row = document.querySelectorAll(\"div#\"+jdividNUM+\" table.ex tr\")[dimpairs[i]]; \n",
       "            var el = row.querySelectorAll(\"td\")[dimpairs[i-1]]; \n",
       "            if (el.classList)  el.classList.add(\"selected\");\n",
       "            else el.className += ' ' + \"selected\";\n",
       "        }\n",
       "    }\n",
       "}\n",
       "Array.prototype.forEach.call(document.querySelectorAll(\"div#\"+jdividNUM+\" table.ex td\"), function(item, i) { item.onclick=clickedcell; }); \n",
       "</script>\n"
      ],
      "text/plain": [
       "<IPython.core.display.HTML object>"
      ]
     },
     "metadata": {},
     "output_type": "display_data"
    }
   ],
   "source": [
    "c1 = ConversionSegment(observations, Dimensions, processTIMEUNIT=True)\n",
    "if is_interactive():\n",
    "    savepreviewhtml(c1)"
   ]
  },
  {
   "cell_type": "code",
   "execution_count": 10,
   "metadata": {},
   "outputs": [
    {
     "name": "stdout",
     "output_type": "stream",
     "text": [
      "\n"
     ]
    }
   ],
   "source": [
    "new_table = c1.topandas()"
   ]
  },
  {
   "cell_type": "code",
   "execution_count": 11,
   "metadata": {},
   "outputs": [],
   "source": [
    "new_table['Year'] = pd.to_numeric(new_table['Year'], errors='coerce').fillna(0)"
   ]
  },
  {
   "cell_type": "code",
   "execution_count": 12,
   "metadata": {},
   "outputs": [],
   "source": [
    "new_table['Year'] = new_table['Year'].astype(int)"
   ]
  },
  {
   "cell_type": "code",
   "execution_count": 13,
   "metadata": {},
   "outputs": [],
   "source": [
    "new_table.columns = ['Value' if x=='OBS' else x for x in new_table.columns]"
   ]
  },
  {
   "cell_type": "code",
   "execution_count": 14,
   "metadata": {},
   "outputs": [],
   "source": [
    "new_table['geo3'].fillna('Total', inplace = True)"
   ]
  },
  {
   "cell_type": "code",
   "execution_count": 15,
   "metadata": {},
   "outputs": [],
   "source": [
    "new_table['BOP Service'] = new_table['geo1'].fillna('') + '-' + new_table['geo3'].fillna('')"
   ]
  },
  {
   "cell_type": "code",
   "execution_count": 16,
   "metadata": {},
   "outputs": [],
   "source": [
    "new_table['Flow'] = new_table['Flow'].str.lower()"
   ]
  },
  {
   "cell_type": "code",
   "execution_count": 17,
   "metadata": {},
   "outputs": [],
   "source": [
    "new_table['Flow'] = new_table['Flow'].map(lambda cell:cell.replace('balances', 'balance'))"
   ]
  },
  {
   "cell_type": "code",
   "execution_count": 18,
   "metadata": {},
   "outputs": [],
   "source": [
    "new_table = new_table[new_table['Value'] != '' ]"
   ]
  },
  {
   "cell_type": "code",
   "execution_count": 19,
   "metadata": {},
   "outputs": [],
   "source": [
    "new_table['International Trade Basis'] = 'BOP'"
   ]
  },
  {
   "cell_type": "code",
   "execution_count": 20,
   "metadata": {},
   "outputs": [],
   "source": [
    "new_table['ONS Partner Geography'] = 'Whole world'"
   ]
  },
  {
   "cell_type": "code",
   "execution_count": 21,
   "metadata": {},
   "outputs": [],
   "source": [
    "new_table = new_table[['ONS Partner Geography', 'Year','Flow','BOP Service', 'International Trade Basis', 'Measure Type','Value','Unit' ]]"
   ]
  },
  {
   "cell_type": "code",
   "execution_count": 22,
   "metadata": {},
   "outputs": [],
   "source": [
    "# if is_interactive():\n",
    "#     SubstancetinationFolder = Path('out')\n",
    "#     SubstancetinationFolder.mkdir(exist_ok=True, parents=True)\n",
    "#     new_table.to_csv(SubstancetinationFolder / ('tablec51.csv'), index = False)"
   ]
  },
  {
   "cell_type": "code",
   "execution_count": 23,
   "metadata": {
    "scrolled": true
   },
   "outputs": [
    {
     "data": {
      "text/html": [
       "<div>\n",
       "<style scoped>\n",
       "    .dataframe tbody tr th:only-of-type {\n",
       "        vertical-align: middle;\n",
       "    }\n",
       "\n",
       "    .dataframe tbody tr th {\n",
       "        vertical-align: top;\n",
       "    }\n",
       "\n",
       "    .dataframe thead th {\n",
       "        text-align: right;\n",
       "    }\n",
       "</style>\n",
       "<table border=\"1\" class=\"dataframe\">\n",
       "  <thead>\n",
       "    <tr style=\"text-align: right;\">\n",
       "      <th></th>\n",
       "      <th>ONS Partner Geography</th>\n",
       "      <th>Year</th>\n",
       "      <th>Flow</th>\n",
       "      <th>BOP Service</th>\n",
       "      <th>International Trade Basis</th>\n",
       "      <th>Measure Type</th>\n",
       "      <th>Value</th>\n",
       "      <th>Unit</th>\n",
       "    </tr>\n",
       "  </thead>\n",
       "  <tbody>\n",
       "    <tr>\n",
       "      <th>0</th>\n",
       "      <td>Whole world</td>\n",
       "      <td>2009</td>\n",
       "      <td>exports</td>\n",
       "      <td>Agricultural, Mining and On-site Processing Se...</td>\n",
       "      <td>BOP</td>\n",
       "      <td>GBP Total</td>\n",
       "      <td>3.852</td>\n",
       "      <td>gbp-million</td>\n",
       "    </tr>\n",
       "    <tr>\n",
       "      <th>8</th>\n",
       "      <td>Whole world</td>\n",
       "      <td>2009</td>\n",
       "      <td>balance</td>\n",
       "      <td>Agricultural, Mining and On-site Processing Se...</td>\n",
       "      <td>BOP</td>\n",
       "      <td>GBP Total</td>\n",
       "      <td>3.378</td>\n",
       "      <td>gbp-million</td>\n",
       "    </tr>\n",
       "    <tr>\n",
       "      <th>13</th>\n",
       "      <td>Whole world</td>\n",
       "      <td>2010</td>\n",
       "      <td>exports</td>\n",
       "      <td>Agricultural, Mining and On-site Processing Se...</td>\n",
       "      <td>BOP</td>\n",
       "      <td>GBP Total</td>\n",
       "      <td>95.883</td>\n",
       "      <td>gbp-million</td>\n",
       "    </tr>\n",
       "    <tr>\n",
       "      <th>14</th>\n",
       "      <td>Whole world</td>\n",
       "      <td>2011</td>\n",
       "      <td>exports</td>\n",
       "      <td>Agricultural, Mining and On-site Processing Se...</td>\n",
       "      <td>BOP</td>\n",
       "      <td>GBP Total</td>\n",
       "      <td>145.03</td>\n",
       "      <td>gbp-million</td>\n",
       "    </tr>\n",
       "    <tr>\n",
       "      <th>15</th>\n",
       "      <td>Whole world</td>\n",
       "      <td>2012</td>\n",
       "      <td>exports</td>\n",
       "      <td>Agricultural, Mining and On-site Processing Se...</td>\n",
       "      <td>BOP</td>\n",
       "      <td>GBP Total</td>\n",
       "      <td>148.325</td>\n",
       "      <td>gbp-million</td>\n",
       "    </tr>\n",
       "  </tbody>\n",
       "</table>\n",
       "</div>"
      ],
      "text/plain": [
       "   ONS Partner Geography  Year     Flow  \\\n",
       "0            Whole world  2009  exports   \n",
       "8            Whole world  2009  balance   \n",
       "13           Whole world  2010  exports   \n",
       "14           Whole world  2011  exports   \n",
       "15           Whole world  2012  exports   \n",
       "\n",
       "                                          BOP Service  \\\n",
       "0   Agricultural, Mining and On-site Processing Se...   \n",
       "8   Agricultural, Mining and On-site Processing Se...   \n",
       "13  Agricultural, Mining and On-site Processing Se...   \n",
       "14  Agricultural, Mining and On-site Processing Se...   \n",
       "15  Agricultural, Mining and On-site Processing Se...   \n",
       "\n",
       "   International Trade Basis Measure Type    Value         Unit  \n",
       "0                        BOP    GBP Total    3.852  gbp-million  \n",
       "8                        BOP    GBP Total    3.378  gbp-million  \n",
       "13                       BOP    GBP Total   95.883  gbp-million  \n",
       "14                       BOP    GBP Total   145.03  gbp-million  \n",
       "15                       BOP    GBP Total  148.325  gbp-million  "
      ]
     },
     "execution_count": 23,
     "metadata": {},
     "output_type": "execute_result"
    }
   ],
   "source": [
    "new_table.head()"
   ]
  },
  {
   "cell_type": "code",
   "execution_count": null,
   "metadata": {},
   "outputs": [],
   "source": []
  }
 ],
 "metadata": {
  "kernelspec": {
   "display_name": "Python 3",
   "language": "python",
   "name": "python3"
  },
  "language_info": {
   "codemirror_mode": {
    "name": "ipython",
    "version": 3
   },
   "file_extension": ".py",
   "mimetype": "text/x-python",
   "name": "python",
   "nbconvert_exporter": "python",
   "pygments_lexer": "ipython3",
   "version": "3.7.2"
  }
 },
 "nbformat": 4,
 "nbformat_minor": 2
}
