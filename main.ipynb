{
 "cells": [
  {
   "cell_type": "code",
   "execution_count": 1,
   "metadata": {},
   "outputs": [
    {
     "data": {
      "text/markdown": [
       "## International Trade in Services\n",
       "\n",
       "The tables show International Trade in Services through a variety of formats. Some tables compare figures over several years but the majority provide the most recent geographic information by industry or product. The tables provide information in as much detail as possible without disclosing the details of any individual companies.\n",
       "\n",
       "### Distributions\n",
       "\n",
       "1. International Trade in Services ([MS Excel Spreadsheet](https://www.ons.gov.uk/file?uri=/businessindustryandtrade/internationaltrade/datasets/internationaltradeinservicesreferencetables/alltables2016/internationaltradeinservices2016.xls))\n"
      ],
      "text/plain": [
       "<gssutils.scrape.Scraper at 0x7f502820ef98>"
      ]
     },
     "execution_count": 1,
     "metadata": {},
     "output_type": "execute_result"
    }
   ],
   "source": [
    "from gssutils import *\n",
    "\n",
    "scraper = Scraper('https://www.ons.gov.uk/businessindustryandtrade/internationaltrade/datasets/' + \\\n",
    "                  'internationaltradeinservicesreferencetables')\n",
    "scraper"
   ]
  },
  {
   "cell_type": "code",
   "execution_count": 2,
   "metadata": {},
   "outputs": [
    {
     "data": {
      "text/plain": [
       "dict_keys(['Contents', 'Table A0', 'Table B1', 'Table B2', 'Table B3', 'Table C0', 'Table C1 2009-2012', 'Table C1 2013-2016', 'Table C2 2009-2012', 'Table C2 2013-2016', 'Table C3 2009-2012', 'Table C3 2013-2016', 'Table C4 2009-2012', 'Table C4 2013-2016', 'Table C5 2009-2012', 'Table C5 2013-2016', 'Table C6 2009-2012', 'Table C6 2013-2016', 'Table C7 2009-2012', 'Table C7 2013-2016', 'Table D1', 'Table D2'])"
      ]
     },
     "execution_count": 2,
     "metadata": {},
     "output_type": "execute_result"
    }
   ],
   "source": [
    "tabs = { tab.name: tab for tab in scraper.distribution().as_databaker() }\n",
    "tabs.keys()"
   ]
  },
  {
   "cell_type": "code",
   "execution_count": 3,
   "metadata": {},
   "outputs": [],
   "source": [
    "next_table = pd.DataFrame()"
   ]
  },
  {
   "cell_type": "code",
   "execution_count": 4,
   "metadata": {},
   "outputs": [],
   "source": [
    "%%capture\n",
    "\n",
    "def process_tab(script_name):\n",
    "    %run \"$script_name\"\n",
    "    return new_table\n",
    "\n",
    "tidy = pd.concat(process_tab(s + '.ipynb') for s in [\n",
    "    \"TabA0\", \"TabB1\", \"TabB2\", \"TabB3\", \"TabC0\",\n",
    "    \"Table C1 2009-2012\", \"Table C1 2013-2016\", \"Table C2 2009-2012\", \"Table C2 2013-2016\",\n",
    "    \"Table C3 2009-2012\", \"Table C3 2013-2016\",\n",
    "    \"Table C4 2009-2012\", \"Table C4 2013-2016\",\n",
    "    \"Table C5 2009-2012\", \"Table C5 2013-2016\",\n",
    "    \"Table C6 2009-2012\", \"Table C6 2013-2016\",\n",
    "    \"Table C7 2009-2012\", \"Table C7 2013-2016\",\n",
    "    \"Table D1\", \"Table D2\" ])"
   ]
  },
  {
   "cell_type": "code",
   "execution_count": 5,
   "metadata": {},
   "outputs": [],
   "source": [
    "tidy.columns = ['ONS Trade Areas ITIS' if x=='ONS Partner Geography' else x for x in tidy.columns]"
   ]
  },
  {
   "cell_type": "code",
   "execution_count": 6,
   "metadata": {},
   "outputs": [],
   "source": [
    "tidy['ONS Trade Areas ITIS'] = tidy['ONS Trade Areas ITIS'].map(lambda cell:cell.replace('Whole world', 'World'))"
   ]
  },
  {
   "cell_type": "code",
   "execution_count": 7,
   "metadata": {},
   "outputs": [],
   "source": [
    "tidy['ONS Trade Areas ITIS'] = tidy['ONS Trade Areas ITIS'].str.rstrip('*')"
   ]
  },
  {
   "cell_type": "code",
   "execution_count": 8,
   "metadata": {},
   "outputs": [],
   "source": [
    "from pathlib import Path\n",
    "out = Path('out')\n",
    "out.mkdir(exist_ok=True)\n",
    "tidy.to_csv(out / 'tidy.csv', index = False)"
   ]
  },
  {
   "cell_type": "code",
   "execution_count": 9,
   "metadata": {},
   "outputs": [],
   "source": [
    "from gssutils.metadata import THEME\n",
    "scraper.dataset.family = 'Trade'\n",
    "scraper.dataset.theme = THEME['business-industry-trade-energy']\n",
    "\n",
    "with open(out / 'dataset.trig', 'wb') as metadata:\n",
    "     metadata.write(scraper.generate_trig())"
   ]
  },
  {
   "cell_type": "code",
   "execution_count": null,
   "metadata": {},
   "outputs": [],
   "source": []
  }
 ],
 "metadata": {
  "kernelspec": {
   "display_name": "Python 3",
   "language": "python",
   "name": "python3"
  },
  "language_info": {
   "codemirror_mode": {
    "name": "ipython",
    "version": 3
   },
   "file_extension": ".py",
   "mimetype": "text/x-python",
   "name": "python",
   "nbconvert_exporter": "python",
   "pygments_lexer": "ipython3",
   "version": "3.7.2"
  }
 },
 "nbformat": 4,
 "nbformat_minor": 2
}
