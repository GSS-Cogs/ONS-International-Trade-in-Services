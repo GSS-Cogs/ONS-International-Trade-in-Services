{
 "cells": [
  {
   "cell_type": "code",
   "execution_count": 4,
   "metadata": {
    "collapsed": true
   },
   "outputs": [],
   "source": [
    "from gssutils import *\n",
    "\n",
    "if is_interactive():\n",
    "    import requests\n",
    "    from cachecontrol import CacheControl\n",
    "    from cachecontrol.caches.file_cache import FileCache\n",
    "    from cachecontrol.heuristics import LastModified\n",
    "    from pathlib import Path\n",
    "\n",
    "    session = CacheControl(requests.Session(),\n",
    "                           cache=FileCache('.cache'),\n",
    "                           heuristic=LastModified())\n",
    "\n",
    "    sourceFolder = Path('in')\n",
    "    sourceFolder.mkdir(exist_ok=True)\n",
    "\n",
    "    inputURL = 'https://www.ons.gov.uk/file?uri=/businessindustryandtrade/internationaltrade/datasets/internationaltradeinservicesreferencetables/alltables2016/internationaltradeinservices2016.xls'\n",
    "    inputFile = sourceFolder / 'internationaltradeinservices2016.xlsb'\n",
    "    response = session.get(inputURL)\n",
    "    with open(inputFile, 'wb') as f:\n",
    "      f.write(response.content)    "
   ]
  },
  {
   "cell_type": "code",
   "execution_count": 5,
   "metadata": {
    "collapsed": true
   },
   "outputs": [],
   "source": [
    "next_table = pd.DataFrame()"
   ]
  },
  {
   "cell_type": "code",
   "execution_count": 6,
   "metadata": {
    "collapsed": true
   },
   "outputs": [],
   "source": [
    "%%capture\n",
    "%run \"TabA0.ipynb\"\n",
    "next_table = pd.concat([next_table, new_table])\n",
    "\n",
    "%run \"TabB1.ipynb\"\n",
    "next_table = pd.concat([next_table, new_table])\n",
    "\n",
    "%run \"TabB2.ipynb\"\n",
    "next_table = pd.concat([next_table, new_table])\n",
    "\n",
    "%run \"TabB3.ipynb\"\n",
    "next_table = pd.concat([next_table, new_table])\n",
    "\n",
    "%run \"TabC0.ipynb\"\n",
    "next_table = pd.concat([next_table, new_table])\n",
    "\n",
    "%run \"Table C1 2009-2012.ipynb\"\n",
    "next_table = pd.concat([next_table, new_table])\n",
    "\n",
    "%run \"Table C1 2013-2016.ipynb\"\n",
    "next_table = pd.concat([next_table, new_table])\n",
    "\n",
    "%run \"Table C2 2009-2012.ipynb\"\n",
    "next_table = pd.concat([next_table, new_table])\n",
    "\n",
    "%run \"Table C2 2013-2016.ipynb\"\n",
    "next_table = pd.concat([next_table, new_table])\n",
    "\n",
    "%run \"Table C3 2009-2012.ipynb\"\n",
    "next_table = pd.concat([next_table, new_table])\n",
    "\n",
    "%run \"Table C3 2013-2016.ipynb\"\n",
    "next_table = pd.concat([next_table, new_table])\n",
    "\n",
    "%run \"Table C4 2009-2012.ipynb\"\n",
    "next_table = pd.concat([next_table, new_table])\n",
    "\n",
    "%run \"Table C4 2013-2016.ipynb\"\n",
    "next_table = pd.concat([next_table, new_table])\n",
    "\n",
    "%run \"Table C5 2009-2012.ipynb\"\n",
    "next_table = pd.concat([next_table, new_table])\n",
    "\n",
    "%run \"Table C5 2013-2016.ipynb\"\n",
    "next_table = pd.concat([next_table, new_table])\n",
    "\n",
    "%run \"Table C6 2009-2012.ipynb\"\n",
    "next_table = pd.concat([next_table, new_table])\n",
    "\n",
    "%run \"Table C6 2013-2016.ipynb\"\n",
    "next_table = pd.concat([next_table, new_table])\n",
    "\n",
    "%run \"Table C7 2009-2012.ipynb\"\n",
    "next_table = pd.concat([next_table, new_table])\n",
    "\n",
    "%run \"Table C7 2013-2016.ipynb\"\n",
    "next_table = pd.concat([next_table, new_table])\n",
    "\n",
    "%run \"Table D1.ipynb\"\n",
    "next_table = pd.concat([next_table, new_table])\n",
    "\n",
    "%run \"Table D2.ipynb\"\n",
    "next_table = pd.concat([next_table, new_table])\n"
   ]
  },
  {
   "cell_type": "code",
   "execution_count": 7,
   "metadata": {},
   "outputs": [
    {
     "data": {
      "text/plain": [
       "ONS Partner Geography        13532\n",
       "Year                         13532\n",
       "Flow                         13532\n",
       "BOP Service                  13532\n",
       "International Trade Basis    13532\n",
       "Measure Type                 13532\n",
       "Value                        13532\n",
       "Unit                         13532\n",
       "dtype: int64"
      ]
     },
     "execution_count": 7,
     "metadata": {},
     "output_type": "execute_result"
    }
   ],
   "source": [
    "next_table.count()"
   ]
  },
  {
   "cell_type": "code",
   "execution_count": 8,
   "metadata": {},
   "outputs": [
    {
     "data": {
      "text/html": [
       "<div>\n",
       "<style scoped>\n",
       "    .dataframe tbody tr th:only-of-type {\n",
       "        vertical-align: middle;\n",
       "    }\n",
       "\n",
       "    .dataframe tbody tr th {\n",
       "        vertical-align: top;\n",
       "    }\n",
       "\n",
       "    .dataframe thead th {\n",
       "        text-align: right;\n",
       "    }\n",
       "</style>\n",
       "<table border=\"1\" class=\"dataframe\">\n",
       "  <thead>\n",
       "    <tr style=\"text-align: right;\">\n",
       "      <th></th>\n",
       "      <th>ONS Partner Geography</th>\n",
       "      <th>Year</th>\n",
       "      <th>Flow</th>\n",
       "      <th>BOP Service</th>\n",
       "      <th>International Trade Basis</th>\n",
       "      <th>Measure Type</th>\n",
       "      <th>Value</th>\n",
       "      <th>Unit</th>\n",
       "    </tr>\n",
       "  </thead>\n",
       "  <tbody>\n",
       "    <tr>\n",
       "      <th>0</th>\n",
       "      <td>Austria</td>\n",
       "      <td>2012</td>\n",
       "      <td>exports</td>\n",
       "      <td>Total International Trade in Services</td>\n",
       "      <td>BOP</td>\n",
       "      <td>GBP Total</td>\n",
       "      <td>340.404</td>\n",
       "      <td>gbp-million</td>\n",
       "    </tr>\n",
       "    <tr>\n",
       "      <th>1</th>\n",
       "      <td>Austria</td>\n",
       "      <td>2013</td>\n",
       "      <td>exports</td>\n",
       "      <td>Total International Trade in Services</td>\n",
       "      <td>BOP</td>\n",
       "      <td>GBP Total</td>\n",
       "      <td>365</td>\n",
       "      <td>gbp-million</td>\n",
       "    </tr>\n",
       "    <tr>\n",
       "      <th>2</th>\n",
       "      <td>Austria</td>\n",
       "      <td>2014</td>\n",
       "      <td>exports</td>\n",
       "      <td>Total International Trade in Services</td>\n",
       "      <td>BOP</td>\n",
       "      <td>GBP Total</td>\n",
       "      <td>373.347</td>\n",
       "      <td>gbp-million</td>\n",
       "    </tr>\n",
       "    <tr>\n",
       "      <th>3</th>\n",
       "      <td>Austria</td>\n",
       "      <td>2015</td>\n",
       "      <td>exports</td>\n",
       "      <td>Total International Trade in Services</td>\n",
       "      <td>BOP</td>\n",
       "      <td>GBP Total</td>\n",
       "      <td>387.548</td>\n",
       "      <td>gbp-million</td>\n",
       "    </tr>\n",
       "    <tr>\n",
       "      <th>4</th>\n",
       "      <td>Austria</td>\n",
       "      <td>2016</td>\n",
       "      <td>exports</td>\n",
       "      <td>Total International Trade in Services</td>\n",
       "      <td>BOP</td>\n",
       "      <td>GBP Total</td>\n",
       "      <td>482</td>\n",
       "      <td>gbp-million</td>\n",
       "    </tr>\n",
       "  </tbody>\n",
       "</table>\n",
       "</div>"
      ],
      "text/plain": [
       "  ONS Partner Geography  Year     Flow                            BOP Service  \\\n",
       "0               Austria  2012  exports  Total International Trade in Services   \n",
       "1               Austria  2013  exports  Total International Trade in Services   \n",
       "2               Austria  2014  exports  Total International Trade in Services   \n",
       "3               Austria  2015  exports  Total International Trade in Services   \n",
       "4               Austria  2016  exports  Total International Trade in Services   \n",
       "\n",
       "  International Trade Basis Measure Type    Value         Unit  \n",
       "0                       BOP    GBP Total  340.404  gbp-million  \n",
       "1                       BOP    GBP Total      365  gbp-million  \n",
       "2                       BOP    GBP Total  373.347  gbp-million  \n",
       "3                       BOP    GBP Total  387.548  gbp-million  \n",
       "4                       BOP    GBP Total      482  gbp-million  "
      ]
     },
     "execution_count": 8,
     "metadata": {},
     "output_type": "execute_result"
    }
   ],
   "source": [
    "next_table.head()"
   ]
  },
  {
   "cell_type": "code",
   "execution_count": 9,
   "metadata": {
    "collapsed": true
   },
   "outputs": [],
   "source": [
    "from pathlib import Path\n",
    "out = Path('out')\n",
    "out.mkdir(exist_ok=True)\n",
    "next_table.to_csv(out / 'observations.csv', index = False)"
   ]
  },
  {
   "cell_type": "code",
   "execution_count": 10,
   "metadata": {},
   "outputs": [
    {
     "data": {
      "text/plain": [
       "ONS Partner Geography        object\n",
       "Year                          int32\n",
       "Flow                         object\n",
       "BOP Service                  object\n",
       "International Trade Basis    object\n",
       "Measure Type                 object\n",
       "Value                        object\n",
       "Unit                         object\n",
       "dtype: object"
      ]
     },
     "execution_count": 10,
     "metadata": {},
     "output_type": "execute_result"
    }
   ],
   "source": [
    "next_table.dtypes"
   ]
  }
 ],
 "metadata": {
  "kernelspec": {
   "display_name": "Python 3",
   "language": "python",
   "name": "python3"
  },
  "language_info": {
   "codemirror_mode": {
    "name": "ipython",
    "version": 3
   },
   "file_extension": ".py",
   "mimetype": "text/x-python",
   "name": "python",
   "nbconvert_exporter": "python",
   "pygments_lexer": "ipython3",
   "version": "3.6.3"
  }
 },
 "nbformat": 4,
 "nbformat_minor": 2
}
