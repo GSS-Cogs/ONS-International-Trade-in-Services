{
 "cells": [
  {
   "cell_type": "code",
   "execution_count": 1,
   "metadata": {},
   "outputs": [
    {
     "name": "stderr",
     "output_type": "stream",
     "text": [
      "WARNING:Unexpected \"next release\" field: Unknown string format\n"
     ]
    },
    {
     "data": {
      "text/markdown": [
       "## International trade in services\n",
       "\n",
       "Detailed breakdown of annual trade in UK services estimates, analysing data by country, product and industry.\n",
       "\n",
       "### Distributions\n",
       "\n",
       "1. International trade in services ([MS Excel Spreadsheet](https://www.ons.gov.uk/file?uri=/businessindustryandtrade/internationaltrade/datasets/internationaltradeinservicesreferencetables/alltables2017/internationaltradeinservices2017.xls))\n"
      ],
      "text/plain": [
       "<gssutils.scrape.Scraper at 0x1eb7b6e45c0>"
      ]
     },
     "execution_count": 1,
     "metadata": {},
     "output_type": "execute_result"
    }
   ],
   "source": [
    "from gssutils import *\n",
    "\n",
    "scraper = Scraper('https://www.ons.gov.uk/businessindustryandtrade/internationaltrade/datasets/' + \\\n",
    "                  'internationaltradeinservicesreferencetables')\n",
    "scraper"
   ]
  },
  {
   "cell_type": "code",
   "execution_count": 2,
   "metadata": {
    "scrolled": true
   },
   "outputs": [
    {
     "data": {
      "text/plain": [
       "dict_keys(['Contents', 'Table A0', 'Table B1', 'Table B2', 'Table B3', 'Table C0', 'Table C1 2009-2012', 'Table C1 2013-2017', 'Table C2 2009-2012', 'Table C2 2013-2017', 'Table C3 2009-2012', 'Table C3 2013-2017', 'Table C4 2009-2012', 'Table C4 2013-2017', 'Table C5 2009-2012', 'Table C5 2013-2017', 'Table C6 2009-2012', ' Table C6 2013-2017', 'Table C7 2009-2012', 'Table C7 2013-2017', 'Table D1', 'Table D2'])"
      ]
     },
     "execution_count": 2,
     "metadata": {},
     "output_type": "execute_result"
    }
   ],
   "source": [
    "tabs = { tab.name: tab for tab in scraper.distribution().as_databaker() }\n",
    "tabs.keys()"
   ]
  },
  {
   "cell_type": "code",
   "execution_count": 3,
   "metadata": {
    "collapsed": true
   },
   "outputs": [],
   "source": [
    "next_table = pd.DataFrame()"
   ]
  },
  {
   "cell_type": "code",
   "execution_count": 4,
   "metadata": {
    "collapsed": true
   },
   "outputs": [],
   "source": [
    "%%capture\n",
    "\n",
    "def process_tab(script_name):\n",
    "    %run \"$script_name\"\n",
    "    return new_table\n",
    "\n",
    "tidy = pd.concat(process_tab(s + '.ipynb') for s in [\n",
    "    \"TabA0\", \"TabB1\", \"TabB2\", \"TabB3\", \n",
    "    \"Table C1 2009-2012\", \"Table C1 2013-2017\", \"Table C2 2009-2012\", \"Table C2 2013-2017\",\n",
    "    \"Table C3 2009-2012\", \"Table C3 2013-2017\",\n",
    "    \"Table C4 2009-2012\", \"Table C4 2013-2017\",\n",
    "    \"Table C5 2009-2012\", \"Table C5 2013-2017\",\n",
    "    \"Table C6 2009-2012\", \"Table C6 2013-2017\",\n",
    "    \"Table C7 2009-2012\", \"Table C7 2013-2017\",\n",
    "    \"Table D1\", \"Table D2\" ])"
   ]
  },
  {
   "cell_type": "code",
   "execution_count": 5,
   "metadata": {
    "collapsed": true
   },
   "outputs": [],
   "source": [
    "tidy['ONS Partner Geography'] = tidy['ONS Partner Geography'].map(\n",
    "    lambda x: {\n",
    "        'Whole world' : 'World', \n",
    "        'Total Unallocated ' : 'Total Unallocated',\n",
    "        'Total Unallocated' : 'Total Unallocated',\n",
    "        'International Organisations' : 'International Organisations' , \n",
    "        'Total Australasia and Oceania and Total Unallocated' : 'Total Australasia and Oceania and Total Unallocated',\n",
    "        'Total Australasia, Oceania and Others*' : 'Total Australasia, Oceania and Others' , \n",
    "            }.get(x, x))\n"
   ]
  },
  {
   "cell_type": "code",
   "execution_count": 6,
   "metadata": {
    "collapsed": true
   },
   "outputs": [],
   "source": [
    "tidy['BOP Service'] = tidy['BOP Service'].map(\n",
    "    lambda x: {\n",
    "        'Construction  Services-Construction in the UK' : 'Construction Services-Construction in the UK',\n",
    "        'Construction  Services-Construction outside the UK' : 'Construction Services-Construction outside the UK',\n",
    "        'Construction  Services-Total' : 'Construction Services-Total',\n",
    "        'Technical services-Other techincal services' : 'Technical services-Other technical services',\n",
    "        'Merchanting and Other Trade related Services-Other trade - related services' :'Merchanting and Other Trade related Services-Other trade related services',\n",
    "        'Technical and Scientific Services-Scientific and other technical services inc surveying' : 'Technical and Scientific Services-Scientific and other techinical services inc surveying',\n",
    "        'Telecommunication, Computer and Information Services-Postal and courier' : 'Telecommunication, Computer and Information Services-Postal and courier',\n",
    "        'Telecommunication, Computer and Information Services-Telecommunications': 'Telecommunication, Computer and Information Services-Telecommunications',\n",
    "        'Telecommunication, Computer and Information Services-Computer Services' : 'Telecommunication, Computer and Information Services-Computer Services',\n",
    "        'Telecommunication, Computer and Information Services-Publishing Services': 'Telecommunication, Computer and Information Services-Publishing Services',\n",
    "        'Telecommunication, Computer and Information Services-News agency Services': 'Telecommunication, Computer and Information Services-News agency Services',\n",
    "        'Telecommunication, Computer and Information Services-Information Services' : 'Telecommunication, Computer and Information Services-Information Services',\n",
    "        'Telecommunication, Computer and Information Services-Total' : 'Telecommunication, Computer and Information Services-Information Services'\n",
    "\n",
    "            }.get(x, x))"
   ]
  },
  {
   "cell_type": "code",
   "execution_count": 7,
   "metadata": {
    "collapsed": true
   },
   "outputs": [],
   "source": [
    "def remove_whitespace(x):\n",
    "    try:\n",
    "       x = \"\".join(x.split())\n",
    "    except:\n",
    "        pass\n",
    "    return x\n",
    "\n",
    "tidy['Flow'] = tidy['Flow'].apply(remove_whitespace)\n"
   ]
  },
  {
   "cell_type": "code",
   "execution_count": 8,
   "metadata": {
    "collapsed": true
   },
   "outputs": [],
   "source": [
    "import urllib.request as request\n",
    "import csv\n",
    "import io\n",
    "import requests\n",
    "\n",
    "r = request.urlopen('https://raw.githubusercontent.com/ONS-OpenData/ref_trade/master/codelists/itis-geographies.csv').read().decode('utf8').split(\"\\n\")\n",
    "reader = csv.reader(r)\n",
    "url=\"https://raw.githubusercontent.com/ONS-OpenData/ref_trade/master/codelists/itis-geographies.csv\"\n",
    "s=requests.get(url).content\n",
    "c=pd.read_csv(io.StringIO(s.decode('utf-8')))\n",
    "\n",
    "tidy = pd.merge(tidy, c, how = 'left', left_on = 'ONS Partner Geography', right_on = 'Label')\n",
    "\n",
    "tidy.columns = ['ONS Trade Areas ITIS' if x=='Notation' else x for x in tidy.columns]\n",
    "\n",
    "r = request.urlopen('https://raw.githubusercontent.com/ONS-OpenData/ref_trade/master/codelists/itis-services.csv').read().decode('utf8').split(\"\\n\")\n",
    "reader = csv.reader(r)\n",
    "url=\"https://raw.githubusercontent.com/ONS-OpenData/ref_trade/master/codelists/itis-services.csv\"\n",
    "s=requests.get(url).content\n",
    "c=pd.read_csv(io.StringIO(s.decode('utf-8')))\n",
    "\n",
    "tidy = pd.merge(tidy, c, how = 'left', left_on = 'BOP Service', right_on = 'Label')\n",
    "\n",
    "tidy.columns = ['ITIS Service' if x=='Notation' else x for x in tidy.columns]"
   ]
  },
  {
   "cell_type": "code",
   "execution_count": 9,
   "metadata": {
    "collapsed": true
   },
   "outputs": [],
   "source": [
    "tidy = tidy.drop(['ONS Partner Geography', 'BOP Service','Parent Notation_y','Sort Priority_y','Description_y','Label_y',\n",
    "                 'Parent Notation_x', 'Sort Priority_x','Description_x','Label_x'], axis = 1)"
   ]
  },
  {
   "cell_type": "code",
   "execution_count": 10,
   "metadata": {
    "collapsed": true
   },
   "outputs": [],
   "source": [
    "tidy.drop_duplicates(inplace = True)"
   ]
  },
  {
   "cell_type": "code",
   "execution_count": 11,
   "metadata": {
    "collapsed": true
   },
   "outputs": [],
   "source": [
    "tidy = tidy[['ONS Trade Areas ITIS','Year','Flow','ITIS Service','ITIS Industry','International Trade Basis','Measure Type','Value','Unit']]"
   ]
  },
  {
   "cell_type": "code",
   "execution_count": 13,
   "metadata": {},
   "outputs": [],
   "source": [
    "from pathlib import Path\n",
    "out = Path('out')\n",
    "out.mkdir(exist_ok=True)\n",
    "tidy.to_csv(out / 'tidy.csv', index = False)"
   ]
  },
  {
   "cell_type": "code",
   "execution_count": 14,
   "metadata": {
    "collapsed": true
   },
   "outputs": [],
   "source": [
    "from gssutils.metadata import THEME\n",
    "scraper.dataset.family = 'Trade'\n",
    "scraper.dataset.theme = THEME['business-industry-trade-energy']\n",
    "\n",
    "with open(out / 'dataset.trig', 'wb') as metadata:\n",
    "     metadata.write(scraper.generate_trig())"
   ]
  },
  {
   "cell_type": "code",
   "execution_count": null,
   "metadata": {
    "collapsed": true
   },
   "outputs": [],
   "source": []
  }
 ],
 "metadata": {
  "kernelspec": {
   "display_name": "Python 3",
   "language": "python",
   "name": "python3"
  },
  "language_info": {
   "codemirror_mode": {
    "name": "ipython",
    "version": 3
   },
   "file_extension": ".py",
   "mimetype": "text/x-python",
   "name": "python",
   "nbconvert_exporter": "python",
   "pygments_lexer": "ipython3",
   "version": "3.6.3"
  }
 },
 "nbformat": 4,
 "nbformat_minor": 2
}
