{
 "cells": [
  {
   "cell_type": "code",
   "execution_count": 1,
   "metadata": {},
   "outputs": [
    {
     "data": {
      "text/markdown": [
       "## International Trade in Services\n",
       "\n",
       "The tables show International Trade in Services through a variety of formats. Some tables compare figures over several years but the majority provide the most recent geographic information by industry or product. The tables provide information in as much detail as possible without disclosing the details of any individual companies.\n",
       "\n",
       "### Distributions\n",
       "\n",
       "1. International Trade in Services ([MS Excel Spreadsheet](https://www.ons.gov.uk/file?uri=/businessindustryandtrade/internationaltrade/datasets/internationaltradeinservicesreferencetables/alltables2016/internationaltradeinservices2016.xls))\n"
      ],
      "text/plain": [
       "<gssutils.scrape.Scraper at 0x16fa15e65c0>"
      ]
     },
     "execution_count": 1,
     "metadata": {},
     "output_type": "execute_result"
    }
   ],
   "source": [
    "from gssutils import *\n",
    "\n",
    "scraper = Scraper('https://www.ons.gov.uk/businessindustryandtrade/internationaltrade/datasets/' + \\\n",
    "                  'internationaltradeinservicesreferencetables')\n",
    "scraper"
   ]
  },
  {
   "cell_type": "code",
   "execution_count": 2,
   "metadata": {},
   "outputs": [
    {
     "data": {
      "text/plain": [
       "dict_keys(['Contents', 'Table A0', 'Table B1', 'Table B2', 'Table B3', 'Table C0', 'Table C1 2009-2012', 'Table C1 2013-2016', 'Table C2 2009-2012', 'Table C2 2013-2016', 'Table C3 2009-2012', 'Table C3 2013-2016', 'Table C4 2009-2012', 'Table C4 2013-2016', 'Table C5 2009-2012', 'Table C5 2013-2016', 'Table C6 2009-2012', 'Table C6 2013-2016', 'Table C7 2009-2012', 'Table C7 2013-2016', 'Table D1', 'Table D2'])"
      ]
     },
     "execution_count": 2,
     "metadata": {},
     "output_type": "execute_result"
    }
   ],
   "source": [
    "tabs = { tab.name: tab for tab in scraper.distribution().as_databaker() }\n",
    "tabs.keys()"
   ]
  },
  {
   "cell_type": "code",
   "execution_count": 3,
   "metadata": {
    "collapsed": true
   },
   "outputs": [],
   "source": [
    "next_table = pd.DataFrame()"
   ]
  },
  {
   "cell_type": "code",
   "execution_count": 4,
   "metadata": {
    "collapsed": true
   },
   "outputs": [],
   "source": [
    "%%capture\n",
    "\n",
    "def process_tab(script_name):\n",
    "    %run \"$script_name\"\n",
    "    return new_table\n",
    "\n",
    "tidy = pd.concat(process_tab(s + '.ipynb') for s in [\n",
    "    \"TabA0\", \"TabB1\", \"TabB2\", \"TabB3\", \"TabC0\",\n",
    "    \"Table C1 2009-2012\", \"Table C1 2013-2016\", \"Table C2 2009-2012\", \"Table C2 2013-2016\",\n",
    "    \"Table C3 2009-2012\", \"Table C3 2013-2016\",\n",
    "    \"Table C4 2009-2012\", \"Table C4 2013-2016\",\n",
    "    \"Table C5 2009-2012\", \"Table C5 2013-2016\",\n",
    "    \"Table C6 2009-2012\", \"Table C6 2013-2016\",\n",
    "    \"Table C7 2009-2012\", \"Table C7 2013-2016\",\n",
    "    \"Table D1\", \"Table D2\" ])"
   ]
  },
  {
   "cell_type": "code",
   "execution_count": 5,
   "metadata": {
    "collapsed": true
   },
   "outputs": [],
   "source": [
    "tidy['ONS Partner Geography'] = tidy['ONS Partner Geography'].map(lambda cell:cell.replace('Whole world', 'World'))"
   ]
  },
  {
   "cell_type": "code",
   "execution_count": 6,
   "metadata": {
    "collapsed": true
   },
   "outputs": [],
   "source": [
    "tidy['ONS Partner Geography'] = tidy['ONS Partner Geography'].str.rstrip('*')"
   ]
  },
  {
   "cell_type": "code",
   "execution_count": 7,
   "metadata": {},
   "outputs": [],
   "source": [
    "import urllib.request as request\n",
    "import csv\n",
    "import io\n",
    "import requests\n",
    "\n",
    "r = request.urlopen('https://raw.githubusercontent.com/ONS-OpenData/ref_trade/master/codelists/itis-geographies.csv').read().decode('utf8').split(\"\\n\")\n",
    "reader = csv.reader(r)\n",
    "url=\"https://raw.githubusercontent.com/ONS-OpenData/ref_trade/master/codelists/itis-geographies.csv\"\n",
    "s=requests.get(url).content\n",
    "c=pd.read_csv(io.StringIO(s.decode('utf-8')))\n",
    "\n",
    "tidy = pd.merge(new_table, c, how = 'left', left_on = 'ONS Partner Geography', right_on = 'Label')\n",
    "\n",
    "tidy.columns = ['ONS Trade Areas ITIS' if x=='Notation' else x for x in tidy.columns]\n",
    "tidy.columns = ['ITIS Service' if x== 'BOP Service' else x for x in tidy.columns]"
   ]
  },
  {
   "cell_type": "code",
   "execution_count": 8,
   "metadata": {},
   "outputs": [],
   "source": [
    "tidy = tidy.drop(['Label','Parent Notation','Sort Priority','Description','ONS Partner Geography'], axis = 1)"
   ]
  },
  {
   "cell_type": "code",
   "execution_count": 9,
   "metadata": {},
   "outputs": [],
   "source": [
    "tidy = tidy[['ONS Trade Areas ITIS','Year','Flow','ITIS Service','International Trade Basis','Measure Type','Value','Unit']]"
   ]
  },
  {
   "cell_type": "code",
   "execution_count": 10,
   "metadata": {
    "collapsed": true
   },
   "outputs": [],
   "source": [
    "from pathlib import Path\n",
    "out = Path('out')\n",
    "out.mkdir(exist_ok=True)\n",
    "tidy.to_csv(out / 'tidy.csv', index = False)"
   ]
  },
  {
   "cell_type": "code",
   "execution_count": 11,
   "metadata": {
    "collapsed": true
   },
   "outputs": [],
   "source": [
    "from gssutils.metadata import THEME\n",
    "scraper.dataset.family = 'Trade'\n",
    "scraper.dataset.theme = THEME['business-industry-trade-energy']\n",
    "\n",
    "with open(out / 'dataset.trig', 'wb') as metadata:\n",
    "     metadata.write(scraper.generate_trig())"
   ]
  },
  {
   "cell_type": "code",
   "execution_count": null,
   "metadata": {
    "collapsed": true
   },
   "outputs": [],
   "source": []
  }
 ],
 "metadata": {
  "kernelspec": {
   "display_name": "Python 3",
   "language": "python",
   "name": "python3"
  },
  "language_info": {
   "codemirror_mode": {
    "name": "ipython",
    "version": 3
   },
   "file_extension": ".py",
   "mimetype": "text/x-python",
   "name": "python",
   "nbconvert_exporter": "python",
   "pygments_lexer": "ipython3",
   "version": "3.6.3"
  }
 },
 "nbformat": 4,
 "nbformat_minor": 2
}
