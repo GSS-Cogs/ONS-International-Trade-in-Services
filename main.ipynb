{
 "cells": [
  {
   "cell_type": "code",
   "execution_count": 1,
   "metadata": {},
   "outputs": [
    {
     "name": "stderr",
     "output_type": "stream",
     "text": [
      "WARNING:Unexpected \"next release\" field: ('Unknown string format:', 'To be announced')\n"
     ]
    },
    {
     "data": {
      "text/markdown": [
       "## International trade in services\n",
       "\n",
       "Detailed breakdown of annual trade in UK services estimates, analysing data by country, product and industry.\n",
       "\n",
       "### Distributions\n",
       "\n",
       "1. International trade in services ([MS Excel Spreadsheet](https://www.ons.gov.uk/file?uri=/businessindustryandtrade/internationaltrade/datasets/internationaltradeinservicesreferencetables/alltables2017/internationaltradeinservices2017.xls))\n"
      ],
      "text/plain": [
       "<gssutils.scrape.Scraper at 0x7ff24d410f60>"
      ]
     },
     "execution_count": 1,
     "metadata": {},
     "output_type": "execute_result"
    }
   ],
   "source": [
    "from gssutils import *\n",
    "\n",
    "scraper = Scraper('https://www.ons.gov.uk/businessindustryandtrade/internationaltrade/datasets/' + \\\n",
    "                  'internationaltradeinservicesreferencetables')\n",
    "scraper"
   ]
  },
  {
   "cell_type": "code",
   "execution_count": 2,
   "metadata": {
    "scrolled": true
   },
   "outputs": [
    {
     "data": {
      "text/plain": [
       "\"['Contents', 'Table A0', 'Table B1', 'Table B2', 'Table B3', 'Table C0', 'Table C1 2009-2012', 'Table C1 2013-2017', 'Table C2 2009-2012', 'Table C2 2013-2017', 'Table C3 2009-2012', 'Table C3 2013-2017', 'Table C4 2009-2012', 'Table C4 2013-2017', 'Table C5 2009-2012', 'Table C5 2013-2017', 'Table C6 2009-2012', ' Table C6 2013-2017', 'Table C7 2009-2012', 'Table C7 2013-2017', 'Table D1', 'Table D2']\""
      ]
     },
     "execution_count": 2,
     "metadata": {},
     "output_type": "execute_result"
    }
   ],
   "source": [
    "tabs = scraper.distribution().as_databaker()\n",
    "str([tab.name for tab in tabs])"
   ]
  },
  {
   "cell_type": "code",
   "execution_count": 3,
   "metadata": {
    "scrolled": false
   },
   "outputs": [
    {
     "data": {
      "text/plain": [
       "\"Processing 'Table A0' (A0) 'Total International Trade in Services (excluding travel, transport and banking) analysed by continents and countries 2013 - 2017'\""
      ]
     },
     "metadata": {},
     "output_type": "display_data"
    },
    {
     "name": "stdout",
     "output_type": "stream",
     "text": [
      "\n"
     ]
    },
    {
     "data": {
      "text/plain": [
       "\"Processing 'Table B1' (B1) 'Technical, trade-related, operational leasing & other business services analysed by continents and countries 2013 - 2017'\""
      ]
     },
     "metadata": {},
     "output_type": "display_data"
    },
    {
     "name": "stdout",
     "output_type": "stream",
     "text": [
      "\n"
     ]
    },
    {
     "data": {
      "text/plain": [
       "\"Processing 'Table B2' (B2) 'Professional, management consulting & R&D services analysed by continents and countries 2013 - 2017'\""
      ]
     },
     "metadata": {},
     "output_type": "display_data"
    },
    {
     "name": "stdout",
     "output_type": "stream",
     "text": [
      "\n"
     ]
    },
    {
     "data": {
      "text/plain": [
       "\"Processing 'Table B3' (B3) 'Merchanting, Other Trade-related and Services between related enterprises analysed by continents and countries 2013 - 2017'\""
      ]
     },
     "metadata": {},
     "output_type": "display_data"
    },
    {
     "name": "stdout",
     "output_type": "stream",
     "text": [
      "\n"
     ]
    },
    {
     "data": {
      "text/plain": [
       "\"Processing 'Table C1 2009-2012' (C1) 'Total International Trade in Services all industries (excluding travel, transport and banking) analysed by product 2009 - 2012'\""
      ]
     },
     "metadata": {},
     "output_type": "display_data"
    },
    {
     "name": "stdout",
     "output_type": "stream",
     "text": [
      "\n"
     ]
    },
    {
     "data": {
      "text/plain": [
       "\"Processing 'Table C1 2013-2017' (C1) 'Total International Trade in Services all industries (excluding travel, transport and banking) analysed by product 2013-2017'\""
      ]
     },
     "metadata": {},
     "output_type": "display_data"
    },
    {
     "name": "stdout",
     "output_type": "stream",
     "text": [
      "\n"
     ]
    },
    {
     "data": {
      "text/plain": [
       "\"Processing 'Table C2 2009-2012' (C2) 'Manufacturing industry analysed by products 2009 - 2012'\""
      ]
     },
     "metadata": {},
     "output_type": "display_data"
    },
    {
     "name": "stdout",
     "output_type": "stream",
     "text": [
      "\n"
     ]
    },
    {
     "data": {
      "text/plain": [
       "\"Processing 'Table C2 2013-2017' (C2) 'Manufacturing industry analysed by products 2013 - 2017'\""
      ]
     },
     "metadata": {},
     "output_type": "display_data"
    },
    {
     "name": "stdout",
     "output_type": "stream",
     "text": [
      "\n"
     ]
    },
    {
     "data": {
      "text/plain": [
       "\"Processing 'Table C3 2009-2012' (C3) 'Wholesale & Retail industry analysed by product 2009 - 2012'\""
      ]
     },
     "metadata": {},
     "output_type": "display_data"
    },
    {
     "name": "stdout",
     "output_type": "stream",
     "text": [
      "\n"
     ]
    },
    {
     "data": {
      "text/plain": [
       "\"Processing 'Table C3 2013-2017' (C3) 'Wholesale & Retail industry analysed by product 2013 - 2017'\""
      ]
     },
     "metadata": {},
     "output_type": "display_data"
    },
    {
     "name": "stdout",
     "output_type": "stream",
     "text": [
      "\n"
     ]
    },
    {
     "data": {
      "text/plain": [
       "\"Processing 'Table C4 2009-2012' (C4) 'Information and Communication industry analysed by products 2009 - 2012'\""
      ]
     },
     "metadata": {},
     "output_type": "display_data"
    },
    {
     "name": "stdout",
     "output_type": "stream",
     "text": [
      "\n"
     ]
    },
    {
     "data": {
      "text/plain": [
       "\"Processing 'Table C4 2013-2017' (C4) 'Information and Communication industry analysed by product 2013 - 2017'\""
      ]
     },
     "metadata": {},
     "output_type": "display_data"
    },
    {
     "name": "stdout",
     "output_type": "stream",
     "text": [
      "\n"
     ]
    },
    {
     "data": {
      "text/plain": [
       "\"Processing 'Table C5 2009-2012' (C5) 'Professional, Scientific and Technical Support industry analysed by products 2009 - 2012'\""
      ]
     },
     "metadata": {},
     "output_type": "display_data"
    },
    {
     "name": "stdout",
     "output_type": "stream",
     "text": [
      "\n"
     ]
    },
    {
     "data": {
      "text/plain": [
       "\"Processing 'Table C5 2013-2017' (C5) 'Professional, Scientific and Technical Support industry analysed by product 2013 - 2017'\""
      ]
     },
     "metadata": {},
     "output_type": "display_data"
    },
    {
     "name": "stdout",
     "output_type": "stream",
     "text": [
      "\n"
     ]
    },
    {
     "data": {
      "text/plain": [
       "\"Processing 'Table C6 2009-2012' (C6) 'Administrative and Support Service Activities industry analysed by products 2009 - 2012'\""
      ]
     },
     "metadata": {},
     "output_type": "display_data"
    },
    {
     "name": "stdout",
     "output_type": "stream",
     "text": [
      "\n"
     ]
    },
    {
     "data": {
      "text/plain": [
       "\"Processing ' Table C6 2013-2017' (C6) 'Administrative and Support Service Activities industry by product 2013 - 2017'\""
      ]
     },
     "metadata": {},
     "output_type": "display_data"
    },
    {
     "name": "stdout",
     "output_type": "stream",
     "text": [
      "\n"
     ]
    },
    {
     "data": {
      "text/plain": [
       "\"Processing 'Table C7 2009-2012' (C7) 'Arts, Entertainment, Recreation and Other Service Activities industry analysed by products 2009 - 2012'\""
      ]
     },
     "metadata": {},
     "output_type": "display_data"
    },
    {
     "name": "stdout",
     "output_type": "stream",
     "text": [
      "\n"
     ]
    },
    {
     "data": {
      "text/plain": [
       "\"Processing 'Table C7 2013-2017' (C7) 'Arts, Entertainment, Recreation and Other Service Activities industry analysed by product 2013 - 2017'\""
      ]
     },
     "metadata": {},
     "output_type": "display_data"
    },
    {
     "name": "stdout",
     "output_type": "stream",
     "text": [
      "\n"
     ]
    },
    {
     "data": {
      "text/plain": [
       "\"Processing 'Table D1' (D1) 'Film Industry (excluding other services) analysed by continents and countries 2013 - 2017'\""
      ]
     },
     "metadata": {},
     "output_type": "display_data"
    },
    {
     "name": "stdout",
     "output_type": "stream",
     "text": [
      "\n"
     ]
    },
    {
     "data": {
      "text/plain": [
       "\"Processing 'Table D2' (D2) 'Television Industry (excluding other services) analysed by continents and countries 2013 - 2017'\""
      ]
     },
     "metadata": {},
     "output_type": "display_data"
    },
    {
     "name": "stdout",
     "output_type": "stream",
     "text": [
      "\n"
     ]
    }
   ],
   "source": [
    "def fix_service(row):\n",
    "    service = pathify(row['H2'])\n",
    "    group = pathify(row['H1'])\n",
    "    if service == '':\n",
    "        if group == 'total-international-trade-in-services':\n",
    "            service = 'all'\n",
    "        elif group.startswith('total-'):\n",
    "            service = group[len('total-'):]\n",
    "        else:\n",
    "            assert False, 'Service label is empty, expecting some \"total\" grouping.'\n",
    "    elif not group.startswith('total-'):\n",
    "        service = group + '-' + service\n",
    "    return service\n",
    "\n",
    "def fix_title(s):\n",
    "    service = pathify(s)\n",
    "    pos = service.find('-analysed-by-')\n",
    "    if pos != -1:\n",
    "        service = service[:pos]\n",
    "    # one title doesn't use \"analysed by\"\n",
    "    pos = service.find('-industry-by-product-')\n",
    "    if pos != -1:\n",
    "        service = service[:pos + len('-industry')]\n",
    "    return service    \n",
    "\n",
    "def fix_area(row):\n",
    "    area = pathify(row['H2'])\n",
    "    if area == '':\n",
    "        area = pathify(row['H1'])\n",
    "    if area == 'total-international-trade-in-services':\n",
    "        area = 'world'\n",
    "    elif area.startswith('total-'):\n",
    "        area = area[len('total-'):]\n",
    "    return f\"itis/{area}\"\n",
    "\n",
    "def process_tab(tab):\n",
    "    tab_group = tab.name.strip()[:len('Table XX')][-2:]\n",
    "    tab_title = tab.excel_ref('A1').fill(RIGHT).is_not_blank().by_index(1).value.strip()\n",
    "    display(f\"Processing '{tab.name}' ({tab_group}) '{tab_title}'\")\n",
    "    # not doing C0 which is a bit different\n",
    "    top_left = tab.excel_ref('A1').fill(DOWN).is_not_blank().by_index(1)\n",
    "    if tab_group[0] == 'C':\n",
    "        bottom_left = tab.filter('Total International Trade in Services')\n",
    "    else:\n",
    "        bottom_left = tab.filter('TOTAL INTERNATIONAL TRADE IN SERVICES')\n",
    "    bottom_left.assert_one()\n",
    "    h1_labels = (top_left.expand(DOWN) & bottom_left.expand(UP)).filter(lambda c: c.value.strip() != '') | \\\n",
    "        (top_left.shift(RIGHT).expand(DOWN) & bottom_left.shift(RIGHT).expand(UP)).filter(lambda c: c.value.strip() != '')\n",
    "    h2_labels = (top_left.expand(DOWN) & bottom_left.expand(UP)).shift(RIGHT).shift(RIGHT)\n",
    "    year = top_left.shift(UP).fill(RIGHT).is_not_blank()\n",
    "    # some flow labels are in a strange place as cells have been merged inconsistently\n",
    "    flow = top_left.shift(UP).shift(UP).fill(RIGHT).is_not_blank()\n",
    "    observations = (h2_labels.fill(RIGHT) & year.fill(DOWN)).is_not_blank()\n",
    "    h1_dim = HDim(h1_labels, 'H1', CLOSEST, ABOVE) # can this be DIRECTLY?\n",
    "    h1_dim.AddCellValueOverride('Total European Union', 'Total European Union (EU)')\n",
    "    h1_dim.AddCellValueOverride('Total Information Services', 'Total Telecommunication Computer and Information Services Information Services')\n",
    "    h1_dim.AddCellValueOverride('Total Construction Goods and Services', 'Total Construction Services')\n",
    "    h2_dim = HDim(h2_labels, 'H2', DIRECTLY, LEFT)\n",
    "    h2_dim.AddCellValueOverride('Other techincal services', 'Other technical services')\n",
    "    cs = ConversionSegment(observations, [\n",
    "        HDim(year, 'Year', DIRECTLY, ABOVE),\n",
    "        h1_dim,\n",
    "        h2_dim,\n",
    "        HDim(flow, 'Flow', CLOSEST, LEFT),\n",
    "    ])\n",
    "    obs = cs.topandas()\n",
    "    obs['Value'] = pd.to_numeric(obs['OBS'], errors='coerce')\n",
    "    obs.dropna(subset=['Value'], inplace=True)\n",
    "    obs.drop(columns=['OBS'], inplace=True)\n",
    "    if 'DATAMARKER' in obs:\n",
    "        obs.drop(columns=['DATAMARKER'], inplace=True)    \n",
    "    obs['Year'] = obs['Year'].apply(lambda y: int(float(y)))\n",
    "    if tab_group[0] in ['A', 'B']:\n",
    "        obs['ITIS Industry'] = 'all'\n",
    "        obs['ITIS Service'] = fix_title(tab_title)\n",
    "        obs['ONS Trade Areas ITIS'] = obs.apply(fix_area, axis='columns')\n",
    "    elif tab_group[0] == 'C':\n",
    "        if tab_group == 'C1':\n",
    "            obs['ITIS Industry'] = 'all'\n",
    "        else:\n",
    "            obs['ITIS Industry'] = fix_title(tab_title)\n",
    "        obs['ITIS Service'] = obs.apply(fix_service, axis='columns')\n",
    "        obs['ONS Trade Areas ITIS'] = 'itis/world'\n",
    "    else:\n",
    "        # Table D2 has 'Exports' in the wrong place\n",
    "        if tab_group == 'D2':\n",
    "            obs['Flow'].fillna('exports', inplace=True)\n",
    "        obs['ITIS Industry'] = fix_title(tab_title)\n",
    "        obs['ITIS Service'] = 'total-international-trade-in-services'\n",
    "        obs['ONS Trade Areas ITIS'] = obs.apply(fix_area, axis='columns')\n",
    "    obs.drop(columns=['H1', 'H2'], inplace=True)\n",
    "    obs['Flow'] = obs['Flow'].apply(lambda x: pathify(x.strip()))\n",
    "    obs['International Trade Basis'] = 'BOP'\n",
    "    obs['Measure Type'] = 'GBP Total'\n",
    "    obs['Unit'] = 'gbp-million'\n",
    "    return obs[['ONS Trade Areas ITIS', 'Year', 'Flow', 'ITIS Service', 'ITIS Industry',\n",
    "                'International Trade Basis','Measure Type','Value','Unit']]\n",
    "\n",
    "observations = pd.concat(process_tab(t) for t in tabs if t.name not in ['Contents', 'Table C0'])"
   ]
  },
  {
   "cell_type": "code",
   "execution_count": 4,
   "metadata": {},
   "outputs": [
    {
     "data": {
      "text/plain": [
       "Index(['itis/africa', 'itis/africa-unallocated', 'itis/america',\n",
       "       'itis/america-unallocated', 'itis/asia', 'itis/asia-unallocated',\n",
       "       'itis/australasia-and-oceania',\n",
       "       'itis/australasia-and-oceania-and-total-unallocated',\n",
       "       'itis/australasia-oceania-and-others',\n",
       "       'itis/australasia-oceania-and-total-unallocated', 'itis/australia',\n",
       "       'itis/austria', 'itis/belgium', 'itis/brazil', 'itis/bulgaria',\n",
       "       'itis/canada', 'itis/channel-islands', 'itis/china', 'itis/croatia',\n",
       "       'itis/cyprus', 'itis/czech-republic', 'itis/denmark', 'itis/efta',\n",
       "       'itis/estonia', 'itis/eu-institutions', 'itis/europe',\n",
       "       'itis/europe-unallocated', 'itis/european-union-eu', 'itis/finland',\n",
       "       'itis/france', 'itis/germany', 'itis/greece', 'itis/hong-kong',\n",
       "       'itis/hungary', 'itis/iceland', 'itis/india', 'itis/indonesia',\n",
       "       'itis/international-organisations', 'itis/irish-republic',\n",
       "       'itis/isle-of-man', 'itis/israel', 'itis/italy', 'itis/japan',\n",
       "       'itis/latvia', 'itis/liechtenstein', 'itis/lithuania',\n",
       "       'itis/luxembourg', 'itis/malaysia', 'itis/malta', 'itis/mexico',\n",
       "       'itis/netherlands', 'itis/new-zealand', 'itis/nigeria', 'itis/norway',\n",
       "       'itis/oceania-unallocated', 'itis/pakistan', 'itis/philippines',\n",
       "       'itis/poland', 'itis/portugal', 'itis/rest-of-africa',\n",
       "       'itis/rest-of-america', 'itis/rest-of-asia',\n",
       "       'itis/rest-of-australia-and-oceania', 'itis/rest-of-europe',\n",
       "       'itis/romania', 'itis/russia', 'itis/saudi-arabia', 'itis/singapore',\n",
       "       'itis/slovakia', 'itis/slovenia', 'itis/south-africa',\n",
       "       'itis/south-korea', 'itis/spain', 'itis/sweden', 'itis/switzerland',\n",
       "       'itis/taiwan', 'itis/thailand', 'itis/turkey', 'itis/unallocated',\n",
       "       'itis/usa', 'itis/world'],\n",
       "      dtype='object')"
      ]
     },
     "metadata": {},
     "output_type": "display_data"
    },
    {
     "data": {
      "text/plain": [
       "Index(['balance', 'exports', 'imports'], dtype='object')"
      ]
     },
     "metadata": {},
     "output_type": "display_data"
    },
    {
     "data": {
      "text/plain": [
       "Index(['agricultural-and-mining-services',\n",
       "       'agricultural-and-mining-services-agricultural-forestry-and-fishing',\n",
       "       'agricultural-and-mining-services-mining-and-oil-and-gas-extraction-services',\n",
       "       'agricultural-mining-and-on-site-processing-services',\n",
       "       'agricultural-mining-and-on-site-processing-services-agricultural',\n",
       "       'agricultural-mining-and-on-site-processing-services-mining',\n",
       "       'agricultural-mining-and-on-site-processing-services-other-on-site-processing-services',\n",
       "       'agricultural-mining-and-on-site-processing-services-waste-treatment-and-depollution',\n",
       "       'all', 'business-and-professional-services',\n",
       "       ...\n",
       "       'telecommunication-computer-and-information-services-computer-services',\n",
       "       'telecommunication-computer-and-information-services-information-services',\n",
       "       'telecommunication-computer-and-information-services-news-agency-services',\n",
       "       'telecommunication-computer-and-information-services-postal-and-courier',\n",
       "       'telecommunication-computer-and-information-services-publishing-services',\n",
       "       'telecommunication-computer-and-information-services-telecommunications',\n",
       "       'total-international-trade-in-services',\n",
       "       'total-international-trade-in-services-excluding-travel-transport-and-banking',\n",
       "       'trade-marks-franchises-brands-or-design-rights-charges-or-payments-for-the-use-of',\n",
       "       'trade-marks-franchises-brands-or-design-rights-outright-sales-and-purchases'],\n",
       "      dtype='object', length=111)"
      ]
     },
     "metadata": {},
     "output_type": "display_data"
    },
    {
     "data": {
      "text/plain": [
       "Index(['administrative-and-support-service-activities-industry', 'all',\n",
       "       'arts-entertainment-recreation-and-other-service-activities-industry',\n",
       "       'film-industry-excluding-other-services',\n",
       "       'information-and-communication-industry', 'manufacturing-industry',\n",
       "       'professional-scientific-and-technical-support-industry',\n",
       "       'television-industry-excluding-other-services',\n",
       "       'wholesale-retail-industry'],\n",
       "      dtype='object')"
      ]
     },
     "metadata": {},
     "output_type": "display_data"
    }
   ],
   "source": [
    "for col in ['ONS Trade Areas ITIS', 'Flow', 'ITIS Service', 'ITIS Industry']:\n",
    "    observations[col] = observations[col].astype('category')\n",
    "    display(observations[col].cat.categories)"
   ]
  },
  {
   "cell_type": "code",
   "execution_count": 5,
   "metadata": {},
   "outputs": [],
   "source": [
    "out = Path('out')\n",
    "out.mkdir(exist_ok=True)\n",
    "observations.drop_duplicates().to_csv(out / 'observations.csv', index = False)"
   ]
  },
  {
   "cell_type": "code",
   "execution_count": 6,
   "metadata": {},
   "outputs": [],
   "source": [
    "from gssutils.metadata import THEME\n",
    "scraper.dataset.family = 'Trade'\n",
    "scraper.dataset.theme = THEME['business-industry-trade-energy']\n",
    "\n",
    "with open(out / 'dataset.trig', 'wb') as metadata:\n",
    "     metadata.write(scraper.generate_trig())"
   ]
  },
  {
   "cell_type": "code",
   "execution_count": null,
   "metadata": {},
   "outputs": [],
   "source": []
  }
 ],
 "metadata": {
  "kernelspec": {
   "display_name": "Python 3",
   "language": "python",
   "name": "python3"
  },
  "language_info": {
   "codemirror_mode": {
    "name": "ipython",
    "version": 3
   },
   "file_extension": ".py",
   "mimetype": "text/x-python",
   "name": "python",
   "nbconvert_exporter": "python",
   "pygments_lexer": "ipython3",
   "version": "3.7.2"
  }
 },
 "nbformat": 4,
 "nbformat_minor": 2
}
