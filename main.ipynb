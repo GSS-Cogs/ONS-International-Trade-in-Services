{
 "cells": [
  {
   "cell_type": "code",
   "execution_count": 1,
   "metadata": {
    "collapsed": true
   },
   "outputs": [],
   "source": [
    "from gssutils import *\n",
    "\n",
    "if is_interactive():\n",
    "    import requests\n",
    "    from cachecontrol import CacheControl\n",
    "    from cachecontrol.caches.file_cache import FileCache\n",
    "    from cachecontrol.heuristics import LastModified\n",
    "    from pathlib import Path\n",
    "\n",
    "    session = CacheControl(requests.Session(),\n",
    "                           cache=FileCache('.cache'),\n",
    "                           heuristic=LastModified())\n",
    "\n",
    "    sourceFolder = Path('in')\n",
    "    sourceFolder.mkdir(exist_ok=True)\n",
    "\n",
    "    inputURL = 'https://www.ons.gov.uk/file?uri=/businessindustryandtrade/internationaltrade/datasets/internationaltradeinservicesreferencetables/alltables2016/internationaltradeinservices2016.xls'\n",
    "    inputFile = sourceFolder / 'internationaltradeinservices2016.xlsb'\n",
    "    response = session.get(inputURL)\n",
    "    with open(inputFile, 'wb') as f:\n",
    "      f.write(response.content)    "
   ]
  },
  {
   "cell_type": "code",
   "execution_count": 2,
   "metadata": {
    "collapsed": true
   },
   "outputs": [],
   "source": [
    "next_table = pd.DataFrame()"
   ]
  },
  {
   "cell_type": "code",
   "execution_count": 3,
   "metadata": {
    "collapsed": true
   },
   "outputs": [],
   "source": [
    "%%capture\n",
    "%run \"TabA0.ipynb\"\n",
    "next_table = pd.concat([next_table, new_table])\n",
    "\n",
    "%run \"TabB1.ipynb\"\n",
    "next_table = pd.concat([next_table, new_table])\n",
    "\n",
    "%run \"TabB2.ipynb\"\n",
    "next_table = pd.concat([next_table, new_table])\n",
    "\n",
    "%run \"TabB3.ipynb\"\n",
    "next_table = pd.concat([next_table, new_table])\n",
    "\n",
    "%run \"TabC0.ipynb\"\n",
    "next_table = pd.concat([next_table, new_table])\n",
    "\n",
    "%run \"Table C1 2009-2012.ipynb\"\n",
    "next_table = pd.concat([next_table, new_table])\n",
    "\n",
    "%run \"Table C1 2013-2016.ipynb\"\n",
    "next_table = pd.concat([next_table, new_table])\n",
    "\n",
    "%run \"Table C2 2009-2012.ipynb\"\n",
    "next_table = pd.concat([next_table, new_table])\n",
    "\n",
    "%run \"Table C2 2013-2016.ipynb\"\n",
    "next_table = pd.concat([next_table, new_table])\n",
    "\n",
    "%run \"Table C3 2009-2012.ipynb\"\n",
    "next_table = pd.concat([next_table, new_table])\n",
    "\n",
    "%run \"Table C3 2013-2016.ipynb\"\n",
    "next_table = pd.concat([next_table, new_table])\n",
    "\n",
    "%run \"Table C4 2009-2012.ipynb\"\n",
    "next_table = pd.concat([next_table, new_table])\n",
    "\n",
    "%run \"Table C4 2013-2016.ipynb\"\n",
    "next_table = pd.concat([next_table, new_table])\n",
    "\n",
    "%run \"Table C5 2009-2012.ipynb\"\n",
    "next_table = pd.concat([next_table, new_table])\n",
    "\n",
    "%run \"Table C5 2013-2016.ipynb\"\n",
    "next_table = pd.concat([next_table, new_table])\n",
    "\n",
    "%run \"Table C6 2009-2012.ipynb\"\n",
    "next_table = pd.concat([next_table, new_table])\n",
    "\n",
    "%run \"Table C6 2013-2016.ipynb\"\n",
    "next_table = pd.concat([next_table, new_table])\n",
    "\n",
    "%run \"Table C7 2009-2012.ipynb\"\n",
    "next_table = pd.concat([next_table, new_table])\n",
    "\n",
    "%run \"Table C7 2013-2016.ipynb\"\n",
    "next_table = pd.concat([next_table, new_table])\n",
    "\n",
    "%run \"Table D1.ipynb\"\n",
    "next_table = pd.concat([next_table, new_table])\n",
    "\n",
    "%run \"Table D2.ipynb\"\n",
    "next_table = pd.concat([next_table, new_table])\n"
   ]
  },
  {
   "cell_type": "code",
   "execution_count": 7,
   "metadata": {
    "collapsed": true
   },
   "outputs": [],
   "source": [
    "next_table.columns = ['ONS Trade Areas ITIS' if x=='ONS Partner Geography' else x for x in next_table.columns]"
   ]
  },
  {
   "cell_type": "code",
   "execution_count": 8,
   "metadata": {
    "collapsed": true
   },
   "outputs": [],
   "source": [
    "next_table['ONS Trade Areas ITIS'] = next_table['ONS Trade Areas ITIS'].map(lambda cell:cell.replace('Whole world', 'World'))"
   ]
  },
  {
   "cell_type": "code",
   "execution_count": 9,
   "metadata": {
    "collapsed": true
   },
   "outputs": [],
   "source": [
    "next_table['ONS Trade Areas ITIS'] = next_table['ONS Trade Areas ITIS'].str.rstrip('*')"
   ]
  },
  {
   "cell_type": "code",
   "execution_count": 10,
   "metadata": {
    "collapsed": true
   },
   "outputs": [],
   "source": [
    "from pathlib import Path\n",
    "out = Path('out')\n",
    "out.mkdir(exist_ok=True)\n",
    "next_table.to_csv(out / 'tidy.csv', index = False)"
   ]
  },
  {
   "cell_type": "code",
   "execution_count": null,
   "metadata": {
    "collapsed": true
   },
   "outputs": [],
   "source": []
  }
 ],
 "metadata": {
  "kernelspec": {
   "display_name": "Python 3",
   "language": "python",
   "name": "python3"
  },
  "language_info": {
   "codemirror_mode": {
    "name": "ipython",
    "version": 3
   },
   "file_extension": ".py",
   "mimetype": "text/x-python",
   "name": "python",
   "nbconvert_exporter": "python",
   "pygments_lexer": "ipython3",
   "version": "3.6.3"
  }
 },
 "nbformat": 4,
 "nbformat_minor": 2
}
