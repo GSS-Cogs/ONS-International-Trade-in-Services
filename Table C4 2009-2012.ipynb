{
 "cells": [
  {
   "cell_type": "code",
   "execution_count": 1,
   "metadata": {
    "collapsed": true
   },
   "outputs": [],
   "source": [
    "from gssutils import *\n",
    "\n",
    "if is_interactive():\n",
    "    import requests\n",
    "    from cachecontrol import CacheControl\n",
    "    from cachecontrol.caches.file_cache import FileCache\n",
    "    from cachecontrol.heuristics import LastModified\n",
    "    from pathlib import Path\n",
    "\n",
    "    session = CacheControl(requests.Session(),\n",
    "                           cache=FileCache('.cache'),\n",
    "                           heuristic=LastModified())\n",
    "\n",
    "    sourceFolder = Path('in')\n",
    "    sourceFolder.mkdir(exist_ok=True)\n",
    "\n",
    "    inputURL = 'https://www.ons.gov.uk/file?uri=/businessindustryandtrade/internationaltrade/datasets/internationaltradeinservicesreferencetables/alltables2016/internationaltradeinservices2016.xls'\n",
    "    inputFile = sourceFolder / 'internationaltradeinservices2016.xlsb'\n",
    "    response = session.get(inputURL)\n",
    "    with open(inputFile, 'wb') as f:\n",
    "      f.write(response.content)    "
   ]
  },
  {
   "cell_type": "code",
   "execution_count": 2,
   "metadata": {},
   "outputs": [
    {
     "name": "stdout",
     "output_type": "stream",
     "text": [
      "Loading in\\internationaltradeinservices2016.xlsb which has size 750080 bytes\n",
      "Table names: ['Table C4 2009-2012']\n"
     ]
    }
   ],
   "source": [
    "tab = loadxlstabs(inputFile, sheetids='Table C4 2009-2012')[0]"
   ]
  },
  {
   "cell_type": "code",
   "execution_count": 3,
   "metadata": {
    "collapsed": true
   },
   "outputs": [],
   "source": [
    "observations = tab.excel_ref('E6').expand(DOWN).expand(RIGHT).is_not_blank()"
   ]
  },
  {
   "cell_type": "code",
   "execution_count": 4,
   "metadata": {
    "collapsed": true
   },
   "outputs": [],
   "source": [
    "Year = tab.excel_ref('E4').expand(RIGHT).is_not_whitespace()"
   ]
  },
  {
   "cell_type": "code",
   "execution_count": 5,
   "metadata": {
    "collapsed": true
   },
   "outputs": [],
   "source": [
    "Flow = tab.excel_ref('E3').expand(RIGHT).is_not_blank()"
   ]
  },
  {
   "cell_type": "code",
   "execution_count": 6,
   "metadata": {},
   "outputs": [
    {
     "data": {
      "text/plain": [
       "{<A60 'Merchanting and Other Trade related Services'>, <A45 'Construction Services'>, <A13 'Business and Professional Services'>, <A89 'Other Trade  in Services'>, <A82 'Technical services'>, <A37 'Computer and Information Services'>, <A51 'Financial Services'>, <A55 'Insurance Services'>, <A31 'Communications Services'>, <A66 'Personal, Cultural and Recreational  Services'>, <A93 'Total International Trade in Services'>, <A74 'Royalties and Licenses'>, <A5 'Agricultural, Mining and On-site Processing Services '>}"
      ]
     },
     "execution_count": 6,
     "metadata": {},
     "output_type": "execute_result"
    }
   ],
   "source": [
    "geo1 = tab.excel_ref('A5').expand(DOWN).is_not_blank() - tab.excel_ref('A94').expand(DOWN)\n",
    "geo1"
   ]
  },
  {
   "cell_type": "code",
   "execution_count": 7,
   "metadata": {},
   "outputs": [
    {
     "data": {
      "text/plain": [
       "{<C57 'Insurance Premiums'>, <C9 'Other on-site processing services'>, <C68 'Health Services'>, <C18 'Recruitment '>, <C16 'Management consulting'>, <C26 'Services between related enterprises'>, <C46 'Construction in the UK'>, <C52 'Financial'>, <C22 'Operational leasing services'>, <C32 'Postal and courier'>, <C25 'Research and development'>, <C75 'Use of franchise and similar rights fees'>, <C86 'Other technical services'>, <C14 'Accountancy, auditing, bookkeeping and tax consulting services'>, <C8 'Waste treatment and depollution'>, <C23 'Procurement'>, <C84 'Engineering'>, <C38 'Computers'>, <C47 'Construction outside the UK'>, <C78 'Purchases and sales of other royalties and licenses'>, <C19 'Other business management'>, <C85 'Surveying'>, <C61 'Merchanting'>, <C62 'Other trade - related services'>, <C21 'Market research and public opinion polling'>, <C67 'Audio- Visual and related services '>, <C77 'Purchases and sales of franchises and similar rights'>, <C27 'Other business and professional services'>, <C40 'Publishing services'>, <C7 'Mining'>, <C83 'Architectural'>, <C69 'Training and educational services'>, <C56 'Insurance Claims'>, <C17 'Public relations services'>, <C70 'Other personal, cultural and recreational services'>, <C90 'Other trade in services'>, <C33 'Telecommunications'>, <C24 'Property management'>, <C6 'Agricultural'>, <C76 'Other royalties and license fees'>, <C39 'News agency services'>, <C15 'Advertising'>, <C41 'Other information provision services'>, <C20 'Legal services'>}"
      ]
     },
     "execution_count": 7,
     "metadata": {},
     "output_type": "execute_result"
    }
   ],
   "source": [
    "geo3 = tab.excel_ref('C5').expand(DOWN).is_not_blank() - tab.excel_ref('A94').expand(DOWN)\n",
    "geo3"
   ]
  },
  {
   "cell_type": "code",
   "execution_count": 8,
   "metadata": {
    "collapsed": true
   },
   "outputs": [],
   "source": [
    "Dimensions = [\n",
    "            HDim(Year,'Year',DIRECTLY,ABOVE),\n",
    "            HDim(geo1,'geo1',CLOSEST,ABOVE),\n",
    "#             HDim(geo2,'geo2',DIRECTLY,LEFT),\n",
    "            HDim(geo3,'geo3',DIRECTLY,LEFT),\n",
    "            HDim(Flow, 'Flow',CLOSEST,LEFT),\n",
    "            HDimConst('Measure Type', 'GBP Total'),\n",
    "            HDimConst('Unit','gbp-million')\n",
    "            ]"
   ]
  },
  {
   "cell_type": "code",
   "execution_count": 9,
   "metadata": {},
   "outputs": [
    {
     "data": {
      "text/html": [
       "<div id=\"injblock1001\">\n",
       "<style>\n",
       "table.ex, table.exkey { border: thin black solid }\n",
       "table.ex td, table.ex tr { border: none }\n",
       "td.xb { font-weight: bold }\n",
       "td.xn { color: green }\n",
       "td.xd { color: purple }\n",
       "span.xo { text-decoration: line-through; }\n",
       "span.xn { }\n",
       "table { border-collapse: collapse }\n",
       "td.xc0 { background-color: Aqua }\n",
       "td.xc1 { background-color: LightGreen }\n",
       "td.xc2 { background-color: MistyRose }\n",
       "td.xc3 { background-color: LightGray }\n",
       "td.xc4 { background-color: BurlyWood }\n",
       "td.xc5 { background-color: Coral }\n",
       "td.xc6 { background-color: Gold }\n",
       "td.xc7 { background-color: Lime }\n",
       "td.xc8 { background-color: LightBlue }\n",
       "td.xc9 { background-color: Plum }\n",
       "td.xc10 { background-color: CornflowerBlue }\n",
       "td.xc11 { background-color: LightYellow }\n",
       "td.xc12 { background-color: Lavender }\n",
       "td.xc13 { background-color: Violet }\n",
       "td.xc14 { background-color: SeaGreen }\n",
       "td.xc15 { background-color: DeepSkyBlue }\n",
       "td.xc16 { background-color: Blue }\n",
       "td.xc17 { background-color: LightGray }\n",
       "td.xc18 { background-color: PaleTurquoise }\n",
       "td.xc19 { background-color: Tan }\n",
       "td.xc20 { background-color: SkyBlue }\n",
       "table.ex td:hover { border: thin blue solid }\n",
       "table.ex td.excOBS:hover { border: thin red solid }\n",
       "table.ex td.selected { background-color: red; border: thin blue dotted }\n",
       "</style>\n",
       "\n",
       "\n",
       "<table class=\"exkey\">\n",
       "<tr><td class=\"xc0\">OBS</td><td class=\"xc1\">Year</td><td class=\"xc2\">geo1</td><td class=\"xc3\">geo3</td><td class=\"xc4\">Flow</td></tr></table>\n",
       "\n",
       "<table class=\"ex\">\n",
       "<caption style=\"text-align:center; padding:0px; caption-side:bottom\">Table C4 2009-2012</caption>\n",
       "<tr><td class=\"xb\" title=\"0 0\">C4 </td><td class=\"xb\" title=\"1 0\"></td><td class=\"xb\" title=\"2 0\">Information and Communication industry analysed by products 2009 - 2012</td><td class=\"\" title=\"3 0\"></td><td class=\"\" title=\"4 0\"></td><td class=\"\" title=\"5 0\"></td><td class=\"\" title=\"6 0\"></td><td class=\"\" title=\"7 0\"></td><td class=\"\" title=\"8 0\"></td><td class=\"\" title=\"9 0\"></td><td class=\"\" title=\"10 0\"></td><td class=\"\" title=\"11 0\"></td><td class=\"\" title=\"12 0\"></td><td class=\"\" title=\"13 0\"></td><td class=\"\" title=\"14 0\"></td><td class=\"\" title=\"15 0\"></td><td class=\"\" title=\"16 0\"></td><td class=\"\" title=\"17 0\"></td></tr>\n",
       "<tr><td class=\"\" title=\"0 1\"></td><td class=\"\" title=\"1 1\"></td><td class=\"\" title=\"2 1\"></td><td class=\"\" title=\"3 1\"></td><td class=\"\" title=\"4 1\"></td><td class=\"xb\" title=\"5 1\"></td><td class=\"xb\" title=\"6 1\"></td><td class=\"xb\" title=\"7 1\"></td><td class=\"\" title=\"8 1\"></td><td class=\"\" title=\"9 1\"></td><td class=\"\" title=\"10 1\"></td><td class=\"\" title=\"11 1\"></td><td class=\"\" title=\"12 1\"></td><td class=\"\" title=\"13 1\"></td><td class=\"\" title=\"14 1\"></td><td class=\"\" title=\"15 1\"></td><td class=\"\" title=\"16 1\"></td><td class=\"\" title=\"17 1\">£ million</td></tr>\n",
       "<tr><td class=\"xb\" title=\"0 2\"></td><td class=\"xb\" title=\"1 2\"></td><td class=\"xb\" title=\"2 2\"></td><td class=\"xb\" title=\"3 2\"></td><td class=\"xc4 xb\" title=\"4 2\">Exports</td><td class=\"\" title=\"5 2\"></td><td class=\"\" title=\"6 2\"></td><td class=\"\" title=\"7 2\"></td><td class=\"xb\" title=\"8 2\"></td><td class=\"xc4 xb\" title=\"9 2\">Imports</td><td class=\"\" title=\"10 2\"></td><td class=\"xb\" title=\"11 2\"></td><td class=\"\" title=\"12 2\"></td><td class=\"xb\" title=\"13 2\"></td><td class=\"xc4 xb\" title=\"14 2\">Balances</td><td class=\"\" title=\"15 2\"></td><td class=\"xb\" title=\"16 2\"></td><td class=\"\" title=\"17 2\"></td></tr>\n",
       "<tr><td class=\"xb\" title=\"0 3\"></td><td class=\"xb\" title=\"1 3\"></td><td class=\"xb\" title=\"2 3\"></td><td class=\"xb\" title=\"3 3\"></td><td class=\"xc1 xb xn\" title=\"4 3\">2009.0</td><td class=\"xc1 xb xn\" title=\"5 3\">2010.0</td><td class=\"xc1 xb xn\" title=\"6 3\">2011.0</td><td class=\"xc1 xb xn\" title=\"7 3\">2012.0</td><td class=\"xb\" title=\"8 3\"></td><td class=\"xc1 xb xn\" title=\"9 3\">2009.0</td><td class=\"xc1 xb xn\" title=\"10 3\">2010.0</td><td class=\"xc1 xb xn\" title=\"11 3\">2011.0</td><td class=\"xc1 xb xn\" title=\"12 3\">2012.0</td><td class=\"xb\" title=\"13 3\"></td><td class=\"xc1 xb xn\" title=\"14 3\">2009.0</td><td class=\"xc1 xb xn\" title=\"15 3\">2010.0</td><td class=\"xc1 xb xn\" title=\"16 3\">2011.0</td><td class=\"xc1 xb xn\" title=\"17 3\">2012.0</td></tr>\n",
       "<tr><td class=\"xc2 xb\" title=\"0 4\">Agricultural, Mining and On-site Processing Services </td><td class=\"xb\" title=\"1 4\"></td><td class=\"xb\" title=\"2 4\"></td><td class=\"xb\" title=\"3 4\"></td><td class=\"xb\" title=\"4 4\"></td><td class=\"xb\" title=\"5 4\"></td><td class=\"xb\" title=\"6 4\"></td><td class=\"xb\" title=\"7 4\"></td><td class=\"xb\" title=\"8 4\"></td><td class=\"xb\" title=\"9 4\"></td><td class=\"xb\" title=\"10 4\"></td><td class=\"xb\" title=\"11 4\"></td><td class=\"xb\" title=\"12 4\"></td><td class=\"xb\" title=\"13 4\"></td><td class=\"xb\" title=\"14 4\"></td><td class=\"xb\" title=\"15 4\"></td><td class=\"xb\" title=\"16 4\"></td><td class=\"\" title=\"17 4\"></td></tr>\n",
       "<tr><td class=\"\" title=\"0 5\"></td><td class=\"\" title=\"1 5\"></td><td class=\"xc3\" title=\"2 5\">Agricultural</td><td class=\"xb\" title=\"3 5\"></td><td class=\"xc0\" title=\"4 5\">..</td><td class=\"xc0\" title=\"5 5\">-</td><td class=\"xc0\" title=\"6 5\">..</td><td class=\"xc0\" title=\"7 5\">-</td><td class=\"\" title=\"8 5\"></td><td class=\"xc0\" title=\"9 5\">..</td><td class=\"xc0\" title=\"10 5\">-</td><td class=\"xc0\" title=\"11 5\">..</td><td class=\"xc0\" title=\"12 5\">..</td><td class=\"\" title=\"13 5\"></td><td class=\"xc0\" title=\"14 5\">..</td><td class=\"xc0\" title=\"15 5\">-</td><td class=\"xc0\" title=\"16 5\">..</td><td class=\"xc0\" title=\"17 5\">..</td></tr>\n",
       "<tr><td class=\"\" title=\"0 6\"></td><td class=\"\" title=\"1 6\"></td><td class=\"xc3\" title=\"2 6\">Mining</td><td class=\"\" title=\"3 6\"></td><td class=\"xc0\" title=\"4 6\">-</td><td class=\"xc0\" title=\"5 6\">-</td><td class=\"xc0\" title=\"6 6\">-</td><td class=\"xc0\" title=\"7 6\">..</td><td class=\"\" title=\"8 6\"></td><td class=\"xc0\" title=\"9 6\">-</td><td class=\"xc0\" title=\"10 6\">-</td><td class=\"xc0\" title=\"11 6\">-</td><td class=\"xc0\" title=\"12 6\">..</td><td class=\"\" title=\"13 6\"></td><td class=\"xc0\" title=\"14 6\">-</td><td class=\"xc0\" title=\"15 6\">-</td><td class=\"xc0\" title=\"16 6\">-</td><td class=\"xc0\" title=\"17 6\">..</td></tr>\n",
       "<tr><td class=\"\" title=\"0 7\"></td><td class=\"\" title=\"1 7\"></td><td class=\"xc3\" title=\"2 7\">Waste treatment and depollution</td><td class=\"\" title=\"3 7\"></td><td class=\"xc0\" title=\"4 7\">..</td><td class=\"xc0\" title=\"5 7\">..</td><td class=\"xc0\" title=\"6 7\">..</td><td class=\"xc0\" title=\"7 7\">..</td><td class=\"\" title=\"8 7\"></td><td class=\"xc0\" title=\"9 7\">..</td><td class=\"xc0\" title=\"10 7\">..</td><td class=\"xc0\" title=\"11 7\">..</td><td class=\"xc0\" title=\"12 7\">..</td><td class=\"\" title=\"13 7\"></td><td class=\"xc0 xn\" title=\"14 7\">0.8260000000000001</td><td class=\"xc0\" title=\"15 7\">-</td><td class=\"xc0\" title=\"16 7\">..</td><td class=\"xc0\" title=\"17 7\">..</td></tr>\n",
       "<tr><td class=\"\" title=\"0 8\"></td><td class=\"\" title=\"1 8\"></td><td class=\"xc3\" title=\"2 8\">Other on-site processing services</td><td class=\"\" title=\"3 8\"></td><td class=\"xc0\" title=\"4 8\">..</td><td class=\"xc0\" title=\"5 8\">..</td><td class=\"xc0\" title=\"6 8\">..</td><td class=\"xc0\" title=\"7 8\">..</td><td class=\"\" title=\"8 8\"></td><td class=\"xc0\" title=\"9 8\">..</td><td class=\"xc0\" title=\"10 8\">..</td><td class=\"xc0\" title=\"11 8\">..</td><td class=\"xc0\" title=\"12 8\">..</td><td class=\"\" title=\"13 8\"></td><td class=\"xc0\" title=\"14 8\">..</td><td class=\"xc0 xn\" title=\"15 8\">-13.319</td><td class=\"xc0\" title=\"16 8\">..</td><td class=\"xc0 xn\" title=\"17 8\">-15.822000000000003</td></tr>\n",
       "<tr><td class=\"xb\" title=\"0 9\"></td><td class=\"xb\" title=\"1 9\">Total Agricultural, Mining and On-site Processing Services</td><td class=\"xb\" title=\"2 9\"></td><td class=\"xb\" title=\"3 9\"></td><td class=\"xc0 xb xn\" title=\"4 9\">21.383</td><td class=\"xc0 xb xn\" title=\"5 9\">11.696</td><td class=\"xc0 xb xn\" title=\"6 9\">13.197</td><td class=\"xc0 xb xn\" title=\"7 9\">22.008</td><td class=\"xb\" title=\"8 9\"></td><td class=\"xc0 xb xn\" title=\"9 9\">6.391</td><td class=\"xc0 xb xn\" title=\"10 9\">25.222</td><td class=\"xc0 xb xn\" title=\"11 9\">28.987000000000002</td><td class=\"xc0 xb xn\" title=\"12 9\">41.689</td><td class=\"xb\" title=\"13 9\"></td><td class=\"xc0 xb xn\" title=\"14 9\">14.991999999999997</td><td class=\"xc0 xb xn\" title=\"15 9\">-13.526000000000002</td><td class=\"xc0 xb xn\" title=\"16 9\">-15.790000000000001</td><td class=\"xc0 xb xn\" title=\"17 9\">-19.681000000000004</td></tr>\n",
       "<tr><td class=\"\" title=\"0 10\"></td><td class=\"\" title=\"1 10\"></td><td class=\"\" title=\"2 10\"></td><td class=\"\" title=\"3 10\"></td><td class=\"\" title=\"4 10\"></td><td class=\"\" title=\"5 10\"></td><td class=\"\" title=\"6 10\"></td><td class=\"\" title=\"7 10\"></td><td class=\"\" title=\"8 10\"></td><td class=\"\" title=\"9 10\"></td><td class=\"\" title=\"10 10\"></td><td class=\"\" title=\"11 10\"></td><td class=\"\" title=\"12 10\"></td><td class=\"\" title=\"13 10\"></td><td class=\"\" title=\"14 10\"></td><td class=\"\" title=\"15 10\"></td><td class=\"\" title=\"16 10\"></td><td class=\"\" title=\"17 10\"></td></tr>\n",
       "<tr><td class=\"\" title=\"0 11\"></td><td class=\"\" title=\"1 11\"></td><td class=\"\" title=\"2 11\"></td><td class=\"\" title=\"3 11\"></td><td class=\"\" title=\"4 11\"></td><td class=\"\" title=\"5 11\"></td><td class=\"\" title=\"6 11\"></td><td class=\"xb\" title=\"7 11\"></td><td class=\"\" title=\"8 11\"></td><td class=\"\" title=\"9 11\"></td><td class=\"\" title=\"10 11\"></td><td class=\"\" title=\"11 11\"></td><td class=\"xb\" title=\"12 11\"></td><td class=\"\" title=\"13 11\"></td><td class=\"\" title=\"14 11\"></td><td class=\"\" title=\"15 11\"></td><td class=\"\" title=\"16 11\"></td><td class=\"xb\" title=\"17 11\"></td></tr>\n",
       "<tr><td class=\"xc2 xb\" title=\"0 12\">Business and Professional Services</td><td class=\"\" title=\"1 12\"></td><td class=\"\" title=\"2 12\"></td><td class=\"\" title=\"3 12\"></td><td class=\"\" title=\"4 12\"></td><td class=\"\" title=\"5 12\"></td><td class=\"\" title=\"6 12\"></td><td class=\"\" title=\"7 12\"></td><td class=\"\" title=\"8 12\"></td><td class=\"\" title=\"9 12\"></td><td class=\"\" title=\"10 12\"></td><td class=\"\" title=\"11 12\"></td><td class=\"\" title=\"12 12\"></td><td class=\"\" title=\"13 12\"></td><td class=\"\" title=\"14 12\"></td><td class=\"\" title=\"15 12\"></td><td class=\"\" title=\"16 12\"></td><td class=\"\" title=\"17 12\"></td></tr>\n",
       "<tr><td class=\"\" title=\"0 13\"></td><td class=\"\" title=\"1 13\"></td><td class=\"xc3\" title=\"2 13\">Accountancy, auditing, bookkeeping and tax consulting services</td><td class=\"\" title=\"3 13\"></td><td class=\"xc0 xn\" title=\"4 13\">4.105</td><td class=\"xc0 xn\" title=\"5 13\">1.544</td><td class=\"xc0 xn\" title=\"6 13\">4.677</td><td class=\"xc0 xn\" title=\"7 13\">1.488</td><td class=\"\" title=\"8 13\"></td><td class=\"xc0 xn\" title=\"9 13\">6.953</td><td class=\"xc0 xn\" title=\"10 13\">10.981</td><td class=\"xc0 xn\" title=\"11 13\">8.716</td><td class=\"xc0 xn\" title=\"12 13\">14.896</td><td class=\"\" title=\"13 13\"></td><td class=\"xc0 xn\" title=\"14 13\">-2.848</td><td class=\"xc0 xn\" title=\"15 13\">-9.437</td><td class=\"xc0 xn\" title=\"16 13\">-4.039</td><td class=\"xc0 xn\" title=\"17 13\">-13.408000000000001</td></tr>\n",
       "<tr><td class=\"\" title=\"0 14\"></td><td class=\"\" title=\"1 14\"></td><td class=\"xc3\" title=\"2 14\">Advertising</td><td class=\"\" title=\"3 14\"></td><td class=\"xc0 xn\" title=\"4 14\">533.504</td><td class=\"xc0 xn\" title=\"5 14\">679.287</td><td class=\"xc0 xn\" title=\"6 14\">803.626</td><td class=\"xc0 xn\" title=\"7 14\">642.305</td><td class=\"\" title=\"8 14\"></td><td class=\"xc0 xn\" title=\"9 14\">199.983</td><td class=\"xc0 xn\" title=\"10 14\">461.774</td><td class=\"xc0 xn\" title=\"11 14\">301.212</td><td class=\"xc0 xn\" title=\"12 14\">275.169</td><td class=\"\" title=\"13 14\"></td><td class=\"xc0 xn\" title=\"14 14\">333.521</td><td class=\"xc0 xn\" title=\"15 14\">217.51300000000003</td><td class=\"xc0 xn\" title=\"16 14\">502.414</td><td class=\"xc0 xn\" title=\"17 14\">367.13599999999997</td></tr>\n",
       "<tr><td class=\"\" title=\"0 15\"></td><td class=\"\" title=\"1 15\"></td><td class=\"xc3\" title=\"2 15\">Management consulting</td><td class=\"\" title=\"3 15\"></td><td class=\"xc0 xn\" title=\"4 15\">45.932</td><td class=\"xc0 xn\" title=\"5 15\">43.226</td><td class=\"xc0 xn\" title=\"6 15\">52.865</td><td class=\"xc0 xn\" title=\"7 15\">61.846</td><td class=\"\" title=\"8 15\"></td><td class=\"xc0 xn\" title=\"9 15\">21.443</td><td class=\"xc0 xn\" title=\"10 15\">33.448</td><td class=\"xc0 xn\" title=\"11 15\">38.293</td><td class=\"xc0 xn\" title=\"12 15\">33.836</td><td class=\"\" title=\"13 15\"></td><td class=\"xc0 xn\" title=\"14 15\">24.489</td><td class=\"xc0 xn\" title=\"15 15\">9.777999999999999</td><td class=\"xc0 xn\" title=\"16 15\">14.572000000000003</td><td class=\"xc0 xn\" title=\"17 15\">28.009999999999998</td></tr>\n",
       "<tr><td class=\"\" title=\"0 16\"></td><td class=\"\" title=\"1 16\"></td><td class=\"xc3\" title=\"2 16\">Public relations services</td><td class=\"\" title=\"3 16\"></td><td class=\"xc0 xn\" title=\"4 16\">3.666</td><td class=\"xc0 xn\" title=\"5 16\">2.113</td><td class=\"xc0 xn\" title=\"6 16\">0.795</td><td class=\"xc0 xn\" title=\"7 16\">0.959</td><td class=\"\" title=\"8 16\"></td><td class=\"xc0 xn\" title=\"9 16\">5.191</td><td class=\"xc0 xn\" title=\"10 16\">3.854</td><td class=\"xc0 xn\" title=\"11 16\">3.879</td><td class=\"xc0 xn\" title=\"12 16\">6.128</td><td class=\"\" title=\"13 16\"></td><td class=\"xc0 xn\" title=\"14 16\">-1.525</td><td class=\"xc0 xn\" title=\"15 16\">-1.741</td><td class=\"xc0 xn\" title=\"16 16\">-3.084</td><td class=\"xc0 xn\" title=\"17 16\">-5.1690000000000005</td></tr>\n",
       "<tr><td class=\"\" title=\"0 17\"></td><td class=\"\" title=\"1 17\"></td><td class=\"xc3\" title=\"2 17\">Recruitment </td><td class=\"\" title=\"3 17\"></td><td class=\"xc0 xn\" title=\"4 17\">141.351</td><td class=\"xc0 xn\" title=\"5 17\">60.248</td><td class=\"xc0 xn\" title=\"6 17\">50.628</td><td class=\"xc0 xn\" title=\"7 17\">49.907</td><td class=\"\" title=\"8 17\"></td><td class=\"xc0 xn\" title=\"9 17\">46.654</td><td class=\"xc0 xn\" title=\"10 17\">14.324</td><td class=\"xc0 xn\" title=\"11 17\">25.259</td><td class=\"xc0 xn\" title=\"12 17\">28.39</td><td class=\"\" title=\"13 17\"></td><td class=\"xc0 xn\" title=\"14 17\">94.697</td><td class=\"xc0 xn\" title=\"15 17\">45.924</td><td class=\"xc0 xn\" title=\"16 17\">25.369</td><td class=\"xc0 xn\" title=\"17 17\">21.516999999999996</td></tr>\n",
       "<tr><td class=\"\" title=\"0 18\"></td><td class=\"\" title=\"1 18\"></td><td class=\"xc3\" title=\"2 18\">Other business management</td><td class=\"\" title=\"3 18\"></td><td class=\"xc0\" title=\"4 18\">..</td><td class=\"xc0 xn\" title=\"5 18\">30.948</td><td class=\"xc0 xn\" title=\"6 18\">90.947</td><td class=\"xc0 xn\" title=\"7 18\">344.884</td><td class=\"\" title=\"8 18\"></td><td class=\"xc0\" title=\"9 18\">..</td><td class=\"xc0 xn\" title=\"10 18\">55.499</td><td class=\"xc0 xn\" title=\"11 18\">38.457</td><td class=\"xc0 xn\" title=\"12 18\">81.765</td><td class=\"\" title=\"13 18\"></td><td class=\"xc0 xn\" title=\"14 18\">-44.885999999999996</td><td class=\"xc0 xn\" title=\"15 18\">-24.551000000000002</td><td class=\"xc0 xn\" title=\"16 18\">52.49</td><td class=\"xc0 xn\" title=\"17 18\">263.119</td></tr>\n",
       "<tr><td class=\"\" title=\"0 19\"></td><td class=\"\" title=\"1 19\"></td><td class=\"xc3\" title=\"2 19\">Legal services</td><td class=\"\" title=\"3 19\"></td><td class=\"xc0 xn\" title=\"4 19\">0.643</td><td class=\"xc0 xn\" title=\"5 19\">0.931</td><td class=\"xc0 xn\" title=\"6 19\">1.13</td><td class=\"xc0 xn\" title=\"7 19\">2.444</td><td class=\"\" title=\"8 19\"></td><td class=\"xc0 xn\" title=\"9 19\">15.035</td><td class=\"xc0 xn\" title=\"10 19\">15.68</td><td class=\"xc0 xn\" title=\"11 19\">20.539</td><td class=\"xc0 xn\" title=\"12 19\">17.565</td><td class=\"\" title=\"13 19\"></td><td class=\"xc0 xn\" title=\"14 19\">-14.392</td><td class=\"xc0 xn\" title=\"15 19\">-14.748999999999999</td><td class=\"xc0 xn\" title=\"16 19\">-19.409000000000002</td><td class=\"xc0 xn\" title=\"17 19\">-15.121000000000002</td></tr>\n",
       "<tr><td class=\"\" title=\"0 20\"></td><td class=\"\" title=\"1 20\"></td><td class=\"xc3\" title=\"2 20\">Market research and public opinion polling</td><td class=\"\" title=\"3 20\"></td><td class=\"xc0 xn\" title=\"4 20\">46.156</td><td class=\"xc0 xn\" title=\"5 20\">11.105</td><td class=\"xc0 xn\" title=\"6 20\">14.901</td><td class=\"xc0 xn\" title=\"7 20\">12.151</td><td class=\"\" title=\"8 20\"></td><td class=\"xc0 xn\" title=\"9 20\">8.066</td><td class=\"xc0 xn\" title=\"10 20\">8.799</td><td class=\"xc0 xn\" title=\"11 20\">13.728</td><td class=\"xc0 xn\" title=\"12 20\">10.559</td><td class=\"\" title=\"13 20\"></td><td class=\"xc0 xn\" title=\"14 20\">38.09</td><td class=\"xc0 xn\" title=\"15 20\">2.306000000000001</td><td class=\"xc0 xn\" title=\"16 20\">1.173</td><td class=\"xc0 xn\" title=\"17 20\">1.5920000000000005</td></tr>\n",
       "<tr><td class=\"\" title=\"0 21\"></td><td class=\"\" title=\"1 21\"></td><td class=\"xc3\" title=\"2 21\">Operational leasing services</td><td class=\"\" title=\"3 21\"></td><td class=\"xc0\" title=\"4 21\">..</td><td class=\"xc0 xn\" title=\"5 21\">4.305</td><td class=\"xc0 xn\" title=\"6 21\">4.431</td><td class=\"xc0 xn\" title=\"7 21\">4.026</td><td class=\"\" title=\"8 21\"></td><td class=\"xc0\" title=\"9 21\">..</td><td class=\"xc0 xn\" title=\"10 21\">19.919</td><td class=\"xc0 xn\" title=\"11 21\">11.871</td><td class=\"xc0 xn\" title=\"12 21\">5.53</td><td class=\"\" title=\"13 21\"></td><td class=\"xc0 xn\" title=\"14 21\">-6.38</td><td class=\"xc0 xn\" title=\"15 21\">-15.614</td><td class=\"xc0 xn\" title=\"16 21\">-7.44</td><td class=\"xc0 xn\" title=\"17 21\">-1.5040000000000004</td></tr>\n",
       "<tr><td class=\"\" title=\"0 22\"></td><td class=\"\" title=\"1 22\"></td><td class=\"xc3\" title=\"2 22\">Procurement</td><td class=\"\" title=\"3 22\"></td><td class=\"xc0 xn\" title=\"4 22\">17.749</td><td class=\"xc0 xn\" title=\"5 22\">23.219</td><td class=\"xc0 xn\" title=\"6 22\">17.533</td><td class=\"xc0 xn\" title=\"7 22\">17.911</td><td class=\"\" title=\"8 22\"></td><td class=\"xc0 xn\" title=\"9 22\">22.251</td><td class=\"xc0 xn\" title=\"10 22\">57.015</td><td class=\"xc0 xn\" title=\"11 22\">24.755</td><td class=\"xc0 xn\" title=\"12 22\">22.271</td><td class=\"\" title=\"13 22\"></td><td class=\"xc0 xn\" title=\"14 22\">-4.5020000000000024</td><td class=\"xc0 xn\" title=\"15 22\">-33.796</td><td class=\"xc0 xn\" title=\"16 22\">-7.221999999999998</td><td class=\"xc0 xn\" title=\"17 22\">-4.359999999999999</td></tr>\n",
       "<tr><td class=\"\" title=\"0 23\"></td><td class=\"\" title=\"1 23\"></td><td class=\"xc3\" title=\"2 23\">Property management</td><td class=\"\" title=\"3 23\"></td><td class=\"xc0\" title=\"4 23\">..</td><td class=\"xc0\" title=\"5 23\">..</td><td class=\"xc0\" title=\"6 23\">..</td><td class=\"xc0\" title=\"7 23\">..</td><td class=\"\" title=\"8 23\"></td><td class=\"xc0\" title=\"9 23\">..</td><td class=\"xc0\" title=\"10 23\">..</td><td class=\"xc0\" title=\"11 23\">..</td><td class=\"xc0\" title=\"12 23\">..</td><td class=\"\" title=\"13 23\"></td><td class=\"xc0 xn\" title=\"14 23\">-2.603</td><td class=\"xc0 xn\" title=\"15 23\">-0.861</td><td class=\"xc0 xn\" title=\"16 23\">-2.754</td><td class=\"xc0 xn\" title=\"17 23\">-3.004</td></tr>\n",
       "<tr><td class=\"\" title=\"0 24\"></td><td class=\"\" title=\"1 24\"></td><td class=\"xc3\" title=\"2 24\">Research and development</td><td class=\"\" title=\"3 24\"></td><td class=\"xc0 xn\" title=\"4 24\">254.974</td><td class=\"xc0 xn\" title=\"5 24\">99.998</td><td class=\"xc0 xn\" title=\"6 24\">176.735</td><td class=\"xc0 xn\" title=\"7 24\">150.737</td><td class=\"\" title=\"8 24\"></td><td class=\"xc0 xn\" title=\"9 24\">203.471</td><td class=\"xc0 xn\" title=\"10 24\">153.369</td><td class=\"xc0 xn\" title=\"11 24\">144.129</td><td class=\"xc0 xn\" title=\"12 24\">140.547</td><td class=\"\" title=\"13 24\"></td><td class=\"xc0 xn\" title=\"14 24\">51.502999999999986</td><td class=\"xc0 xn\" title=\"15 24\">-53.370999999999995</td><td class=\"xc0 xn\" title=\"16 24\">32.60600000000002</td><td class=\"xc0 xn\" title=\"17 24\">10.189999999999998</td></tr>\n",
       "<tr><td class=\"\" title=\"0 25\"></td><td class=\"\" title=\"1 25\"></td><td class=\"xc3\" title=\"2 25\">Services between related enterprises</td><td class=\"\" title=\"3 25\"></td><td class=\"xc0 xn\" title=\"4 25\">1343.652</td><td class=\"xc0 xn\" title=\"5 25\">2072.041</td><td class=\"xc0 xn\" title=\"6 25\">2120.011</td><td class=\"xc0 xn\" title=\"7 25\">3149.934</td><td class=\"\" title=\"8 25\"></td><td class=\"xc0 xn\" title=\"9 25\">1240.198</td><td class=\"xc0 xn\" title=\"10 25\">1603.337</td><td class=\"xc0 xn\" title=\"11 25\">1825.178</td><td class=\"xc0 xn\" title=\"12 25\">2341.067</td><td class=\"\" title=\"13 25\"></td><td class=\"xc0 xn\" title=\"14 25\">103.45399999999995</td><td class=\"xc0 xn\" title=\"15 25\">468.7040000000002</td><td class=\"xc0 xn\" title=\"16 25\">294.83299999999986</td><td class=\"xc0 xn\" title=\"17 25\">808.8670000000002</td></tr>\n",
       "<tr><td class=\"\" title=\"0 26\"></td><td class=\"\" title=\"1 26\"></td><td class=\"xc3\" title=\"2 26\">Other business and professional services</td><td class=\"\" title=\"3 26\"></td><td class=\"xc0 xn\" title=\"4 26\">231.832</td><td class=\"xc0\" title=\"5 26\">..</td><td class=\"xc0\" title=\"6 26\">..</td><td class=\"xc0\" title=\"7 26\">..</td><td class=\"\" title=\"8 26\"></td><td class=\"xc0 xn\" title=\"9 26\">79.271</td><td class=\"xc0\" title=\"10 26\">..</td><td class=\"xc0\" title=\"11 26\">..</td><td class=\"xc0\" title=\"12 26\">..</td><td class=\"\" title=\"13 26\"></td><td class=\"xc0 xn\" title=\"14 26\">152.56099999999998</td><td class=\"xc0 xn\" title=\"15 26\">104.12900000000002</td><td class=\"xc0 xn\" title=\"16 26\">375.562</td><td class=\"xc0 xn\" title=\"17 26\">568.337</td></tr>\n",
       "<tr><td class=\"xb\" title=\"0 27\"></td><td class=\"xb\" title=\"1 27\">Total Business and Professional Services</td><td class=\"xb\" title=\"2 27\"></td><td class=\"xb\" title=\"3 27\"></td><td class=\"xc0 xb xn\" title=\"4 27\">2658.1079999999997</td><td class=\"xc0 xb xn\" title=\"5 27\">3349.9040000000005</td><td class=\"xc0 xb xn\" title=\"6 27\">3902.1789999999996</td><td class=\"xc0 xb xn\" title=\"7 27\">5212.838000000001</td><td class=\"xb\" title=\"8 27\"></td><td class=\"xc0 xb xn\" title=\"9 27\">1936.929</td><td class=\"xc0 xb xn\" title=\"10 27\">2655.67</td><td class=\"xc0 xb xn\" title=\"11 27\">2647.108</td><td class=\"xc0 xb xn\" title=\"12 27\">3186.636</td><td class=\"xb\" title=\"13 27\"></td><td class=\"xc0 xb xn\" title=\"14 27\">721.1789999999999</td><td class=\"xc0 xb xn\" title=\"15 27\">694.2340000000003</td><td class=\"xc0 xb xn\" title=\"16 27\">1255.071</td><td class=\"xc0 xb xn\" title=\"17 27\">2026.202</td></tr>\n",
       "<tr><td class=\"\" title=\"0 28\"></td><td class=\"\" title=\"1 28\"></td><td class=\"\" title=\"2 28\"></td><td class=\"\" title=\"3 28\"></td><td class=\"\" title=\"4 28\"></td><td class=\"\" title=\"5 28\"></td><td class=\"\" title=\"6 28\"></td><td class=\"\" title=\"7 28\"></td><td class=\"\" title=\"8 28\"></td><td class=\"\" title=\"9 28\"></td><td class=\"\" title=\"10 28\"></td><td class=\"\" title=\"11 28\"></td><td class=\"\" title=\"12 28\"></td><td class=\"\" title=\"13 28\"></td><td class=\"\" title=\"14 28\"></td><td class=\"\" title=\"15 28\"></td><td class=\"\" title=\"16 28\"></td><td class=\"\" title=\"17 28\"></td></tr>\n",
       "<tr><td class=\"\" title=\"0 29\"></td><td class=\"\" title=\"1 29\"></td><td class=\"\" title=\"2 29\"></td><td class=\"\" title=\"3 29\"></td><td class=\"\" title=\"4 29\"></td><td class=\"\" title=\"5 29\"></td><td class=\"\" title=\"6 29\"></td><td class=\"\" title=\"7 29\"></td><td class=\"\" title=\"8 29\"></td><td class=\"\" title=\"9 29\"></td><td class=\"\" title=\"10 29\"></td><td class=\"\" title=\"11 29\"></td><td class=\"\" title=\"12 29\"></td><td class=\"\" title=\"13 29\"></td><td class=\"\" title=\"14 29\"></td><td class=\"\" title=\"15 29\"></td><td class=\"\" title=\"16 29\"></td><td class=\"\" title=\"17 29\"></td></tr>\n",
       "<tr><td class=\"xc2 xb\" title=\"0 30\">Communications Services</td><td class=\"\" title=\"1 30\"></td><td class=\"\" title=\"2 30\"></td><td class=\"\" title=\"3 30\"></td><td class=\"\" title=\"4 30\"></td><td class=\"\" title=\"5 30\"></td><td class=\"\" title=\"6 30\"></td><td class=\"\" title=\"7 30\"></td><td class=\"\" title=\"8 30\"></td><td class=\"\" title=\"9 30\"></td><td class=\"\" title=\"10 30\"></td><td class=\"\" title=\"11 30\"></td><td class=\"\" title=\"12 30\"></td><td class=\"\" title=\"13 30\"></td><td class=\"\" title=\"14 30\"></td><td class=\"\" title=\"15 30\"></td><td class=\"\" title=\"16 30\"></td><td class=\"\" title=\"17 30\"></td></tr>\n",
       "<tr><td class=\"\" title=\"0 31\"></td><td class=\"\" title=\"1 31\"></td><td class=\"xc3\" title=\"2 31\">Postal and courier</td><td class=\"\" title=\"3 31\"></td><td class=\"xc0 xn\" title=\"4 31\">74.111</td><td class=\"xc0 xn\" title=\"5 31\">7.447</td><td class=\"xc0 xn\" title=\"6 31\">10.584</td><td class=\"xc0\" title=\"7 31\">-</td><td class=\"\" title=\"8 31\"></td><td class=\"xc0 xn\" title=\"9 31\">39.042</td><td class=\"xc0 xn\" title=\"10 31\">9.371</td><td class=\"xc0 xn\" title=\"11 31\">10.871</td><td class=\"xc0 xn\" title=\"12 31\">1.608</td><td class=\"\" title=\"13 31\"></td><td class=\"xc0 xn\" title=\"14 31\">35.06700000000001</td><td class=\"xc0 xn\" title=\"15 31\">-1.9240000000000004</td><td class=\"xc0\" title=\"16 31\">-</td><td class=\"xc0 xn\" title=\"17 31\">-1.1980000000000002</td></tr>\n",
       "<tr><td class=\"\" title=\"0 32\"></td><td class=\"\" title=\"1 32\"></td><td class=\"xc3\" title=\"2 32\">Telecommunications</td><td class=\"\" title=\"3 32\"></td><td class=\"xc0 xn\" title=\"4 32\">3472.968</td><td class=\"xc0 xn\" title=\"5 32\">4425.16</td><td class=\"xc0 xn\" title=\"6 32\">4567.154</td><td class=\"xc0 xn\" title=\"7 32\">5271.919</td><td class=\"\" title=\"8 32\"></td><td class=\"xc0 xn\" title=\"9 32\">3241.541</td><td class=\"xc0 xn\" title=\"10 32\">3784.393</td><td class=\"xc0 xn\" title=\"11 32\">3356.39</td><td class=\"xc0 xn\" title=\"12 32\">3502.679</td><td class=\"\" title=\"13 32\"></td><td class=\"xc0 xn\" title=\"14 32\">231.35399999999981</td><td class=\"xc0 xn\" title=\"15 32\">640.7669999999998</td><td class=\"xc0 xn\" title=\"16 32\">1210.7640000000006</td><td class=\"xc0 xn\" title=\"17 32\">1769.2399999999998</td></tr>\n",
       "<tr><td class=\"xb\" title=\"0 33\"></td><td class=\"xb\" title=\"1 33\">Total Communications Services</td><td class=\"xb\" title=\"2 33\"></td><td class=\"xb\" title=\"3 33\"></td><td class=\"xc0 xb xn\" title=\"4 33\">3547.0789999999997</td><td class=\"xc0 xb xn\" title=\"5 33\">4432.607</td><td class=\"xc0 xb xn\" title=\"6 33\">4577.738</td><td class=\"xc0 xb xn\" title=\"7 33\">5272.329</td><td class=\"xb\" title=\"8 33\"></td><td class=\"xc0 xb xn\" title=\"9 33\">3280.583</td><td class=\"xc0 xb xn\" title=\"10 33\">3793.764</td><td class=\"xc0 xb xn\" title=\"11 33\">3367.261</td><td class=\"xc0 xb xn\" title=\"12 33\">3504.2870000000003</td><td class=\"xb\" title=\"13 33\"></td><td class=\"xc0 xb xn\" title=\"14 33\">266.4209999999998</td><td class=\"xc0 xb xn\" title=\"15 33\">638.8429999999998</td><td class=\"xc0 xb xn\" title=\"16 33\">1210.4770000000005</td><td class=\"xc0 xb xn\" title=\"17 33\">1768.0419999999997</td></tr>\n",
       "<tr><td class=\"\" title=\"0 34\"></td><td class=\"\" title=\"1 34\"></td><td class=\"\" title=\"2 34\"></td><td class=\"\" title=\"3 34\"></td><td class=\"\" title=\"4 34\"></td><td class=\"\" title=\"5 34\"></td><td class=\"\" title=\"6 34\"></td><td class=\"\" title=\"7 34\"></td><td class=\"\" title=\"8 34\"></td><td class=\"\" title=\"9 34\"></td><td class=\"\" title=\"10 34\"></td><td class=\"\" title=\"11 34\"></td><td class=\"\" title=\"12 34\"></td><td class=\"\" title=\"13 34\"></td><td class=\"\" title=\"14 34\"></td><td class=\"\" title=\"15 34\"></td><td class=\"\" title=\"16 34\"></td><td class=\"\" title=\"17 34\"></td></tr>\n",
       "<tr><td class=\"\" title=\"0 35\"></td><td class=\"\" title=\"1 35\"></td><td class=\"\" title=\"2 35\"></td><td class=\"\" title=\"3 35\"></td><td class=\"\" title=\"4 35\"></td><td class=\"\" title=\"5 35\"></td><td class=\"\" title=\"6 35\"></td><td class=\"\" title=\"7 35\"></td><td class=\"\" title=\"8 35\"></td><td class=\"\" title=\"9 35\"></td><td class=\"\" title=\"10 35\"></td><td class=\"\" title=\"11 35\"></td><td class=\"\" title=\"12 35\"></td><td class=\"\" title=\"13 35\"></td><td class=\"\" title=\"14 35\"></td><td class=\"\" title=\"15 35\"></td><td class=\"\" title=\"16 35\"></td><td class=\"\" title=\"17 35\"></td></tr>\n",
       "<tr><td class=\"xc2 xb\" title=\"0 36\">Computer and Information Services</td><td class=\"\" title=\"1 36\"></td><td class=\"\" title=\"2 36\"></td><td class=\"\" title=\"3 36\"></td><td class=\"\" title=\"4 36\"></td><td class=\"\" title=\"5 36\"></td><td class=\"\" title=\"6 36\"></td><td class=\"\" title=\"7 36\"></td><td class=\"xb\" title=\"8 36\"></td><td class=\"\" title=\"9 36\"></td><td class=\"\" title=\"10 36\"></td><td class=\"\" title=\"11 36\"></td><td class=\"\" title=\"12 36\"></td><td class=\"\" title=\"13 36\"></td><td class=\"\" title=\"14 36\"></td><td class=\"\" title=\"15 36\"></td><td class=\"\" title=\"16 36\"></td><td class=\"\" title=\"17 36\"></td></tr>\n",
       "<tr><td class=\"\" title=\"0 37\"></td><td class=\"\" title=\"1 37\"></td><td class=\"xc3\" title=\"2 37\">Computers</td><td class=\"\" title=\"3 37\"></td><td class=\"xc0 xn\" title=\"4 37\">4920.325</td><td class=\"xc0 xn\" title=\"5 37\">5237.569</td><td class=\"xc0 xn\" title=\"6 37\">5933.053</td><td class=\"xc0 xn\" title=\"7 37\">6117.955</td><td class=\"\" title=\"8 37\"></td><td class=\"xc0 xn\" title=\"9 37\">2187.025</td><td class=\"xc0 xn\" title=\"10 37\">2552.314</td><td class=\"xc0 xn\" title=\"11 37\">2413.458</td><td class=\"xc0 xn\" title=\"12 37\">2828.439</td><td class=\"\" title=\"13 37\"></td><td class=\"xc0 xn\" title=\"14 37\">2733.263</td><td class=\"xc0 xn\" title=\"15 37\">2685.2550000000006</td><td class=\"xc0 xn\" title=\"16 37\">3519.595</td><td class=\"xc0 xn\" title=\"17 37\">3289.516</td></tr>\n",
       "<tr><td class=\"\" title=\"0 38\"></td><td class=\"\" title=\"1 38\"></td><td class=\"xc3\" title=\"2 38\">News agency services</td><td class=\"\" title=\"3 38\"></td><td class=\"xc0 xn\" title=\"4 38\">474.35</td><td class=\"xc0 xn\" title=\"5 38\">432.022</td><td class=\"xc0 xn\" title=\"6 38\">400.825</td><td class=\"xc0 xn\" title=\"7 38\">389.376</td><td class=\"\" title=\"8 38\"></td><td class=\"xc0 xn\" title=\"9 38\">47.89</td><td class=\"xc0 xn\" title=\"10 38\">60.266</td><td class=\"xc0 xn\" title=\"11 38\">34.292</td><td class=\"xc0 xn\" title=\"12 38\">34.58</td><td class=\"\" title=\"13 38\"></td><td class=\"xc0 xn\" title=\"14 38\">426.459</td><td class=\"xc0 xn\" title=\"15 38\">371.756</td><td class=\"xc0 xn\" title=\"16 38\">366.533</td><td class=\"xc0 xn\" title=\"17 38\">354.796</td></tr>\n",
       "<tr><td class=\"\" title=\"0 39\"></td><td class=\"\" title=\"1 39\"></td><td class=\"xc3\" title=\"2 39\">Publishing services</td><td class=\"\" title=\"3 39\"></td><td class=\"xc0 xn\" title=\"4 39\">316.369</td><td class=\"xc0 xn\" title=\"5 39\">444.442</td><td class=\"xc0 xn\" title=\"6 39\">542.886</td><td class=\"xc0 xn\" title=\"7 39\">560.952</td><td class=\"\" title=\"8 39\"></td><td class=\"xc0 xn\" title=\"9 39\">35.785</td><td class=\"xc0 xn\" title=\"10 39\">40.862</td><td class=\"xc0 xn\" title=\"11 39\">61.883</td><td class=\"xc0 xn\" title=\"12 39\">39.934</td><td class=\"\" title=\"13 39\"></td><td class=\"xc0 xn\" title=\"14 39\">280.58400000000006</td><td class=\"xc0 xn\" title=\"15 39\">403.58</td><td class=\"xc0 xn\" title=\"16 39\">481.003</td><td class=\"xc0 xn\" title=\"17 39\">521.018</td></tr>\n",
       "<tr><td class=\"\" title=\"0 40\"></td><td class=\"\" title=\"1 40\"></td><td class=\"xc3\" title=\"2 40\">Other information provision services</td><td class=\"\" title=\"3 40\"></td><td class=\"xc0 xn\" title=\"4 40\">1186.349</td><td class=\"xc0 xn\" title=\"5 40\">364.8</td><td class=\"xc0 xn\" title=\"6 40\">615.024</td><td class=\"xc0 xn\" title=\"7 40\">605.96</td><td class=\"\" title=\"8 40\"></td><td class=\"xc0 xn\" title=\"9 40\">360.929</td><td class=\"xc0 xn\" title=\"10 40\">68.138</td><td class=\"xc0 xn\" title=\"11 40\">240.818</td><td class=\"xc0 xn\" title=\"12 40\">228.05</td><td class=\"\" title=\"13 40\"></td><td class=\"xc0 xn\" title=\"14 40\">825.4169999999999</td><td class=\"xc0 xn\" title=\"15 40\">296.66200000000003</td><td class=\"xc0 xn\" title=\"16 40\">374.206</td><td class=\"xc0 xn\" title=\"17 40\">377.91</td></tr>\n",
       "<tr><td class=\"xb\" title=\"0 41\"></td><td class=\"xb\" title=\"1 41\">Total Information Services</td><td class=\"xb\" title=\"2 41\"></td><td class=\"xb\" title=\"3 41\"></td><td class=\"xc0 xb xn\" title=\"4 41\">6897.393</td><td class=\"xc0 xb xn\" title=\"5 41\">6478.8330000000005</td><td class=\"xc0 xb xn\" title=\"6 41\">7491.788</td><td class=\"xc0 xb xn\" title=\"7 41\">7674.243</td><td class=\"xb\" title=\"8 41\"></td><td class=\"xc0 xb xn\" title=\"9 41\">2631.629</td><td class=\"xc0 xb xn\" title=\"10 41\">2721.58</td><td class=\"xc0 xb xn\" title=\"11 41\">2750.451</td><td class=\"xc0 xb xn\" title=\"12 41\">3131.003</td><td class=\"xb\" title=\"13 41\"></td><td class=\"xc0 xb xn\" title=\"14 41\">4265.723</td><td class=\"xc0 xb xn\" title=\"15 41\">3757.2530000000006</td><td class=\"xc0 xb xn\" title=\"16 41\">4741.3369999999995</td><td class=\"xc0 xb xn\" title=\"17 41\">4543.24</td></tr>\n",
       "<tr><td class=\"\" title=\"0 42\"></td><td class=\"\" title=\"1 42\"></td><td class=\"\" title=\"2 42\"></td><td class=\"\" title=\"3 42\"></td><td class=\"\" title=\"4 42\"></td><td class=\"\" title=\"5 42\"></td><td class=\"\" title=\"6 42\"></td><td class=\"\" title=\"7 42\"></td><td class=\"\" title=\"8 42\"></td><td class=\"\" title=\"9 42\"></td><td class=\"\" title=\"10 42\"></td><td class=\"\" title=\"11 42\"></td><td class=\"\" title=\"12 42\"></td><td class=\"\" title=\"13 42\"></td><td class=\"\" title=\"14 42\"></td><td class=\"\" title=\"15 42\"></td><td class=\"\" title=\"16 42\"></td><td class=\"\" title=\"17 42\"></td></tr>\n",
       "<tr><td class=\"xb\" title=\"0 43\"></td><td class=\"xb\" title=\"1 43\"></td><td class=\"\" title=\"2 43\"></td><td class=\"\" title=\"3 43\"></td><td class=\"\" title=\"4 43\"></td><td class=\"\" title=\"5 43\"></td><td class=\"\" title=\"6 43\"></td><td class=\"\" title=\"7 43\"></td><td class=\"\" title=\"8 43\"></td><td class=\"\" title=\"9 43\"></td><td class=\"\" title=\"10 43\"></td><td class=\"\" title=\"11 43\"></td><td class=\"\" title=\"12 43\"></td><td class=\"\" title=\"13 43\"></td><td class=\"\" title=\"14 43\"></td><td class=\"\" title=\"15 43\"></td><td class=\"\" title=\"16 43\"></td><td class=\"\" title=\"17 43\"></td></tr>\n",
       "<tr><td class=\"xc2 xb\" title=\"0 44\">Construction Services</td><td class=\"\" title=\"1 44\"></td><td class=\"\" title=\"2 44\"></td><td class=\"\" title=\"3 44\"></td><td class=\"\" title=\"4 44\"></td><td class=\"\" title=\"5 44\"></td><td class=\"\" title=\"6 44\"></td><td class=\"\" title=\"7 44\"></td><td class=\"\" title=\"8 44\"></td><td class=\"\" title=\"9 44\"></td><td class=\"\" title=\"10 44\"></td><td class=\"\" title=\"11 44\"></td><td class=\"\" title=\"12 44\"></td><td class=\"\" title=\"13 44\"></td><td class=\"\" title=\"14 44\"></td><td class=\"\" title=\"15 44\"></td><td class=\"\" title=\"16 44\"></td><td class=\"\" title=\"17 44\"></td></tr>\n",
       "<tr><td class=\"xb\" title=\"0 45\"></td><td class=\"\" title=\"1 45\"></td><td class=\"xc3\" title=\"2 45\">Construction in the UK</td><td class=\"\" title=\"3 45\"></td><td class=\"xc0\" title=\"4 45\">..</td><td class=\"xc0\" title=\"5 45\">..</td><td class=\"xc0\" title=\"6 45\">-</td><td class=\"xc0\" title=\"7 45\">-</td><td class=\"\" title=\"8 45\"></td><td class=\"xc0\" title=\"9 45\">..</td><td class=\"xc0\" title=\"10 45\">..</td><td class=\"xc0 xn\" title=\"11 45\">3.222</td><td class=\"xc0\" title=\"12 45\">..</td><td class=\"\" title=\"13 45\"></td><td class=\"xc0 xn\" title=\"14 45\">-1.027</td><td class=\"xc0\" title=\"15 45\">..</td><td class=\"xc0 xn\" title=\"16 45\">-2.742</td><td class=\"xc0\" title=\"17 45\">..</td></tr>\n",
       "<tr><td class=\"\" title=\"0 46\"></td><td class=\"\" title=\"1 46\"></td><td class=\"xc3\" title=\"2 46\">Construction outside the UK</td><td class=\"\" title=\"3 46\"></td><td class=\"xc0\" title=\"4 46\">..</td><td class=\"xc0\" title=\"5 46\">..</td><td class=\"xc0 xn\" title=\"6 46\">1.693</td><td class=\"xc0\" title=\"7 46\">..</td><td class=\"\" title=\"8 46\"></td><td class=\"xc0\" title=\"9 46\">..</td><td class=\"xc0\" title=\"10 46\">..</td><td class=\"xc0 xn\" title=\"11 46\">1.184</td><td class=\"xc0\" title=\"12 46\">..</td><td class=\"\" title=\"13 46\"></td><td class=\"xc0 xn\" title=\"14 46\">-3.091</td><td class=\"xc0\" title=\"15 46\">..</td><td class=\"xc0 xn\" title=\"16 46\">0.5090000000000001</td><td class=\"xc0\" title=\"17 46\">..</td></tr>\n",
       "<tr><td class=\"xb\" title=\"0 47\"></td><td class=\"xb\" title=\"1 47\">Total Construction Services</td><td class=\"xb\" title=\"2 47\"></td><td class=\"xb\" title=\"3 47\"></td><td class=\"xc0 xb xn\" title=\"4 47\">2.685</td><td class=\"xc0 xb\" title=\"5 47\">..</td><td class=\"xc0 xb xn\" title=\"6 47\">2.173</td><td class=\"xc0 xb\" title=\"7 47\">-</td><td class=\"xb\" title=\"8 47\"></td><td class=\"xc0 xb xn\" title=\"9 47\">6.803000000000001</td><td class=\"xc0 xb\" title=\"10 47\">..</td><td class=\"xc0 xb xn\" title=\"11 47\">4.406</td><td class=\"xc0 xb xn\" title=\"12 47\">8.251</td><td class=\"xb\" title=\"13 47\"></td><td class=\"xc0 xb xn\" title=\"14 47\">-4.118</td><td class=\"xc0 xb\" title=\"15 47\">..</td><td class=\"xc0 xb xn\" title=\"16 47\">-2.2329999999999997</td><td class=\"xc0 xb xn\" title=\"17 47\">-8.251</td></tr>\n",
       "<tr><td class=\"\" title=\"0 48\"></td><td class=\"xb\" title=\"1 48\"></td><td class=\"\" title=\"2 48\"></td><td class=\"\" title=\"3 48\"></td><td class=\"\" title=\"4 48\"></td><td class=\"\" title=\"5 48\"></td><td class=\"\" title=\"6 48\"></td><td class=\"\" title=\"7 48\"></td><td class=\"\" title=\"8 48\"></td><td class=\"\" title=\"9 48\"></td><td class=\"\" title=\"10 48\"></td><td class=\"\" title=\"11 48\"></td><td class=\"\" title=\"12 48\"></td><td class=\"\" title=\"13 48\"></td><td class=\"\" title=\"14 48\"></td><td class=\"\" title=\"15 48\"></td><td class=\"\" title=\"16 48\"></td><td class=\"\" title=\"17 48\"></td></tr>\n",
       "<tr><td class=\"\" title=\"0 49\"></td><td class=\"\" title=\"1 49\"></td><td class=\"\" title=\"2 49\"></td><td class=\"\" title=\"3 49\"></td><td class=\"\" title=\"4 49\"></td><td class=\"\" title=\"5 49\"></td><td class=\"\" title=\"6 49\"></td><td class=\"\" title=\"7 49\"></td><td class=\"\" title=\"8 49\"></td><td class=\"\" title=\"9 49\"></td><td class=\"\" title=\"10 49\"></td><td class=\"\" title=\"11 49\"></td><td class=\"\" title=\"12 49\"></td><td class=\"\" title=\"13 49\"></td><td class=\"\" title=\"14 49\"></td><td class=\"\" title=\"15 49\"></td><td class=\"\" title=\"16 49\"></td><td class=\"\" title=\"17 49\"></td></tr>\n",
       "<tr><td class=\"xc2 xb\" title=\"0 50\">Financial Services</td><td class=\"\" title=\"1 50\"></td><td class=\"\" title=\"2 50\"></td><td class=\"\" title=\"3 50\"></td><td class=\"\" title=\"4 50\"></td><td class=\"\" title=\"5 50\"></td><td class=\"\" title=\"6 50\"></td><td class=\"xb\" title=\"7 50\"></td><td class=\"\" title=\"8 50\"></td><td class=\"\" title=\"9 50\"></td><td class=\"\" title=\"10 50\"></td><td class=\"\" title=\"11 50\"></td><td class=\"\" title=\"12 50\"></td><td class=\"\" title=\"13 50\"></td><td class=\"\" title=\"14 50\"></td><td class=\"\" title=\"15 50\"></td><td class=\"\" title=\"16 50\"></td><td class=\"\" title=\"17 50\"></td></tr>\n",
       "<tr><td class=\"\" title=\"0 51\"></td><td class=\"\" title=\"1 51\"></td><td class=\"xc3\" title=\"2 51\">Financial</td><td class=\"\" title=\"3 51\"></td><td class=\"xc0 xn\" title=\"4 51\">91.03</td><td class=\"xc0 xn\" title=\"5 51\">254.933</td><td class=\"xc0 xn\" title=\"6 51\">180.167</td><td class=\"xc0 xn\" title=\"7 51\">253.928</td><td class=\"\" title=\"8 51\"></td><td class=\"xc0 xn\" title=\"9 51\">10.479</td><td class=\"xc0 xn\" title=\"10 51\">39.262</td><td class=\"xc0 xn\" title=\"11 51\">25.467</td><td class=\"xc0 xn\" title=\"12 51\">21.036</td><td class=\"\" title=\"13 51\"></td><td class=\"xc0 xn\" title=\"14 51\">80.551</td><td class=\"xc0 xn\" title=\"15 51\">215.671</td><td class=\"xc0 xn\" title=\"16 51\">154.7</td><td class=\"xc0 xn\" title=\"17 51\">232.892</td></tr>\n",
       "<tr><td class=\"\" title=\"0 52\"></td><td class=\"\" title=\"1 52\"></td><td class=\"\" title=\"2 52\"></td><td class=\"\" title=\"3 52\"></td><td class=\"\" title=\"4 52\"></td><td class=\"\" title=\"5 52\"></td><td class=\"\" title=\"6 52\"></td><td class=\"\" title=\"7 52\"></td><td class=\"\" title=\"8 52\"></td><td class=\"\" title=\"9 52\"></td><td class=\"\" title=\"10 52\"></td><td class=\"\" title=\"11 52\"></td><td class=\"\" title=\"12 52\"></td><td class=\"\" title=\"13 52\"></td><td class=\"\" title=\"14 52\"></td><td class=\"\" title=\"15 52\"></td><td class=\"\" title=\"16 52\"></td><td class=\"\" title=\"17 52\"></td></tr>\n",
       "<tr><td class=\"\" title=\"0 53\"></td><td class=\"\" title=\"1 53\"></td><td class=\"\" title=\"2 53\"></td><td class=\"\" title=\"3 53\"></td><td class=\"\" title=\"4 53\"></td><td class=\"\" title=\"5 53\"></td><td class=\"\" title=\"6 53\"></td><td class=\"\" title=\"7 53\"></td><td class=\"\" title=\"8 53\"></td><td class=\"\" title=\"9 53\"></td><td class=\"\" title=\"10 53\"></td><td class=\"\" title=\"11 53\"></td><td class=\"\" title=\"12 53\"></td><td class=\"\" title=\"13 53\"></td><td class=\"\" title=\"14 53\"></td><td class=\"\" title=\"15 53\"></td><td class=\"\" title=\"16 53\"></td><td class=\"\" title=\"17 53\"></td></tr>\n",
       "<tr><td class=\"xc2 xb\" title=\"0 54\">Insurance Services</td><td class=\"xb\" title=\"1 54\"></td><td class=\"\" title=\"2 54\"></td><td class=\"\" title=\"3 54\"></td><td class=\"\" title=\"4 54\"></td><td class=\"\" title=\"5 54\"></td><td class=\"\" title=\"6 54\"></td><td class=\"\" title=\"7 54\"></td><td class=\"\" title=\"8 54\"></td><td class=\"\" title=\"9 54\"></td><td class=\"\" title=\"10 54\"></td><td class=\"\" title=\"11 54\"></td><td class=\"\" title=\"12 54\"></td><td class=\"\" title=\"13 54\"></td><td class=\"\" title=\"14 54\"></td><td class=\"\" title=\"15 54\"></td><td class=\"\" title=\"16 54\"></td><td class=\"\" title=\"17 54\"></td></tr>\n",
       "<tr><td class=\"xb\" title=\"0 55\"></td><td class=\"xb\" title=\"1 55\"></td><td class=\"xc3\" title=\"2 55\">Insurance Claims</td><td class=\"\" title=\"3 55\"></td><td class=\"xc0 xn\" title=\"4 55\">3.609</td><td class=\"xc0\" title=\"5 55\">-</td><td class=\"xc0\" title=\"6 55\">-</td><td class=\"xc0 xn\" title=\"7 55\">11.29</td><td class=\"xb\" title=\"8 55\"></td><td class=\"\" title=\"9 55\"></td><td class=\"xb\" title=\"10 55\"></td><td class=\"xb\" title=\"11 55\"></td><td class=\"\" title=\"12 55\"></td><td class=\"xb\" title=\"13 55\"></td><td class=\"xc0 xn\" title=\"14 55\">3.609</td><td class=\"xc0 xb\" title=\"15 55\">-</td><td class=\"xc0\" title=\"16 55\">-</td><td class=\"xc0 xn\" title=\"17 55\">11.29</td></tr>\n",
       "<tr><td class=\"xb\" title=\"0 56\"></td><td class=\"\" title=\"1 56\"></td><td class=\"xc3\" title=\"2 56\">Insurance Premiums</td><td class=\"\" title=\"3 56\"></td><td class=\"\" title=\"4 56\"></td><td class=\"\" title=\"5 56\"></td><td class=\"\" title=\"6 56\"></td><td class=\"\" title=\"7 56\"></td><td class=\"\" title=\"8 56\"></td><td class=\"xc0 xn\" title=\"9 56\">3.227</td><td class=\"xc0 xn\" title=\"10 56\">1.697</td><td class=\"xc0 xn\" title=\"11 56\">3.138</td><td class=\"xc0 xn\" title=\"12 56\">2.708</td><td class=\"\" title=\"13 56\"></td><td class=\"xc0 xn\" title=\"14 56\">-3.227</td><td class=\"xc0 xn\" title=\"15 56\">-1.697</td><td class=\"xc0 xn\" title=\"16 56\">-3.138</td><td class=\"xc0 xn\" title=\"17 56\">-2.708</td></tr>\n",
       "<tr><td class=\"xb\" title=\"0 57\"></td><td class=\"xb\" title=\"1 57\"></td><td class=\"\" title=\"2 57\"></td><td class=\"\" title=\"3 57\"></td><td class=\"\" title=\"4 57\"></td><td class=\"\" title=\"5 57\"></td><td class=\"\" title=\"6 57\"></td><td class=\"\" title=\"7 57\"></td><td class=\"\" title=\"8 57\"></td><td class=\"\" title=\"9 57\"></td><td class=\"\" title=\"10 57\"></td><td class=\"\" title=\"11 57\"></td><td class=\"\" title=\"12 57\"></td><td class=\"\" title=\"13 57\"></td><td class=\"\" title=\"14 57\"></td><td class=\"\" title=\"15 57\"></td><td class=\"\" title=\"16 57\"></td><td class=\"\" title=\"17 57\"></td></tr>\n",
       "<tr><td class=\"xb\" title=\"0 58\"></td><td class=\"xb\" title=\"1 58\"></td><td class=\"\" title=\"2 58\"></td><td class=\"\" title=\"3 58\"></td><td class=\"\" title=\"4 58\"></td><td class=\"\" title=\"5 58\"></td><td class=\"\" title=\"6 58\"></td><td class=\"\" title=\"7 58\"></td><td class=\"\" title=\"8 58\"></td><td class=\"\" title=\"9 58\"></td><td class=\"\" title=\"10 58\"></td><td class=\"\" title=\"11 58\"></td><td class=\"\" title=\"12 58\"></td><td class=\"\" title=\"13 58\"></td><td class=\"\" title=\"14 58\"></td><td class=\"\" title=\"15 58\"></td><td class=\"\" title=\"16 58\"></td><td class=\"\" title=\"17 58\"></td></tr>\n",
       "<tr><td class=\"xc2 xb\" title=\"0 59\">Merchanting and Other Trade related Services</td><td class=\"\" title=\"1 59\"></td><td class=\"\" title=\"2 59\"></td><td class=\"\" title=\"3 59\"></td><td class=\"\" title=\"4 59\"></td><td class=\"\" title=\"5 59\"></td><td class=\"\" title=\"6 59\"></td><td class=\"\" title=\"7 59\"></td><td class=\"\" title=\"8 59\"></td><td class=\"\" title=\"9 59\"></td><td class=\"\" title=\"10 59\"></td><td class=\"\" title=\"11 59\"></td><td class=\"\" title=\"12 59\"></td><td class=\"\" title=\"13 59\"></td><td class=\"\" title=\"14 59\"></td><td class=\"\" title=\"15 59\"></td><td class=\"\" title=\"16 59\"></td><td class=\"\" title=\"17 59\"></td></tr>\n",
       "<tr><td class=\"\" title=\"0 60\"></td><td class=\"\" title=\"1 60\"></td><td class=\"xc3\" title=\"2 60\">Merchanting</td><td class=\"\" title=\"3 60\"></td><td class=\"xc0 xn\" title=\"4 60\">0.929</td><td class=\"xc0\" title=\"5 60\">..</td><td class=\"xc0 xn\" title=\"6 60\">36.072</td><td class=\"xc0 xn\" title=\"7 60\">69.253</td><td class=\"\" title=\"8 60\"></td><td class=\"xc0\" title=\"9 60\">-</td><td class=\"xc0\" title=\"10 60\">..</td><td class=\"xc0 xn\" title=\"11 60\">3.738</td><td class=\"xc0 xn\" title=\"12 60\">4.261</td><td class=\"\" title=\"13 60\"></td><td class=\"xc0 xn\" title=\"14 60\">0.8570000000000001</td><td class=\"xc0 xn\" title=\"15 60\">-0.845</td><td class=\"xc0 xn\" title=\"16 60\">32.334</td><td class=\"xc0 xn\" title=\"17 60\">64.992</td></tr>\n",
       "<tr><td class=\"\" title=\"0 61\"></td><td class=\"\" title=\"1 61\"></td><td class=\"xc3\" title=\"2 61\">Other trade - related services</td><td class=\"\" title=\"3 61\"></td><td class=\"xc0 xn\" title=\"4 61\">72.652</td><td class=\"xc0\" title=\"5 61\">..</td><td class=\"xc0 xn\" title=\"6 61\">128.482</td><td class=\"xc0 xn\" title=\"7 61\">105.152</td><td class=\"\" title=\"8 61\"></td><td class=\"xc0 xn\" title=\"9 61\">58.432</td><td class=\"xc0\" title=\"10 61\">..</td><td class=\"xc0 xn\" title=\"11 61\">66.505</td><td class=\"xc0 xn\" title=\"12 61\">67.549</td><td class=\"\" title=\"13 61\"></td><td class=\"xc0 xn\" title=\"14 61\">14.22</td><td class=\"xc0 xn\" title=\"15 61\">70.439</td><td class=\"xc0 xn\" title=\"16 61\">61.977000000000004</td><td class=\"xc0 xn\" title=\"17 61\">37.602999999999994</td></tr>\n",
       "<tr><td class=\"xb\" title=\"0 62\"></td><td class=\"xb\" title=\"1 62\">Total Merchanting and Other Trade related Services</td><td class=\"xb\" title=\"2 62\"></td><td class=\"xb\" title=\"3 62\"></td><td class=\"xc0 xb xn\" title=\"4 62\">73.581</td><td class=\"xc0 xb xn\" title=\"5 62\">133.13899999999998</td><td class=\"xc0 xb xn\" title=\"6 62\">164.554</td><td class=\"xc0 xb xn\" title=\"7 62\">174.405</td><td class=\"xb\" title=\"8 62\"></td><td class=\"xc0 xb xn\" title=\"9 62\">58.504000000000005</td><td class=\"xc0 xb xn\" title=\"10 62\">63.545</td><td class=\"xc0 xb xn\" title=\"11 62\">70.243</td><td class=\"xc0 xb xn\" title=\"12 62\">71.81</td><td class=\"xb\" title=\"13 62\"></td><td class=\"xc0 xb xn\" title=\"14 62\">15.076999999999998</td><td class=\"xc0 xb xn\" title=\"15 62\">69.594</td><td class=\"xc0 xb xn\" title=\"16 62\">94.311</td><td class=\"xc0 xb xn\" title=\"17 62\">102.595</td></tr>\n",
       "<tr><td class=\"\" title=\"0 63\"></td><td class=\"\" title=\"1 63\"></td><td class=\"\" title=\"2 63\"></td><td class=\"\" title=\"3 63\"></td><td class=\"\" title=\"4 63\"></td><td class=\"\" title=\"5 63\"></td><td class=\"\" title=\"6 63\"></td><td class=\"\" title=\"7 63\"></td><td class=\"\" title=\"8 63\"></td><td class=\"\" title=\"9 63\"></td><td class=\"\" title=\"10 63\"></td><td class=\"\" title=\"11 63\"></td><td class=\"\" title=\"12 63\"></td><td class=\"\" title=\"13 63\"></td><td class=\"\" title=\"14 63\"></td><td class=\"\" title=\"15 63\"></td><td class=\"\" title=\"16 63\"></td><td class=\"\" title=\"17 63\"></td></tr>\n",
       "<tr><td class=\"\" title=\"0 64\"></td><td class=\"\" title=\"1 64\"></td><td class=\"\" title=\"2 64\"></td><td class=\"\" title=\"3 64\"></td><td class=\"\" title=\"4 64\"></td><td class=\"\" title=\"5 64\"></td><td class=\"\" title=\"6 64\"></td><td class=\"\" title=\"7 64\"></td><td class=\"\" title=\"8 64\"></td><td class=\"\" title=\"9 64\"></td><td class=\"\" title=\"10 64\"></td><td class=\"\" title=\"11 64\"></td><td class=\"\" title=\"12 64\"></td><td class=\"\" title=\"13 64\"></td><td class=\"\" title=\"14 64\"></td><td class=\"\" title=\"15 64\"></td><td class=\"\" title=\"16 64\"></td><td class=\"\" title=\"17 64\"></td></tr>\n",
       "<tr><td class=\"xc2 xb\" title=\"0 65\">Personal, Cultural and Recreational  Services</td><td class=\"\" title=\"1 65\"></td><td class=\"\" title=\"2 65\"></td><td class=\"\" title=\"3 65\"></td><td class=\"\" title=\"4 65\"></td><td class=\"\" title=\"5 65\"></td><td class=\"\" title=\"6 65\"></td><td class=\"\" title=\"7 65\"></td><td class=\"\" title=\"8 65\"></td><td class=\"\" title=\"9 65\"></td><td class=\"\" title=\"10 65\"></td><td class=\"\" title=\"11 65\"></td><td class=\"\" title=\"12 65\"></td><td class=\"\" title=\"13 65\"></td><td class=\"\" title=\"14 65\"></td><td class=\"\" title=\"15 65\"></td><td class=\"\" title=\"16 65\"></td><td class=\"\" title=\"17 65\"></td></tr>\n",
       "<tr><td class=\"\" title=\"0 66\"></td><td class=\"\" title=\"1 66\"></td><td class=\"xc3\" title=\"2 66\">Audio- Visual and related services </td><td class=\"\" title=\"3 66\"></td><td class=\"xc0 xn\" title=\"4 66\">1001.086</td><td class=\"xc0 xn\" title=\"5 66\">1100.962</td><td class=\"xc0 xn\" title=\"6 66\">1065.593</td><td class=\"xc0 xn\" title=\"7 66\">1081.797</td><td class=\"\" title=\"8 66\"></td><td class=\"xc0 xn\" title=\"9 66\">300.848</td><td class=\"xc0 xn\" title=\"10 66\">343.076</td><td class=\"xc0 xn\" title=\"11 66\">324.464</td><td class=\"xc0 xn\" title=\"12 66\">386.816</td><td class=\"\" title=\"13 66\"></td><td class=\"xc0 xn\" title=\"14 66\">700.238</td><td class=\"xc0 xn\" title=\"15 66\">757.886</td><td class=\"xc0 xn\" title=\"16 66\">741.1290000000001</td><td class=\"xc0 xn\" title=\"17 66\">694.981</td></tr>\n",
       "<tr><td class=\"\" title=\"0 67\"></td><td class=\"\" title=\"1 67\"></td><td class=\"xc3\" title=\"2 67\">Health Services</td><td class=\"\" title=\"3 67\"></td><td class=\"xc0\" title=\"4 67\">-</td><td class=\"xc0\" title=\"5 67\">-</td><td class=\"xc0\" title=\"6 67\">..</td><td class=\"xc0\" title=\"7 67\">..</td><td class=\"\" title=\"8 67\"></td><td class=\"xc0\" title=\"9 67\">-</td><td class=\"xc0\" title=\"10 67\">-</td><td class=\"xc0\" title=\"11 67\">..</td><td class=\"xc0\" title=\"12 67\">..</td><td class=\"\" title=\"13 67\"></td><td class=\"xc0\" title=\"14 67\">-</td><td class=\"xc0\" title=\"15 67\">-</td><td class=\"xc0\" title=\"16 67\">..</td><td class=\"xc0\" title=\"17 67\">-</td></tr>\n",
       "<tr><td class=\"\" title=\"0 68\"></td><td class=\"\" title=\"1 68\"></td><td class=\"xc3\" title=\"2 68\">Training and educational services</td><td class=\"\" title=\"3 68\"></td><td class=\"xc0 xn\" title=\"4 68\">31.611</td><td class=\"xc0 xn\" title=\"5 68\">22.825</td><td class=\"xc0 xn\" title=\"6 68\">51.88</td><td class=\"xc0 xn\" title=\"7 68\">74.0</td><td class=\"\" title=\"8 68\"></td><td class=\"xc0 xn\" title=\"9 68\">2.301</td><td class=\"xc0 xn\" title=\"10 68\">3.295</td><td class=\"xc0 xn\" title=\"11 68\">13.529</td><td class=\"xc0 xn\" title=\"12 68\">9.301</td><td class=\"\" title=\"13 68\"></td><td class=\"xc0 xn\" title=\"14 68\">29.31</td><td class=\"xc0 xn\" title=\"15 68\">19.53</td><td class=\"xc0 xn\" title=\"16 68\">38.351</td><td class=\"xc0 xn\" title=\"17 68\">65.154</td></tr>\n",
       "<tr><td class=\"\" title=\"0 69\"></td><td class=\"\" title=\"1 69\"></td><td class=\"xc3\" title=\"2 69\">Other personal, cultural and recreational services</td><td class=\"\" title=\"3 69\"></td><td class=\"xc0 xn\" title=\"4 69\">42.607</td><td class=\"xc0 xn\" title=\"5 69\">23.05</td><td class=\"xc0\" title=\"6 69\">..</td><td class=\"xc0\" title=\"7 69\">..</td><td class=\"\" title=\"8 69\"></td><td class=\"xc0 xn\" title=\"9 69\">14.426</td><td class=\"xc0 xn\" title=\"10 69\">1.97</td><td class=\"xc0\" title=\"11 69\">..</td><td class=\"xc0\" title=\"12 69\">..</td><td class=\"\" title=\"13 69\"></td><td class=\"xc0 xn\" title=\"14 69\">28.180999999999997</td><td class=\"xc0 xn\" title=\"15 69\">21.08</td><td class=\"xc0\" title=\"16 69\">..</td><td class=\"xc0 xn\" title=\"17 69\">177.555</td></tr>\n",
       "<tr><td class=\"xb\" title=\"0 70\"></td><td class=\"xb\" title=\"1 70\">Total Personal, Cultural and Recreational Services</td><td class=\"xb\" title=\"2 70\"></td><td class=\"xb\" title=\"3 70\"></td><td class=\"xc0 xb xn\" title=\"4 70\">1075.724</td><td class=\"xc0 xb xn\" title=\"5 70\">1146.85</td><td class=\"xc0 xb xn\" title=\"6 70\">1124.5770000000002</td><td class=\"xc0 xb xn\" title=\"7 70\">1335.136</td><td class=\"xb\" title=\"8 70\"></td><td class=\"xc0 xb xn\" title=\"9 70\">317.875</td><td class=\"xc0 xb xn\" title=\"10 70\">348.41400000000004</td><td class=\"xc0 xb xn\" title=\"11 70\">339.014</td><td class=\"xc0 xb xn\" title=\"12 70\">397.00999999999993</td><td class=\"xb\" title=\"13 70\"></td><td class=\"xc0 xb xn\" title=\"14 70\">757.8490000000002</td><td class=\"xc0 xb xn\" title=\"15 70\">798.436</td><td class=\"xc0 xb xn\" title=\"16 70\">785.5630000000001</td><td class=\"xc0 xb xn\" title=\"17 70\">938.126</td></tr>\n",
       "<tr><td class=\"\" title=\"0 71\"></td><td class=\"\" title=\"1 71\"></td><td class=\"\" title=\"2 71\"></td><td class=\"\" title=\"3 71\"></td><td class=\"\" title=\"4 71\"></td><td class=\"\" title=\"5 71\"></td><td class=\"\" title=\"6 71\"></td><td class=\"\" title=\"7 71\"></td><td class=\"\" title=\"8 71\"></td><td class=\"\" title=\"9 71\"></td><td class=\"\" title=\"10 71\"></td><td class=\"\" title=\"11 71\"></td><td class=\"\" title=\"12 71\"></td><td class=\"\" title=\"13 71\"></td><td class=\"\" title=\"14 71\"></td><td class=\"\" title=\"15 71\"></td><td class=\"\" title=\"16 71\"></td><td class=\"\" title=\"17 71\"></td></tr>\n",
       "<tr><td class=\"xb\" title=\"0 72\"></td><td class=\"\" title=\"1 72\"></td><td class=\"\" title=\"2 72\"></td><td class=\"xb\" title=\"3 72\"></td><td class=\"\" title=\"4 72\"></td><td class=\"\" title=\"5 72\"></td><td class=\"\" title=\"6 72\"></td><td class=\"\" title=\"7 72\"></td><td class=\"xb\" title=\"8 72\"></td><td class=\"\" title=\"9 72\"></td><td class=\"\" title=\"10 72\"></td><td class=\"\" title=\"11 72\"></td><td class=\"\" title=\"12 72\"></td><td class=\"\" title=\"13 72\"></td><td class=\"\" title=\"14 72\"></td><td class=\"\" title=\"15 72\"></td><td class=\"\" title=\"16 72\"></td><td class=\"\" title=\"17 72\"></td></tr>\n",
       "<tr><td class=\"xc2 xb\" title=\"0 73\">Royalties and Licenses</td><td class=\"\" title=\"1 73\"></td><td class=\"\" title=\"2 73\"></td><td class=\"\" title=\"3 73\"></td><td class=\"\" title=\"4 73\"></td><td class=\"\" title=\"5 73\"></td><td class=\"\" title=\"6 73\"></td><td class=\"\" title=\"7 73\"></td><td class=\"\" title=\"8 73\"></td><td class=\"\" title=\"9 73\"></td><td class=\"\" title=\"10 73\"></td><td class=\"\" title=\"11 73\"></td><td class=\"\" title=\"12 73\"></td><td class=\"\" title=\"13 73\"></td><td class=\"\" title=\"14 73\"></td><td class=\"\" title=\"15 73\"></td><td class=\"\" title=\"16 73\"></td><td class=\"\" title=\"17 73\"></td></tr>\n",
       "<tr><td class=\"xb\" title=\"0 74\"></td><td class=\"\" title=\"1 74\"></td><td class=\"xc3\" title=\"2 74\">Use of franchise and similar rights fees</td><td class=\"\" title=\"3 74\"></td><td class=\"xc0 xn\" title=\"4 74\">1389.377</td><td class=\"xc0 xn\" title=\"5 74\">1241.03</td><td class=\"xc0 xn\" title=\"6 74\">962.88</td><td class=\"xc0 xn\" title=\"7 74\">1190.822</td><td class=\"\" title=\"8 74\"></td><td class=\"xc0 xn\" title=\"9 74\">996.953</td><td class=\"xc0 xn\" title=\"10 74\">1065.06</td><td class=\"xc0 xn\" title=\"11 74\">888.242</td><td class=\"xc0 xn\" title=\"12 74\">1007.696</td><td class=\"\" title=\"13 74\"></td><td class=\"xc0 xn\" title=\"14 74\">392.424</td><td class=\"xc0 xn\" title=\"15 74\">175.97</td><td class=\"xc0 xn\" title=\"16 74\">74.63800000000003</td><td class=\"xc0 xn\" title=\"17 74\">183.12599999999986</td></tr>\n",
       "<tr><td class=\"xb\" title=\"0 75\"></td><td class=\"\" title=\"1 75\"></td><td class=\"xc3\" title=\"2 75\">Other royalties and license fees</td><td class=\"\" title=\"3 75\"></td><td class=\"xc0 xn\" title=\"4 75\">2376.141</td><td class=\"xc0 xn\" title=\"5 75\">3013.169</td><td class=\"xc0 xn\" title=\"6 75\">2451.334</td><td class=\"xc0 xn\" title=\"7 75\">2003.274</td><td class=\"\" title=\"8 75\"></td><td class=\"xc0 xn\" title=\"9 75\">1141.739</td><td class=\"xc0 xn\" title=\"10 75\">1141.096</td><td class=\"xc0 xn\" title=\"11 75\">1430.561</td><td class=\"xc0 xn\" title=\"12 75\">1194.942</td><td class=\"\" title=\"13 75\"></td><td class=\"xc0 xn\" title=\"14 75\">1234.402</td><td class=\"xc0 xn\" title=\"15 75\">1872.0729999999999</td><td class=\"xc0 xn\" title=\"16 75\">1020.7729999999999</td><td class=\"xc0 xn\" title=\"17 75\">808.3319999999999</td></tr>\n",
       "<tr><td class=\"xb\" title=\"0 76\"></td><td class=\"\" title=\"1 76\"></td><td class=\"xc3\" title=\"2 76\">Purchases and sales of franchises and similar rights</td><td class=\"\" title=\"3 76\"></td><td class=\"xc0 xn\" title=\"4 76\">411.45</td><td class=\"xc0 xn\" title=\"5 76\">257.177</td><td class=\"xc0 xn\" title=\"6 76\">23.353</td><td class=\"xc0\" title=\"7 76\">..</td><td class=\"\" title=\"8 76\"></td><td class=\"xc0 xn\" title=\"9 76\">37.845</td><td class=\"xc0 xn\" title=\"10 76\">47.494</td><td class=\"xc0 xn\" title=\"11 76\">53.243</td><td class=\"xc0\" title=\"12 76\">..</td><td class=\"\" title=\"13 76\"></td><td class=\"xc0 xn\" title=\"14 76\">373.605</td><td class=\"xc0 xn\" title=\"15 76\">209.68300000000002</td><td class=\"xc0 xn\" title=\"16 76\">-29.89</td><td class=\"xc0 xn\" title=\"17 76\">28.016</td></tr>\n",
       "<tr><td class=\"\" title=\"0 77\"></td><td class=\"\" title=\"1 77\"></td><td class=\"xc3\" title=\"2 77\">Purchases and sales of other royalties and licenses</td><td class=\"\" title=\"3 77\"></td><td class=\"xc0 xn\" title=\"4 77\">363.551</td><td class=\"xc0 xn\" title=\"5 77\">400.685</td><td class=\"xc0 xn\" title=\"6 77\">527.402</td><td class=\"xc0\" title=\"7 77\">..</td><td class=\"\" title=\"8 77\"></td><td class=\"xc0 xn\" title=\"9 77\">308.935</td><td class=\"xc0 xn\" title=\"10 77\">420.003</td><td class=\"xc0 xn\" title=\"11 77\">438.365</td><td class=\"xc0\" title=\"12 77\">..</td><td class=\"\" title=\"13 77\"></td><td class=\"xc0 xn\" title=\"14 77\">54.615999999999985</td><td class=\"xc0 xn\" title=\"15 77\">-19.317999999999984</td><td class=\"xc0 xn\" title=\"16 77\">89.03700000000003</td><td class=\"xc0 xn\" title=\"17 77\">43.307000000000016</td></tr>\n",
       "<tr><td class=\"xb\" title=\"0 78\"></td><td class=\"xb\" title=\"1 78\">Total Royalties and Licenses</td><td class=\"xb\" title=\"2 78\"></td><td class=\"xb\" title=\"3 78\"></td><td class=\"xc0 xb xn\" title=\"4 78\">4540.519</td><td class=\"xc0 xb xn\" title=\"5 78\">4912.061</td><td class=\"xc0 xb xn\" title=\"6 78\">3964.969</td><td class=\"xc0 xb xn\" title=\"7 78\">3743.8599999999997</td><td class=\"xb\" title=\"8 78\"></td><td class=\"xc0 xb xn\" title=\"9 78\">2485.4719999999998</td><td class=\"xc0 xb xn\" title=\"10 78\">2673.6530000000002</td><td class=\"xc0 xb xn\" title=\"11 78\">2810.411</td><td class=\"xc0 xb xn\" title=\"12 78\">2681.079</td><td class=\"xb\" title=\"13 78\"></td><td class=\"xc0 xb xn\" title=\"14 78\">2055.047</td><td class=\"xc0 xb xn\" title=\"15 78\">2238.4079999999994</td><td class=\"xc0 xb xn\" title=\"16 78\">1154.558</td><td class=\"xc0 xb xn\" title=\"17 78\">1062.7809999999997</td></tr>\n",
       "<tr><td class=\"\" title=\"0 79\"></td><td class=\"\" title=\"1 79\"></td><td class=\"\" title=\"2 79\"></td><td class=\"\" title=\"3 79\"></td><td class=\"\" title=\"4 79\"></td><td class=\"\" title=\"5 79\"></td><td class=\"\" title=\"6 79\"></td><td class=\"\" title=\"7 79\"></td><td class=\"\" title=\"8 79\"></td><td class=\"\" title=\"9 79\"></td><td class=\"\" title=\"10 79\"></td><td class=\"\" title=\"11 79\"></td><td class=\"\" title=\"12 79\"></td><td class=\"\" title=\"13 79\"></td><td class=\"\" title=\"14 79\"></td><td class=\"\" title=\"15 79\"></td><td class=\"\" title=\"16 79\"></td><td class=\"\" title=\"17 79\"></td></tr>\n",
       "<tr><td class=\"\" title=\"0 80\"></td><td class=\"\" title=\"1 80\"></td><td class=\"\" title=\"2 80\"></td><td class=\"\" title=\"3 80\"></td><td class=\"\" title=\"4 80\"></td><td class=\"\" title=\"5 80\"></td><td class=\"\" title=\"6 80\"></td><td class=\"\" title=\"7 80\"></td><td class=\"\" title=\"8 80\"></td><td class=\"\" title=\"9 80\"></td><td class=\"\" title=\"10 80\"></td><td class=\"\" title=\"11 80\"></td><td class=\"\" title=\"12 80\"></td><td class=\"\" title=\"13 80\"></td><td class=\"\" title=\"14 80\"></td><td class=\"\" title=\"15 80\"></td><td class=\"\" title=\"16 80\"></td><td class=\"\" title=\"17 80\"></td></tr>\n",
       "<tr><td class=\"xc2 xb\" title=\"0 81\">Technical services</td><td class=\"\" title=\"1 81\"></td><td class=\"\" title=\"2 81\"></td><td class=\"\" title=\"3 81\"></td><td class=\"\" title=\"4 81\"></td><td class=\"xb\" title=\"5 81\"></td><td class=\"xb\" title=\"6 81\"></td><td class=\"\" title=\"7 81\"></td><td class=\"xb\" title=\"8 81\"></td><td class=\"\" title=\"9 81\"></td><td class=\"xb\" title=\"10 81\"></td><td class=\"xb\" title=\"11 81\"></td><td class=\"\" title=\"12 81\"></td><td class=\"xb\" title=\"13 81\"></td><td class=\"\" title=\"14 81\"></td><td class=\"xb\" title=\"15 81\"></td><td class=\"xb\" title=\"16 81\"></td><td class=\"\" title=\"17 81\"></td></tr>\n",
       "<tr><td class=\"xb\" title=\"0 82\"></td><td class=\"\" title=\"1 82\"></td><td class=\"xc3\" title=\"2 82\">Architectural</td><td class=\"\" title=\"3 82\"></td><td class=\"xc0\" title=\"4 82\">..</td><td class=\"xc0\" title=\"5 82\">-</td><td class=\"xc0\" title=\"6 82\">..</td><td class=\"xc0\" title=\"7 82\">-</td><td class=\"\" title=\"8 82\"></td><td class=\"xc0\" title=\"9 82\">..</td><td class=\"xc0\" title=\"10 82\">-</td><td class=\"xc0\" title=\"11 82\">..</td><td class=\"xc0\" title=\"12 82\">-</td><td class=\"\" title=\"13 82\"></td><td class=\"xc0\" title=\"14 82\">..</td><td class=\"xc0\" title=\"15 82\">-</td><td class=\"xc0\" title=\"16 82\">..</td><td class=\"xc0\" title=\"17 82\">-</td></tr>\n",
       "<tr><td class=\"xb\" title=\"0 83\"></td><td class=\"\" title=\"1 83\"></td><td class=\"xc3\" title=\"2 83\">Engineering</td><td class=\"\" title=\"3 83\"></td><td class=\"xc0 xn\" title=\"4 83\">44.541</td><td class=\"xc0 xn\" title=\"5 83\">21.382</td><td class=\"xc0 xn\" title=\"6 83\">13.55</td><td class=\"xc0 xn\" title=\"7 83\">36.231</td><td class=\"\" title=\"8 83\"></td><td class=\"xc0 xn\" title=\"9 83\">4.913</td><td class=\"xc0 xn\" title=\"10 83\">2.179</td><td class=\"xc0 xn\" title=\"11 83\">1.628</td><td class=\"xc0 xn\" title=\"12 83\">2.879</td><td class=\"\" title=\"13 83\"></td><td class=\"xc0 xn\" title=\"14 83\">39.635</td><td class=\"xc0 xn\" title=\"15 83\">19.203000000000003</td><td class=\"xc0 xn\" title=\"16 83\">11.922</td><td class=\"xc0 xn\" title=\"17 83\">33.352000000000004</td></tr>\n",
       "<tr><td class=\"\" title=\"0 84\"></td><td class=\"\" title=\"1 84\"></td><td class=\"xc3\" title=\"2 84\">Surveying</td><td class=\"\" title=\"3 84\"></td><td class=\"xc0\" title=\"4 84\">-</td><td class=\"xc0\" title=\"5 84\">..</td><td class=\"xc0\" title=\"6 84\">..</td><td class=\"xc0\" title=\"7 84\">..</td><td class=\"\" title=\"8 84\"></td><td class=\"xc0\" title=\"9 84\">-</td><td class=\"xc0\" title=\"10 84\">..</td><td class=\"xc0\" title=\"11 84\">..</td><td class=\"xc0\" title=\"12 84\">..</td><td class=\"\" title=\"13 84\"></td><td class=\"xc0\" title=\"14 84\">-</td><td class=\"xc0\" title=\"15 84\">..</td><td class=\"xc0\" title=\"16 84\">..</td><td class=\"xc0\" title=\"17 84\">..</td></tr>\n",
       "<tr><td class=\"\" title=\"0 85\"></td><td class=\"\" title=\"1 85\"></td><td class=\"xc3\" title=\"2 85\">Other technical services</td><td class=\"\" title=\"3 85\"></td><td class=\"xc0\" title=\"4 85\">..</td><td class=\"xc0\" title=\"5 85\">..</td><td class=\"xc0\" title=\"6 85\">..</td><td class=\"xc0\" title=\"7 85\">..</td><td class=\"\" title=\"8 85\"></td><td class=\"xc0\" title=\"9 85\">..</td><td class=\"xc0\" title=\"10 85\">..</td><td class=\"xc0\" title=\"11 85\">..</td><td class=\"xc0\" title=\"12 85\">..</td><td class=\"\" title=\"13 85\"></td><td class=\"xc0\" title=\"14 85\">..</td><td class=\"xc0\" title=\"15 85\">..</td><td class=\"xc0\" title=\"16 85\">..</td><td class=\"xc0\" title=\"17 85\">..</td></tr>\n",
       "<tr><td class=\"xb\" title=\"0 86\"></td><td class=\"xb\" title=\"1 86\">Total Technical Services</td><td class=\"xb\" title=\"2 86\"></td><td class=\"xb\" title=\"3 86\"></td><td class=\"xc0 xb xn\" title=\"4 86\">268.34799999999996</td><td class=\"xc0 xb\" title=\"5 86\">..</td><td class=\"xc0 xb xn\" title=\"6 86\">112.09599999999999</td><td class=\"xc0 xb xn\" title=\"7 86\">205.543</td><td class=\"xb\" title=\"8 86\"></td><td class=\"xc0 xb xn\" title=\"9 86\">41.574</td><td class=\"xc0 xb\" title=\"10 86\">..</td><td class=\"xc0 xb xn\" title=\"11 86\">110.241</td><td class=\"xc0 xb xn\" title=\"12 86\">97.086</td><td class=\"xb\" title=\"13 86\"></td><td class=\"xc0 xb xn\" title=\"14 86\">226.82899999999998</td><td class=\"xc0 xb\" title=\"15 86\">..</td><td class=\"xc0 xb xn\" title=\"16 86\">1.8550000000000004</td><td class=\"xc0 xb xn\" title=\"17 86\">108.45700000000002</td></tr>\n",
       "<tr><td class=\"\" title=\"0 87\"></td><td class=\"\" title=\"1 87\"></td><td class=\"\" title=\"2 87\"></td><td class=\"\" title=\"3 87\"></td><td class=\"\" title=\"4 87\"></td><td class=\"\" title=\"5 87\"></td><td class=\"\" title=\"6 87\"></td><td class=\"\" title=\"7 87\"></td><td class=\"xb\" title=\"8 87\"></td><td class=\"\" title=\"9 87\"></td><td class=\"\" title=\"10 87\"></td><td class=\"\" title=\"11 87\"></td><td class=\"\" title=\"12 87\"></td><td class=\"\" title=\"13 87\"></td><td class=\"\" title=\"14 87\"></td><td class=\"\" title=\"15 87\"></td><td class=\"\" title=\"16 87\"></td><td class=\"\" title=\"17 87\"></td></tr>\n",
       "<tr><td class=\"xc2 xb\" title=\"0 88\">Other Trade  in Services</td><td class=\"\" title=\"1 88\"></td><td class=\"\" title=\"2 88\"></td><td class=\"\" title=\"3 88\"></td><td class=\"\" title=\"4 88\"></td><td class=\"\" title=\"5 88\"></td><td class=\"\" title=\"6 88\"></td><td class=\"\" title=\"7 88\"></td><td class=\"\" title=\"8 88\"></td><td class=\"\" title=\"9 88\"></td><td class=\"\" title=\"10 88\"></td><td class=\"\" title=\"11 88\"></td><td class=\"\" title=\"12 88\"></td><td class=\"\" title=\"13 88\"></td><td class=\"\" title=\"14 88\"></td><td class=\"\" title=\"15 88\"></td><td class=\"\" title=\"16 88\"></td><td class=\"\" title=\"17 88\"></td></tr>\n",
       "<tr><td class=\"xb\" title=\"0 89\"></td><td class=\"\" title=\"1 89\"></td><td class=\"xc3\" title=\"2 89\">Other trade in services</td><td class=\"\" title=\"3 89\"></td><td class=\"xc0 xn\" title=\"4 89\">269.3</td><td class=\"xc0 xn\" title=\"5 89\">195.033</td><td class=\"xc0 xn\" title=\"6 89\">265.696</td><td class=\"xc0 xn\" title=\"7 89\">313.969</td><td class=\"\" title=\"8 89\"></td><td class=\"xc0 xn\" title=\"9 89\">187.838</td><td class=\"xc0 xn\" title=\"10 89\">92.141</td><td class=\"xc0 xn\" title=\"11 89\">134.945</td><td class=\"xc0 xn\" title=\"12 89\">133.846</td><td class=\"\" title=\"13 89\"></td><td class=\"xc0 xn\" title=\"14 89\">81.46200000000002</td><td class=\"xc0 xn\" title=\"15 89\">102.89199999999998</td><td class=\"xc0 xn\" title=\"16 89\">130.75100000000003</td><td class=\"xc0 xn\" title=\"17 89\">180.123</td></tr>\n",
       "<tr><td class=\"xb\" title=\"0 90\"></td><td class=\"\" title=\"1 90\"></td><td class=\"\" title=\"2 90\"></td><td class=\"\" title=\"3 90\"></td><td class=\"\" title=\"4 90\"></td><td class=\"xb\" title=\"5 90\"></td><td class=\"xb\" title=\"6 90\"></td><td class=\"xb\" title=\"7 90\"></td><td class=\"xb\" title=\"8 90\"></td><td class=\"\" title=\"9 90\"></td><td class=\"xb\" title=\"10 90\"></td><td class=\"xb\" title=\"11 90\"></td><td class=\"xb\" title=\"12 90\"></td><td class=\"xb\" title=\"13 90\"></td><td class=\"\" title=\"14 90\"></td><td class=\"xb\" title=\"15 90\"></td><td class=\"xb\" title=\"16 90\"></td><td class=\"\" title=\"17 90\"></td></tr>\n",
       "<tr><td class=\"xb\" title=\"0 91\"></td><td class=\"\" title=\"1 91\"></td><td class=\"\" title=\"2 91\"></td><td class=\"\" title=\"3 91\"></td><td class=\"\" title=\"4 91\"></td><td class=\"xb\" title=\"5 91\"></td><td class=\"xb\" title=\"6 91\"></td><td class=\"xb\" title=\"7 91\"></td><td class=\"\" title=\"8 91\"></td><td class=\"\" title=\"9 91\"></td><td class=\"xb\" title=\"10 91\"></td><td class=\"xb\" title=\"11 91\"></td><td class=\"xb\" title=\"12 91\"></td><td class=\"\" title=\"13 91\"></td><td class=\"\" title=\"14 91\"></td><td class=\"\" title=\"15 91\"></td><td class=\"xb\" title=\"16 91\"></td><td class=\"\" title=\"17 91\"></td></tr>\n",
       "<tr><td class=\"xc2 xb\" title=\"0 92\">Total International Trade in Services</td><td class=\"\" title=\"1 92\"></td><td class=\"\" title=\"2 92\"></td><td class=\"\" title=\"3 92\"></td><td class=\"xc0 xb xn\" title=\"4 92\">19448.321000000004</td><td class=\"xc0 xb xn\" title=\"5 92\">21204.331000000002</td><td class=\"xc0 xb xn\" title=\"6 92\">21799.134000000002</td><td class=\"xc0 xb xn\" title=\"7 92\">24219.549000000003</td><td class=\"xb\" title=\"8 92\"></td><td class=\"xc0 xb xn\" title=\"9 92\">10967.782</td><td class=\"xc0 xb xn\" title=\"10 92\">12517.127</td><td class=\"xc0 xb xn\" title=\"11 92\">12291.672</td><td class=\"xc0 xb xn\" title=\"12 92\">13276.441000000003</td><td class=\"xb\" title=\"13 92\"></td><td class=\"xc0 xb xn\" title=\"14 92\">8480.539</td><td class=\"xc0 xb xn\" title=\"15 92\">8687.204</td><td class=\"xc0 xb xn\" title=\"16 92\">9507.462</td><td class=\"xc0 xb xn\" title=\"17 92\">10943.107999999998</td></tr>\n",
       "<tr><td class=\"xb\" title=\"0 93\"></td><td class=\"\" title=\"1 93\"></td><td class=\"\" title=\"2 93\"></td><td class=\"\" title=\"3 93\"></td><td class=\"\" title=\"4 93\"></td><td class=\"xb\" title=\"5 93\"></td><td class=\"xb\" title=\"6 93\"></td><td class=\"xb\" title=\"7 93\"></td><td class=\"\" title=\"8 93\"></td><td class=\"\" title=\"9 93\"></td><td class=\"xb\" title=\"10 93\"></td><td class=\"xb\" title=\"11 93\"></td><td class=\"xb\" title=\"12 93\"></td><td class=\"\" title=\"13 93\"></td><td class=\"\" title=\"14 93\"></td><td class=\"\" title=\"15 93\"></td><td class=\"xb\" title=\"16 93\"></td><td class=\"\" title=\"17 93\"></td></tr>\n",
       "<tr><td class=\"xb\" title=\"0 94\"></td><td class=\"xb\" title=\"1 94\"></td><td class=\"xb\" title=\"2 94\"></td><td class=\"\" title=\"3 94\"></td><td class=\"\" title=\"4 94\"></td><td class=\"xb\" title=\"5 94\"></td><td class=\"xb\" title=\"6 94\"></td><td class=\"xb\" title=\"7 94\"></td><td class=\"xb\" title=\"8 94\"></td><td class=\"xb\" title=\"9 94\"></td><td class=\"xb\" title=\"10 94\"></td><td class=\"xb\" title=\"11 94\"></td><td class=\"xb\" title=\"12 94\"></td><td class=\"xb\" title=\"13 94\"></td><td class=\"xb\" title=\"14 94\"></td><td class=\"xb\" title=\"15 94\"></td><td class=\"xb\" title=\"16 94\"></td><td class=\"\" title=\"17 94\"></td></tr>\n",
       "<tr><td class=\"\" title=\"0 95\"></td><td class=\"xb\" title=\"1 95\"></td><td class=\"xb\" title=\"2 95\"></td><td class=\"\" title=\"3 95\"></td><td class=\"\" title=\"4 95\"></td><td class=\"\" title=\"5 95\"></td><td class=\"\" title=\"6 95\"></td><td class=\"\" title=\"7 95\"></td><td class=\"\" title=\"8 95\"></td><td class=\"\" title=\"9 95\"></td><td class=\"\" title=\"10 95\"></td><td class=\"\" title=\"11 95\"></td><td class=\"xc0\" title=\"12 95\">Source: Office for National Statistics</td><td class=\"\" title=\"13 95\"></td><td class=\"\" title=\"14 95\"></td><td class=\"\" title=\"15 95\"></td><td class=\"\" title=\"16 95\"></td><td class=\"\" title=\"17 95\"></td></tr>\n",
       "<tr><td class=\"\" title=\"0 96\">-   Denotes nil or less than £500,000</td><td class=\"\" title=\"1 96\"></td><td class=\"\" title=\"2 96\"></td><td class=\"\" title=\"3 96\"></td><td class=\"\" title=\"4 96\"></td><td class=\"\" title=\"5 96\"></td><td class=\"\" title=\"6 96\"></td><td class=\"\" title=\"7 96\"></td><td class=\"\" title=\"8 96\"></td><td class=\"\" title=\"9 96\"></td><td class=\"\" title=\"10 96\"></td><td class=\"\" title=\"11 96\"></td><td class=\"\" title=\"12 96\"></td><td class=\"\" title=\"13 96\"></td><td class=\"\" title=\"14 96\"></td><td class=\"\" title=\"15 96\"></td><td class=\"\" title=\"16 96\"></td><td class=\"\" title=\"17 96\"></td></tr>\n",
       "<tr><td class=\"\" title=\"0 97\">..  Denotes disclosive data</td><td class=\"\" title=\"1 97\"></td><td class=\"\" title=\"2 97\"></td><td class=\"\" title=\"3 97\"></td><td class=\"\" title=\"4 97\"></td><td class=\"\" title=\"5 97\"></td><td class=\"\" title=\"6 97\"></td><td class=\"\" title=\"7 97\"></td><td class=\"\" title=\"8 97\"></td><td class=\"\" title=\"9 97\"></td><td class=\"\" title=\"10 97\"></td><td class=\"\" title=\"11 97\"></td><td class=\"\" title=\"12 97\"></td><td class=\"\" title=\"13 97\"></td><td class=\"\" title=\"14 97\"></td><td class=\"\" title=\"15 97\"></td><td class=\"\" title=\"16 97\"></td><td class=\"\" title=\"17 97\"></td></tr>\n",
       "<tr><td class=\"\" title=\"0 98\"></td><td class=\"\" title=\"1 98\"></td><td class=\"\" title=\"2 98\"></td><td class=\"\" title=\"3 98\"></td><td class=\"\" title=\"4 98\"></td><td class=\"\" title=\"5 98\"></td><td class=\"\" title=\"6 98\"></td><td class=\"\" title=\"7 98\"></td><td class=\"\" title=\"8 98\"></td><td class=\"\" title=\"9 98\"></td><td class=\"\" title=\"10 98\"></td><td class=\"\" title=\"11 98\"></td><td class=\"\" title=\"12 98\"></td><td class=\"\" title=\"13 98\"></td><td class=\"\" title=\"14 98\"></td><td class=\"\" title=\"15 98\"></td><td class=\"\" title=\"16 98\"></td><td class=\"\" title=\"17 98\"></td></tr>\n",
       "<tr><td class=\"xb\" title=\"0 99\"></td><td class=\"xb\" title=\"1 99\"></td><td class=\"\" title=\"2 99\"></td><td class=\"\" title=\"3 99\"></td><td class=\"\" title=\"4 99\"></td><td class=\"\" title=\"5 99\"></td><td class=\"\" title=\"6 99\"></td><td class=\"\" title=\"7 99\"></td><td class=\"\" title=\"8 99\"></td><td class=\"\" title=\"9 99\"></td><td class=\"\" title=\"10 99\"></td><td class=\"\" title=\"11 99\"></td><td class=\"\" title=\"12 99\"></td><td class=\"\" title=\"13 99\"></td><td class=\"\" title=\"14 99\"></td><td class=\"\" title=\"15 99\"></td><td class=\"\" title=\"16 99\"></td><td class=\"\" title=\"17 99\"></td></tr>\n",
       "<tr><td class=\"\" title=\"0 100\"></td><td class=\"\" title=\"1 100\"></td><td class=\"\" title=\"2 100\"></td><td class=\"\" title=\"3 100\"></td><td class=\"\" title=\"4 100\"></td><td class=\"\" title=\"5 100\"></td><td class=\"\" title=\"6 100\"></td><td class=\"\" title=\"7 100\"></td><td class=\"\" title=\"8 100\"></td><td class=\"\" title=\"9 100\"></td><td class=\"\" title=\"10 100\"></td><td class=\"\" title=\"11 100\"></td><td class=\"\" title=\"12 100\"></td><td class=\"\" title=\"13 100\"></td><td class=\"\" title=\"14 100\"></td><td class=\"\" title=\"15 100\"></td><td class=\"\" title=\"16 100\"></td><td class=\"\" title=\"17 100\"></td></tr>\n",
       "<tr><td class=\"xb\" title=\"0 101\"></td><td class=\"xb\" title=\"1 101\"></td><td class=\"xb\" title=\"2 101\"></td><td class=\"\" title=\"3 101\"></td><td class=\"\" title=\"4 101\"></td><td class=\"\" title=\"5 101\"></td><td class=\"\" title=\"6 101\"></td><td class=\"\" title=\"7 101\"></td><td class=\"xb\" title=\"8 101\"></td><td class=\"xb\" title=\"9 101\"></td><td class=\"\" title=\"10 101\"></td><td class=\"\" title=\"11 101\"></td><td class=\"\" title=\"12 101\"></td><td class=\"xb\" title=\"13 101\"></td><td class=\"xb\" title=\"14 101\"></td><td class=\"xb\" title=\"15 101\"></td><td class=\"\" title=\"16 101\"></td><td class=\"\" title=\"17 101\"></td></tr>\n",
       "<tr><td class=\"xb\" title=\"0 102\"></td><td class=\"xb\" title=\"1 102\"></td><td class=\"\" title=\"2 102\"></td><td class=\"\" title=\"3 102\"></td><td class=\"\" title=\"4 102\"></td><td class=\"\" title=\"5 102\"></td><td class=\"\" title=\"6 102\"></td><td class=\"\" title=\"7 102\"></td><td class=\"\" title=\"8 102\"></td><td class=\"\" title=\"9 102\"></td><td class=\"\" title=\"10 102\"></td><td class=\"\" title=\"11 102\"></td><td class=\"\" title=\"12 102\"></td><td class=\"\" title=\"13 102\"></td><td class=\"\" title=\"14 102\"></td><td class=\"\" title=\"15 102\"></td><td class=\"\" title=\"16 102\"></td><td class=\"\" title=\"17 102\"></td></tr>\n",
       "<tr><td class=\"xb\" title=\"0 103\"></td><td class=\"xb\" title=\"1 103\"></td><td class=\"\" title=\"2 103\"></td><td class=\"\" title=\"3 103\"></td><td class=\"\" title=\"4 103\"></td><td class=\"\" title=\"5 103\"></td><td class=\"\" title=\"6 103\"></td><td class=\"\" title=\"7 103\"></td><td class=\"\" title=\"8 103\"></td><td class=\"\" title=\"9 103\"></td><td class=\"\" title=\"10 103\"></td><td class=\"\" title=\"11 103\"></td><td class=\"\" title=\"12 103\"></td><td class=\"\" title=\"13 103\"></td><td class=\"\" title=\"14 103\"></td><td class=\"\" title=\"15 103\"></td><td class=\"\" title=\"16 103\"></td><td class=\"\" title=\"17 103\"></td></tr>\n",
       "<tr><td class=\"xb\" title=\"0 104\"></td><td class=\"xb\" title=\"1 104\"></td><td class=\"\" title=\"2 104\"></td><td class=\"\" title=\"3 104\"></td><td class=\"\" title=\"4 104\"></td><td class=\"\" title=\"5 104\"></td><td class=\"\" title=\"6 104\"></td><td class=\"\" title=\"7 104\"></td><td class=\"\" title=\"8 104\"></td><td class=\"\" title=\"9 104\"></td><td class=\"\" title=\"10 104\"></td><td class=\"\" title=\"11 104\"></td><td class=\"\" title=\"12 104\"></td><td class=\"\" title=\"13 104\"></td><td class=\"\" title=\"14 104\"></td><td class=\"\" title=\"15 104\"></td><td class=\"\" title=\"16 104\"></td><td class=\"\" title=\"17 104\"></td></tr>\n",
       "<tr><td class=\"xb\" title=\"0 105\"></td><td class=\"xb\" title=\"1 105\"></td><td class=\"\" title=\"2 105\"></td><td class=\"\" title=\"3 105\"></td><td class=\"\" title=\"4 105\"></td><td class=\"\" title=\"5 105\"></td><td class=\"\" title=\"6 105\"></td><td class=\"\" title=\"7 105\"></td><td class=\"\" title=\"8 105\"></td><td class=\"\" title=\"9 105\"></td><td class=\"\" title=\"10 105\"></td><td class=\"\" title=\"11 105\"></td><td class=\"\" title=\"12 105\"></td><td class=\"\" title=\"13 105\"></td><td class=\"\" title=\"14 105\"></td><td class=\"\" title=\"15 105\"></td><td class=\"\" title=\"16 105\"></td><td class=\"\" title=\"17 105\"></td></tr>\n",
       "<tr><td class=\"xb\" title=\"0 106\"></td><td class=\"xb\" title=\"1 106\"></td><td class=\"\" title=\"2 106\"></td><td class=\"\" title=\"3 106\"></td><td class=\"\" title=\"4 106\"></td><td class=\"\" title=\"5 106\"></td><td class=\"\" title=\"6 106\"></td><td class=\"\" title=\"7 106\"></td><td class=\"\" title=\"8 106\"></td><td class=\"\" title=\"9 106\"></td><td class=\"\" title=\"10 106\"></td><td class=\"\" title=\"11 106\"></td><td class=\"\" title=\"12 106\"></td><td class=\"\" title=\"13 106\"></td><td class=\"\" title=\"14 106\"></td><td class=\"\" title=\"15 106\"></td><td class=\"\" title=\"16 106\"></td><td class=\"\" title=\"17 106\"></td></tr>\n",
       "<tr><td class=\"xb\" title=\"0 107\"></td><td class=\"xb\" title=\"1 107\"></td><td class=\"\" title=\"2 107\"></td><td class=\"\" title=\"3 107\"></td><td class=\"\" title=\"4 107\"></td><td class=\"\" title=\"5 107\"></td><td class=\"\" title=\"6 107\"></td><td class=\"\" title=\"7 107\"></td><td class=\"\" title=\"8 107\"></td><td class=\"\" title=\"9 107\"></td><td class=\"\" title=\"10 107\"></td><td class=\"\" title=\"11 107\"></td><td class=\"\" title=\"12 107\"></td><td class=\"\" title=\"13 107\"></td><td class=\"\" title=\"14 107\"></td><td class=\"\" title=\"15 107\"></td><td class=\"\" title=\"16 107\"></td><td class=\"\" title=\"17 107\"></td></tr>\n",
       "<tr><td class=\"xb\" title=\"0 108\"></td><td class=\"xb\" title=\"1 108\"></td><td class=\"\" title=\"2 108\"></td><td class=\"\" title=\"3 108\"></td><td class=\"\" title=\"4 108\"></td><td class=\"\" title=\"5 108\"></td><td class=\"\" title=\"6 108\"></td><td class=\"\" title=\"7 108\"></td><td class=\"\" title=\"8 108\"></td><td class=\"\" title=\"9 108\"></td><td class=\"\" title=\"10 108\"></td><td class=\"\" title=\"11 108\"></td><td class=\"\" title=\"12 108\"></td><td class=\"\" title=\"13 108\"></td><td class=\"\" title=\"14 108\"></td><td class=\"\" title=\"15 108\"></td><td class=\"\" title=\"16 108\"></td><td class=\"\" title=\"17 108\"></td></tr>\n",
       "<tr><td class=\"\" title=\"0 109\"></td><td class=\"\" title=\"1 109\"></td><td class=\"\" title=\"2 109\"></td><td class=\"\" title=\"3 109\"></td><td class=\"\" title=\"4 109\"></td><td class=\"\" title=\"5 109\"></td><td class=\"\" title=\"6 109\"></td><td class=\"\" title=\"7 109\"></td><td class=\"\" title=\"8 109\"></td><td class=\"\" title=\"9 109\"></td><td class=\"\" title=\"10 109\"></td><td class=\"\" title=\"11 109\"></td><td class=\"\" title=\"12 109\"></td><td class=\"\" title=\"13 109\"></td><td class=\"\" title=\"14 109\"></td><td class=\"\" title=\"15 109\"></td><td class=\"\" title=\"16 109\"></td><td class=\"\" title=\"17 109\"></td></tr>\n",
       "<tr><td class=\"xb\" title=\"0 110\"></td><td class=\"xb\" title=\"1 110\"></td><td class=\"xb\" title=\"2 110\"></td><td class=\"\" title=\"3 110\"></td><td class=\"\" title=\"4 110\"></td><td class=\"\" title=\"5 110\"></td><td class=\"\" title=\"6 110\"></td><td class=\"\" title=\"7 110\"></td><td class=\"xb\" title=\"8 110\"></td><td class=\"xb\" title=\"9 110\"></td><td class=\"\" title=\"10 110\"></td><td class=\"\" title=\"11 110\"></td><td class=\"\" title=\"12 110\"></td><td class=\"xb\" title=\"13 110\"></td><td class=\"xb\" title=\"14 110\"></td><td class=\"xb\" title=\"15 110\"></td><td class=\"\" title=\"16 110\"></td><td class=\"xb\" title=\"17 110\"></td></tr>\n",
       "<tr><td class=\"xb\" title=\"0 111\"></td><td class=\"xb\" title=\"1 111\"></td><td class=\"xb\" title=\"2 111\"></td><td class=\"\" title=\"3 111\"></td><td class=\"\" title=\"4 111\"></td><td class=\"\" title=\"5 111\"></td><td class=\"\" title=\"6 111\"></td><td class=\"\" title=\"7 111\"></td><td class=\"xb\" title=\"8 111\"></td><td class=\"xb\" title=\"9 111\"></td><td class=\"\" title=\"10 111\"></td><td class=\"\" title=\"11 111\"></td><td class=\"\" title=\"12 111\"></td><td class=\"xb\" title=\"13 111\"></td><td class=\"xb\" title=\"14 111\"></td><td class=\"xb\" title=\"15 111\"></td><td class=\"\" title=\"16 111\"></td><td class=\"\" title=\"17 111\"></td></tr>\n",
       "<tr><td class=\"xb\" title=\"0 112\"></td><td class=\"xb\" title=\"1 112\"></td><td class=\"xb\" title=\"2 112\"></td><td class=\"\" title=\"3 112\"></td><td class=\"\" title=\"4 112\"></td><td class=\"\" title=\"5 112\"></td><td class=\"\" title=\"6 112\"></td><td class=\"\" title=\"7 112\"></td><td class=\"xb\" title=\"8 112\"></td><td class=\"xb\" title=\"9 112\"></td><td class=\"\" title=\"10 112\"></td><td class=\"\" title=\"11 112\"></td><td class=\"\" title=\"12 112\"></td><td class=\"xb\" title=\"13 112\"></td><td class=\"xb\" title=\"14 112\"></td><td class=\"xb\" title=\"15 112\"></td><td class=\"\" title=\"16 112\"></td><td class=\"\" title=\"17 112\"></td></tr>\n",
       "<tr><td class=\"\" title=\"0 113\"></td><td class=\"\" title=\"1 113\"></td><td class=\"\" title=\"2 113\"></td><td class=\"\" title=\"3 113\"></td><td class=\"\" title=\"4 113\"></td><td class=\"\" title=\"5 113\"></td><td class=\"\" title=\"6 113\"></td><td class=\"\" title=\"7 113\"></td><td class=\"xb\" title=\"8 113\"></td><td class=\"xb\" title=\"9 113\"></td><td class=\"\" title=\"10 113\"></td><td class=\"\" title=\"11 113\"></td><td class=\"\" title=\"12 113\"></td><td class=\"xb\" title=\"13 113\"></td><td class=\"xb\" title=\"14 113\"></td><td class=\"xb\" title=\"15 113\"></td><td class=\"\" title=\"16 113\"></td><td class=\"\" title=\"17 113\"></td></tr>\n",
       "<tr><td class=\"xb\" title=\"0 114\"></td><td class=\"xb\" title=\"1 114\"></td><td class=\"xb\" title=\"2 114\"></td><td class=\"\" title=\"3 114\"></td><td class=\"\" title=\"4 114\"></td><td class=\"\" title=\"5 114\"></td><td class=\"\" title=\"6 114\"></td><td class=\"\" title=\"7 114\"></td><td class=\"xb\" title=\"8 114\"></td><td class=\"xb\" title=\"9 114\"></td><td class=\"\" title=\"10 114\"></td><td class=\"\" title=\"11 114\"></td><td class=\"\" title=\"12 114\"></td><td class=\"xb\" title=\"13 114\"></td><td class=\"xb\" title=\"14 114\"></td><td class=\"xb\" title=\"15 114\"></td><td class=\"\" title=\"16 114\"></td><td class=\"\" title=\"17 114\"></td></tr>\n",
       "<tr><td class=\"\" title=\"0 115\"></td><td class=\"\" title=\"1 115\"></td><td class=\"\" title=\"2 115\"></td><td class=\"\" title=\"3 115\"></td><td class=\"\" title=\"4 115\"></td><td class=\"\" title=\"5 115\"></td><td class=\"\" title=\"6 115\"></td><td class=\"\" title=\"7 115\"></td><td class=\"\" title=\"8 115\"></td><td class=\"\" title=\"9 115\"></td><td class=\"\" title=\"10 115\"></td><td class=\"\" title=\"11 115\"></td><td class=\"\" title=\"12 115\"></td><td class=\"\" title=\"13 115\"></td><td class=\"\" title=\"14 115\"></td><td class=\"\" title=\"15 115\"></td><td class=\"\" title=\"16 115\"></td><td class=\"\" title=\"17 115\"></td></tr>\n",
       "<tr><td class=\"\" title=\"0 116\"></td><td class=\"\" title=\"1 116\"></td><td class=\"\" title=\"2 116\"></td><td class=\"\" title=\"3 116\"></td><td class=\"\" title=\"4 116\"></td><td class=\"\" title=\"5 116\"></td><td class=\"\" title=\"6 116\"></td><td class=\"\" title=\"7 116\"></td><td class=\"\" title=\"8 116\"></td><td class=\"\" title=\"9 116\"></td><td class=\"\" title=\"10 116\"></td><td class=\"\" title=\"11 116\"></td><td class=\"\" title=\"12 116\"></td><td class=\"\" title=\"13 116\"></td><td class=\"\" title=\"14 116\"></td><td class=\"\" title=\"15 116\"></td><td class=\"\" title=\"16 116\"></td><td class=\"\" title=\"17 116\"></td></tr>\n",
       "<tr><td class=\"\" title=\"0 117\"></td><td class=\"\" title=\"1 117\"></td><td class=\"\" title=\"2 117\"></td><td class=\"\" title=\"3 117\"></td><td class=\"\" title=\"4 117\"></td><td class=\"\" title=\"5 117\"></td><td class=\"\" title=\"6 117\"></td><td class=\"\" title=\"7 117\"></td><td class=\"\" title=\"8 117\"></td><td class=\"\" title=\"9 117\"></td><td class=\"\" title=\"10 117\"></td><td class=\"\" title=\"11 117\"></td><td class=\"\" title=\"12 117\"></td><td class=\"\" title=\"13 117\"></td><td class=\"\" title=\"14 117\"></td><td class=\"\" title=\"15 117\"></td><td class=\"\" title=\"16 117\"></td><td class=\"\" title=\"17 117\"></td></tr>\n",
       "<tr><td class=\"\" title=\"0 118\"></td><td class=\"\" title=\"1 118\"></td><td class=\"\" title=\"2 118\"></td><td class=\"\" title=\"3 118\"></td><td class=\"\" title=\"4 118\"></td><td class=\"\" title=\"5 118\"></td><td class=\"\" title=\"6 118\"></td><td class=\"\" title=\"7 118\"></td><td class=\"\" title=\"8 118\"></td><td class=\"\" title=\"9 118\"></td><td class=\"\" title=\"10 118\"></td><td class=\"\" title=\"11 118\"></td><td class=\"\" title=\"12 118\"></td><td class=\"\" title=\"13 118\"></td><td class=\"\" title=\"14 118\"></td><td class=\"\" title=\"15 118\"></td><td class=\"\" title=\"16 118\"></td><td class=\"\" title=\"17 118\"></td></tr>\n",
       "</table>\n",
       "\n",
       "</div>\n",
       "\n",
       "<script>\n",
       "var jslookup = {\"16 47\":[16,3,0,44,14,2],\"5 77\":[5,3,0,73,2,77,4,2],\"4 27\":[4,3,0,12,4,2],\"16 6\":[16,3,0,4,2,6,14,2],\"12 56\":[12,3,0,54,2,56,9,2],\"15 74\":[15,3,0,73,2,74,14,2],\"17 74\":[17,3,0,73,2,74,14,2],\"7 31\":[7,3,0,30,2,31,4,2],\"15 33\":[15,3,0,30,14,2],\"17 45\":[17,3,0,44,2,45,14,2],\"15 84\":[15,3,0,81,2,84,14,2],\"10 85\":[10,3,0,81,2,85,9,2],\"11 82\":[11,3,0,81,2,82,9,2],\"15 5\":[15,3,0,4,2,5,14,2],\"12 5\":[12,3,0,4,2,5,9,2],\"6 40\":[6,3,0,36,2,40,4,2],\"5 76\":[5,3,0,73,2,76,4,2],\"17 61\":[17,3,0,59,2,61,14,2],\"7 84\":[7,3,0,81,2,84,4,2],\"15 23\":[15,3,0,12,2,23,14,2],\"16 55\":[16,3,0,54,2,55,14,2],\"7 55\":[7,3,0,54,2,55,4,2],\"5 74\":[5,3,0,73,2,74,4,2],\"4 20\":[4,3,0,12,2,20,4,2],\"5 39\":[5,3,0,36,2,39,4,2],\"5 6\":[5,3,0,4,2,6,4,2],\"17 39\":[17,3,0,36,2,39,14,2],\"10 21\":[10,3,0,12,2,21,9,2],\"7 26\":[7,3,0,12,2,26,4,2],\"16 18\":[16,3,0,12,2,18,14,2],\"17 23\":[17,3,0,12,2,23,14,2],\"11 26\":[11,3,0,12,2,26,9,2],\"9 40\":[9,3,0,36,2,40,9,2],\"5 75\":[5,3,0,73,2,75,4,2],\"12 23\":[12,3,0,12,2,23,9,2],\"5 61\":[5,3,0,59,2,61,4,2],\"14 67\":[14,3,0,65,2,67,14,2],\"4 8\":[4,3,0,4,2,8,4,2],\"17 82\":[17,3,0,81,2,82,14,2],\"6 67\":[6,3,0,65,2,67,4,2],\"16 60\":[16,3,0,59,2,60,14,2],\"6 21\":[6,3,0,12,2,21,4,2],\"12 16\":[12,3,0,12,2,16,9,2],\"12 17\":[12,3,0,12,2,17,9,2],\"6 66\":[6,3,0,65,2,66,4,2],\"4 41\":[4,3,0,36,4,2],\"15 56\":[15,3,0,54,2,56,14,2],\"16 51\":[16,3,0,50,2,51,14,2],\"7 21\":[7,3,0,12,2,21,4,2],\"6 25\":[6,3,0,12,2,25,4,2],\"14 46\":[14,3,0,44,2,46,14,2],\"7 45\":[7,3,0,44,2,45,4,2],\"6 77\":[6,3,0,73,2,77,4,2],\"9 6\":[9,3,0,4,2,6,9,2],\"17 21\":[17,3,0,12,2,21,14,2],\"4 45\":[4,3,0,44,2,45,4,2],\"7 40\":[7,3,0,36,2,40,4,2],\"11 83\":[11,3,0,81,2,83,9,2],\"5 25\":[5,3,0,12,2,25,4,2],\"9 75\":[9,3,0,73,2,75,9,2],\"14 9\":[14,3,0,4,14,2],\"17 60\":[17,3,0,59,2,60,14,2],\"11 40\":[11,3,0,36,2,40,9,2],\"9 15\":[9,3,0,12,2,15,9,2],\"12 74\":[12,3,0,73,2,74,9,2],\"11 78\":[11,3,0,73,9,2],\"7 60\":[7,3,0,59,2,60,4,2],\"17 37\":[17,3,0,36,2,37,14,2],\"9 14\":[9,3,0,12,2,14,9,2],\"6 61\":[6,3,0,59,2,61,4,2],\"10 40\":[10,3,0,36,2,40,9,2],\"10 82\":[10,3,0,81,2,82,9,2],\"5 20\":[5,3,0,12,2,20,4,2],\"4 18\":[4,3,0,12,2,18,4,2],\"11 75\":[11,3,0,73,2,75,9,2],\"4 14\":[4,3,0,12,2,14,4,2],\"17 76\":[17,3,0,73,2,76,14,2],\"17 19\":[17,3,0,12,2,19,14,2],\"17 38\":[17,3,0,36,2,38,14,2],\"10 78\":[10,3,0,73,9,2],\"10 22\":[10,3,0,12,2,22,9,2],\"10 19\":[10,3,0,12,2,19,9,2],\"15 70\":[15,3,0,65,14,2],\"11 39\":[11,3,0,36,2,39,9,2],\"11 92\":[11,3,0,92,9,2],\"6 17\":[6,3,0,12,2,17,4,2],\"4 68\":[4,3,0,65,2,68,4,2],\"17 25\":[17,3,0,12,2,25,14,2],\"16 5\":[16,3,0,4,2,5,14,2],\"10 7\":[10,3,0,4,2,7,9,2],\"4 82\":[4,3,0,81,2,82,4,2],\"5 51\":[5,3,0,50,2,51,4,2],\"6 47\":[6,3,0,44,4,2],\"15 89\":[15,3,0,88,2,89,14,2],\"4 85\":[4,3,0,81,2,85,4,2],\"12 37\":[12,3,0,36,2,37,9,2],\"4 24\":[4,3,0,12,2,24,4,2],\"14 61\":[14,3,0,59,2,61,14,2],\"16 37\":[16,3,0,36,2,37,14,2],\"11 67\":[11,3,0,65,2,67,9,2],\"9 82\":[9,3,0,81,2,82,9,2],\"5 5\":[5,3,0,4,2,5,4,2],\"15 16\":[15,3,0,12,2,16,14,2],\"16 78\":[16,3,0,73,14,2],\"6 46\":[6,3,0,44,2,46,4,2],\"4 66\":[4,3,0,65,2,66,4,2],\"5 47\":[5,3,0,44,4,2],\"12 69\":[12,3,0,65,2,69,9,2],\"10 46\":[10,3,0,44,2,46,9,2],\"7 46\":[7,3,0,44,2,46,4,2],\"10 38\":[10,3,0,36,2,38,9,2],\"15 15\":[15,3,0,12,2,15,14,2],\"6 39\":[6,3,0,36,2,39,4,2],\"15 6\":[15,3,0,4,2,6,14,2],\"4 78\":[4,3,0,73,4,2],\"15 22\":[15,3,0,12,2,22,14,2],\"12 70\":[12,3,0,65,9,2],\"9 45\":[9,3,0,44,2,45,9,2],\"9 77\":[9,3,0,73,2,77,9,2],\"14 82\":[14,3,0,81,2,82,14,2],\"17 75\":[17,3,0,73,2,75,14,2],\"9 7\":[9,3,0,4,2,7,9,2],\"17 83\":[17,3,0,81,2,83,14,2],\"16 23\":[16,3,0,12,2,23,14,2],\"6 22\":[6,3,0,12,2,22,4,2],\"4 84\":[4,3,0,81,2,84,4,2],\"14 86\":[14,3,0,81,14,2],\"12 92\":[12,3,0,92,9,2],\"15 46\":[15,3,0,44,2,46,14,2],\"15 19\":[15,3,0,12,2,19,14,2],\"9 21\":[9,3,0,12,2,21,9,2],\"15 14\":[15,3,0,12,2,14,14,2],\"6 83\":[6,3,0,81,2,83,4,2],\"5 89\":[5,3,0,88,2,89,4,2],\"10 6\":[10,3,0,4,2,6,9,2],\"9 38\":[9,3,0,36,2,38,9,2],\"4 9\":[4,3,0,4,4,2],\"4 77\":[4,3,0,73,2,77,4,2],\"4 62\":[4,3,0,59,4,2],\"7 92\":[7,3,0,92,4,2],\"15 20\":[15,3,0,12,2,20,14,2],\"12 75\":[12,3,0,73,2,75,9,2],\"9 17\":[9,3,0,12,2,17,9,2],\"14 31\":[14,3,0,30,2,31,14,2],\"10 74\":[10,3,0,73,2,74,9,2],\"11 17\":[11,3,0,12,2,17,9,2],\"5 18\":[5,3,0,12,2,18,4,2],\"14 15\":[14,3,0,12,2,15,14,2],\"10 69\":[10,3,0,65,2,69,9,2],\"14 19\":[14,3,0,12,2,19,14,2],\"7 37\":[7,3,0,36,2,37,4,2],\"10 20\":[10,3,0,12,2,20,9,2],\"4 69\":[4,3,0,65,2,69,4,2],\"9 26\":[9,3,0,12,2,26,9,2],\"12 13\":[12,3,0,12,2,13,9,2],\"10 31\":[10,3,0,30,2,31,9,2],\"7 33\":[7,3,0,30,4,2],\"6 84\":[6,3,0,81,2,84,4,2],\"4 67\":[4,3,0,65,2,67,4,2],\"10 5\":[10,3,0,4,2,5,9,2],\"17 33\":[17,3,0,30,14,2],\"10 70\":[10,3,0,65,9,2],\"4 16\":[4,3,0,12,2,16,4,2],\"11 84\":[11,3,0,81,2,84,9,2],\"15 17\":[15,3,0,12,2,17,14,2],\"14 25\":[14,3,0,12,2,25,14,2],\"12 84\":[12,3,0,81,2,84,9,2],\"14 70\":[14,3,0,65,14,2],\"17 15\":[17,3,0,12,2,15,14,2],\"10 13\":[10,3,0,12,2,13,9,2],\"9 60\":[9,3,0,59,2,60,9,2],\"16 84\":[16,3,0,81,2,84,14,2],\"9 56\":[9,3,0,54,2,56,9,2],\"11 20\":[11,3,0,12,2,20,9,2],\"6 41\":[6,3,0,36,4,2],\"12 26\":[12,3,0,12,2,26,9,2],\"17 92\":[17,3,0,92,14,2],\"6 60\":[6,3,0,59,2,60,4,2],\"4 5\":[4,3,0,4,2,5,4,2],\"11 23\":[11,3,0,12,2,23,9,2],\"10 27\":[10,3,0,12,9,2],\"7 15\":[7,3,0,12,2,15,4,2],\"9 20\":[9,3,0,12,2,20,9,2],\"4 61\":[4,3,0,59,2,61,4,2],\"4 33\":[4,3,0,30,4,2],\"10 24\":[10,3,0,12,2,24,9,2],\"6 51\":[6,3,0,50,2,51,4,2],\"7 77\":[7,3,0,73,2,77,4,2],\"12 8\":[12,3,0,4,2,8,9,2],\"9 62\":[9,3,0,59,9,2],\"14 21\":[14,3,0,12,2,21,14,2],\"6 69\":[6,3,0,65,2,69,4,2],\"9 46\":[9,3,0,44,2,46,9,2],\"16 62\":[16,3,0,59,14,2],\"11 86\":[11,3,0,81,9,2],\"16 66\":[16,3,0,65,2,66,14,2],\"6 76\":[6,3,0,73,2,76,4,2],\"11 32\":[11,3,0,30,2,32,9,2],\"7 17\":[7,3,0,12,2,17,4,2],\"11 18\":[11,3,0,12,2,18,9,2],\"16 21\":[16,3,0,12,2,21,14,2],\"4 26\":[4,3,0,12,2,26,4,2],\"16 41\":[16,3,0,36,14,2],\"12 66\":[12,3,0,65,2,66,9,2],\"7 38\":[7,3,0,36,2,38,4,2],\"6 14\":[6,3,0,12,2,14,4,2],\"7 69\":[7,3,0,65,2,69,4,2],\"12 46\":[12,3,0,44,2,46,9,2],\"15 55\":[15,3,0,54,2,55,14,2],\"15 47\":[15,3,0,44,14,2],\"11 74\":[11,3,0,73,2,74,9,2],\"11 37\":[11,3,0,36,2,37,9,2],\"14 41\":[14,3,0,36,14,2],\"11 33\":[11,3,0,30,9,2],\"9 74\":[9,3,0,73,2,74,9,2],\"14 78\":[14,3,0,73,14,2],\"5 27\":[5,3,0,12,4,2],\"10 33\":[10,3,0,30,9,2],\"5 13\":[5,3,0,12,2,13,4,2],\"10 76\":[10,3,0,73,2,76,9,2],\"11 77\":[11,3,0,73,2,77,9,2],\"5 9\":[5,3,0,4,4,2],\"6 38\":[6,3,0,36,2,38,4,2],\"5 92\":[5,3,0,92,4,2],\"9 85\":[9,3,0,81,2,85,9,2],\"11 31\":[11,3,0,30,2,31,9,2],\"14 84\":[14,3,0,81,2,84,14,2],\"10 47\":[10,3,0,44,9,2],\"7 51\":[7,3,0,50,2,51,4,2],\"15 60\":[15,3,0,59,2,60,14,2],\"5 22\":[5,3,0,12,2,22,4,2],\"16 76\":[16,3,0,73,2,76,14,2],\"17 6\":[17,3,0,4,2,6,14,2],\"15 76\":[15,3,0,73,2,76,14,2],\"11 9\":[11,3,0,4,9,2],\"4 7\":[4,3,0,4,2,7,4,2],\"5 15\":[5,3,0,12,2,15,4,2],\"11 69\":[11,3,0,65,2,69,9,2],\"15 8\":[15,3,0,4,2,8,14,2],\"5 82\":[5,3,0,81,2,82,4,2],\"15 92\":[15,3,0,92,14,2],\"5 7\":[5,3,0,4,2,7,4,2],\"14 7\":[14,3,0,4,2,7,14,2],\"7 22\":[7,3,0,12,2,22,4,2],\"6 68\":[6,3,0,65,2,68,4,2],\"7 66\":[7,3,0,65,2,66,4,2],\"10 75\":[10,3,0,73,2,75,9,2],\"10 61\":[10,3,0,59,2,61,9,2],\"6 27\":[6,3,0,12,4,2],\"9 76\":[9,3,0,73,2,76,9,2],\"6 31\":[6,3,0,30,2,31,4,2],\"17 22\":[17,3,0,12,2,22,14,2],\"9 83\":[9,3,0,81,2,83,9,2],\"16 24\":[16,3,0,12,2,24,14,2],\"11 25\":[11,3,0,12,2,25,9,2],\"15 45\":[15,3,0,44,2,45,14,2],\"9 39\":[9,3,0,36,2,39,9,2],\"4 19\":[4,3,0,12,2,19,4,2],\"10 66\":[10,3,0,65,2,66,9,2],\"15 61\":[15,3,0,59,2,61,14,2],\"4 76\":[4,3,0,73,2,76,4,2],\"12 38\":[12,3,0,36,2,38,9,2],\"7 9\":[7,3,0,4,4,2],\"6 45\":[6,3,0,44,2,45,4,2],\"5 69\":[5,3,0,65,2,69,4,2],\"11 5\":[11,3,0,4,2,5,9,2],\"15 25\":[15,3,0,12,2,25,14,2],\"16 69\":[16,3,0,65,2,69,14,2],\"10 77\":[10,3,0,73,2,77,9,2],\"4 55\":[4,3,0,54,2,55,4,2],\"15 26\":[15,3,0,12,2,26,14,2],\"4 38\":[4,3,0,36,2,38,4,2],\"5 60\":[5,3,0,59,2,60,4,2],\"6 62\":[6,3,0,59,4,2],\"11 61\":[11,3,0,59,2,61,9,2],\"12 20\":[12,3,0,12,2,20,9,2],\"14 92\":[14,3,0,92,14,2],\"10 39\":[10,3,0,36,2,39,9,2],\"17 66\":[17,3,0,65,2,66,14,2],\"17 8\":[17,3,0,4,2,8,14,2],\"5 70\":[5,3,0,65,4,2],\"11 15\":[11,3,0,12,2,15,9,2],\"17 70\":[17,3,0,65,14,2],\"7 39\":[7,3,0,36,2,39,4,2],\"14 23\":[14,3,0,12,2,23,14,2],\"14 24\":[14,3,0,12,2,24,14,2],\"5 45\":[5,3,0,44,2,45,4,2],\"11 19\":[11,3,0,12,2,19,9,2],\"12 76\":[12,3,0,73,2,76,9,2],\"9 13\":[9,3,0,12,2,13,9,2],\"14 38\":[14,3,0,36,2,38,14,2],\"6 6\":[6,3,0,4,2,6,4,2],\"17 17\":[17,3,0,12,2,17,14,2],\"10 23\":[10,3,0,12,2,23,9,2],\"14 16\":[14,3,0,12,2,16,14,2],\"10 84\":[10,3,0,81,2,84,9,2],\"16 17\":[16,3,0,12,2,17,14,2],\"15 37\":[15,3,0,36,2,37,14,2],\"16 85\":[16,3,0,81,2,85,14,2],\"4 51\":[4,3,0,50,2,51,4,2],\"15 69\":[15,3,0,65,2,69,14,2],\"12 40\":[12,3,0,36,2,40,9,2],\"4 6\":[4,3,0,4,2,6,4,2],\"17 89\":[17,3,0,88,2,89,14,2],\"11 70\":[11,3,0,65,9,2],\"11 62\":[11,3,0,59,9,2],\"17 20\":[17,3,0,12,2,20,14,2],\"10 15\":[10,3,0,12,2,15,9,2],\"5 14\":[5,3,0,12,2,14,4,2],\"10 56\":[10,3,0,54,2,56,9,2],\"12 18\":[12,3,0,12,2,18,9,2],\"6 86\":[6,3,0,81,4,2],\"17 84\":[17,3,0,81,2,84,14,2],\"17 47\":[17,3,0,44,14,2],\"17 69\":[17,3,0,65,2,69,14,2],\"14 62\":[14,3,0,59,14,2],\"12 21\":[12,3,0,12,2,21,9,2],\"11 46\":[11,3,0,44,2,46,9,2],\"4 74\":[4,3,0,73,2,74,4,2],\"15 24\":[15,3,0,12,2,24,14,2],\"15 83\":[15,3,0,81,2,83,14,2],\"5 8\":[5,3,0,4,2,8,4,2],\"15 75\":[15,3,0,73,2,75,14,2],\"6 13\":[6,3,0,12,2,13,4,2],\"9 8\":[9,3,0,4,2,8,9,2],\"9 18\":[9,3,0,12,2,18,9,2],\"5 31\":[5,3,0,30,2,31,4,2],\"9 67\":[9,3,0,65,2,67,9,2],\"12 86\":[12,3,0,81,9,2],\"14 68\":[14,3,0,65,2,68,14,2],\"14 75\":[14,3,0,73,2,75,14,2],\"7 70\":[7,3,0,65,4,2],\"14 26\":[14,3,0,12,2,26,14,2],\"10 83\":[10,3,0,81,2,83,9,2],\"7 7\":[7,3,0,4,2,7,4,2],\"15 67\":[15,3,0,65,2,67,14,2],\"5 84\":[5,3,0,81,2,84,4,2],\"5 46\":[5,3,0,44,2,46,4,2],\"9 31\":[9,3,0,30,2,31,9,2],\"9 16\":[9,3,0,12,2,16,9,2],\"4 15\":[4,3,0,12,2,15,4,2],\"10 17\":[10,3,0,12,2,17,9,2],\"14 33\":[14,3,0,30,14,2],\"16 26\":[16,3,0,12,2,26,14,2],\"11 38\":[11,3,0,36,2,38,9,2],\"16 8\":[16,3,0,4,2,8,14,2],\"9 37\":[9,3,0,36,2,37,9,2],\"5 17\":[5,3,0,12,2,17,4,2],\"15 78\":[15,3,0,73,14,2],\"5 78\":[5,3,0,73,4,2],\"15 41\":[15,3,0,36,14,2],\"9 84\":[9,3,0,81,2,84,9,2],\"17 55\":[17,3,0,54,2,55,14,2],\"4 32\":[4,3,0,30,2,32,4,2],\"17 78\":[17,3,0,73,14,2],\"15 86\":[15,3,0,81,14,2],\"9 33\":[9,3,0,30,9,2],\"12 14\":[12,3,0,12,2,14,9,2],\"14 39\":[14,3,0,36,2,39,14,2],\"4 22\":[4,3,0,12,2,22,4,2],\"15 13\":[15,3,0,12,2,13,14,2],\"15 77\":[15,3,0,73,2,77,14,2],\"6 19\":[6,3,0,12,2,19,4,2],\"12 19\":[12,3,0,12,2,19,9,2],\"14 27\":[14,3,0,12,14,2],\"12 67\":[12,3,0,65,2,67,9,2],\"9 70\":[9,3,0,65,9,2],\"16 32\":[16,3,0,30,2,32,14,2],\"14 14\":[14,3,0,12,2,14,14,2],\"6 26\":[6,3,0,12,2,26,4,2],\"10 89\":[10,3,0,88,2,89,9,2],\"10 25\":[10,3,0,12,2,25,9,2],\"15 21\":[15,3,0,12,2,21,14,2],\"6 92\":[6,3,0,92,4,2],\"14 18\":[14,3,0,12,2,18,14,2],\"16 31\":[16,3,0,30,2,31,14,2],\"10 32\":[10,3,0,30,2,32,9,2],\"6 37\":[6,3,0,36,2,37,4,2],\"9 47\":[9,3,0,44,9,2],\"14 51\":[14,3,0,50,2,51,14,2],\"7 41\":[7,3,0,36,4,2],\"14 40\":[14,3,0,36,2,40,14,2],\"5 21\":[5,3,0,12,2,21,4,2],\"15 66\":[15,3,0,65,2,66,14,2],\"5 86\":[5,3,0,81,4,2],\"4 21\":[4,3,0,12,2,21,4,2],\"16 38\":[16,3,0,36,2,38,14,2],\"9 19\":[9,3,0,12,2,19,9,2],\"12 45\":[12,3,0,44,2,45,9,2],\"16 22\":[16,3,0,12,2,22,14,2],\"17 46\":[17,3,0,44,2,46,14,2],\"15 85\":[15,3,0,81,2,85,14,2],\"14 69\":[14,3,0,65,2,69,14,2],\"6 85\":[6,3,0,81,2,85,4,2],\"6 9\":[6,3,0,4,4,2],\"7 20\":[7,3,0,12,2,20,4,2],\"7 18\":[7,3,0,12,2,18,4,2],\"6 70\":[6,3,0,65,4,2],\"11 14\":[11,3,0,12,2,14,9,2],\"16 92\":[16,3,0,92,14,2],\"16 25\":[16,3,0,12,2,25,14,2],\"12 25\":[12,3,0,12,2,25,9,2],\"14 76\":[14,3,0,73,2,76,14,2],\"12 24\":[12,3,0,12,2,24,9,2],\"7 13\":[7,3,0,12,2,13,4,2],\"12 85\":[12,3,0,81,2,85,9,2],\"7 85\":[7,3,0,81,2,85,4,2],\"16 14\":[16,3,0,12,2,14,14,2],\"11 13\":[11,3,0,12,2,13,9,2],\"10 8\":[10,3,0,4,2,8,9,2],\"16 39\":[16,3,0,36,2,39,14,2],\"10 67\":[10,3,0,65,2,67,9,2],\"7 25\":[7,3,0,12,2,25,4,2],\"15 68\":[15,3,0,65,2,68,14,2],\"16 67\":[16,3,0,65,2,67,14,2],\"6 18\":[6,3,0,12,2,18,4,2],\"10 18\":[10,3,0,12,2,18,9,2],\"5 85\":[5,3,0,81,2,85,4,2],\"5 40\":[5,3,0,36,2,40,4,2],\"16 83\":[16,3,0,81,2,83,14,2],\"17 13\":[17,3,0,12,2,13,14,2],\"5 19\":[5,3,0,12,2,19,4,2],\"4 37\":[4,3,0,36,2,37,4,2],\"6 24\":[6,3,0,12,2,24,4,2],\"7 47\":[7,3,0,44,4,2],\"9 61\":[9,3,0,59,2,61,9,2],\"7 76\":[7,3,0,73,2,76,4,2],\"7 86\":[7,3,0,81,4,2],\"4 86\":[4,3,0,81,4,2],\"14 13\":[14,3,0,12,2,13,14,2],\"15 40\":[15,3,0,36,2,40,14,2],\"17 14\":[17,3,0,12,2,14,14,2],\"17 24\":[17,3,0,12,2,24,14,2],\"17 32\":[17,3,0,30,2,32,14,2],\"14 55\":[14,3,0,54,2,55,14,2],\"12 15\":[12,3,0,12,2,15,9,2],\"17 86\":[17,3,0,81,14,2],\"4 23\":[4,3,0,12,2,23,4,2],\"12 27\":[12,3,0,12,9,2],\"16 74\":[16,3,0,73,2,74,14,2],\"12 31\":[12,3,0,30,2,31,9,2],\"5 41\":[5,3,0,36,4,2],\"7 82\":[7,3,0,81,2,82,4,2],\"14 32\":[14,3,0,30,2,32,14,2],\"5 33\":[5,3,0,30,4,2],\"12 68\":[12,3,0,65,2,68,9,2],\"16 77\":[16,3,0,73,2,77,14,2],\"7 27\":[7,3,0,12,4,2],\"6 8\":[6,3,0,4,2,8,4,2],\"15 39\":[15,3,0,36,2,39,14,2],\"5 23\":[5,3,0,12,2,23,4,2],\"16 40\":[16,3,0,36,2,40,14,2],\"11 66\":[11,3,0,65,2,66,9,2],\"15 82\":[15,3,0,81,2,82,14,2],\"12 89\":[12,3,0,88,2,89,9,2],\"11 51\":[11,3,0,50,2,51,9,2],\"17 68\":[17,3,0,65,2,68,14,2],\"15 7\":[15,3,0,4,2,7,14,2],\"12 7\":[12,3,0,4,2,7,9,2],\"12 51\":[12,3,0,50,2,51,9,2],\"4 92\":[4,3,0,92,4,2],\"12 32\":[12,3,0,30,2,32,9,2],\"6 74\":[6,3,0,73,2,74,4,2],\"15 27\":[15,3,0,12,14,2],\"12 78\":[12,3,0,73,9,2],\"6 78\":[6,3,0,73,4,2],\"17 5\":[17,3,0,4,2,5,14,2],\"14 17\":[14,3,0,12,2,17,14,2],\"9 25\":[9,3,0,12,2,25,9,2],\"14 6\":[14,3,0,4,2,6,14,2],\"16 20\":[16,3,0,12,2,20,14,2],\"17 26\":[17,3,0,12,2,26,14,2],\"9 69\":[9,3,0,65,2,69,9,2],\"16 13\":[16,3,0,12,2,13,14,2],\"14 66\":[14,3,0,65,2,66,14,2],\"17 27\":[17,3,0,12,14,2],\"15 9\":[15,3,0,4,14,2],\"9 27\":[9,3,0,12,9,2],\"16 70\":[16,3,0,65,14,2],\"9 5\":[9,3,0,4,2,5,9,2],\"10 16\":[10,3,0,12,2,16,9,2],\"17 40\":[17,3,0,36,2,40,14,2],\"7 67\":[7,3,0,65,2,67,4,2],\"16 15\":[16,3,0,12,2,15,14,2],\"10 68\":[10,3,0,65,2,68,9,2],\"9 24\":[9,3,0,12,2,24,9,2],\"5 26\":[5,3,0,12,2,26,4,2],\"15 62\":[15,3,0,59,14,2],\"7 24\":[7,3,0,12,2,24,4,2],\"4 83\":[4,3,0,81,2,83,4,2],\"10 26\":[10,3,0,12,2,26,9,2],\"14 20\":[14,3,0,12,2,20,14,2],\"10 9\":[10,3,0,4,9,2],\"9 89\":[9,3,0,88,2,89,9,2],\"17 77\":[17,3,0,73,2,77,14,2],\"17 56\":[17,3,0,54,2,56,14,2],\"10 62\":[10,3,0,59,9,2],\"15 32\":[15,3,0,30,2,32,14,2],\"6 20\":[6,3,0,12,2,20,4,2],\"7 8\":[7,3,0,4,2,8,4,2],\"17 85\":[17,3,0,81,2,85,14,2],\"11 8\":[11,3,0,4,2,8,9,2],\"4 13\":[4,3,0,12,2,13,4,2],\"17 67\":[17,3,0,65,2,67,14,2],\"10 45\":[10,3,0,44,2,45,9,2],\"15 31\":[15,3,0,30,2,31,14,2],\"10 92\":[10,3,0,92,9,2],\"16 56\":[16,3,0,54,2,56,14,2],\"7 14\":[7,3,0,12,2,14,4,2],\"14 47\":[14,3,0,44,14,2],\"4 70\":[4,3,0,65,4,2],\"6 89\":[6,3,0,88,2,89,4,2],\"7 74\":[7,3,0,73,2,74,4,2],\"11 27\":[11,3,0,12,9,2],\"11 22\":[11,3,0,12,2,22,9,2],\"17 7\":[17,3,0,4,2,7,14,2],\"7 61\":[7,3,0,59,2,61,4,2],\"5 24\":[5,3,0,12,2,24,4,2],\"14 89\":[14,3,0,88,2,89,14,2],\"11 24\":[11,3,0,12,2,24,9,2],\"11 76\":[11,3,0,73,2,76,9,2],\"14 45\":[14,3,0,44,2,45,14,2],\"12 77\":[12,3,0,73,2,77,9,2],\"17 16\":[17,3,0,12,2,16,14,2],\"11 21\":[11,3,0,12,2,21,9,2],\"11 41\":[11,3,0,36,9,2],\"11 68\":[11,3,0,65,2,68,9,2],\"11 60\":[11,3,0,59,2,60,9,2],\"9 86\":[9,3,0,81,9,2],\"6 23\":[6,3,0,12,2,23,4,2],\"7 68\":[7,3,0,65,2,68,4,2],\"12 33\":[12,3,0,30,9,2],\"16 82\":[16,3,0,81,2,82,14,2],\"11 56\":[11,3,0,54,2,56,9,2],\"10 60\":[10,3,0,59,2,60,9,2],\"5 38\":[5,3,0,36,2,38,4,2],\"16 86\":[16,3,0,81,14,2],\"16 7\":[16,3,0,4,2,7,14,2],\"4 39\":[4,3,0,36,2,39,4,2],\"7 23\":[7,3,0,12,2,23,4,2],\"12 6\":[12,3,0,4,2,6,9,2],\"16 75\":[16,3,0,73,2,75,14,2],\"11 85\":[11,3,0,81,2,85,9,2],\"16 46\":[16,3,0,44,2,46,14,2],\"4 47\":[4,3,0,44,4,2],\"10 51\":[10,3,0,50,2,51,9,2],\"5 67\":[5,3,0,65,2,67,4,2],\"5 37\":[5,3,0,36,2,37,4,2],\"6 55\":[6,3,0,54,2,55,4,2],\"7 5\":[7,3,0,4,2,5,4,2],\"12 22\":[12,3,0,12,2,22,9,2],\"14 77\":[14,3,0,73,2,77,14,2],\"9 68\":[9,3,0,65,2,68,9,2],\"5 68\":[5,3,0,65,2,68,4,2],\"16 68\":[16,3,0,65,2,68,14,2],\"14 60\":[14,3,0,59,2,60,14,2],\"10 86\":[10,3,0,81,9,2],\"4 25\":[4,3,0,12,2,25,4,2],\"17 18\":[17,3,0,12,2,18,14,2],\"15 18\":[15,3,0,12,2,18,14,2],\"6 33\":[6,3,0,30,4,2],\"9 51\":[9,3,0,50,2,51,9,2],\"16 16\":[16,3,0,12,2,16,14,2],\"12 62\":[12,3,0,59,9,2],\"14 22\":[14,3,0,12,2,22,14,2],\"14 74\":[14,3,0,73,2,74,14,2],\"12 9\":[12,3,0,4,9,2],\"6 7\":[6,3,0,4,2,7,4,2],\"4 75\":[4,3,0,73,2,75,4,2],\"4 89\":[4,3,0,88,2,89,4,2],\"12 60\":[12,3,0,59,2,60,9,2],\"7 32\":[7,3,0,30,2,32,4,2],\"17 41\":[17,3,0,36,14,2],\"4 60\":[4,3,0,59,2,60,4,2],\"4 17\":[4,3,0,12,2,17,4,2],\"6 75\":[6,3,0,73,2,75,4,2],\"14 37\":[14,3,0,36,2,37,14,2],\"7 89\":[7,3,0,88,2,89,4,2],\"9 41\":[9,3,0,36,9,2],\"14 56\":[14,3,0,54,2,56,14,2],\"7 6\":[7,3,0,4,2,6,4,2],\"5 16\":[5,3,0,12,2,16,4,2],\"17 31\":[17,3,0,30,2,31,14,2],\"16 89\":[16,3,0,88,2,89,14,2],\"4 31\":[4,3,0,30,2,31,4,2],\"5 62\":[5,3,0,59,4,2],\"16 45\":[16,3,0,44,2,45,14,2],\"9 23\":[9,3,0,12,2,23,9,2],\"7 83\":[7,3,0,81,2,83,4,2],\"12 61\":[12,3,0,59,2,61,9,2],\"4 40\":[4,3,0,36,2,40,4,2],\"10 14\":[10,3,0,12,2,14,9,2],\"5 66\":[5,3,0,65,2,66,4,2],\"12 95\":[12,3,0,92,9,2],\"9 22\":[9,3,0,12,2,22,9,2],\"5 83\":[5,3,0,81,2,83,4,2],\"4 46\":[4,3,0,44,2,46,4,2],\"7 19\":[7,3,0,12,2,19,4,2],\"12 82\":[12,3,0,81,2,82,9,2],\"7 62\":[7,3,0,59,4,2],\"6 16\":[6,3,0,12,2,16,4,2],\"17 9\":[17,3,0,4,14,2],\"12 41\":[12,3,0,36,9,2],\"11 6\":[11,3,0,4,2,6,9,2],\"14 5\":[14,3,0,4,2,5,14,2],\"9 92\":[9,3,0,92,9,2],\"6 32\":[6,3,0,30,2,32,4,2],\"15 51\":[15,3,0,50,2,51,14,2],\"14 83\":[14,3,0,81,2,83,14,2],\"7 16\":[7,3,0,12,2,16,4,2],\"16 9\":[16,3,0,4,14,2],\"10 41\":[10,3,0,36,9,2],\"11 89\":[11,3,0,88,2,89,9,2],\"11 16\":[11,3,0,12,2,16,9,2],\"6 15\":[6,3,0,12,2,15,4,2],\"16 33\":[16,3,0,30,14,2],\"9 32\":[9,3,0,30,2,32,9,2],\"6 5\":[6,3,0,4,2,5,4,2],\"9 9\":[9,3,0,4,9,2],\"5 55\":[5,3,0,54,2,55,4,2],\"16 27\":[16,3,0,12,14,2],\"12 47\":[12,3,0,44,9,2],\"16 19\":[16,3,0,12,2,19,14,2],\"5 32\":[5,3,0,30,2,32,4,2],\"16 61\":[16,3,0,59,2,61,14,2],\"6 82\":[6,3,0,81,2,82,4,2],\"7 75\":[7,3,0,73,2,75,4,2],\"11 47\":[11,3,0,44,9,2],\"10 37\":[10,3,0,36,2,37,9,2],\"17 51\":[17,3,0,50,2,51,14,2],\"11 7\":[11,3,0,4,2,7,9,2],\"17 62\":[17,3,0,59,14,2],\"14 8\":[14,3,0,4,2,8,14,2],\"12 83\":[12,3,0,81,2,83,9,2],\"9 66\":[9,3,0,65,2,66,9,2],\"11 45\":[11,3,0,44,2,45,9,2],\"9 78\":[9,3,0,73,9,2],\"12 39\":[12,3,0,36,2,39,9,2],\"7 78\":[7,3,0,73,4,2],\"14 85\":[14,3,0,81,2,85,14,2],\"15 38\":[15,3,0,36,2,38,14,2]}; \n",
       "var jdividNUM = \"injblock1001\"; \n",
       "var Dclickedcell = null; \n",
       "function clickedcell() \n",
       "{ \n",
       "    Dclickedcell = this; \n",
       "    console.log(\"jjjj\", this); \n",
       "    var rgc = new RegExp('(^|\\b)' + \"selected\".split(' ').join('|') + '(\\b|$)', 'gi'); \n",
       "    Array.prototype.forEach.call(document.querySelectorAll(\"div#\"+jdividNUM+\" table.ex td.selected\"), function(el, i) { \n",
       "        if (el.classList)  el.classList.remove(\"selected\");\n",
       "        else  el.className = el.className.replace(rgc, ' ');\n",
       "    }); \n",
       "    if (this.classList)  this.classList.add(\"selected\");\n",
       "    else this.className += ' ' + \"selected\";\n",
       "\n",
       "    var dimpairs = jslookup[this.title]; \n",
       "    if (dimpairs !== undefined) {\n",
       "        for (var i = 1; i < dimpairs.length; i += 2) {\n",
       "            var row = document.querySelectorAll(\"div#\"+jdividNUM+\" table.ex tr\")[dimpairs[i]]; \n",
       "            var el = row.querySelectorAll(\"td\")[dimpairs[i-1]]; \n",
       "            if (el.classList)  el.classList.add(\"selected\");\n",
       "            else el.className += ' ' + \"selected\";\n",
       "        }\n",
       "    }\n",
       "}\n",
       "Array.prototype.forEach.call(document.querySelectorAll(\"div#\"+jdividNUM+\" table.ex td\"), function(item, i) { item.onclick=clickedcell; }); \n",
       "</script>\n"
      ],
      "text/plain": [
       "<IPython.core.display.HTML object>"
      ]
     },
     "metadata": {},
     "output_type": "display_data"
    }
   ],
   "source": [
    "c1 = ConversionSegment(observations, Dimensions, processTIMEUNIT=True)\n",
    "if is_interactive():\n",
    "    savepreviewhtml(c1)"
   ]
  },
  {
   "cell_type": "code",
   "execution_count": 10,
   "metadata": {},
   "outputs": [
    {
     "name": "stdout",
     "output_type": "stream",
     "text": [
      "\n"
     ]
    }
   ],
   "source": [
    "new_table = c1.topandas()"
   ]
  },
  {
   "cell_type": "code",
   "execution_count": 11,
   "metadata": {
    "collapsed": true
   },
   "outputs": [],
   "source": [
    "new_table['Year'] = pd.to_numeric(new_table['Year'], errors='coerce').fillna(0)"
   ]
  },
  {
   "cell_type": "code",
   "execution_count": 12,
   "metadata": {
    "collapsed": true
   },
   "outputs": [],
   "source": [
    "new_table['Year'] = new_table['Year'].astype(int)"
   ]
  },
  {
   "cell_type": "code",
   "execution_count": 13,
   "metadata": {
    "collapsed": true
   },
   "outputs": [],
   "source": [
    "new_table.columns = ['Value' if x=='OBS' else x for x in new_table.columns]"
   ]
  },
  {
   "cell_type": "code",
   "execution_count": 14,
   "metadata": {
    "collapsed": true
   },
   "outputs": [],
   "source": [
    "new_table['geo3'].fillna('Total', inplace = True)"
   ]
  },
  {
   "cell_type": "code",
   "execution_count": 15,
   "metadata": {
    "collapsed": true
   },
   "outputs": [],
   "source": [
    "new_table['BOP Service'] = new_table['geo1'].fillna('') + '-' + new_table['geo3'].fillna('')"
   ]
  },
  {
   "cell_type": "code",
   "execution_count": 16,
   "metadata": {
    "collapsed": true
   },
   "outputs": [],
   "source": [
    "new_table['Flow'] = new_table['Flow'].str.lower()"
   ]
  },
  {
   "cell_type": "code",
   "execution_count": 17,
   "metadata": {
    "collapsed": true
   },
   "outputs": [],
   "source": [
    "new_table['Flow'] = new_table['Flow'].map(lambda cell:cell.replace('balances', 'balance'))"
   ]
  },
  {
   "cell_type": "code",
   "execution_count": 18,
   "metadata": {
    "collapsed": true
   },
   "outputs": [],
   "source": [
    "new_table = new_table[new_table['Value'] != '' ]"
   ]
  },
  {
   "cell_type": "code",
   "execution_count": 19,
   "metadata": {
    "collapsed": true
   },
   "outputs": [],
   "source": [
    "new_table['International Trade Basis'] = 'BOP'"
   ]
  },
  {
   "cell_type": "code",
   "execution_count": 20,
   "metadata": {
    "collapsed": true
   },
   "outputs": [],
   "source": [
    "new_table['ONS Partner Geography'] = 'Whole world'"
   ]
  },
  {
   "cell_type": "code",
   "execution_count": 21,
   "metadata": {
    "collapsed": true
   },
   "outputs": [],
   "source": [
    "new_table = new_table[['ONS Partner Geography', 'Year','Flow','BOP Service', 'International Trade Basis', 'Measure Type','Value','Unit' ]]"
   ]
  },
  {
   "cell_type": "code",
   "execution_count": 22,
   "metadata": {
    "collapsed": true
   },
   "outputs": [],
   "source": [
    "# if is_interactive():\n",
    "#     SubstancetinationFolder = Path('out')\n",
    "#     SubstancetinationFolder.mkdir(exist_ok=True, parents=True)\n",
    "#     new_table.to_csv(SubstancetinationFolder / ('tablec41.csv'), index = False)"
   ]
  },
  {
   "cell_type": "code",
   "execution_count": 23,
   "metadata": {
    "scrolled": true
   },
   "outputs": [
    {
     "data": {
      "text/html": [
       "<div>\n",
       "<style scoped>\n",
       "    .dataframe tbody tr th:only-of-type {\n",
       "        vertical-align: middle;\n",
       "    }\n",
       "\n",
       "    .dataframe tbody tr th {\n",
       "        vertical-align: top;\n",
       "    }\n",
       "\n",
       "    .dataframe thead th {\n",
       "        text-align: right;\n",
       "    }\n",
       "</style>\n",
       "<table border=\"1\" class=\"dataframe\">\n",
       "  <thead>\n",
       "    <tr style=\"text-align: right;\">\n",
       "      <th></th>\n",
       "      <th>ONS Partner Geography</th>\n",
       "      <th>Year</th>\n",
       "      <th>Flow</th>\n",
       "      <th>BOP Service</th>\n",
       "      <th>International Trade Basis</th>\n",
       "      <th>Measure Type</th>\n",
       "      <th>Value</th>\n",
       "      <th>Unit</th>\n",
       "    </tr>\n",
       "  </thead>\n",
       "  <tbody>\n",
       "    <tr>\n",
       "      <th>32</th>\n",
       "      <td>Whole world</td>\n",
       "      <td>2009</td>\n",
       "      <td>balance</td>\n",
       "      <td>Agricultural, Mining and On-site Processing Se...</td>\n",
       "      <td>BOP</td>\n",
       "      <td>GBP Total</td>\n",
       "      <td>0.826</td>\n",
       "      <td>gbp-million</td>\n",
       "    </tr>\n",
       "    <tr>\n",
       "      <th>45</th>\n",
       "      <td>Whole world</td>\n",
       "      <td>2010</td>\n",
       "      <td>balance</td>\n",
       "      <td>Agricultural, Mining and On-site Processing Se...</td>\n",
       "      <td>BOP</td>\n",
       "      <td>GBP Total</td>\n",
       "      <td>-13.319</td>\n",
       "      <td>gbp-million</td>\n",
       "    </tr>\n",
       "    <tr>\n",
       "      <th>47</th>\n",
       "      <td>Whole world</td>\n",
       "      <td>2012</td>\n",
       "      <td>balance</td>\n",
       "      <td>Agricultural, Mining and On-site Processing Se...</td>\n",
       "      <td>BOP</td>\n",
       "      <td>GBP Total</td>\n",
       "      <td>-15.822</td>\n",
       "      <td>gbp-million</td>\n",
       "    </tr>\n",
       "    <tr>\n",
       "      <th>48</th>\n",
       "      <td>Whole world</td>\n",
       "      <td>2009</td>\n",
       "      <td>exports</td>\n",
       "      <td>Agricultural, Mining and On-site Processing Se...</td>\n",
       "      <td>BOP</td>\n",
       "      <td>GBP Total</td>\n",
       "      <td>21.383</td>\n",
       "      <td>gbp-million</td>\n",
       "    </tr>\n",
       "    <tr>\n",
       "      <th>49</th>\n",
       "      <td>Whole world</td>\n",
       "      <td>2010</td>\n",
       "      <td>exports</td>\n",
       "      <td>Agricultural, Mining and On-site Processing Se...</td>\n",
       "      <td>BOP</td>\n",
       "      <td>GBP Total</td>\n",
       "      <td>11.696</td>\n",
       "      <td>gbp-million</td>\n",
       "    </tr>\n",
       "  </tbody>\n",
       "</table>\n",
       "</div>"
      ],
      "text/plain": [
       "   ONS Partner Geography  Year     Flow  \\\n",
       "32           Whole world  2009  balance   \n",
       "45           Whole world  2010  balance   \n",
       "47           Whole world  2012  balance   \n",
       "48           Whole world  2009  exports   \n",
       "49           Whole world  2010  exports   \n",
       "\n",
       "                                          BOP Service  \\\n",
       "32  Agricultural, Mining and On-site Processing Se...   \n",
       "45  Agricultural, Mining and On-site Processing Se...   \n",
       "47  Agricultural, Mining and On-site Processing Se...   \n",
       "48  Agricultural, Mining and On-site Processing Se...   \n",
       "49  Agricultural, Mining and On-site Processing Se...   \n",
       "\n",
       "   International Trade Basis Measure Type   Value         Unit  \n",
       "32                       BOP    GBP Total   0.826  gbp-million  \n",
       "45                       BOP    GBP Total -13.319  gbp-million  \n",
       "47                       BOP    GBP Total -15.822  gbp-million  \n",
       "48                       BOP    GBP Total  21.383  gbp-million  \n",
       "49                       BOP    GBP Total  11.696  gbp-million  "
      ]
     },
     "execution_count": 23,
     "metadata": {},
     "output_type": "execute_result"
    }
   ],
   "source": [
    "new_table.head()"
   ]
  },
  {
   "cell_type": "code",
   "execution_count": null,
   "metadata": {
    "collapsed": true
   },
   "outputs": [],
   "source": []
  }
 ],
 "metadata": {
  "kernelspec": {
   "display_name": "Python 3",
   "language": "python",
   "name": "python3"
  },
  "language_info": {
   "codemirror_mode": {
    "name": "ipython",
    "version": 3
   },
   "file_extension": ".py",
   "mimetype": "text/x-python",
   "name": "python",
   "nbconvert_exporter": "python",
   "pygments_lexer": "ipython3",
   "version": "3.6.3"
  }
 },
 "nbformat": 4,
 "nbformat_minor": 2
}
